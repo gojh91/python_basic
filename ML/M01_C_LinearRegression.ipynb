{
 "cells": [
  {
   "cell_type": "markdown",
   "metadata": {},
   "source": [
    "# LinearRegression_model_comprehension"
   ]
  },
  {
   "cell_type": "code",
   "execution_count": 11,
   "metadata": {},
   "outputs": [],
   "source": [
    "from sklearn.datasets import make_regression #가상의 회귀분석용 데이터 생성\n",
    "from sklearn.linear_model import LinearRegression #LinearRegression\n",
    "from sklearn.model_selection import train_test_split #Trainset, Testset 분리 "
   ]
  },
  {
   "cell_type": "code",
   "execution_count": 13,
   "metadata": {
    "scrolled": true
   },
   "outputs": [
    {
     "name": "stdout",
     "output_type": "stream",
     "text": [
      "Input_feature:\n",
      " [[ 1.10622649e+00 -4.04946171e-01 -7.25988555e-01 -8.55920034e-02\n",
      "  -1.30132540e+00 -5.49763161e-01 -1.45830907e+00 -1.00319671e-01\n",
      "   5.40751109e-01 -6.13188548e-01  3.34424825e-01  2.72606699e-02\n",
      "  -7.30885454e-01  1.50728172e+00 -7.53603227e-01  1.11241546e+00\n",
      "   4.28768999e-01  1.76219445e+00  7.98766504e-01  2.01448207e+00\n",
      "   1.04496525e+00  4.71167424e-01  2.09053970e+00 -6.08084762e-02\n",
      "   6.15803655e-01 -2.16171352e+00  1.42257926e+00  8.44015954e-01\n",
      "   1.06168455e+00  1.82932615e+00]\n",
      " [-3.05776013e-01  6.95957290e-01  7.98774570e-01  1.62301895e+00\n",
      "   1.20082075e+00 -4.07897188e-01  7.44957089e-01  7.62086918e-01\n",
      "   1.27448115e+00 -2.86503561e-01 -2.04509061e-01 -4.66992131e-01\n",
      "   1.90071971e-03 -8.88082474e-01 -3.66262702e+00  1.02113434e+00\n",
      "  -6.66161789e-02  3.56153083e-01  5.95882650e-01 -5.47889431e-01\n",
      "  -1.94376662e+00  4.37889949e-01  6.81329255e-01 -2.31349569e-01\n",
      "  -8.63829914e-01  6.92064420e-01  5.77117912e-01 -7.61417634e-01\n",
      "   4.50146612e-01 -1.65052735e+00]\n",
      " [-1.14142543e+00  1.16470290e+00  3.37925576e-01 -7.82089249e-01\n",
      "  -4.56984210e-01  5.30114151e-01  8.91200745e-01  2.49300072e-01\n",
      "   3.83104651e-03  1.87881977e-01 -1.07686045e-01 -2.66125568e-01\n",
      "   1.34655078e+00 -9.07688203e-01  6.24249703e-01  6.91213530e-01\n",
      "   3.75509989e-01 -1.14470108e+00 -7.26031194e-01  2.53018435e-01\n",
      "  -2.52277908e-01 -7.26182028e-01  2.55085982e-01 -9.51814807e-01\n",
      "  -8.71445989e-01 -4.87812835e-01  1.36494397e+00  6.74953326e-01\n",
      "  -1.46990265e+00 -4.98721810e-01]\n",
      " [ 6.13272163e-01  1.10462628e+00 -8.35632588e-01  1.33594016e+00\n",
      "  -1.84021744e-01 -3.81840832e-01 -6.32433490e-01  1.28052910e+00\n",
      "   1.94126253e+00 -5.56020128e-01  5.99856472e-01 -3.20455859e-01\n",
      "  -7.75902196e-02 -2.52721735e-01 -1.89984161e-01 -1.80704924e+00\n",
      "  -5.60229267e-02  1.07887659e+00 -6.29496875e-01 -2.60140459e+00\n",
      "   1.32388305e+00 -3.60398960e-01  4.41570086e-01  4.45372681e-01\n",
      "  -5.93434937e-01  3.07161007e-01  6.00169249e-02  3.22672080e-01\n",
      "   4.99091404e-01  9.81159114e-01]\n",
      " [ 1.60432106e+00  5.57792394e-01 -2.84589137e-01  2.14496488e-02\n",
      "  -4.56089002e-01 -8.53862911e-01 -6.29790136e-01  9.43794756e-01\n",
      "  -1.25311057e-02  2.84857162e+00 -5.43021217e-01  4.57680077e-01\n",
      "   1.41143729e+00 -2.44740632e-01  1.82298058e+00  5.19813948e-01\n",
      "   1.91043578e+00 -1.95020139e+00 -9.88107561e-01  2.44392251e-01\n",
      "   6.04030370e-02 -1.67952771e-01  1.54101027e+00 -7.68886203e-01\n",
      "   9.34926216e-02  9.96671352e-03 -3.25828661e-01 -1.77476877e+00\n",
      "  -6.74487252e-01  6.69158026e-01]]\n",
      "Target_value: \n",
      "[ 396.99443331   24.0660667  -220.80963428  156.50375545   31.60531857] \n"
     ]
    }
   ],
   "source": [
    "X, y = make_regression(n_samples=50, n_features=30, bias=10, noise=10) \n",
    "print('Input_feature:\\n {}\\nTarget_value: \\n{} '.format(X[:5], y[:5])) "
   ]
  },
  {
   "cell_type": "code",
   "execution_count": 14,
   "metadata": {
    "scrolled": true
   },
   "outputs": [
    {
     "name": "stdout",
     "output_type": "stream",
     "text": [
      "<class 'numpy.ndarray'> <class 'numpy.ndarray'>\n"
     ]
    }
   ],
   "source": [
    "print(type(X), type(y))"
   ]
  },
  {
   "cell_type": "code",
   "execution_count": 19,
   "metadata": {},
   "outputs": [
    {
     "data": {
      "image/png": "[encoded data removed]",
      "text/plain": [
       "<Figure size 432x288 with 1 Axes>"
      ]
     },
     "metadata": {
      "needs_background": "light"
     },
     "output_type": "display_data"
    }
   ],
   "source": [
    "%matplotlib inline\n",
    "import matplotlib.pyplot as plt\n",
    "\n",
    "plt.scatter(X[:, 1], y)\n",
    "plt.show()"
   ]
  },
  {
   "cell_type": "code",
   "execution_count": 20,
   "metadata": {},
   "outputs": [],
   "source": [
    "X_train, X_test, y_train, y_test = train_test_split(X, y, test_size=0.2, shuffle=True) "
   ]
  },
  {
   "cell_type": "code",
   "execution_count": 21,
   "metadata": {},
   "outputs": [
    {
     "data": {
      "text/plain": [
       "array([ 1.25736518, -0.93143604,  0.83398059,  1.02680723,  1.0831554 ,\n",
       "       -2.34904061, -0.29509391, -0.42467069,  0.06468763,  1.1647029 ,\n",
       "        0.54098732,  0.55779239,  0.85355848,  0.55811916,  0.98086792,\n",
       "       -0.90462329, -1.68703481, -0.33383209,  1.3990698 , -0.39072039,\n",
       "       -1.20397272, -0.0904296 , -0.68869674, -0.75735511,  1.43487758,\n",
       "       -0.40297245,  1.15892187, -0.22274613, -0.40818245, -0.68884968,\n",
       "       -1.11982186,  0.24510586,  2.09229021,  1.37086485,  0.33481059,\n",
       "        0.99038161,  0.87100689, -1.61167566,  1.10462628,  0.47299987])"
      ]
     },
     "execution_count": 21,
     "metadata": {},
     "output_type": "execute_result"
    }
   ],
   "source": [
    "X_train[:, 1]"
   ]
  },
  {
   "cell_type": "code",
   "execution_count": null,
   "metadata": {},
   "outputs": [],
   "source": []
  },
  {
   "cell_type": "code",
   "execution_count": 24,
   "metadata": {},
   "outputs": [
    {
     "data": {
      "text/plain": [
       "LinearRegression(copy_X=True, fit_intercept=True, n_jobs=None,\n",
       "         normalize=False)"
      ]
     },
     "execution_count": 24,
     "metadata": {},
     "output_type": "execute_result"
    }
   ],
   "source": [
    "# Linear Regression 클래스 객체 생성 \n",
    "model = LinearRegression() # fit_intercept = 상수항 유무 결정 \n",
    "\n",
    "# fit 메서드로 모형 추정 (오그멘테이션은 자동으로 수행) \n",
    "model.fit(X_train, y_train) \n",
    "\n"
   ]
  },
  {
   "cell_type": "code",
   "execution_count": 27,
   "metadata": {},
   "outputs": [
    {
     "data": {
      "text/plain": [
       "30"
      ]
     },
     "execution_count": 27,
     "metadata": {},
     "output_type": "execute_result"
    }
   ],
   "source": [
    "len(model.coef_)"
   ]
  },
  {
   "cell_type": "code",
   "execution_count": 28,
   "metadata": {},
   "outputs": [
    {
     "data": {
      "text/plain": [
       "array([ 3.19423339,  2.52481117, -0.67261466, 68.60286051, -2.12296774,\n",
       "       84.05833429, -2.4221567 ,  2.0065511 ,  1.87320171, 50.68605734,\n",
       "       -3.36209817, -3.53814879,  1.79284791, 96.14473722, 15.00702399,\n",
       "        5.37626227, 24.41453828, 81.40333155, 12.02213195,  0.42009316,\n",
       "        2.84400981, -5.74139741, 59.26377   ,  3.95907119, -0.65706826,\n",
       "        2.97299726, -2.82843086,  1.21305987, 57.57204931,  0.35930844])"
      ]
     },
     "execution_count": 28,
     "metadata": {},
     "output_type": "execute_result"
    }
   ],
   "source": [
    "model.coef_"
   ]
  },
  {
   "cell_type": "code",
   "execution_count": 29,
   "metadata": {},
   "outputs": [
    {
     "data": {
      "text/plain": [
       "7.647868580627193"
      ]
     },
     "execution_count": 29,
     "metadata": {},
     "output_type": "execute_result"
    }
   ],
   "source": [
    "model.intercept_"
   ]
  },
  {
   "cell_type": "code",
   "execution_count": 30,
   "metadata": {
    "scrolled": true
   },
   "outputs": [
    {
     "name": "stdout",
     "output_type": "stream",
     "text": [
      "weight:  [ 3.19423339  2.52481117 -0.67261466 68.60286051 -2.12296774 84.05833429\n",
      " -2.4221567   2.0065511   1.87320171 50.68605734 -3.36209817 -3.53814879\n",
      "  1.79284791 96.14473722 15.00702399  5.37626227 24.41453828 81.40333155\n",
      " 12.02213195  0.42009316  2.84400981 -5.74139741 59.26377     3.95907119\n",
      " -0.65706826  2.97299726 -2.82843086  1.21305987 57.57204931  0.35930844]\n",
      "bias:  7.647868580627193\n"
     ]
    }
   ],
   "source": [
    "print('weight: ', model.coef_) \n",
    "print('bias: ', model.intercept_) "
   ]
  },
  {
   "cell_type": "code",
   "execution_count": 31,
   "metadata": {
    "scrolled": true
   },
   "outputs": [
    {
     "data": {
      "text/plain": [
       "0.9995362714436375"
      ]
     },
     "execution_count": 31,
     "metadata": {},
     "output_type": "execute_result"
    }
   ],
   "source": [
    "model.score(X_train, y_train)"
   ]
  },
  {
   "cell_type": "code",
   "execution_count": 32,
   "metadata": {},
   "outputs": [
    {
     "data": {
      "text/plain": [
       "0.9837923434180943"
      ]
     },
     "execution_count": 32,
     "metadata": {},
     "output_type": "execute_result"
    }
   ],
   "source": [
    "model.score(X_test, y_test)"
   ]
  },
  {
   "cell_type": "code",
   "execution_count": null,
   "metadata": {},
   "outputs": [],
   "source": []
  }
 ],
 "metadata": {
  "kernelspec": {
   "display_name": "Python 3",
   "language": "python",
   "name": "python3"
  },
  "language_info": {
   "codemirror_mode": {
    "name": "ipython",
    "version": 3
   },
   "file_extension": ".py",
   "mimetype": "text/x-python",
   "name": "python",
   "nbconvert_exporter": "python",
   "pygments_lexer": "ipython3",
   "version": "3.7.3"
  }
 },
 "nbformat": 4,
 "nbformat_minor": 2
}
