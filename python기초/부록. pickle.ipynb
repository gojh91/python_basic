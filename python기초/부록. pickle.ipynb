{
 "cells": [
  {
   "cell_type": "markdown",
   "metadata": {},
   "source": [
    "# 부록.  Pickle 모듈"
   ]
  },
  {
   "cell_type": "markdown",
   "metadata": {},
   "source": [
    "### 기본 설정 - 저장 경로 설정"
   ]
  },
  {
   "cell_type": "code",
   "execution_count": 2,
   "metadata": {},
   "outputs": [
    {
     "data": {
      "text/plain": [
       "'/Users/Mac/Tweakers/tweakers-Lecture/실습자료/python-programming2/pickle_data'"
      ]
     },
     "execution_count": 2,
     "metadata": {},
     "output_type": "execute_result"
    }
   ],
   "source": [
    "import os\n",
    "import sys\n",
    "dirpath = os.path.join(os.getcwd(), 'pickle_data')\n",
    "dirpath\n",
    "\n",
    "if not os.path.exists(dirpath):\n",
    "    os.makedirs(dirpath)"
   ]
  },
  {
   "cell_type": "markdown",
   "metadata": {},
   "source": [
    "### pickle 모듈을 이용한 리스트 파일에 저장하기"
   ]
  },
  {
   "cell_type": "code",
   "execution_count": 54,
   "metadata": {},
   "outputs": [],
   "source": [
    "import pickle\n",
    "file1 = os.path.join(dirpath, 'data1.p')\n",
    "\n",
    "text = [\"First File\", \"Second Line\"]\n",
    "\n",
    "with open(file1, 'wb') as file: #data.p 파일을 바이너리 쓰기모드로 열기\n",
    "    pickle.dump(text, file)"
   ]
  },
  {
   "cell_type": "markdown",
   "metadata": {},
   "source": [
    "### pickle 모듈을 이용한 리스트 파일에서 불러오기"
   ]
  },
  {
   "cell_type": "code",
   "execution_count": 55,
   "metadata": {},
   "outputs": [
    {
     "name": "stdout",
     "output_type": "stream",
     "text": [
      "['First File', 'Second Line']\n"
     ]
    }
   ],
   "source": [
    "with open(file1, 'rb') as file: #data.p 파일을 바이너리 읽기모드로 열기\n",
    "    data2 = pickle.load(file)\n",
    "    print(data2)"
   ]
  },
  {
   "cell_type": "markdown",
   "metadata": {},
   "source": [
    "### pickle 모듈을 이용한 여러가지 자료형 파일에 저장하기"
   ]
  },
  {
   "cell_type": "code",
   "execution_count": 56,
   "metadata": {},
   "outputs": [],
   "source": [
    "import pickle\n",
    "file2 = os.path.join(dirpath, 'data2.p')\n",
    "\n",
    "name = 'tom'\n",
    "age = 24\n",
    "address = '서울시 마포구'\n",
    "scores = {'python': 90, 'deeplearning': 95, 'database': 85}\n",
    "\n",
    "with open(file2, 'wb') as file: #data.p 파일을 바이너리 쓰기모드로 열기\n",
    "    pickle.dump(name, file)\n",
    "    pickle.dump(age, file)\n",
    "    pickle.dump(address, file)\n",
    "    pickle.dump(scores, file)"
   ]
  },
  {
   "cell_type": "markdown",
   "metadata": {},
   "source": [
    "### pickle 모듈을 이용한 여러가지 자료형 파일에서 불러오기"
   ]
  },
  {
   "cell_type": "code",
   "execution_count": 57,
   "metadata": {},
   "outputs": [
    {
     "name": "stdout",
     "output_type": "stream",
     "text": [
      "tom\n",
      "24\n",
      "서울시 마포구\n",
      "{'python': 90, 'deeplearning': 95, 'database': 85}\n"
     ]
    }
   ],
   "source": [
    "with open(file2, 'rb') as file: #data.p 파일을 바이너리 읽기모드로 열기\n",
    "    name2 = pickle.load(file)\n",
    "    age2 = pickle.load(file)\n",
    "    address2 = pickle.load(file)\n",
    "    scores2 = pickle.load(file)\n",
    "    print(name2)\n",
    "    print(age2)\n",
    "    print(address2)\n",
    "    print(scores2)"
   ]
  },
  {
   "cell_type": "code",
   "execution_count": null,
   "metadata": {},
   "outputs": [],
   "source": []
  }
 ],
 "metadata": {
  "kernelspec": {
   "display_name": "Python 3",
   "language": "python",
   "name": "python3"
  },
  "language_info": {
   "codemirror_mode": {
    "name": "ipython",
    "version": 3
   },
   "file_extension": ".py",
   "mimetype": "text/x-python",
   "name": "python",
   "nbconvert_exporter": "python",
   "pygments_lexer": "ipython3",
   "version": "3.7.3"
  }
 },
 "nbformat": 4,
 "nbformat_minor": 2
}
