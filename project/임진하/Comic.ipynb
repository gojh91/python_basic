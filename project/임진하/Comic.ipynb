{
 "cells": [
  {
   "cell_type": "code",
   "execution_count": 3,
   "metadata": {},
   "outputs": [],
   "source": [
    "import requests\n",
    "from bs4 import BeautifulSoup\n",
    "import os\n",
    "from selenium import webdriver\n",
    "from urllib import parse\n",
    "import datetime\n",
    "import shutil"
   ]
  },
  {
   "cell_type": "code",
   "execution_count": 13,
   "metadata": {},
   "outputs": [],
   "source": [
    "def get_url():\n",
    "    url_list = []\n",
    "    weekdays = ['mon','tue','wed','thu','fri','sat','sun']\n",
    "    for day in weekdays:\n",
    "        comic_url = 'https://comic.naver.com/webtoon/weekdayList.nhn'\n",
    "        params = {\n",
    "            'week' : day\n",
    "        }\n",
    "        comic_resp = requests.get(comic_url,params)\n",
    "        url_list.append(comic_resp.url)\n",
    "    return url_list"
   ]
  },
  {
   "cell_type": "code",
   "execution_count": 14,
   "metadata": {
    "scrolled": true
   },
   "outputs": [],
   "source": [
    "def pick_day(day):\n",
    "    comic_url = 'https://comic.naver.com/webtoon/weekdayList.nhn'\n",
    "    params = {\n",
    "            'week' : day\n",
    "        }\n",
    "    comic_resp = requests.get(comic_url,params)\n",
    "    soup = BeautifulSoup(comic_resp.content)"
   ]
  },
  {
   "cell_type": "code",
   "execution_count": 15,
   "metadata": {},
   "outputs": [],
   "source": [
    "pick_day('tue')"
   ]
  },
  {
   "cell_type": "code",
   "execution_count": 16,
   "metadata": {},
   "outputs": [
    {
     "name": "stdout",
     "output_type": "stream",
     "text": [
      "C:\\Users\\student\\Desktop\\multicampus_lecture\\프로젝트\\임진하\\2019-06-12\n"
     ]
    }
   ],
   "source": [
    "# creating dir\n",
    "td = datetime.datetime.now()\n",
    "str_date = td.strftime(\"%Y-%m-%d\")\n",
    "png_dir = os.getcwd() + '\\\\' + str_date\n",
    "if not os.path.isdir(png_dir):\n",
    "    os.mkdir(png_dir)\n",
    "print(png_dir)"
   ]
  },
  {
   "cell_type": "code",
   "execution_count": 17,
   "metadata": {},
   "outputs": [],
   "source": [
    "def get_clip(url):\n",
    "    driver_path = \"C:\\\\Users\\\\student\\\\Downloads\\\\chromedriver_win32\\\\chromedriver.exe\"\n",
    "    driver = webdriver.Chrome(driver_path)\n",
    "    driver.implicitly_wait(10)\n",
    "\n",
    "    driver.get(url)\n",
    "    driver.maximize_window()\n",
    "    driver.get_screenshot_as_png()\n",
    "    driver.save_screenshot('testing.png')\n",
    "    driver.quit()"
   ]
  },
  {
   "cell_type": "code",
   "execution_count": 9,
   "metadata": {},
   "outputs": [],
   "source": [
    "pick_day('tue')"
   ]
  },
  {
   "cell_type": "code",
   "execution_count": 10,
   "metadata": {},
   "outputs": [],
   "source": [
    "def get_webtoon_titles():\n",
    "    webtoon_title = []\n",
    "    webtoon_title.append(soup.find(class_ ='img_list').li.div.a['title'])\n",
    "    webtoon_title.append(soup.find(class_ ='img_list').li.findNext('li').div.a['title'])\n",
    "    webtoon_title.append(soup.find(class_ ='img_list').li.findNext('li').findNext('li').div.a['title'])\n",
    "    return webtoon_title"
   ]
  },
  {
   "cell_type": "code",
   "execution_count": 18,
   "metadata": {},
   "outputs": [],
   "source": [
    "def get_comments():\n",
    "    daily_rank3 = []\n",
    "    webtoon_title = []\n",
    "    webtoon_title.append(soup.find(class_ ='img_list').li.div.a['title'])\n",
    "    webtoon_title.append(soup.find(class_ ='img_list').li.findNext('li').div.a['title'])\n",
    "    webtoon_title.append(soup.find(class_ ='img_list').li.findNext('li').findNext('li').div.a['title'])\n",
    "    \n",
    "    for i in range(3):\n",
    "        daily_rank3.append(soup.find(class_ = 'img_list').find_all('li')[i].a['href'])\n",
    "        addr = 'https://comic.naver.com/' + daily_rank3[i] \n",
    "        indiv_comic_resp = requests.get(addr)\n",
    "        indiv_soup = BeautifulSoup(indiv_comic_resp.content)\n",
    "\n",
    "        recent_url = indiv_soup.find(class_ = 'title').a['href']\n",
    "        addr2 = 'https://comic.naver.com' + recent_url\n",
    "        recent_resp = requests.get(addr2)\n",
    "\n",
    "        query = parse.urlparse(addr2)\n",
    "        titleId = parse.parse_qs(query.query)['titleId'][0]\n",
    "        no = parse.parse_qs(query.query)['no'][0]\n",
    "\n",
    "        comment_url = 'https://comic.naver.com/comment/comment.nhn?'\n",
    "        params = {\n",
    "            'titleId' : titleId,\n",
    "            'no' : no\n",
    "        }\n",
    "        comment_resp = requests.get(comment_url, params)\n",
    "        comment_soup = BeautifulSoup(comment_resp.content)\n",
    "\n",
    "        #utilizing selenium to pop up comments page\n",
    "        get_clip(comment_resp.url)\n",
    "        os.rename('testing.png','{}.png'.format(webtoon_title[i]))\n",
    "        shutil.move('{}.png'.format(webtoon_title[i]), str_date)\n",
    "        print(\"{} rank webtoon comment downloaded\".format(i))\n",
    "    print(\"Download Finished\")"
   ]
  },
  {
   "cell_type": "code",
   "execution_count": 19,
   "metadata": {},
   "outputs": [
    {
     "ename": "NameError",
     "evalue": "name 'soup' is not defined",
     "output_type": "error",
     "traceback": [
      "\u001b[1;31m---------------------------------------------------------------------------\u001b[0m",
      "\u001b[1;31mNameError\u001b[0m                                 Traceback (most recent call last)",
      "\u001b[1;32m<ipython-input-19-74769fb5b572>\u001b[0m in \u001b[0;36m<module>\u001b[1;34m\u001b[0m\n\u001b[1;32m----> 1\u001b[1;33m \u001b[0mget_comments\u001b[0m\u001b[1;33m(\u001b[0m\u001b[1;33m)\u001b[0m\u001b[1;33m\u001b[0m\u001b[1;33m\u001b[0m\u001b[0m\n\u001b[0m",
      "\u001b[1;32m<ipython-input-18-75aece646138>\u001b[0m in \u001b[0;36mget_comments\u001b[1;34m()\u001b[0m\n\u001b[0;32m      2\u001b[0m     \u001b[0mdaily_rank3\u001b[0m \u001b[1;33m=\u001b[0m \u001b[1;33m[\u001b[0m\u001b[1;33m]\u001b[0m\u001b[1;33m\u001b[0m\u001b[1;33m\u001b[0m\u001b[0m\n\u001b[0;32m      3\u001b[0m     \u001b[0mwebtoon_title\u001b[0m \u001b[1;33m=\u001b[0m \u001b[1;33m[\u001b[0m\u001b[1;33m]\u001b[0m\u001b[1;33m\u001b[0m\u001b[1;33m\u001b[0m\u001b[0m\n\u001b[1;32m----> 4\u001b[1;33m     \u001b[0mwebtoon_title\u001b[0m\u001b[1;33m.\u001b[0m\u001b[0mappend\u001b[0m\u001b[1;33m(\u001b[0m\u001b[0msoup\u001b[0m\u001b[1;33m.\u001b[0m\u001b[0mfind\u001b[0m\u001b[1;33m(\u001b[0m\u001b[0mclass_\u001b[0m \u001b[1;33m=\u001b[0m\u001b[1;34m'img_list'\u001b[0m\u001b[1;33m)\u001b[0m\u001b[1;33m.\u001b[0m\u001b[0mli\u001b[0m\u001b[1;33m.\u001b[0m\u001b[0mdiv\u001b[0m\u001b[1;33m.\u001b[0m\u001b[0ma\u001b[0m\u001b[1;33m[\u001b[0m\u001b[1;34m'title'\u001b[0m\u001b[1;33m]\u001b[0m\u001b[1;33m)\u001b[0m\u001b[1;33m\u001b[0m\u001b[1;33m\u001b[0m\u001b[0m\n\u001b[0m\u001b[0;32m      5\u001b[0m     \u001b[0mwebtoon_title\u001b[0m\u001b[1;33m.\u001b[0m\u001b[0mappend\u001b[0m\u001b[1;33m(\u001b[0m\u001b[0msoup\u001b[0m\u001b[1;33m.\u001b[0m\u001b[0mfind\u001b[0m\u001b[1;33m(\u001b[0m\u001b[0mclass_\u001b[0m \u001b[1;33m=\u001b[0m\u001b[1;34m'img_list'\u001b[0m\u001b[1;33m)\u001b[0m\u001b[1;33m.\u001b[0m\u001b[0mli\u001b[0m\u001b[1;33m.\u001b[0m\u001b[0mfindNext\u001b[0m\u001b[1;33m(\u001b[0m\u001b[1;34m'li'\u001b[0m\u001b[1;33m)\u001b[0m\u001b[1;33m.\u001b[0m\u001b[0mdiv\u001b[0m\u001b[1;33m.\u001b[0m\u001b[0ma\u001b[0m\u001b[1;33m[\u001b[0m\u001b[1;34m'title'\u001b[0m\u001b[1;33m]\u001b[0m\u001b[1;33m)\u001b[0m\u001b[1;33m\u001b[0m\u001b[1;33m\u001b[0m\u001b[0m\n\u001b[0;32m      6\u001b[0m     \u001b[0mwebtoon_title\u001b[0m\u001b[1;33m.\u001b[0m\u001b[0mappend\u001b[0m\u001b[1;33m(\u001b[0m\u001b[0msoup\u001b[0m\u001b[1;33m.\u001b[0m\u001b[0mfind\u001b[0m\u001b[1;33m(\u001b[0m\u001b[0mclass_\u001b[0m \u001b[1;33m=\u001b[0m\u001b[1;34m'img_list'\u001b[0m\u001b[1;33m)\u001b[0m\u001b[1;33m.\u001b[0m\u001b[0mli\u001b[0m\u001b[1;33m.\u001b[0m\u001b[0mfindNext\u001b[0m\u001b[1;33m(\u001b[0m\u001b[1;34m'li'\u001b[0m\u001b[1;33m)\u001b[0m\u001b[1;33m.\u001b[0m\u001b[0mfindNext\u001b[0m\u001b[1;33m(\u001b[0m\u001b[1;34m'li'\u001b[0m\u001b[1;33m)\u001b[0m\u001b[1;33m.\u001b[0m\u001b[0mdiv\u001b[0m\u001b[1;33m.\u001b[0m\u001b[0ma\u001b[0m\u001b[1;33m[\u001b[0m\u001b[1;34m'title'\u001b[0m\u001b[1;33m]\u001b[0m\u001b[1;33m)\u001b[0m\u001b[1;33m\u001b[0m\u001b[1;33m\u001b[0m\u001b[0m\n",
      "\u001b[1;31mNameError\u001b[0m: name 'soup' is not defined"
     ]
    }
   ],
   "source": [
    "get_comments()"
   ]
  },
  {
   "cell_type": "code",
   "execution_count": null,
   "metadata": {},
   "outputs": [],
   "source": []
  }
 ],
 "metadata": {
  "kernelspec": {
   "display_name": "Python 3",
   "language": "python",
   "name": "python3"
  },
  "language_info": {
   "codemirror_mode": {
    "name": "ipython",
    "version": 3
   },
   "file_extension": ".py",
   "mimetype": "text/x-python",
   "name": "python",
   "nbconvert_exporter": "python",
   "pygments_lexer": "ipython3",
   "version": "3.6.8"
  }
 },
 "nbformat": 4,
 "nbformat_minor": 2
}
