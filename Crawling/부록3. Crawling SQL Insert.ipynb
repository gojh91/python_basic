{
 "cells": [
  {
   "cell_type": "code",
   "execution_count": 15,
   "metadata": {},
   "outputs": [],
   "source": [
    "import MySQLdb"
   ]
  },
  {
   "cell_type": "code",
   "execution_count": 16,
   "metadata": {},
   "outputs": [],
   "source": [
    "db = MySQLdb.connect(host=\"localhost\",  # host      # 127.0.0.1\n",
    "                     user=\"root\",       # username  # root\n",
    "                     passwd=\"1234\",     # password  # 1234\n",
    "                     db=\"naver_movie\")         # DB NAME   \n",
    "\n",
    "db.set_character_set('utf8')"
   ]
  },
  {
   "cell_type": "code",
   "execution_count": 17,
   "metadata": {},
   "outputs": [
    {
     "data": {
      "text/plain": [
       "<_mysql.connection open to 'localhost' at 7c054b8>"
      ]
     },
     "execution_count": 17,
     "metadata": {},
     "output_type": "execute_result"
    }
   ],
   "source": [
    "db"
   ]
  },
  {
   "cell_type": "code",
   "execution_count": 18,
   "metadata": {},
   "outputs": [],
   "source": [
    "# 데이터베이스 커서(Cursor)는 일련의 데이터에 \n",
    "# 순차적으로 액세스할 때 검색 및 \"현재 위치\"를 \n",
    "# 포함하는 데이터 요소이다.\n",
    "cur = db.cursor()\n",
    "# https://movie.naver.com/movie/bi/mi/basic.nhn?code=161967"
   ]
  },
  {
   "cell_type": "code",
   "execution_count": 19,
   "metadata": {},
   "outputs": [
    {
     "name": "stderr",
     "output_type": "stream",
     "text": [
      "C:\\ProgramData\\Anaconda3\\envs\\study\\lib\\site-packages\\ipykernel_launcher.py:11: Warning: (1050, \"Table 'naver_movie' already exists\")\n",
      "  # This is added back by InteractiveShellApp.init_path()\n"
     ]
    },
    {
     "data": {
      "text/plain": [
       "0"
      ]
     },
     "execution_count": 19,
     "metadata": {},
     "output_type": "execute_result"
    }
   ],
   "source": [
    "# IF(조건, 참값, 거짓값)\n",
    "query = \"\"\"\n",
    "        CREATE TABLE IF NOT EXISTS naver_movie\n",
    "            (code    INTEGER      NOT NULL      PRIMARY KEY,\n",
    "             created_at    DATETIME DEFAULT CURRENT_TIMESTAMP,\n",
    "             title   VARCHAR(100) NOT NULL,\n",
    "             story   TEXT,\n",
    "             open_date  DATE)\n",
    "             ENGINE INNODB;\n",
    "        \"\"\"\n",
    "cur.execute(query)\n"
   ]
  },
  {
   "cell_type": "code",
   "execution_count": 20,
   "metadata": {},
   "outputs": [
    {
     "name": "stderr",
     "output_type": "stream",
     "text": [
      "C:\\ProgramData\\Anaconda3\\envs\\study\\lib\\site-packages\\ipykernel_launcher.py:14: Warning: (1050, \"Table 'movie_comment' already exists\")\n",
      "  \n"
     ]
    },
    {
     "data": {
      "text/plain": [
       "0"
      ]
     },
     "execution_count": 20,
     "metadata": {},
     "output_type": "execute_result"
    }
   ],
   "source": [
    "query = \"\"\"\n",
    "        CREATE TABLE IF NOT EXISTS movie_comment(\n",
    "            score    INTEGER    NOT NULL,\n",
    "            content  TEXT       NOT NULL,\n",
    "            movie_code INTEGER,\n",
    "            writer   VARCHAR(100),\n",
    "            write_date DATETIME,\n",
    "            created_at DATETIME DEFAULT CURRENT_TIMESTAMP,\n",
    "            PRIMARY KEY (writer, write_date),\n",
    "            FOREIGN KEY(movie_code)\n",
    "            REFERENCES naver_movie(code) on delete cascade)\n",
    "            ENGINE INNODB;\n",
    "\"\"\"\n",
    "cur.execute(query)"
   ]
  },
  {
   "cell_type": "markdown",
   "metadata": {},
   "source": [
    "## 영화 크롤링"
   ]
  },
  {
   "cell_type": "code",
   "execution_count": 21,
   "metadata": {},
   "outputs": [],
   "source": [
    "import requests\n",
    "from bs4 import BeautifulSoup\n",
    "from urllib import parse"
   ]
  },
  {
   "cell_type": "code",
   "execution_count": 22,
   "metadata": {},
   "outputs": [],
   "source": [
    "MOVIE_LIST_URL = 'https://movie.naver.com/movie/sdb/rank/rmovie.nhn'\n",
    "\n",
    "# ?sel=pnt&date=20190616"
   ]
  },
  {
   "cell_type": "code",
   "execution_count": 23,
   "metadata": {},
   "outputs": [],
   "source": [
    "def get_movie_list(start_page=1, end_page=1):\n",
    "    URL = \"https://movie.naver.com/movie/sdb/rank/rmovie.nhn\"\n",
    "    params = {\n",
    "        'sel':'pnt',\n",
    "        'date':20190616\n",
    "    }\n",
    "    \n",
    "    movie_list = []\n",
    "    for i in range(start_page, end_page+1):\n",
    "        params['page'] = i\n",
    "        \n",
    "        resp = requests.get(URL, params)\n",
    "        soup = BeautifulSoup(resp.content)\n",
    "        \n",
    "        list_ranking = soup.find(class_='list_ranking').find_all('tr')\n",
    "        for movie_tr in list_ranking:\n",
    "            try:\n",
    "                code = movie_tr.find('a')['href'].split('=')[-1]\n",
    "                title = movie_tr.find('a').text\n",
    "            \n",
    "                movie_list.append({\n",
    "                    'code':code,\n",
    "                    'title':title\n",
    "                })\n",
    "            except Exception:\n",
    "                pass\n",
    "            \n",
    "    return movie_list"
   ]
  },
  {
   "cell_type": "code",
   "execution_count": 24,
   "metadata": {},
   "outputs": [],
   "source": [
    "def get_movie_info(movie):\n",
    "    code = movie.get('code')\n",
    "    title = movie.get('title')\n",
    "    \n",
    "    base_url = 'https://movie.naver.com/movie/bi/mi/basic.nhn'\n",
    "    params = {\n",
    "        'code': code,\n",
    "    }\n",
    "    \n",
    "    resp = requests.get(base_url, params)\n",
    "    soup = BeautifulSoup(resp.content)\n",
    "    \n",
    "    open_date_tag = soup.\\\n",
    "    find('dl', class_='info_spec').\\\n",
    "    find('dd').find_all('span')[-1]\n",
    "    \n",
    "    # 여기부터\n",
    "    open_date = \"\"\n",
    "    for date in open_date_tag.find_all('a'):\n",
    "        open_date += date.text\n",
    "    \n",
    "    open_date = \"-\".join(open_date.strip().\\\n",
    "                         split('.'))\n",
    "    \n",
    "    # 여기까지\n",
    "    story = soup.find('div', class_='story_area')\n",
    "    \n",
    "    movie['story'] = story\n",
    "    movie['open_date'] = open_date\n",
    "    \n",
    "    return movie"
   ]
  },
  {
   "cell_type": "code",
   "execution_count": 25,
   "metadata": {},
   "outputs": [
    {
     "data": {
      "text/plain": [
       "{'code': '171539', 'title': '그린 북'}"
      ]
     },
     "execution_count": 25,
     "metadata": {},
     "output_type": "execute_result"
    }
   ],
   "source": [
    "movie_list = get_movie_list()\n",
    "movie_list[0]"
   ]
  },
  {
   "cell_type": "code",
   "execution_count": 26,
   "metadata": {},
   "outputs": [
    {
     "data": {
      "text/plain": [
       "{'code': '171539', 'title': '그린 북', 'story': <div class=\"story_area\">\n",
       " <div class=\"title_area\">\n",
       " <h4 class=\"h_story\"><strong class=\"blind\">줄거리</strong></h4>\n",
       " </div>\n",
       " <h5 class=\"h_tx_story\">언제 어디서든 바른 생활! 완벽한 천재 뮤지션 ‘돈 셜리’<br/>\n",
       " 원칙보다 반칙! 다혈질 운전사 ‘토니’<br/>\n",
       " 취향도, 성격도 완벽히 다른 두 남자의 특별한 우정이 시작된다!</h5>\n",
       " <p class=\"con_tx\">1962년 미국, 입담과 주먹만 믿고 살아가던 토니 발레롱가(비고 모텐슨)는 교양과 우아함 그 자체인\n",
       " <br/> 천재 피아니스트 돈 셜리(마허샬라 알리) 박사의 운전기사 면접을 보게 된다.\n",
       " <br/> \n",
       " <br/> 백악관에도 초청되는 등 미국 전역에서 콘서트 요청을 받으며 명성을 떨치고 있는 돈 셜리는\n",
       " <br/> 위험하기로 소문난 미국 남부 투어 공연을 떠나기로 결심하고,\n",
       " <br/> 투어 기간 동안 자신의 보디가드 겸 운전기사로 토니를 고용한다.\n",
       " <br/> \n",
       " <br/> 거친 인생을 살아온 토니 발레롱가와 교양과 기품을 지키며 살아온 돈 셜리 박사.\n",
       " <br/> 생각, 행동, 말투, 취향까지 달라도 너무 다른 두 사람은\n",
       " <br/> 그들을 위한 여행안내서 ‘그린북’에 의존해 특별한 남부 투어를 시작하는데…</p>\n",
       " <button class=\"story_more\" id=\"toggleMakingnoteButton\" onclick=\"storyAndNote.toggleMakingnote();\" type=\"button\"><em class=\"blind\">제작노트 보기</em></button><!-- N=a:mai.story -->\n",
       " </div>, 'open_date': '2019-01-09'}"
      ]
     },
     "execution_count": 26,
     "metadata": {},
     "output_type": "execute_result"
    }
   ],
   "source": [
    "get_movie_info(movie_list[0])"
   ]
  },
  {
   "cell_type": "code",
   "execution_count": 27,
   "metadata": {},
   "outputs": [],
   "source": [
    "# query = \"\"\"\n",
    "#         CREATE TABLE IF NOT EXISTS naver_movie\n",
    "#             (code    INTEGER      NOT NULL      PRIMARY KEY,\n",
    "#              created_at    DATETIME DEFAULT CURRENT_TIMESTAMP,\n",
    "#              title   VARCHAR(100) NOT NULL,\n",
    "#              story   TEXT,\n",
    "#              open_date  DATE)\n",
    "#         \"\"\"\n",
    "def insert_movie(movie):\n",
    "    code = movie.get('code')\n",
    "    title = movie.get('title')\n",
    "    story = movie.get('story')\n",
    "    \n",
    "    story = str(story)\n",
    "    open_date = movie.get('open_date')\n",
    "    \n",
    "    story = db.escape_string(story)\n",
    "    query = \"\"\"\n",
    "    INSERT INTO naver_movie\n",
    "    (code, title, story, onpen_date)\n",
    "    VALUES('{0}', '{1}', %s, '{2}')\n",
    "    \"\"\".format(code, title, open_date)\n",
    "    \n",
    "    print(query)\n",
    "    cur.execute(query, [story])\n",
    "    db.commit()\n",
    "    \n",
    "    "
   ]
  },
  {
   "cell_type": "code",
   "execution_count": 28,
   "metadata": {},
   "outputs": [],
   "source": [
    "sample_movie = get_movie_info(movie_list[0])\n",
    "# insert_movie(sample_movie)"
   ]
  },
  {
   "cell_type": "code",
   "execution_count": 29,
   "metadata": {},
   "outputs": [
    {
     "name": "stdout",
     "output_type": "stream",
     "text": [
      "\n",
      "    INSERT INTO naver_movie\n",
      "    (code, title, story, onpen_date)\n",
      "    VALUES('171539', '그린 북', %s, '2019-01-09')\n",
      "    \n",
      "\n",
      "    INSERT INTO naver_movie\n",
      "    (code, title, story, onpen_date)\n",
      "    VALUES('174830', '가버나움', %s, '2019-01-24')\n",
      "    \n",
      "\n",
      "    INSERT INTO naver_movie\n",
      "    (code, title, story, onpen_date)\n",
      "    VALUES('144906', '베일리 어게인', %s, '2018-11-22')\n",
      "    \n",
      "\n",
      "    INSERT INTO naver_movie\n",
      "    (code, title, story, onpen_date)\n",
      "    VALUES('163788', '알라딘', %s, '2019-05-23')\n",
      "    \n",
      "\n",
      "    INSERT INTO naver_movie\n",
      "    (code, title, story, onpen_date)\n",
      "    VALUES('169240', '아일라', %s, '2018-06-21')\n",
      "    \n",
      "\n",
      "    INSERT INTO naver_movie\n",
      "    (code, title, story, onpen_date)\n",
      "    VALUES('151196', '원더', %s, '2017-12-27')\n",
      "    \n",
      "\n",
      "    INSERT INTO naver_movie\n",
      "    (code, title, story, onpen_date)\n",
      "    VALUES('157243', '당갈', %s, '2018-04-25')\n",
      "    \n",
      "\n",
      "    INSERT INTO naver_movie\n",
      "    (code, title, story, onpen_date)\n",
      "    VALUES('156464', '보헤미안 랩소디', %s, '2018-10-31')\n",
      "    \n",
      "\n",
      "    INSERT INTO naver_movie\n",
      "    (code, title, story, onpen_date)\n",
      "    VALUES('17421', '쇼생크 탈출', %s, '2016-02-24 1995-01-28')\n",
      "    \n",
      "\n",
      "    INSERT INTO naver_movie\n",
      "    (code, title, story, onpen_date)\n",
      "    VALUES('154667', '덕구', %s, '2018-04-05')\n",
      "    \n",
      "\n",
      "    INSERT INTO naver_movie\n",
      "    (code, title, story, onpen_date)\n",
      "    VALUES('10200', '터미네이터 2', %s, '2019-102015-07-162013-11-14 1991-07-06')\n",
      "    \n",
      "\n",
      "    INSERT INTO naver_movie\n",
      "    (code, title, story, onpen_date)\n",
      "    VALUES('69105', '월-E', %s, '2008-08-06')\n",
      "    \n",
      "\n",
      "    INSERT INTO naver_movie\n",
      "    (code, title, story, onpen_date)\n",
      "    VALUES('10016', '나 홀로 집에', %s, '1991-07-06')\n",
      "    \n",
      "\n",
      "    INSERT INTO naver_movie\n",
      "    (code, title, story, onpen_date)\n",
      "    VALUES('18988', '라이언 일병 구하기', %s, '1998-09-12')\n",
      "    \n",
      "\n",
      "    INSERT INTO naver_movie\n",
      "    (code, title, story, onpen_date)\n",
      "    VALUES('22126', '인생은 아름다워', %s, '2016-04-13 1999-03-06')\n",
      "    \n",
      "\n",
      "    INSERT INTO naver_movie\n",
      "    (code, title, story, onpen_date)\n",
      "    VALUES('24452', '매트릭스', %s, '2016-09-22 1999-05-15')\n",
      "    \n",
      "\n",
      "    INSERT INTO naver_movie\n",
      "    (code, title, story, onpen_date)\n",
      "    VALUES('10102', '사운드 오브 뮤직', %s, '2017-02-022012-01-231995-09-301978-02-04 1969-10-29')\n",
      "    \n",
      "\n",
      "    INSERT INTO naver_movie\n",
      "    (code, title, story, onpen_date)\n",
      "    VALUES('136900', '어벤져스: 엔드게임', %s, '2019-04-24')\n",
      "    \n",
      "\n",
      "    INSERT INTO naver_movie\n",
      "    (code, title, story, onpen_date)\n",
      "    VALUES('10002', '빽 투 더 퓨쳐', %s, '2015-10-21 1987-07-17')\n",
      "    \n",
      "\n",
      "    INSERT INTO naver_movie\n",
      "    (code, title, story, onpen_date)\n",
      "    VALUES('17159', '포레스트 검프', %s, '2016-09-07 1994-10-15')\n",
      "    \n",
      "\n",
      "    INSERT INTO naver_movie\n",
      "    (code, title, story, onpen_date)\n",
      "    VALUES('82432', '헬프', %s, '2011-11-03')\n",
      "    \n",
      "\n",
      "    INSERT INTO naver_movie\n",
      "    (code, title, story, onpen_date)\n",
      "    VALUES('92125', '헌터 킬러', %s, '2018-12-06')\n",
      "    \n",
      "\n",
      "    INSERT INTO naver_movie\n",
      "    (code, title, story, onpen_date)\n",
      "    VALUES('29217', '글래디에이터', %s, '2000-06-03')\n",
      "    \n",
      "\n",
      "    INSERT INTO naver_movie\n",
      "    (code, title, story, onpen_date)\n",
      "    VALUES('35901', '살인의 추억', %s, '2003-04-25')\n",
      "    \n",
      "\n",
      "    INSERT INTO naver_movie\n",
      "    (code, title, story, onpen_date)\n",
      "    VALUES('66463', '토이 스토리 3', %s, '2010-08-05')\n",
      "    \n",
      "\n",
      "    INSERT INTO naver_movie\n",
      "    (code, title, story, onpen_date)\n",
      "    VALUES('32686', '센과 치히로의 행방불명', %s, '2015-02-05 2002-06-28')\n",
      "    \n",
      "\n",
      "    INSERT INTO naver_movie\n",
      "    (code, title, story, onpen_date)\n",
      "    VALUES('106360', '위대한 쇼맨', %s, '2017-12-20')\n",
      "    \n",
      "\n",
      "    INSERT INTO naver_movie\n",
      "    (code, title, story, onpen_date)\n",
      "    VALUES('10048', '죽은 시인의 사회', %s, '2016-08-17 1990-05-19')\n",
      "    \n",
      "\n",
      "    INSERT INTO naver_movie\n",
      "    (code, title, story, onpen_date)\n",
      "    VALUES('17170', '레옹', %s, '2013-04-111998-01-24 1995-02-18')\n",
      "    \n",
      "\n",
      "    INSERT INTO naver_movie\n",
      "    (code, title, story, onpen_date)\n",
      "    VALUES('35939', '클래식', %s, '2003-01-30')\n",
      "    \n",
      "\n",
      "    INSERT INTO naver_movie\n",
      "    (code, title, story, onpen_date)\n",
      "    VALUES('161850', '아이 캔 스피크', %s, '2017-09-21')\n",
      "    \n",
      "\n",
      "    INSERT INTO naver_movie\n",
      "    (code, title, story, onpen_date)\n",
      "    VALUES('31796', '반지의 제왕: 왕의 귀환', %s, '2017-01-25 2003-12-17')\n",
      "    \n",
      "\n",
      "    INSERT INTO naver_movie\n",
      "    (code, title, story, onpen_date)\n",
      "    VALUES('183132', '교회오빠', %s, '2019-05-16')\n",
      "    \n",
      "\n",
      "    INSERT INTO naver_movie\n",
      "    (code, title, story, onpen_date)\n",
      "    VALUES('31162', '캐스트 어웨이', %s, '2001-02-03')\n",
      "    \n",
      "\n",
      "    INSERT INTO naver_movie\n",
      "    (code, title, story, onpen_date)\n",
      "    VALUES('134899', '동주', %s, '2016-02-17')\n",
      "    \n",
      "\n",
      "    INSERT INTO naver_movie\n",
      "    (code, title, story, onpen_date)\n",
      "    VALUES('17541', '굿바이 마이 프랜드', %s, '1996-08-05')\n",
      "    \n",
      "\n",
      "    INSERT INTO naver_movie\n",
      "    (code, title, story, onpen_date)\n",
      "    VALUES('12482', '여인의 향기', %s, '1993-03-20')\n",
      "    \n",
      "\n",
      "    INSERT INTO naver_movie\n",
      "    (code, title, story, onpen_date)\n",
      "    VALUES('130850', '주토피아', %s, '2016-02-17')\n",
      "    \n",
      "\n",
      "    INSERT INTO naver_movie\n",
      "    (code, title, story, onpen_date)\n",
      "    VALUES('73372', '세 얼간이', %s, '2016-11-09 2011-08-18')\n",
      "    \n",
      "\n",
      "    INSERT INTO naver_movie\n",
      "    (code, title, story, onpen_date)\n",
      "    VALUES('147092', '히든 피겨스', %s, '2017-03-23')\n",
      "    \n",
      "\n",
      "    INSERT INTO naver_movie\n",
      "    (code, title, story, onpen_date)\n",
      "    VALUES('37886', '클레멘타인', %s, '2004-05-21')\n",
      "    \n",
      "\n",
      "    INSERT INTO naver_movie\n",
      "    (code, title, story, onpen_date)\n",
      "    VALUES('39636', '지금, 만나러 갑니다', %s, '2018-04-19 2005-03-25')\n",
      "    \n",
      "\n",
      "    INSERT INTO naver_movie\n",
      "    (code, title, story, onpen_date)\n",
      "    VALUES('14450', '쉰들러 리스트', %s, '2019-01-24 1994-03-05')\n",
      "    \n",
      "\n",
      "    INSERT INTO naver_movie\n",
      "    (code, title, story, onpen_date)\n",
      "    VALUES('14448', '패왕별희', %s, '1993-12-24')\n",
      "    \n",
      "\n",
      "    INSERT INTO naver_movie\n",
      "    (code, title, story, onpen_date)\n",
      "    VALUES('18543', '서유기 2 - 선리기연', %s, '2010-06-01')\n",
      "    \n",
      "\n",
      "    INSERT INTO naver_movie\n",
      "    (code, title, story, onpen_date)\n",
      "    VALUES('19079', '굿 윌 헌팅', %s, '2016-08-17 1998-03-21')\n",
      "    \n",
      "\n",
      "    INSERT INTO naver_movie\n",
      "    (code, title, story, onpen_date)\n",
      "    VALUES('73476', '그대를 사랑합니다', %s, '2011-02-17')\n",
      "    \n",
      "\n",
      "    INSERT INTO naver_movie\n",
      "    (code, title, story, onpen_date)\n",
      "    VALUES('87566', '언터처블: 1%의 우정', %s, '2012-03-22')\n",
      "    \n",
      "\n",
      "    INSERT INTO naver_movie\n",
      "    (code, title, story, onpen_date)\n",
      "    VALUES('154573', '다시 태어나도 우리', %s, '2017-09-27')\n",
      "    \n",
      "\n",
      "    INSERT INTO naver_movie\n",
      "    (code, title, story, onpen_date)\n",
      "    VALUES('18847', '타이타닉', %s, '2018-02-012012-04-05 1998-02-20')\n",
      "    \n"
     ]
    }
   ],
   "source": [
    "from MySQLdb import IntegrityError\n",
    "movie_list = get_movie_list()\n",
    "for movie in movie_list:\n",
    "    \n",
    "    movie = get_movie_info(movie)\n",
    "    try:\n",
    "        insert_movie(movie)\n",
    "    except IntegrityError:\n",
    "        pass\n",
    "    except Exception:\n",
    "        pass\n",
    "    "
   ]
  },
  {
   "cell_type": "code",
   "execution_count": 30,
   "metadata": {},
   "outputs": [],
   "source": [
    "def get_comment_list(code, last_page=1):\n",
    "    url = 'https://movie.naver.com/movie/bi/mi/pointWriteFormList.nhn'\n",
    "    params = {\n",
    "        'code': code,\n",
    "        'type': 'after',\n",
    "        'order': 'newest'\n",
    "    }\n",
    "    result_list = []\n",
    "    for page in range(1, last_page+1):\n",
    "        params['page'] = page\n",
    "        \n",
    "        resp = requests.get(url, params)\n",
    "        soup = BeautifulSoup(resp.content)\n",
    "        reple_list = soup.find('div', class_='score_result').find_all('li')\n",
    "        \n",
    "        for reple in reple_list:\n",
    "            score = reple.find(class_='star_score').text.strip()\n",
    "            content = reple.find('p')\n",
    "            name_n_date = content.find_next_sibling('dl').find_all('em')\n",
    "            \n",
    "            content = content.text\n",
    "            \n",
    "            nickname = name_n_date[0]\n",
    "            date = name_n_date[1]\n",
    "            result_list.append({\n",
    "                'write_name':nickname,\n",
    "                'write_date': date.text,\n",
    "                'content': content,\n",
    "                'score': score,\n",
    "                'code':code\n",
    "            })\n",
    "    return result_list\n",
    "        \n"
   ]
  },
  {
   "cell_type": "code",
   "execution_count": 31,
   "metadata": {},
   "outputs": [
    {
     "data": {
      "text/plain": [
       "[{'write_name': <em>\n",
       "  <a href=\"#\" onclick=\"javascript:showPointListByNid(15816086, 'after');parent.clickcr(this, 'ara.uid', '', '', event); return false;\" target=\"_top\">\n",
       "  <span>봉봉(lemo****)</span>\n",
       "  </a>\n",
       "  </em>,\n",
       "  'write_date': '2019.06.17 00:07',\n",
       "  'content': '따뜻한 브로맨스 로드무비.  ',\n",
       "  'score': '10',\n",
       "  'code': '171539'},\n",
       " {'write_name': <em>\n",
       "  <a href=\"#\" onclick=\"javascript:showPointListByNid(15812565, 'after');parent.clickcr(this, 'ara.uid', '', '', event); return false;\" target=\"_top\">\n",
       "  <span>Windy(appl****)</span>\n",
       "  </a>\n",
       "  </em>,\n",
       "  'write_date': '2019.06.15 21:46',\n",
       "  'content': '평점 클라스 봐라 ㅋㅋ 너무한거 아니냐?  ',\n",
       "  'score': '1',\n",
       "  'code': '171539'},\n",
       " {'write_name': <em>\n",
       "  <a href=\"#\" onclick=\"javascript:showPointListByNid(15811976, 'after');parent.clickcr(this, 'ara.uid', '', '', event); return false;\" target=\"_top\">\n",
       "  <span>lunasea(luna****)</span>\n",
       "  </a>\n",
       "  </em>,\n",
       "  'write_date': '2019.06.15 17:51',\n",
       "  'content': '블루레이로 감삼.두 배우의 연기가 대단하고 내용 전개 중에 심한 갈등이 나올거 같았는데 나오지 않아 편하고 재밌게 볼수 있었다.  ',\n",
       "  'score': '10',\n",
       "  'code': '171539'},\n",
       " {'write_name': <em>\n",
       "  <a href=\"#\" onclick=\"javascript:showPointListByNid(15811200, 'after');parent.clickcr(this, 'ara.uid', '', '', event); return false;\" target=\"_top\">\n",
       "  <span>임소현(mira****)</span>\n",
       "  </a>\n",
       "  </em>,\n",
       "  'write_date': '2019.06.15 11:50',\n",
       "  'content': '노잼 노잼 노잼 노잼 노잼  ',\n",
       "  'score': '1',\n",
       "  'code': '171539'},\n",
       " {'write_name': <em>\n",
       "  <a href=\"#\" onclick=\"javascript:showPointListByNid(15810103, 'after');parent.clickcr(this, 'ara.uid', '', '', event); return false;\" target=\"_top\">\n",
       "  <span>신검무적 진산월(bajj****)</span>\n",
       "  </a>\n",
       "  </em>,\n",
       "  'write_date': '2019.06.14 23:43',\n",
       "  'content': '시작은 유쾌했다, 그렇지만 가면 갈수록 묘하게 안타까우면서 슬프고 화가났지만, 토니의 현란한 말빨로 상황을 넘어가며 관객과 배우는 아슬아슬한 줄타기를 이어나갔다, 그러면서 서로를 배우게 되는 두남자의 우정과 빠꾸없는 직진이 맘에들었다. 감독덤앤더머감독  ',\n",
       "  'score': '10',\n",
       "  'code': '171539'},\n",
       " {'write_name': <em>\n",
       "  <a href=\"#\" onclick=\"javascript:showPointListByNid(15807764, 'after');parent.clickcr(this, 'ara.uid', '', '', event); return false;\" target=\"_top\">\n",
       "  <span>okcu****</span>\n",
       "  </a>\n",
       "  </em>,\n",
       "  'write_date': '2019.06.14 12:45',\n",
       "  'content': '이런게 영화지 꼭 보시길..  ',\n",
       "  'score': '8',\n",
       "  'code': '171539'},\n",
       " {'write_name': <em>\n",
       "  <a href=\"#\" onclick=\"javascript:showPointListByNid(15807190, 'after');parent.clickcr(this, 'ara.uid', '', '', event); return false;\" target=\"_top\">\n",
       "  <span>noname(u2ki****)</span>\n",
       "  </a>\n",
       "  </em>,\n",
       "  'write_date': '2019.06.14 03:08',\n",
       "  'content': '10점 그 이상을 주고 싶은 영화  ',\n",
       "  'score': '10',\n",
       "  'code': '171539'},\n",
       " {'write_name': <em>\n",
       "  <a href=\"#\" onclick=\"javascript:showPointListByNid(15807109, 'after');parent.clickcr(this, 'ara.uid', '', '', event); return false;\" target=\"_top\">\n",
       "  <span>대한검도(band****)</span>\n",
       "  </a>\n",
       "  </em>,\n",
       "  'write_date': '2019.06.14 02:12',\n",
       "  'content': '편견을 버리고 서로의 차이를 받아들이자  ',\n",
       "  'score': '10',\n",
       "  'code': '171539'},\n",
       " {'write_name': <em>\n",
       "  <a href=\"#\" onclick=\"javascript:showPointListByNid(15806740, 'after');parent.clickcr(this, 'ara.uid', '', '', event); return false;\" target=\"_top\">\n",
       "  <span>동그리(zzgg****)</span>\n",
       "  </a>\n",
       "  </em>,\n",
       "  'write_date': '2019.06.13 23:39',\n",
       "  'content': '너무 감동적이고 배울 점이 많은 영화네요. 재밌게 잘봤습니다. 이런 영화가 스크린에 걸려야할텐데..  ',\n",
       "  'score': '10',\n",
       "  'code': '171539'},\n",
       " {'write_name': <em>\n",
       "  <a href=\"#\" onclick=\"javascript:showPointListByNid(15805615, 'after');parent.clickcr(this, 'ara.uid', '', '', event); return false;\" target=\"_top\">\n",
       "  <span>직군씨(tjsd****)</span>\n",
       "  </a>\n",
       "  </em>,\n",
       "  'write_date': '2019.06.13 16:59',\n",
       "  'content': '마음이 따뜻해지는 영화!피부색은 중요하지 않다.  ',\n",
       "  'score': '10',\n",
       "  'code': '171539'}]"
      ]
     },
     "execution_count": 31,
     "metadata": {},
     "output_type": "execute_result"
    }
   ],
   "source": [
    "get_comment_list('171539')"
   ]
  },
  {
   "cell_type": "code",
   "execution_count": 32,
   "metadata": {},
   "outputs": [],
   "source": [
    "def insert_comment(comment):\n",
    "    score = comment.get('score')\n",
    "    writer = comment.get('writer')\n",
    "    write_date = comment.get('write_date')\n",
    "    write_date = '-'.join(write_date.split('.'))\n",
    "    \n",
    "    content = comment.get('content')\n",
    "    movie_code = comment.get('code')\n",
    "    \n",
    "    query = \"\"\"\n",
    "    INSERT INTO movie_comment\n",
    "    (score, writer, write_date, content, movie_code)\n",
    "    VALUES('{}', '{}', '{}', '{}', '{}')\n",
    "    \"\"\".format(score, writer, write_date, content, movie_code)\n",
    "    \n",
    "    cur.execute(query)\n",
    "    db.commit()\n",
    "    "
   ]
  },
  {
   "cell_type": "code",
   "execution_count": 33,
   "metadata": {},
   "outputs": [
    {
     "ename": "IntegrityError",
     "evalue": "(1062, \"Duplicate entry 'None-2019-06-17 00:07:00' for key 'PRIMARY'\")",
     "output_type": "error",
     "traceback": [
      "\u001b[1;31m---------------------------------------------------------------------------\u001b[0m",
      "\u001b[1;31mIntegrityError\u001b[0m                            Traceback (most recent call last)",
      "\u001b[1;32m<ipython-input-33-fe5a904f42db>\u001b[0m in \u001b[0;36m<module>\u001b[1;34m\u001b[0m\n\u001b[0;32m      1\u001b[0m \u001b[0mcomment_list\u001b[0m \u001b[1;33m=\u001b[0m \u001b[0mget_comment_list\u001b[0m\u001b[1;33m(\u001b[0m\u001b[1;34m'171539'\u001b[0m\u001b[1;33m)\u001b[0m\u001b[1;33m\u001b[0m\u001b[1;33m\u001b[0m\u001b[0m\n\u001b[0;32m      2\u001b[0m \u001b[1;32mfor\u001b[0m \u001b[0mcomment\u001b[0m \u001b[1;32min\u001b[0m \u001b[0mcomment_list\u001b[0m\u001b[1;33m:\u001b[0m\u001b[1;33m\u001b[0m\u001b[1;33m\u001b[0m\u001b[0m\n\u001b[1;32m----> 3\u001b[1;33m     \u001b[0minsert_comment\u001b[0m\u001b[1;33m(\u001b[0m\u001b[0mcomment\u001b[0m\u001b[1;33m)\u001b[0m\u001b[1;33m\u001b[0m\u001b[1;33m\u001b[0m\u001b[0m\n\u001b[0m",
      "\u001b[1;32m<ipython-input-32-5c6fb89285a1>\u001b[0m in \u001b[0;36minsert_comment\u001b[1;34m(comment)\u001b[0m\n\u001b[0;32m     14\u001b[0m     \"\"\".format(score, writer, write_date, content, movie_code)\n\u001b[0;32m     15\u001b[0m \u001b[1;33m\u001b[0m\u001b[0m\n\u001b[1;32m---> 16\u001b[1;33m     \u001b[0mcur\u001b[0m\u001b[1;33m.\u001b[0m\u001b[0mexecute\u001b[0m\u001b[1;33m(\u001b[0m\u001b[0mquery\u001b[0m\u001b[1;33m)\u001b[0m\u001b[1;33m\u001b[0m\u001b[1;33m\u001b[0m\u001b[0m\n\u001b[0m\u001b[0;32m     17\u001b[0m     \u001b[0mdb\u001b[0m\u001b[1;33m.\u001b[0m\u001b[0mcommit\u001b[0m\u001b[1;33m(\u001b[0m\u001b[1;33m)\u001b[0m\u001b[1;33m\u001b[0m\u001b[1;33m\u001b[0m\u001b[0m\n\u001b[0;32m     18\u001b[0m \u001b[1;33m\u001b[0m\u001b[0m\n",
      "\u001b[1;32mC:\\ProgramData\\Anaconda3\\envs\\study\\lib\\site-packages\\MySQLdb\\cursors.py\u001b[0m in \u001b[0;36mexecute\u001b[1;34m(self, query, args)\u001b[0m\n\u001b[0;32m    253\u001b[0m         \u001b[1;32mexcept\u001b[0m \u001b[0mException\u001b[0m\u001b[1;33m:\u001b[0m\u001b[1;33m\u001b[0m\u001b[1;33m\u001b[0m\u001b[0m\n\u001b[0;32m    254\u001b[0m             \u001b[0mexc\u001b[0m\u001b[1;33m,\u001b[0m \u001b[0mvalue\u001b[0m \u001b[1;33m=\u001b[0m \u001b[0msys\u001b[0m\u001b[1;33m.\u001b[0m\u001b[0mexc_info\u001b[0m\u001b[1;33m(\u001b[0m\u001b[1;33m)\u001b[0m\u001b[1;33m[\u001b[0m\u001b[1;33m:\u001b[0m\u001b[1;36m2\u001b[0m\u001b[1;33m]\u001b[0m\u001b[1;33m\u001b[0m\u001b[1;33m\u001b[0m\u001b[0m\n\u001b[1;32m--> 255\u001b[1;33m             \u001b[0mself\u001b[0m\u001b[1;33m.\u001b[0m\u001b[0merrorhandler\u001b[0m\u001b[1;33m(\u001b[0m\u001b[0mself\u001b[0m\u001b[1;33m,\u001b[0m \u001b[0mexc\u001b[0m\u001b[1;33m,\u001b[0m \u001b[0mvalue\u001b[0m\u001b[1;33m)\u001b[0m\u001b[1;33m\u001b[0m\u001b[1;33m\u001b[0m\u001b[0m\n\u001b[0m\u001b[0;32m    256\u001b[0m         \u001b[1;32mif\u001b[0m \u001b[1;32mnot\u001b[0m \u001b[0mself\u001b[0m\u001b[1;33m.\u001b[0m\u001b[0m_defer_warnings\u001b[0m\u001b[1;33m:\u001b[0m\u001b[1;33m\u001b[0m\u001b[1;33m\u001b[0m\u001b[0m\n\u001b[0;32m    257\u001b[0m             \u001b[0mself\u001b[0m\u001b[1;33m.\u001b[0m\u001b[0m_warning_check\u001b[0m\u001b[1;33m(\u001b[0m\u001b[1;33m)\u001b[0m\u001b[1;33m\u001b[0m\u001b[1;33m\u001b[0m\u001b[0m\n",
      "\u001b[1;32mC:\\ProgramData\\Anaconda3\\envs\\study\\lib\\site-packages\\MySQLdb\\connections.py\u001b[0m in \u001b[0;36mdefaulterrorhandler\u001b[1;34m(***failed resolving arguments***)\u001b[0m\n\u001b[0;32m     48\u001b[0m     \u001b[1;32mdel\u001b[0m \u001b[0mconnection\u001b[0m\u001b[1;33m\u001b[0m\u001b[1;33m\u001b[0m\u001b[0m\n\u001b[0;32m     49\u001b[0m     \u001b[1;32mif\u001b[0m \u001b[0misinstance\u001b[0m\u001b[1;33m(\u001b[0m\u001b[0merrorvalue\u001b[0m\u001b[1;33m,\u001b[0m \u001b[0mBaseException\u001b[0m\u001b[1;33m)\u001b[0m\u001b[1;33m:\u001b[0m\u001b[1;33m\u001b[0m\u001b[1;33m\u001b[0m\u001b[0m\n\u001b[1;32m---> 50\u001b[1;33m         \u001b[1;32mraise\u001b[0m \u001b[0merrorvalue\u001b[0m\u001b[1;33m\u001b[0m\u001b[1;33m\u001b[0m\u001b[0m\n\u001b[0m\u001b[0;32m     51\u001b[0m     \u001b[1;32mif\u001b[0m \u001b[0merrorclass\u001b[0m \u001b[1;32mis\u001b[0m \u001b[1;32mnot\u001b[0m \u001b[1;32mNone\u001b[0m\u001b[1;33m:\u001b[0m\u001b[1;33m\u001b[0m\u001b[1;33m\u001b[0m\u001b[0m\n\u001b[0;32m     52\u001b[0m         \u001b[1;32mraise\u001b[0m \u001b[0merrorclass\u001b[0m\u001b[1;33m(\u001b[0m\u001b[0merrorvalue\u001b[0m\u001b[1;33m)\u001b[0m\u001b[1;33m\u001b[0m\u001b[1;33m\u001b[0m\u001b[0m\n",
      "\u001b[1;32mC:\\ProgramData\\Anaconda3\\envs\\study\\lib\\site-packages\\MySQLdb\\cursors.py\u001b[0m in \u001b[0;36mexecute\u001b[1;34m(self, query, args)\u001b[0m\n\u001b[0;32m    250\u001b[0m         \u001b[0mres\u001b[0m \u001b[1;33m=\u001b[0m \u001b[1;32mNone\u001b[0m\u001b[1;33m\u001b[0m\u001b[1;33m\u001b[0m\u001b[0m\n\u001b[0;32m    251\u001b[0m         \u001b[1;32mtry\u001b[0m\u001b[1;33m:\u001b[0m\u001b[1;33m\u001b[0m\u001b[1;33m\u001b[0m\u001b[0m\n\u001b[1;32m--> 252\u001b[1;33m             \u001b[0mres\u001b[0m \u001b[1;33m=\u001b[0m \u001b[0mself\u001b[0m\u001b[1;33m.\u001b[0m\u001b[0m_query\u001b[0m\u001b[1;33m(\u001b[0m\u001b[0mquery\u001b[0m\u001b[1;33m)\u001b[0m\u001b[1;33m\u001b[0m\u001b[1;33m\u001b[0m\u001b[0m\n\u001b[0m\u001b[0;32m    253\u001b[0m         \u001b[1;32mexcept\u001b[0m \u001b[0mException\u001b[0m\u001b[1;33m:\u001b[0m\u001b[1;33m\u001b[0m\u001b[1;33m\u001b[0m\u001b[0m\n\u001b[0;32m    254\u001b[0m             \u001b[0mexc\u001b[0m\u001b[1;33m,\u001b[0m \u001b[0mvalue\u001b[0m \u001b[1;33m=\u001b[0m \u001b[0msys\u001b[0m\u001b[1;33m.\u001b[0m\u001b[0mexc_info\u001b[0m\u001b[1;33m(\u001b[0m\u001b[1;33m)\u001b[0m\u001b[1;33m[\u001b[0m\u001b[1;33m:\u001b[0m\u001b[1;36m2\u001b[0m\u001b[1;33m]\u001b[0m\u001b[1;33m\u001b[0m\u001b[1;33m\u001b[0m\u001b[0m\n",
      "\u001b[1;32mC:\\ProgramData\\Anaconda3\\envs\\study\\lib\\site-packages\\MySQLdb\\cursors.py\u001b[0m in \u001b[0;36m_query\u001b[1;34m(self, q)\u001b[0m\n\u001b[0;32m    376\u001b[0m         \u001b[0mdb\u001b[0m \u001b[1;33m=\u001b[0m \u001b[0mself\u001b[0m\u001b[1;33m.\u001b[0m\u001b[0m_get_db\u001b[0m\u001b[1;33m(\u001b[0m\u001b[1;33m)\u001b[0m\u001b[1;33m\u001b[0m\u001b[1;33m\u001b[0m\u001b[0m\n\u001b[0;32m    377\u001b[0m         \u001b[0mself\u001b[0m\u001b[1;33m.\u001b[0m\u001b[0m_result\u001b[0m \u001b[1;33m=\u001b[0m \u001b[1;32mNone\u001b[0m\u001b[1;33m\u001b[0m\u001b[1;33m\u001b[0m\u001b[0m\n\u001b[1;32m--> 378\u001b[1;33m         \u001b[0mdb\u001b[0m\u001b[1;33m.\u001b[0m\u001b[0mquery\u001b[0m\u001b[1;33m(\u001b[0m\u001b[0mq\u001b[0m\u001b[1;33m)\u001b[0m\u001b[1;33m\u001b[0m\u001b[1;33m\u001b[0m\u001b[0m\n\u001b[0m\u001b[0;32m    379\u001b[0m         \u001b[0mself\u001b[0m\u001b[1;33m.\u001b[0m\u001b[0m_do_get_result\u001b[0m\u001b[1;33m(\u001b[0m\u001b[0mdb\u001b[0m\u001b[1;33m)\u001b[0m\u001b[1;33m\u001b[0m\u001b[1;33m\u001b[0m\u001b[0m\n\u001b[0;32m    380\u001b[0m         \u001b[0mself\u001b[0m\u001b[1;33m.\u001b[0m\u001b[0m_post_get_result\u001b[0m\u001b[1;33m(\u001b[0m\u001b[1;33m)\u001b[0m\u001b[1;33m\u001b[0m\u001b[1;33m\u001b[0m\u001b[0m\n",
      "\u001b[1;32mC:\\ProgramData\\Anaconda3\\envs\\study\\lib\\site-packages\\MySQLdb\\connections.py\u001b[0m in \u001b[0;36mquery\u001b[1;34m(self, query)\u001b[0m\n\u001b[0;32m    278\u001b[0m             \u001b[0mself\u001b[0m\u001b[1;33m.\u001b[0m\u001b[0mread_query_result\u001b[0m\u001b[1;33m(\u001b[0m\u001b[1;33m)\u001b[0m\u001b[1;33m\u001b[0m\u001b[1;33m\u001b[0m\u001b[0m\n\u001b[0;32m    279\u001b[0m         \u001b[1;32melse\u001b[0m\u001b[1;33m:\u001b[0m\u001b[1;33m\u001b[0m\u001b[1;33m\u001b[0m\u001b[0m\n\u001b[1;32m--> 280\u001b[1;33m             \u001b[0m_mysql\u001b[0m\u001b[1;33m.\u001b[0m\u001b[0mconnection\u001b[0m\u001b[1;33m.\u001b[0m\u001b[0mquery\u001b[0m\u001b[1;33m(\u001b[0m\u001b[0mself\u001b[0m\u001b[1;33m,\u001b[0m \u001b[0mquery\u001b[0m\u001b[1;33m)\u001b[0m\u001b[1;33m\u001b[0m\u001b[1;33m\u001b[0m\u001b[0m\n\u001b[0m\u001b[0;32m    281\u001b[0m \u001b[1;33m\u001b[0m\u001b[0m\n\u001b[0;32m    282\u001b[0m     \u001b[1;32mdef\u001b[0m \u001b[0m__enter__\u001b[0m\u001b[1;33m(\u001b[0m\u001b[0mself\u001b[0m\u001b[1;33m)\u001b[0m\u001b[1;33m:\u001b[0m\u001b[1;33m\u001b[0m\u001b[1;33m\u001b[0m\u001b[0m\n",
      "\u001b[1;31mIntegrityError\u001b[0m: (1062, \"Duplicate entry 'None-2019-06-17 00:07:00' for key 'PRIMARY'\")"
     ]
    }
   ],
   "source": [
    "comment_list = get_comment_list('171539')\n",
    "for comment in comment_list:\n",
    "    insert_comment(comment)"
   ]
  },
  {
   "cell_type": "code",
   "execution_count": 34,
   "metadata": {},
   "outputs": [],
   "source": [
    "for movie in movie_list:\n",
    "    try:\n",
    "        comment_list = get_comment_list(movie['code'])\n",
    "        for comment in comment_list:\n",
    "            insert_comment(comment)\n",
    "    except Exception:\n",
    "        pass"
   ]
  },
  {
   "cell_type": "code",
   "execution_count": null,
   "metadata": {},
   "outputs": [],
   "source": []
  },
  {
   "cell_type": "code",
   "execution_count": null,
   "metadata": {},
   "outputs": [],
   "source": [
    "# https://movie.naver.com/movie/sdb/rank/rmovie.nhn?sel=pnt&date=20190616"
   ]
  },
  {
   "cell_type": "code",
   "execution_count": null,
   "metadata": {},
   "outputs": [],
   "source": [
    "import requests\n",
    "from urllib import parse\n",
    "from bs4 import BeautifulSoup\n",
    "import datetime\n",
    "import math"
   ]
  },
  {
   "cell_type": "code",
   "execution_count": null,
   "metadata": {},
   "outputs": [],
   "source": [
    "# movie_list\n",
    "\n",
    "# 한 화면에 50페이지\n",
    "PAGE_SIZE = 50\n",
    "MOVIE_LENGTH = 100\n",
    "pages = math.ceil(MOVIE_LENGTH/PAGE_SIZE)\n",
    "pages"
   ]
  },
  {
   "cell_type": "code",
   "execution_count": null,
   "metadata": {},
   "outputs": [],
   "source": [
    "def get_movie_list(start_page, end_page):\n",
    "    today = datetime.datetime.now()\n",
    "    \n",
    "    movie_list = []\n",
    "    for page in range(start_page, end_page+1):\n",
    "        movie_list_url = 'https://movie.naver.com/movie/sdb/rank/rmovie.nhn'\n",
    "        params = {\n",
    "            'sel':'pnt',\n",
    "            'date':today.strftime('%Y%m%d'),\n",
    "            'page':page\n",
    "        }\n",
    "        resp = requests.get(movie_list_url)\n",
    "        resp.encoding = 'utf-8'\n",
    "    \n",
    "        soup = BeautifulSoup(resp.content)\n",
    "        # list_ranking = soup.find(class_='list_ranking').find_all('tr')\n",
    "        list_ranking = soup.select('.list_ranking>tbody>tr')\n",
    "    \n",
    "        for movie_tr in list_ranking:\n",
    "            all_td = movie_tr.find_all('td')\n",
    "            try:\n",
    "                rank = all_td[0].img['alt']\n",
    "                link = all_td[1].find('a')['href']\n",
    "                title = all_td[1].find('a').text\n",
    "                \n",
    "                code = parse.parse_qs(parse.urlsplit(link).query)['code'][0]\n",
    "            except TypeError:\n",
    "                pass\n",
    "\n",
    "            else:\n",
    "                movie_list.append({\n",
    "                    'img':img,\n",
    "                    'link':link,\n",
    "                    'title':title,\n",
    "                    'code':code\n",
    "                })\n",
    "                \n",
    "    return movie_list\n",
    "    \n",
    "    "
   ]
  },
  {
   "cell_type": "code",
   "execution_count": null,
   "metadata": {},
   "outputs": [],
   "source": [
    "def get_movie_detail(code):\n",
    "    base_url = 'https://movie.naver.com/movie/bi/mi/basic.nhn'\n",
    "    params = {\n",
    "        'code':code\n",
    "    }\n",
    "    resp = requests.get(base_url, params)\n",
    "    resp.encoding ='utf-8'\n",
    "    soup = BeautifulSoup(resp.content)\n",
    "    \n",
    "    opend = soup.find('dt', text='개요()').find_next_sibling('dd').find_all('span')[-1].text.strip()\n",
    "    opend = ''.join(opend.split('\\n'))[:10]\n",
    "\n",
    "    story = soup.find('div', class_='story_area')\n",
    "    print(story)\n",
    "    return {\n",
    "        'opend':opend,\n",
    "        'story':story\n",
    "    }\n",
    "    \n",
    "    \n",
    "def get_movie_comment(code, last_comment='15788558'):\n",
    "    base_url = '/movie/bi/mi/pointWriteFormList.nhn'\n",
    "    page = 1\n",
    "    comment_list = []\n",
    "    \n",
    "    while True:\n",
    "        params={\n",
    "            'code':171539,\n",
    "            'type':'after',\n",
    "            'order':'newest',\n",
    "            'page':page\n",
    "        }\n",
    "        resp = requests.get(base_url, params)\n",
    "        resp.encoding = 'utf-8'\n",
    "        soup = BeautifulSoup(resp.content)\n",
    "        \n",
    "        comments = soup.find('div', class_='score_result').find_all('li')\n",
    "        for comment in comments:\n",
    "            star = comment.find('div', class_='star_score').text\n",
    "            reple = comment.find('div', class_='score_reple').find('p').text\n",
    "            \n",
    "            dd = comment.find('div', class_='score_reple').find('dl').find_all('dd')\n",
    "            user = dd[0]\n",
    "            created_at = dd[1]\n",
    "            \n",
    "            comment_id = comment.find('div', class_='btn_area').find_all('span')[-1]['class'][0].split('_')[1]\n",
    "            \n",
    "            if int(comment_id) <= int(last_comment):\n",
    "                return comment_list\n",
    "            \n",
    "            # 실습용 코드\n",
    "            if page ==3:\n",
    "                break\n",
    "            \n",
    "            comment_list.append({\n",
    "                'star':star,\n",
    "                'reple':reple,\n",
    "                'user': user,\n",
    "                'created_at': created_at,\n",
    "                'comment_id': comment_id\n",
    "            })\n",
    "            \n",
    "        \n",
    "        page += 1\n",
    "    return comment_list\n",
    "    \n",
    "    \n",
    "    \n",
    "    "
   ]
  },
  {
   "cell_type": "code",
   "execution_count": null,
   "metadata": {},
   "outputs": [],
   "source": [
    "movie_list = get_movie_list(1, pages)"
   ]
  },
  {
   "cell_type": "code",
   "execution_count": null,
   "metadata": {},
   "outputs": [],
   "source": [
    "movie_list"
   ]
  },
  {
   "cell_type": "code",
   "execution_count": null,
   "metadata": {},
   "outputs": [],
   "source": [
    "def insert_movie(movie):\n",
    "    code = movie.get('code')\n",
    "    title = movie.get('title')\n",
    "    open_date = movie.get('open_date')\n",
    "    \n",
    "    query = \"\"\"\n",
    "    INSERT INTO naver_movie\n",
    "    (code, title, open_date)\n",
    "    VALUES('{}', '{}', '{}')\n",
    "    \"\"\".format(code, title, open_date)\n",
    "    \n",
    "    cur.execute(query)\n",
    "    \n",
    "def insert_comment(movie_code, comment):\n",
    "    # movie_comment\n",
    "\n",
    "    write = comment.get('writer')\n",
    "    score = comment.get('score')\n",
    "    wrter = comment.get('writer')\n",
    "    write_date = comment.get('write_date')\n",
    "    content = comment.get('content')\n",
    "    \n",
    "    query = \"\"\"\n",
    "    INSERT INTO movie_comment\n",
    "    (score, content, writer, write_date, movie_code)\n",
    "    VALUES('{}', '{}', '{}')\n",
    "    \"\"\".format(score, content, writer, write_date, movie_code)\n",
    "    \n",
    "    cur.execute(query)\n",
    "    "
   ]
  },
  {
   "cell_type": "code",
   "execution_count": null,
   "metadata": {},
   "outputs": [],
   "source": [
    "insert_movie({\n",
    "    'code': '12',\n",
    "    'title': 'ddd',\n",
    "    'open_date': '2011.01.12',\n",
    "})"
   ]
  },
  {
   "cell_type": "code",
   "execution_count": null,
   "metadata": {
    "scrolled": true
   },
   "outputs": [],
   "source": [
    "for movie in movie_list:\n",
    "    detail = get_movie_detail(movie['code'])\n",
    "    \n",
    "    open_date = detail['opend']\n",
    "    story = detail['story']\n",
    "    comment_list = get_movie_comment(movie['code'])"
   ]
  },
  {
   "cell_type": "code",
   "execution_count": null,
   "metadata": {
    "scrolled": true
   },
   "outputs": [],
   "source": [
    "resp = requests.get(movie_list_url)\n",
    "resp"
   ]
  },
  {
   "cell_type": "code",
   "execution_count": null,
   "metadata": {},
   "outputs": [],
   "source": [
    "# INSERT INTO table (column_list)\n",
    "# VALUES (value_list)\n",
    "# ON DUPLICATE KEY UPDATE\n",
    "#    c1 = v1, \n",
    "#    c2 = v2,\n",
    "#    ...;"
   ]
  },
  {
   "cell_type": "code",
   "execution_count": null,
   "metadata": {},
   "outputs": [],
   "source": [
    "cur.close()"
   ]
  },
  {
   "cell_type": "code",
   "execution_count": null,
   "metadata": {},
   "outputs": [],
   "source": []
  },
  {
   "cell_type": "code",
   "execution_count": null,
   "metadata": {},
   "outputs": [],
   "source": []
  },
  {
   "cell_type": "code",
   "execution_count": null,
   "metadata": {},
   "outputs": [],
   "source": []
  },
  {
   "cell_type": "code",
   "execution_count": null,
   "metadata": {},
   "outputs": [],
   "source": []
  },
  {
   "cell_type": "code",
   "execution_count": null,
   "metadata": {},
   "outputs": [],
   "source": []
  },
  {
   "cell_type": "code",
   "execution_count": null,
   "metadata": {},
   "outputs": [],
   "source": []
  },
  {
   "cell_type": "code",
   "execution_count": null,
   "metadata": {},
   "outputs": [],
   "source": []
  },
  {
   "cell_type": "code",
   "execution_count": null,
   "metadata": {},
   "outputs": [],
   "source": []
  },
  {
   "cell_type": "code",
   "execution_count": null,
   "metadata": {},
   "outputs": [],
   "source": []
  },
  {
   "cell_type": "code",
   "execution_count": null,
   "metadata": {},
   "outputs": [],
   "source": []
  },
  {
   "cell_type": "code",
   "execution_count": null,
   "metadata": {},
   "outputs": [],
   "source": []
  },
  {
   "cell_type": "code",
   "execution_count": null,
   "metadata": {},
   "outputs": [],
   "source": []
  },
  {
   "cell_type": "code",
   "execution_count": null,
   "metadata": {},
   "outputs": [],
   "source": []
  }
 ],
 "metadata": {
  "kernelspec": {
   "display_name": "Python 3",
   "language": "python",
   "name": "python3"
  },
  "language_info": {
   "codemirror_mode": {
    "name": "ipython",
    "version": 3
   },
   "file_extension": ".py",
   "mimetype": "text/x-python",
   "name": "python",
   "nbconvert_exporter": "python",
   "pygments_lexer": "ipython3",
   "version": "3.6.8"
  }
 },
 "nbformat": 4,
 "nbformat_minor": 2
}
