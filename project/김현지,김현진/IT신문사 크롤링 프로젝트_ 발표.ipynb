{
 "cells": [
  {
   "cell_type": "markdown",
   "metadata": {},
   "source": [
    "# 전자신문"
   ]
  },
  {
   "cell_type": "code",
   "execution_count": null,
   "metadata": {},
   "outputs": [],
   "source": [
    "import requests\n",
    "from bs4 import BeautifulSoup"
   ]
  },
  {
   "cell_type": "code",
   "execution_count": null,
   "metadata": {},
   "outputs": [],
   "source": [
    "jj_news_url = 'http://search.etnews.com/etnews/search.php'"
   ]
  },
  {
   "cell_type": "code",
   "execution_count": null,
   "metadata": {
    "scrolled": true
   },
   "outputs": [],
   "source": [
    "jj_news_list = []\n",
    "\n",
    "\n",
    "# 여러 페이지를 크롤링하기 위한 함수 \n",
    "for x in range(1,5):\n",
    "    params=dict(\n",
    "        category = 'CATEGORY1',\n",
    "        kwd = '금융업인공지능',\n",
    "        pageNum = x)\n",
    "    \n",
    "    resp = requests.get(jj_news_url,params=params)\n",
    "    #print(resp.status_code)\n",
    "    soup = BeautifulSoup(resp.content,'html.parser')\n",
    "    \n",
    "    ul_contents = soup.find('ul',class_='list_news')\n",
    "    \n",
    "\n",
    "\n",
    "    # \"\" 로 구성되 있는 빈칸 삭제하기 \n",
    "    new_ul = []\n",
    "    for content in ul_contents.contents:\n",
    "        if not str(content).strip():\n",
    "            continue\n",
    "            \n",
    "        new_ul.append(content)\n",
    "        \n",
    "    ####뉴스제목 / 내용 / 링크 / 이미지파일#####    \n",
    "    for i in new_ul:\n",
    "        jj_news_dict = {}\n",
    "        a_tag = i.find('dl').find('dt').find('a')\n",
    "        b_tag = i.find('dl').find('dd').find_next('dd').find('a')\n",
    "        c_tag = i.find('dl').find('dd').find('a')\n",
    "        d_tag = i.find('dl')\n",
    "        \n",
    "        \n",
    "\n",
    "\n",
    "        #이미지가 있는 파일 / 없는 파일 구분하여 본문과 이미지 가져오기 \n",
    "        if len(d_tag.find_all('dd'))==3:\n",
    "            A=b_tag.text\n",
    "            B=c_tag.find('img')['src']\n",
    "            \n",
    "            jj_news_dict['img'] = B\n",
    "        else:\n",
    "            A=c_tag.text\n",
    "            \n",
    "        jj_news_dict['Summary'] = A\n",
    "        jj_news_dict['News'] = a_tag.text\n",
    "        jj_news_dict['link'] =a_tag['href']\n",
    "        \n",
    "        \n",
    "        \n",
    "        # 디테일 페이지 링크를 들어간다.\n",
    "        detail_resp = requests.get(jj_news_dict['link'])\n",
    "        detail_soup = BeautifulSoup(detail_resp.content,'html.parser')\n",
    "         \n",
    "        p_list = detail_soup.find('article').find_all('p')\n",
    "        p_str = \"\"\n",
    "        for p in p_list:\n",
    "            p_str += str(p)\n",
    "        jj_news_dict['body'] = p_str  \n",
    "            \n",
    "        \n",
    "        jj_news_list.append(jj_news_dict)\n",
    "   \n",
    "    \n",
    "print(jj_news_list)"
   ]
  },
  {
   "cell_type": "code",
   "execution_count": null,
   "metadata": {},
   "outputs": [],
   "source": [
    "######## 리스트에 img가 있으면 저장 없으면 pass########\n",
    "\n",
    "\n",
    "jj_news_img_url=[]\n",
    "\n",
    "for i in jj_news_list:\n",
    "    if len(i)==5:\n",
    "        M = i['img']\n",
    "        jj_news_img_url.append(M)\n",
    "        \n",
    "    else:\n",
    "        pass\n",
    "        \n",
    "print(jj_news_img_url)"
   ]
  },
  {
   "cell_type": "code",
   "execution_count": null,
   "metadata": {},
   "outputs": [],
   "source": [
    "########이미지 파일 저장하기############\n",
    "\n",
    "folder_name='image/'\n",
    "for k in jj_news_img_url:\n",
    "    resp_2 = requests.get(k)\n",
    "    filename = k.split('/')[-1] \n",
    "    with open(folder_name+filename, 'wb') as f:\n",
    "        f.write(resp_2.content)"
   ]
  },
  {
   "cell_type": "markdown",
   "metadata": {},
   "source": [
    "# ZD 뉴스 "
   ]
  },
  {
   "cell_type": "code",
   "execution_count": null,
   "metadata": {},
   "outputs": [],
   "source": [
    "ZD_news_url = 'https://search.zdnet.co.kr/'\n",
    "\n",
    "# 여러 페이지를 크롤링하기 위한 함수 \n",
    "ZD_news_list = []\n",
    "for x in range(1,5):\n",
    "    start_var = 1\n",
    "    params = dict(\n",
    "        kwd = '금융권 인공지능',\n",
    "        pageno=x\n",
    "\n",
    "    )\n",
    "    resp = requests.get(ZD_news_url, params = params)\n",
    "    soup = BeautifulSoup(resp.content,'html.parser')\n",
    "    section_contents = soup.find('section', class_='news_box')\n",
    "    new_section = []\n",
    "    \n",
    "    for content in section_contents.contents:\n",
    "        if not str(content).strip():\n",
    "            continue\n",
    "        new_section.append(content)\n",
    "\n",
    "        \n",
    "####뉴스제목 / 내용 / 링크 / 이미지파일#####         \n",
    "    for i in new_section:\n",
    "        ZD_news_dict = {}\n",
    "        \n",
    "        a_tag = i.find('div').find_next('div').find('a').find('h3')\n",
    "        b_tag = i.find('div').find_next('div').find('a').find('p')\n",
    "        c_tag = i.find('div').find('a')\n",
    "        \n",
    "\n",
    "##이미지가 있는 파일 / 없는 파일 구분\n",
    "        \n",
    "        if len(c_tag.find_all('img'))==1:               \n",
    "                B = c_tag.find('img')['src']\n",
    "        else:\n",
    "            pass\n",
    "            \n",
    "\n",
    "        \n",
    "        ZD_news_dict['Summary']= b_tag.text\n",
    "        ZD_news_dict['News']= a_tag.text\n",
    "        ZD_news_dict['img'] = B\n",
    "        ZD_news_dict['link'] = c_tag['href']\n",
    "\n",
    "    \n",
    "        ZD_news_list.append(ZD_news_dict)\n",
    "        \n",
    "ZD_news_list"
   ]
  },
  {
   "cell_type": "code",
   "execution_count": null,
   "metadata": {},
   "outputs": [],
   "source": [
    "from pprint import pprint\n",
    "pprint(ZD_news_list)"
   ]
  },
  {
   "cell_type": "code",
   "execution_count": null,
   "metadata": {},
   "outputs": [],
   "source": [
    "########이미지 파일리스트 만들기############\n",
    "\n",
    "ZD_news_img_url=[]\n",
    "\n",
    "for i in ZD_news_list:\n",
    "        M = i['img']\n",
    "        ZD_news_img_url.append(M)\n",
    "\n",
    "\n",
    "print(ZD_news_img_url)\n",
    "   "
   ]
  },
  {
   "cell_type": "code",
   "execution_count": null,
   "metadata": {},
   "outputs": [],
   "source": [
    "len(ZD_news_img_url)"
   ]
  },
  {
   "cell_type": "code",
   "execution_count": null,
   "metadata": {},
   "outputs": [],
   "source": [
    "#######'' 공백인 이미지파일##########################\n",
    "ZD_news_img_url[8]"
   ]
  },
  {
   "cell_type": "code",
   "execution_count": null,
   "metadata": {},
   "outputs": [],
   "source": [
    "ZD_news_img_url"
   ]
  },
  {
   "cell_type": "code",
   "execution_count": null,
   "metadata": {},
   "outputs": [],
   "source": [
    "########공백 제거하고 이미지 파일리스트 만들기############\n",
    "\n",
    "new_ZD_news_img_url = []\n",
    "\n",
    "for content in ZD_news_img_url:\n",
    "    if not str(content).strip():\n",
    "        continue\n",
    "    new_ZD_news_img_url.append(content)\n",
    "    "
   ]
  },
  {
   "cell_type": "code",
   "execution_count": null,
   "metadata": {},
   "outputs": [],
   "source": [
    "new_ZD_news_img_url"
   ]
  },
  {
   "cell_type": "code",
   "execution_count": null,
   "metadata": {},
   "outputs": [],
   "source": [
    "len(new_ZD_news_img_url)"
   ]
  },
  {
   "cell_type": "code",
   "execution_count": null,
   "metadata": {},
   "outputs": [],
   "source": [
    "########이미지 파일 저장하기############\n",
    "\n",
    "folder_name='imagee/'\n",
    "\n",
    "for i in new_ZD_news_img_url:\n",
    "    resp_3 = requests.get(i)\n",
    "    filename = i.split('/')[-1]\n",
    "    with open(folder_name+filename,'wb') as f:\n",
    "        f.write(resp_3.content)"
   ]
  },
  {
   "cell_type": "code",
   "execution_count": null,
   "metadata": {},
   "outputs": [],
   "source": []
  },
  {
   "cell_type": "code",
   "execution_count": null,
   "metadata": {},
   "outputs": [],
   "source": []
  }
 ],
 "metadata": {
  "kernelspec": {
   "display_name": "Python 3",
   "language": "python",
   "name": "python3"
  },
  "language_info": {
   "codemirror_mode": {
    "name": "ipython",
    "version": 3
   },
   "file_extension": ".py",
   "mimetype": "text/x-python",
   "name": "python",
   "nbconvert_exporter": "python",
   "pygments_lexer": "ipython3",
   "version": "3.6.8"
  }
 },
 "nbformat": 4,
 "nbformat_minor": 2
}
