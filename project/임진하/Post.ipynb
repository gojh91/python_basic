{
 "cells": [
  {
   "cell_type": "code",
   "execution_count": 1,
   "metadata": {},
   "outputs": [],
   "source": [
    "from selenium import webdriver\n",
    "from selenium.webdriver.chrome.options import Options\n",
    "import time\n",
    "import win32api, win32con, win32gui\n",
    "import os"
   ]
  },
  {
   "cell_type": "code",
   "execution_count": 7,
   "metadata": {},
   "outputs": [],
   "source": [
    "def make_url(query):\n",
    "    readurl = 'http://service.epost.go.kr/trace.RetrieveRegiPrclDeliv.postal?sid1='\n",
    "    return readurl + query"
   ]
  },
  {
   "cell_type": "code",
   "execution_count": 6,
   "metadata": {},
   "outputs": [],
   "source": [
    "class crawler():\n",
    "    def __init__(self):\n",
    "        self.options = Options()\n",
    "        self.options.add_argument(\"window-size=848x1500\")\n",
    "        self.driver = webdriver.Chrome(\"C:\\\\Users\\\\student\\\\Downloads\\\\chromedriver_win32\\\\chromedriver.exe\", self.options)\n",
    "\n",
    "    def save_screenshot(self, query, out_dir):\n",
    "        url = make_url(query)\n",
    "        self.driver.get(url)\n",
    "        self.driver.save_screenshot(out_dir + \"/\"+query + \".png\")\n",
    "\n",
    "    def kill(self):\n",
    "        self.driver.quit()\n",
    "\n",
    "    def save_screenshot_withhout_masking(self, query, out_dir, key1, key2):\n",
    "        url = make_url(query)\n",
    "        self.driver.get(url)\n",
    "        if not self.unlock_masking(key1, key2):\n",
    "            return False\n",
    "        redbox_based_awake()\n",
    "        self.driver.save_screenshot(out_dir + \"/\"+query + \".png\")\n",
    "        return True\n",
    "\n",
    "    def unlock_masking(self, key1, key2):\n",
    "        button_location = (650, 170)\n",
    "        time.sleep(5)\n",
    "        key1_location = (185, 235)\n",
    "        key2_location = (185, 263)\n",
    "        popup_ok_location = (210, 310)\n",
    "\n",
    "        click(button_location)\n",
    "        redbox_based_sleep()\n",
    "        click(key1_location)\n",
    "        type_in(key1)\n",
    "        click(key2_location)\n",
    "        type_in(key2)\n",
    "        time.sleep(0.1)\n",
    "        click(popup_ok_location)\n",
    "        if kill_error_page():\n",
    "            return False\n",
    "        return True"
   ]
  },
  {
   "cell_type": "code",
   "execution_count": 2,
   "metadata": {},
   "outputs": [],
   "source": [
    "def click(location):\n",
    "    x, y = location\n",
    "    win32api.SetCursorPos(location)\n",
    "    win32api.mouse_event(win32con.MOUSEEVENTF_LEFTDOWN, x, y, 0, 0)\n",
    "    win32api.mouse_event(win32con.MOUSEEVENTF_LEFTUP, x, y, 0, 0)"
   ]
  },
  {
   "cell_type": "code",
   "execution_count": 3,
   "metadata": {},
   "outputs": [],
   "source": [
    "def type_in(string):\n",
    "    command = 'echo ' + string.strip() + '| clip'\n",
    "    os.system(command)\n",
    "    win32api.keybd_event(0x11, 0, 0x00, 0)\n",
    "    win32api.keybd_event(0x56, 0, 0x00, 0)\n",
    "    win32api.keybd_event(0x11, 0, 0x02, 0)\n",
    "    win32api.keybd_event(0x56, 0, 0x02, 0)"
   ]
  },
  {
   "cell_type": "code",
   "execution_count": 4,
   "metadata": {},
   "outputs": [],
   "source": [
    "def get_color(location):\n",
    "    x, y = location\n",
    "    return hex(win32gui.GetPixel(win32gui.GetDC(win32gui.GetActiveWindow()), x, y))\n",
    "\n",
    "\n",
    "def redbox_based_sleep():\n",
    "    redbox_location = (385, 123)\n",
    "    while get_color(redbox_location) != \"0x392ddd\":\n",
    "        time.sleep(0.01)\n",
    "\n",
    "\n",
    "def redbox_based_awake():\n",
    "    redbox_location = (385, 123)\n",
    "    while get_color(redbox_location) == \"0x392ddd\":\n",
    "        time.sleep(0.1)"
   ]
  },
  {
   "cell_type": "code",
   "execution_count": 5,
   "metadata": {},
   "outputs": [],
   "source": [
    "def kill_error_page():\n",
    "    error_button = (390, 170)\n",
    "    quit_button = (400, 10)\n",
    "    time.sleep(1)\n",
    "    if get_color(error_button) != \"0xffffff\":\n",
    "        click(quit_button)\n",
    "        return True\n",
    "    return False"
   ]
  }
 ],
 "metadata": {
  "kernelspec": {
   "display_name": "Python 3",
   "language": "python",
   "name": "python3"
  },
  "language_info": {
   "codemirror_mode": {
    "name": "ipython",
    "version": 3
   },
   "file_extension": ".py",
   "mimetype": "text/x-python",
   "name": "python",
   "nbconvert_exporter": "python",
   "pygments_lexer": "ipython3",
   "version": "3.6.8"
  }
 },
 "nbformat": 4,
 "nbformat_minor": 2
}
