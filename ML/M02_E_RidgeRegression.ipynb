{
 "cells": [
  {
   "cell_type": "markdown",
   "metadata": {},
   "source": [
    "# RidgeRegression_boston"
   ]
  },
  {
   "cell_type": "code",
   "execution_count": 19,
   "metadata": {},
   "outputs": [],
   "source": [
    "from mglearn.datasets import load_extended_boston\n",
    "from sklearn.linear_model import LinearRegression, Ridge\n",
    "from sklearn.model_selection import train_test_split\n",
    "import matplotlib.pyplot as plt\n",
    "import pandas as pd\n",
    "import numpy as np"
   ]
  },
  {
   "cell_type": "code",
   "execution_count": 20,
   "metadata": {},
   "outputs": [],
   "source": [
    "X, y= load_extended_boston()"
   ]
  },
  {
   "cell_type": "code",
   "execution_count": 22,
   "metadata": {},
   "outputs": [],
   "source": [
    "X_train, X_test, y_train, y_test = train_test_split(X, y, test_size=0.2, shuffle=True)"
   ]
  },
  {
   "cell_type": "code",
   "execution_count": 23,
   "metadata": {},
   "outputs": [
    {
     "name": "stdout",
     "output_type": "stream",
     "text": [
      "0.9279331121556408 0.8951239566280277\n"
     ]
    }
   ],
   "source": [
    "# Linear Regression 클래스 객체 생성\n",
    "model_lin = LinearRegression()\n",
    "model_lin = model_lin.fit(X_train, y_train)\n",
    "print(model_lin.score(X_train, y_train), model_lin.score(X_test, y_test))"
   ]
  },
  {
   "cell_type": "code",
   "execution_count": 24,
   "metadata": {},
   "outputs": [
    {
     "name": "stdout",
     "output_type": "stream",
     "text": [
      "weight:  [ -4.27100229  -6.00949337  -2.96983309   4.19921098   6.40825228\n",
      "  18.45771078   6.40544774 -11.20903918  13.77481731   0.17822674\n",
      "  -1.50094937  12.26158245   1.66070555   7.55652128   0.02569795\n",
      "  -2.31282691   9.39854904  -0.55185214   3.55015302  -3.1279534\n",
      "  -1.78583638  -5.22417896  -4.23298319  -4.01244582  -1.44373582\n",
      "   2.7875439    4.12833868  -4.0662752    3.92420057  -0.30576022\n",
      "  10.5016832   -0.50813555  -4.60797261  -2.04229394   8.75978483\n",
      "   2.74176269  -2.82517777  -4.70976467   2.25420384   3.64032144\n",
      "   9.71163715  -1.05420375   4.13805639  -4.56661768   3.40925589\n",
      "   2.39879384  -4.94573548   2.60274252  -9.50692413   4.19921098\n",
      " -14.04602944 -14.79645623   8.61490608  -3.96664238   3.90636991\n",
      "   3.14009097  -2.7519923    0.75330907  -7.33072403  -2.65483468\n",
      "  -5.92737775 -10.52520133  -0.34731145  -4.81390514  -1.71568774\n",
      "  -5.03873539  -0.46522056   2.61840575  22.23356848  -4.07900157\n",
      "   4.46259311 -13.66235515 -17.72234125 -16.56396135   9.03306572\n",
      "  -3.80728735   3.4305561    0.46351499  11.16708276  -1.8695254\n",
      "  -1.97652687  -9.68892664 -10.76136872  13.56076023 -10.59269846\n",
      " -10.61121252  -0.19198573  -8.0215942    6.08967905  -7.12487965\n",
      "   1.90232488   6.50003906   1.23386737 -18.16633588  -3.30539133\n",
      "  18.09738567  -2.39595475 -13.24924562   2.54544475   0.39709686\n",
      "  -1.03538994  -0.88103391 -10.05538504  22.63483184]\n",
      "bias:  7.1850013843054015\n"
     ]
    }
   ],
   "source": [
    "model_rid = Ridge(alpha=0.1) # fit_intercept = 상수항 유무 결정\n",
    "\n",
    "# fit 메서드로 모형 추정 (오그멘테이션은 자동으로 수행)\n",
    "model__rid = model_rid.fit(X_train, y_train)\n",
    "\n",
    "print('weight: ', model__rid.coef_)\n",
    "print('bias: ', model__rid.intercept_)"
   ]
  },
  {
   "cell_type": "code",
   "execution_count": 25,
   "metadata": {},
   "outputs": [
    {
     "data": {
      "text/plain": [
       "0.899202042393445"
      ]
     },
     "execution_count": 25,
     "metadata": {},
     "output_type": "execute_result"
    }
   ],
   "source": [
    "model_rid.score(X_train, y_train)"
   ]
  },
  {
   "cell_type": "code",
   "execution_count": 26,
   "metadata": {},
   "outputs": [
    {
     "data": {
      "text/plain": [
       "0.8892580594005037"
      ]
     },
     "execution_count": 26,
     "metadata": {},
     "output_type": "execute_result"
    }
   ],
   "source": [
    "model_rid.score(X_test, y_test)"
   ]
  },
  {
   "cell_type": "code",
   "execution_count": null,
   "metadata": {},
   "outputs": [],
   "source": []
  }
 ],
 "metadata": {
  "kernelspec": {
   "display_name": "Python 3",
   "language": "python",
   "name": "python3"
  },
  "language_info": {
   "codemirror_mode": {
    "name": "ipython",
    "version": 3
   },
   "file_extension": ".py",
   "mimetype": "text/x-python",
   "name": "python",
   "nbconvert_exporter": "python",
   "pygments_lexer": "ipython3",
   "version": "3.7.1"
  }
 },
 "nbformat": 4,
 "nbformat_minor": 2
}
