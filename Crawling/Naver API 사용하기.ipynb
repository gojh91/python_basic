{
 "cells": [
  {
   "cell_type": "code",
   "execution_count": 1,
   "metadata": {},
   "outputs": [],
   "source": [
    "import requests\n"
   ]
  },
  {
   "cell_type": "code",
   "execution_count": 2,
   "metadata": {},
   "outputs": [],
   "source": [
    "AUTH_URL = 'https://nid.naver.com/oauth2.0/authorize'\n",
    "\n",
    "CLIENT_ID = 'uoFV5VIu1zU_HERWGGN4'\n",
    "CLIENT_SECRET = 'jT20B_GYQ1'\n",
    "\n",
    "redirect_uri = 'http://127.0.0.1:8080'\n",
    "\n",
    "params = {\n",
    "    'client_id': CLIENT_ID,\n",
    "    'response_type': 'code',\n",
    "    'redirect_uri': redirect_uri,\n",
    "    'state': 'abcde12345'\n",
    "}\n",
    "# ?client_id={클라이언트 아이디}&\n",
    "# response_type=code&\n",
    "# redirect_uri={개발자 센터에 등록한 콜백 URL(URL 인코딩)}\n",
    "# &state={상태 토큰}\n"
   ]
  },
  {
   "cell_type": "code",
   "execution_count": 3,
   "metadata": {},
   "outputs": [],
   "source": [
    "resp = requests.get(AUTH_URL, params)"
   ]
  },
  {
   "cell_type": "code",
   "execution_count": 4,
   "metadata": {
    "scrolled": true
   },
   "outputs": [
    {
     "data": {
      "text/plain": [
       "'https://nid.naver.com/oauth2.0/authorize?client_id=uoFV5VIu1zU_HERWGGN4&response_type=code&redirect_uri=http%3A%2F%2F127.0.0.1%3A8080&state=abcde12345'"
      ]
     },
     "execution_count": 4,
     "metadata": {},
     "output_type": "execute_result"
    }
   ],
   "source": [
    "resp.url"
   ]
  },
  {
   "cell_type": "code",
   "execution_count": 5,
   "metadata": {},
   "outputs": [],
   "source": [
    "# ?code=7lZ2rIpd9hIoEwBbTF\n",
    "# state=abcde12345"
   ]
  },
  {
   "cell_type": "code",
   "execution_count": 10,
   "metadata": {},
   "outputs": [],
   "source": [
    "TOKEN_URL = 'https://nid.naver.com/oauth2.0/token'\n",
    "params = {\n",
    "    'client_id': CLIENT_ID,\n",
    "    'client_secret': CLIENT_SECRET,\n",
    "    'grant_type': 'authorization_code',\n",
    "    'state': 'abcde12345',\n",
    "    'code': '7lZ2rIpd9hIoEwBbTF'\n",
    "}\n",
    "\n",
    "# ?client_id={클라이언트 아이디}\n",
    "# &client_secret={클라이언트 시크릿}\n",
    "# &grant_type=authorization_code\n",
    "# &state={상태 토큰}\n",
    "# &code={인증 코드}"
   ]
  },
  {
   "cell_type": "code",
   "execution_count": 11,
   "metadata": {},
   "outputs": [],
   "source": [
    "resp = requests.get(TOKEN_URL, params)"
   ]
  },
  {
   "cell_type": "code",
   "execution_count": 12,
   "metadata": {},
   "outputs": [
    {
     "data": {
      "text/plain": [
       "<Response [200]>"
      ]
     },
     "execution_count": 12,
     "metadata": {},
     "output_type": "execute_result"
    }
   ],
   "source": [
    "resp"
   ]
  },
  {
   "cell_type": "code",
   "execution_count": 13,
   "metadata": {
    "scrolled": true
   },
   "outputs": [
    {
     "data": {
      "text/plain": [
       "{'access_token': 'AAAAOisAWYj-7HubDoyWNcrXuSToYDiKFtAXE97c8-V-G3QL3-qWk6H6lAcOshDGzRaoTmLzVjh8oEpJJ7p_lSY_ML0',\n",
       " 'refresh_token': '40P9Dov8095rN2mt9vvyKFGIQIp3OJcqeOoR7XXk9AnQa5KXbl4zeTp58KQisZDKRLvDNjCvosgv2fyhlVdlLJIphtHFyQukQdFUnipQwta5EKisBoisH29hRdx1cksipGcpX',\n",
       " 'token_type': 'bearer',\n",
       " 'expires_in': '3600'}"
      ]
     },
     "execution_count": 13,
     "metadata": {},
     "output_type": "execute_result"
    }
   ],
   "source": [
    "json_text = resp.json()\n",
    "json_text"
   ]
  },
  {
   "cell_type": "code",
   "execution_count": 14,
   "metadata": {},
   "outputs": [],
   "source": [
    "access_token = json_text['access_token']\n",
    "refresh_token = json_text['refresh_token']\n",
    "token_type = json_text['token_type']\n",
    "expires_in = json_text['expires_in']"
   ]
  },
  {
   "cell_type": "code",
   "execution_count": 15,
   "metadata": {},
   "outputs": [],
   "source": [
    "PROFILE_URL = 'https://openapi.naver.com/v1/nid/me'\n",
    "\n",
    "headers = {\n",
    "    'Authorization': \"{} {}\".format(token_type, access_token)\n",
    "}\n"
   ]
  },
  {
   "cell_type": "code",
   "execution_count": 16,
   "metadata": {},
   "outputs": [],
   "source": [
    "resp = requests.get(PROFILE_URL, headers=headers)"
   ]
  },
  {
   "cell_type": "code",
   "execution_count": 17,
   "metadata": {},
   "outputs": [
    {
     "data": {
      "text/plain": [
       "<Response [200]>"
      ]
     },
     "execution_count": 17,
     "metadata": {},
     "output_type": "execute_result"
    }
   ],
   "source": [
    "resp"
   ]
  },
  {
   "cell_type": "code",
   "execution_count": 18,
   "metadata": {},
   "outputs": [
    {
     "data": {
      "text/plain": [
       "{'resultcode': '00',\n",
       " 'message': 'success',\n",
       " 'response': {'id': '158790302',\n",
       "  'gender': 'M',\n",
       "  'email': 'pierrelife@naver.com',\n",
       "  'name': '신윤수'}}"
      ]
     },
     "execution_count": 18,
     "metadata": {},
     "output_type": "execute_result"
    }
   ],
   "source": [
    "resp.json()"
   ]
  },
  {
   "cell_type": "code",
   "execution_count": 19,
   "metadata": {},
   "outputs": [],
   "source": [
    "cgr_list_url = \"https://openapi.naver.com/blog/listCategory.json\"\n",
    "post_url = \"https://openapi.naver.com/blog/writePost.json\"\n",
    "\n"
   ]
  },
  {
   "cell_type": "code",
   "execution_count": 20,
   "metadata": {},
   "outputs": [
    {
     "data": {
      "text/plain": [
       "<Response [200]>"
      ]
     },
     "execution_count": 20,
     "metadata": {},
     "output_type": "execute_result"
    }
   ],
   "source": [
    "resp = requests.get(cgr_list_url, headers=headers)\n",
    "resp"
   ]
  },
  {
   "cell_type": "code",
   "execution_count": 21,
   "metadata": {},
   "outputs": [
    {
     "data": {
      "text/plain": [
       "{'message': {'@type': 'response',\n",
       "  '@service': 'korea.naverkoreaservice.community.blog',\n",
       "  '@version': '1.0.0',\n",
       "  'result': [{'name': '게시판',\n",
       "    'categoryNo': 1,\n",
       "    'isOpen': True,\n",
       "    'subCategories': []}]}}"
      ]
     },
     "execution_count": 21,
     "metadata": {},
     "output_type": "execute_result"
    }
   ],
   "source": [
    "resp.json()"
   ]
  },
  {
   "cell_type": "code",
   "execution_count": 22,
   "metadata": {},
   "outputs": [],
   "source": [
    "title = \"신나는 REST API\"\n",
    "contents = \"신나는 Python 그리고 <b>신나는 Crawling</b>\""
   ]
  },
  {
   "cell_type": "code",
   "execution_count": 23,
   "metadata": {},
   "outputs": [],
   "source": [
    "data = {\n",
    "    'title': title,\n",
    "    'contents': contents\n",
    "}"
   ]
  },
  {
   "cell_type": "code",
   "execution_count": 24,
   "metadata": {},
   "outputs": [],
   "source": [
    "resp = requests.post(post_url, headers=headers, data=data)"
   ]
  },
  {
   "cell_type": "code",
   "execution_count": 25,
   "metadata": {},
   "outputs": [
    {
     "data": {
      "text/plain": [
       "<Response [200]>"
      ]
     },
     "execution_count": 25,
     "metadata": {},
     "output_type": "execute_result"
    }
   ],
   "source": [
    "resp"
   ]
  },
  {
   "cell_type": "code",
   "execution_count": 27,
   "metadata": {},
   "outputs": [
    {
     "data": {
      "text/plain": [
       "{'message': {'@type': 'response',\n",
       "  '@service': 'korea.naverkoreaservice.community.blog',\n",
       "  '@version': '1.0.0',\n",
       "  'result': {'blogId': 'pierrelife',\n",
       "   'logNo': 221560087357,\n",
       "   'postUrl': 'http://blog.naver.com/pierrelife/221560087357'}}}"
      ]
     },
     "execution_count": 27,
     "metadata": {},
     "output_type": "execute_result"
    }
   ],
   "source": [
    "resp.json()"
   ]
  },
  {
   "cell_type": "code",
   "execution_count": 28,
   "metadata": {},
   "outputs": [],
   "source": [
    "refresh_token_url = 'https://nid.naver.com/oauth2.0/token'\n",
    "params = {\n",
    "    'grant_type': 'refresh_token',\n",
    "    'client_id': CLIENT_ID,\n",
    "    'client_secret': CLIENT_SECRET,\n",
    "    'refresh_token': refresh_token\n",
    "}"
   ]
  },
  {
   "cell_type": "code",
   "execution_count": 29,
   "metadata": {},
   "outputs": [],
   "source": [
    "resp = requests.get(refresh_token_url, params)"
   ]
  },
  {
   "cell_type": "code",
   "execution_count": 30,
   "metadata": {},
   "outputs": [
    {
     "data": {
      "text/plain": [
       "b'{\"access_token\":\"AAAAOjmMSxtGm79pvtn5hDJ81MF7uot/bDpki3w0UK7zON8bRNs2sAFDR0mPYwM/NxGBgs4KYBGuMthRxCtmPAJdFQA=\",\"refresh_token\":\"40P9Dov8095rN2mt9vvyKFGIQIp3OJcqeOoR7XXk9AnQa5KXbl4zeTp58KQisZDKRLvDNjCvosgv2fyhlVdlLJIphtHFyQukQdFUnipQwta5EKisBoisH29hRdx1cksipGcpX\",\"token_type\":\"bearer\",\"expires_in\":\"3600\"}'"
      ]
     },
     "execution_count": 30,
     "metadata": {},
     "output_type": "execute_result"
    }
   ],
   "source": [
    "resp.content"
   ]
  },
  {
   "cell_type": "code",
   "execution_count": 31,
   "metadata": {},
   "outputs": [
    {
     "data": {
      "text/plain": [
       "{'access_token': 'AAAAOjmMSxtGm79pvtn5hDJ81MF7uot/bDpki3w0UK7zON8bRNs2sAFDR0mPYwM/NxGBgs4KYBGuMthRxCtmPAJdFQA=',\n",
       " 'refresh_token': '40P9Dov8095rN2mt9vvyKFGIQIp3OJcqeOoR7XXk9AnQa5KXbl4zeTp58KQisZDKRLvDNjCvosgv2fyhlVdlLJIphtHFyQukQdFUnipQwta5EKisBoisH29hRdx1cksipGcpX',\n",
       " 'token_type': 'bearer',\n",
       " 'expires_in': '3600'}"
      ]
     },
     "execution_count": 31,
     "metadata": {},
     "output_type": "execute_result"
    }
   ],
   "source": [
    "resp.json()"
   ]
  },
  {
   "cell_type": "code",
   "execution_count": null,
   "metadata": {},
   "outputs": [],
   "source": []
  }
 ],
 "metadata": {
  "kernelspec": {
   "display_name": "Python 3",
   "language": "python",
   "name": "python3"
  },
  "language_info": {
   "codemirror_mode": {
    "name": "ipython",
    "version": 3
   },
   "file_extension": ".py",
   "mimetype": "text/x-python",
   "name": "python",
   "nbconvert_exporter": "python",
   "pygments_lexer": "ipython3",
   "version": "3.6.8"
  }
 },
 "nbformat": 4,
 "nbformat_minor": 2
}
