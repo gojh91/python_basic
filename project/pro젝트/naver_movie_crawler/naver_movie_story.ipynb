{
 "cells": [
  {
   "cell_type": "code",
   "execution_count": 1,
   "metadata": {},
   "outputs": [],
   "source": [
    "import pprint\n",
    "import requests\n",
    "from bs4 import BeautifulSoup"
   ]
  },
  {
   "cell_type": "code",
   "execution_count": 2,
   "metadata": {},
   "outputs": [
    {
     "name": "stdout",
     "output_type": "stream",
     "text": [
      "영화 제목: 설국열차\n",
      " 기상 이변으로 모든 것이 꽁꽁 얼어붙은 지구. 살아남은 사람들을 태운 기차 한 대가 끝없이 궤도를 달리고 있다. 춥고 배고픈 사람들이 바글대는 빈민굴 같은 맨 뒤쪽의 꼬리칸, 그리고 선택된 사람들이 술과 마약까지 즐기며 호화로운 객실을 뒹굴고 있는 앞쪽칸. 열차 안의 세상은 결코 평등하지 않다.   기차가 달리기 시작한 17년 째, 꼬리칸의 젊은 지도자 커티스는 긴 세월 준비해 온 폭동을 일으킨다. 기차의 심장인 엔진을 장악, 꼬리칸을 해방시키고 마침내 기차 전체를 해방 시키기 위해 절대권력자 윌포드가 도사리고 있는 맨 앞쪽 엔진칸을 향해 질주하는 커티스와 꼬리칸 사람들. 그들 앞에 예기치 못한 상황들이 기다리고 있는데…\n"
     ]
    }
   ],
   "source": [
    "search_url = 'https://search.naver.com/search.naver'\n",
    "query = input('영화 제목: ')\n",
    "params = {\n",
    "    'where' : 'nexearch',\n",
    "    'query' :  query\n",
    "}\n",
    "\n",
    "i = 99\n",
    "try:\n",
    "    search_resp = requests.get(search_url,params = params)\n",
    "    search_soup = BeautifulSoup(search_resp.content)\n",
    "\n",
    "    search_movie_url = search_soup.find('div',class_='info_main').find('h3').a['href']\n",
    "    movie_code = ''\n",
    "    for idx,val in enumerate(search_movie_url):\n",
    "        if val == '=':\n",
    "            i = idx\n",
    "        if idx > i:\n",
    "            movie_code += val\n",
    "    naver_movie = 'https://movie.naver.com/movie/bi/mi/basic.nhn?'\n",
    "    params ={\n",
    "        'code' : movie_code\n",
    "    }\n",
    "\n",
    "    resp = requests.get(naver_movie, params=params)\n",
    "    soup = BeautifulSoup(resp.content, 'html.parser')\n",
    "\n",
    "    story_tag = soup.find('p', class_='con_tx').text\n",
    "    story_name = soup.find('h3', class_='h_movie').find('a').text\n",
    "    story_text =  \"\"\n",
    "    story_split = story_tag.split('\\r')\n",
    "    for i in story_split:\n",
    "        story_text += \" \"+i\n",
    "\n",
    "    new_dict= {}\n",
    "    new_dict['제목'] = story_name\n",
    "    new_dict['줄거리'] = story_text\n",
    "    \n",
    "    print(new_dict['줄거리'])\n",
    "except Exception as e:\n",
    "    print('영화제목을 제대로 쳐주세요')"
   ]
  }
 ],
 "metadata": {
  "kernelspec": {
   "display_name": "Python 3",
   "language": "python",
   "name": "python3"
  },
  "language_info": {
   "codemirror_mode": {
    "name": "ipython",
    "version": 3
   },
   "file_extension": ".py",
   "mimetype": "text/x-python",
   "name": "python",
   "nbconvert_exporter": "python",
   "pygments_lexer": "ipython3",
   "version": "3.7.3"
  }
 },
 "nbformat": 4,
 "nbformat_minor": 2
}
