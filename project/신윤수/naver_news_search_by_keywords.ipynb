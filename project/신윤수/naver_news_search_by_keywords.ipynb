{
 "cells": [
  {
   "cell_type": "markdown",
   "metadata": {},
   "source": [
    "# 네이버 키워드로 뉴스 수집하기 "
   ]
  },
  {
   "cell_type": "code",
   "execution_count": 2,
   "metadata": {},
   "outputs": [],
   "source": [
    "import requests\n",
    "from bs4 import BeautifulSoup"
   ]
  },
  {
   "cell_type": "code",
   "execution_count": 3,
   "metadata": {},
   "outputs": [],
   "source": [
    "NAVER_SEARCH_URL = \"https://search.naver.com/search.naver\"\n",
    "query = \"무역전쟁\"\n",
    "params = {\n",
    "    'where': 'news',\n",
    "    'query': query\n",
    "}\n"
   ]
  },
  {
   "cell_type": "code",
   "execution_count": 4,
   "metadata": {},
   "outputs": [
    {
     "data": {
      "text/plain": [
       "200"
      ]
     },
     "execution_count": 4,
     "metadata": {},
     "output_type": "execute_result"
    }
   ],
   "source": [
    "resp = requests.get(NAVER_SEARCH_URL, params=params)\n",
    "resp.status_code"
   ]
  },
  {
   "cell_type": "markdown",
   "metadata": {},
   "source": [
    "## soup만들기"
   ]
  },
  {
   "cell_type": "code",
   "execution_count": 5,
   "metadata": {},
   "outputs": [],
   "source": [
    "soup = BeautifulSoup(resp.content, 'html.parser')\n"
   ]
  },
  {
   "cell_type": "code",
   "execution_count": 6,
   "metadata": {},
   "outputs": [],
   "source": [
    "ul_contents = soup.find('ul', class_='type01')"
   ]
  },
  {
   "cell_type": "code",
   "execution_count": 7,
   "metadata": {},
   "outputs": [
    {
     "data": {
      "text/plain": [
       "[' ',\n",
       " <li id=\"sp_nws1\"> <div class=\"thumb\"><a class=\"sp_thmb thmb80\" href=\"http://yna.kr/AKR20190604083500504?did=1195m\" onclick=\"return goOtherCR(this, 'a=nws*h.img&amp;r=1&amp;i=880000D8_000000000000000010867769&amp;g=001.0010867769&amp;u='+urlencode(this.href));\" target=\"_blank\"><img alt='中 외교당국자 \"미중 ' class=\"\" height=\"80\" onerror=\"this.parentNode.style.display='none';\" src=\"https://search.pstatic.net/common/?src=https%3A%2F%2Fimgnews.pstatic.net%2Fimage%2Forigin%2F001%2F2019%2F06%2F04%2F10867769.jpg&amp;type=ofullfill80_80_q75_re2\" width=\"80\"/><span class=\"thmb_v\"></span></a></div> <dl> <dt><a class=\"_sp_each_title\" href=\"http://yna.kr/AKR20190604083500504?did=1195m\" onclick=\"return goOtherCR(this, 'a=nws*h.tit&amp;r=1&amp;i=880000D8_000000000000000010867769&amp;g=001.0010867769&amp;u='+urlencode(this.href));\" target=\"_blank\" title='中 외교당국자 \"미중 무역갈등 속 한국, 올바른 판단 해야\"'>中 외교당국자 \"미중 <strong class=\"hl\">무역</strong>갈등 속 한국, 올바른 판단 해야\"</a></dt> <dd class=\"txt_inline\"><span class=\"_sp_each_source\">연합뉴스<i class=\"sprenew api_ico_pick\">언론사 선정</i></span> <span class=\"bar\"></span> 3시간 전 <span class=\"bar\"></span> <a class=\"_sp_each_url\" href=\"https://news.naver.com/main/read.nhn?mode=LSD&amp;mid=sec&amp;sid1=104&amp;oid=001&amp;aid=0010867769\" onclick=\"return goOtherCR(this, 'a=nws*h.nav&amp;r=1&amp;i=880000D8_000000000000000010867769&amp;u='+urlencode(this.href));\" target=\"_blank\">네이버뉴스</a> <div class=\"scial\" id=\"sp_nws1_base\"> <span class=\"bar\"></span> <a class=\"bt_scial2 naver-splugin\" data-oninitialize=\"splugin_oninitialize('sp_nws1');\" data-style=\"unity-v2\" href=\"#\" onclick=\"goOtherTCR(this, 'a=nws*h.pplugin&amp;r=1&amp;i=880000D8_000000000000000010867769&amp;u='+urlencode(this.href)); return false;\">보내기</a> </div> </dd> <dd>외교가에서는 시 주석이 이달 말 일본 오사카(大阪)에서 열리는 주요 20개국(G20) 정상회의 전후에 한국과 북한을 연달아 방문하는 방안을 검토하고 있으나, 미·중 <strong class=\"hl\">무역전쟁</strong> 악화 등 외교적 문제로 고민에 빠졌다는 이야기가...</dd> <dd> <ul class=\"relation_lst\"> <li> <span class=\"ico_bu\"></span> <a href=\"http://www.hani.co.kr/arti/politics/diplomacy/896565.html\" onclick=\"return goOtherCR(this, 'a=nws*c.tit&amp;r=2&amp;i=88000103_000000000000000002456209&amp;g=028.0002456209&amp;u='+urlencode(this.href));\" target=\"_blank\" title=\"중국 당국자 “미-중 무역전쟁서 한국 올바른 판단해야”\">중국 당국자 “미-중 <strong class=\"hl\">무역전쟁</strong>서 한국 올바른 판단해야”</a> <span class=\"txt_sinfo\"> <span class=\"press\" title=\"한겨레\">한겨레</span> <span class=\"bar\"></span> 3시간 전 <span class=\"bar\"></span><a class=\"_sp_each_url\" href=\"https://news.naver.com/main/read.nhn?mode=LSD&amp;mid=sec&amp;sid1=100&amp;oid=028&amp;aid=0002456209\" onclick=\"return goOtherCR(this, 'a=nws*c.nav&amp;r=2&amp;i=88000103_000000000000000002456209&amp;u='+urlencode(this.href));\" target=\"_blank\">네이버뉴스</a> </span> </li> </ul> </dd> </dl> </li>,\n",
       " ' ',\n",
       " <li id=\"sp_nws3\"> <div class=\"thumb\"><a class=\"sp_thmb thmb80\" href=\"http://www.dt.co.kr/contents.html?article_no=2019060402109957607010&amp;ref=naver\" onclick=\"return goOtherCR(this, 'a=nws*a.img&amp;r=3&amp;i=880000AD_000000000000000002531451&amp;g=029.0002531451&amp;u='+urlencode(this.href));\" target=\"_blank\"><img alt=\"美, 中 `무역백서` 반\" class=\"\" height=\"80\" onerror=\"this.parentNode.style.display='none';\" src=\"https://search.pstatic.net/common/?src=https%3A%2F%2Fimgnews.pstatic.net%2Fimage%2Forigin%2F029%2F2019%2F06%2F04%2F2531451.jpg&amp;type=ofullfill80_80_q75_re2\" width=\"80\"/><span class=\"thmb_v\"></span></a></div> <dl> <dt><a class=\"_sp_each_title\" href=\"http://www.dt.co.kr/contents.html?article_no=2019060402109957607010&amp;ref=naver\" onclick=\"return goOtherCR(this, 'a=nws*a.tit&amp;r=3&amp;i=880000AD_000000000000000002531451&amp;g=029.0002531451&amp;u='+urlencode(this.href));\" target=\"_blank\" title='美, 中 `무역백서` 반박...\"무역전쟁은 중국 탓\"'>美, 中 `무역백서` 반박...\"<strong class=\"hl\">무역전쟁</strong>은 중국 탓\"</a></dt> <dd class=\"txt_inline\"><span class=\"_sp_each_source\">디지털타임스</span> <span class=\"bar\"></span> 3시간 전 <span class=\"bar\"></span> <a class=\"_sp_each_url\" href=\"https://news.naver.com/main/read.nhn?mode=LSD&amp;mid=sec&amp;sid1=104&amp;oid=029&amp;aid=0002531451\" onclick=\"return goOtherCR(this, 'a=nws*a.nav&amp;r=3&amp;i=880000AD_000000000000000002531451&amp;u='+urlencode(this.href));\" target=\"_blank\">네이버뉴스</a> <div class=\"scial\" id=\"sp_nws3_base\"> <span class=\"bar\"></span> <a class=\"bt_scial2 naver-splugin\" data-oninitialize=\"splugin_oninitialize('sp_nws3');\" data-style=\"unity-v2\" href=\"#\" onclick=\"goOtherTCR(this, 'a=nws*a.pplugin&amp;r=3&amp;i=880000AD_000000000000000002531451&amp;u='+urlencode(this.href)); return false;\">보내기</a> </div> </dd> <dd><strong class=\"hl\">무역전쟁</strong> 원인이 미국의 패권 추구에 있다는 중국의 주장에 대해 미국이 정면으로 반박했다. 미 무역대표부(USTR)과 재무부는 3일(현지시간) 공동 성명서를 발표해 중국 상무부가 지난 1일 발표한 '무역백서'의 내용을...</dd> <dd> <ul class=\"relation_lst\"> <li> <span class=\"ico_bu\"></span> <a href=\"http://news.kbs.co.kr/news/view.do?ncd=4214685&amp;ref=A\" onclick=\"return goOtherCR(this, 'a=nws*c.tit&amp;r=4&amp;i=88000114_000000000000000010708444&amp;g=056.0010708444&amp;u='+urlencode(this.href));\" target=\"_blank\" title=\"美 “무역협상 본질·경과 왜곡하는 중국 비난전에 실망”\">美 “<strong class=\"hl\">무역</strong>협상 본질·경과 왜곡하는 중국 비난전에 실망”</a> <span class=\"txt_sinfo\"> <span class=\"press\" title=\"KBS\">KBS</span> <span class=\"bar\"></span> 4시간 전 <span class=\"bar\"></span><a class=\"_sp_each_url\" href=\"https://news.naver.com/main/read.nhn?mode=LSD&amp;mid=sec&amp;sid1=104&amp;oid=056&amp;aid=0010708444\" onclick=\"return goOtherCR(this, 'a=nws*c.nav&amp;r=4&amp;i=88000114_000000000000000010708444&amp;u='+urlencode(this.href));\" target=\"_blank\">네이버뉴스</a> </span> </li> <li> <span class=\"ico_bu\"></span> <a href=\"http://yna.kr/AKR20190604044000009?did=1195m\" onclick=\"return goOtherCR(this, 'a=nws*c.tit&amp;r=5&amp;i=880000D8_000000000000000010867002&amp;g=001.0010867002&amp;u='+urlencode(this.href));\" target=\"_blank\" title='美 \"무역협상 본질·경과 왜곡하는 중국 비난전에 실망\"'>美 \"<strong class=\"hl\">무역</strong>협상 본질·경과 왜곡하는 중국 비난전에 실망\"</a> <span class=\"txt_sinfo\"> <span class=\"press\" title=\"연합뉴스\">연합뉴스</span> <span class=\"bar\"></span> 5시간 전 <span class=\"bar\"></span><a class=\"_sp_each_url\" href=\"https://news.naver.com/main/read.nhn?mode=LSD&amp;mid=sec&amp;sid1=104&amp;oid=001&amp;aid=0010867002\" onclick=\"return goOtherCR(this, 'a=nws*c.nav&amp;r=5&amp;i=880000D8_000000000000000010867002&amp;u='+urlencode(this.href));\" target=\"_blank\">네이버뉴스</a> </span> </li> <li> <span class=\"ico_bu\"></span> <a href=\"https://www.ytn.co.kr/_ln/0104_201906041009013500\" onclick=\"return goOtherCR(this, 'a=nws*c.tit&amp;r=6&amp;i=880000AF_000000000000000001302945&amp;g=052.0001302945&amp;u='+urlencode(this.href));\" target=\"_blank\" title='美 \"무역협상 왜곡하는 中 비난전에 실망\"'>美 \"<strong class=\"hl\">무역</strong>협상 왜곡하는 中 비난전에 실망\"</a> <span class=\"txt_sinfo\"> <span class=\"press\" title=\"YTN\">YTN</span> <span class=\"bar\"></span> 5시간 전 <span class=\"bar\"></span><a class=\"_sp_each_url\" href=\"https://news.naver.com/main/read.nhn?mode=LSD&amp;mid=sec&amp;sid1=104&amp;oid=052&amp;aid=0001302945\" onclick=\"return goOtherCR(this, 'a=nws*c.nav&amp;r=6&amp;i=880000AF_000000000000000001302945&amp;u='+urlencode(this.href));\" target=\"_blank\">네이버뉴스</a> </span> </li> <li> <span class=\"ico_bu\"></span> <a href=\"http://www.fntimes.com/html/view.php?ud=201906040917479266711237d2fe_18\" onclick=\"return goOtherCR(this, 'a=nws*d.tit&amp;r=7&amp;i=88000405_000000000000000000154744&amp;g=5040.0000154744&amp;u='+urlencode(this.href));\" target=\"_blank\" title=\"美, 中백서에 첫 반응 “무역협상 본질 왜곡해 실망”(상보)\">美, 中백서에 첫 반응 “<strong class=\"hl\">무역</strong>협상 본질 왜곡해 실망”(상보)</a> <span class=\"txt_sinfo\"> <span class=\"press\" title=\"한국금융신문\">한국금융신문</span> <span class=\"bar\"></span> 5시간 전 </span> </li> </ul> <div class=\"newr_more\"> <a class=\"more_news\" href=\"#\" onclick=\"news_submit_related_option('0290002531451', 0, 'nws*r.more'); return false;\">관련뉴스 5건 전체보기</a> </div> </dd> </dl> </li>,\n",
       " ' ',\n",
       " <li id=\"sp_nws8\"> <dl> <dt><a class=\"_sp_each_url _sp_each_title\" href=\"http://news.einfomax.co.kr/news/articleView.html?idxno=4032974\" onclick=\"return goOtherCR(this, 'a=nws*b.tit&amp;r=8&amp;i=88131147_000000000000000000312980&amp;g=5227.0000312980&amp;u='+urlencode(this.href));\" target=\"_blank\" title='골드만 \"미국, 對중국·멕시코 무역전쟁 확전 가능성↑\"'>골드만 \"미국, 對중국·멕시코 <strong class=\"hl\">무역전쟁</strong> 확전 가능성↑\"</a></dt> <dd class=\"txt_inline\"><span class=\"_sp_each_source\">연합인포맥스</span> <span class=\"bar\"></span> 7시간 전 <div class=\"scial\" id=\"sp_nws8_base\"> <span class=\"bar\"></span> <a class=\"bt_scial2 naver-splugin\" data-oninitialize=\"splugin_oninitialize('sp_nws8');\" data-style=\"unity-v2\" href=\"#\" onclick=\"goOtherTCR(this, 'a=nws*b.pplugin&amp;r=8&amp;i=88131147_000000000000000000312980&amp;u='+urlencode(this.href)); return false;\">보내기</a> </div> </dd> <dd>골드만삭스는 글로벌 <strong class=\"hl\">무역전쟁</strong>의 확전 가능성이 커지고 있다고 관측했다. 투자은행은 3일(현지시간) CNBC를 통해 \"미국이 추가로 중국 수입품 3천억 달러어치에 신규 10%의 관세를 부과할 확률은 기존 40%에서 60%로...</dd> <dd> <ul class=\"relation_lst\"> <li> <span class=\"ico_bu\"></span> <a href=\"http://news1.kr/articles/?3637847\" onclick=\"return goOtherCR(this, 'a=nws*c.tit&amp;r=9&amp;i=08138263_000000000000000004023922&amp;g=421.0004023922&amp;u='+urlencode(this.href));\" target=\"_blank\" title=\"“미중 무역전쟁 더욱 격화될 것”- 골드만삭스\">“미중 <strong class=\"hl\">무역전쟁</strong> 더욱 격화될 것”- 골드만삭스</a> <span class=\"txt_sinfo\"> <span class=\"press\" title=\"뉴스1\">뉴스1</span> <span class=\"bar\"></span> 3시간 전 <span class=\"bar\"></span><a class=\"\" href=\"https://news.naver.com/main/read.nhn?mode=LSD&amp;mid=sec&amp;sid1=101&amp;oid=421&amp;aid=0004023922\" onclick=\"return goOtherCR(this, 'a=nws*c.nav&amp;r=9&amp;i=08138263_000000000000000004023922&amp;u='+urlencode(this.href));\" target=\"_blank\">네이버뉴스</a> </span> </li> <li> <span class=\"ico_bu\"></span> <a href=\"http://www.newsis.com/view/?id=NISX20190604_0000671191&amp;cID=10101&amp;pID=10100\" onclick=\"return goOtherCR(this, 'a=nws*c.tit&amp;r=10&amp;i=88000127_000000000000000009267633&amp;g=003.0009267633&amp;u='+urlencode(this.href));\" target=\"_blank\" title='골드만삭스 \"美, 글로벌 무역전쟁 확전 가능성 상승\"'>골드만삭스 \"美, 글로벌 <strong class=\"hl\">무역전쟁</strong> 확전 가능성 상승\"</a> <span class=\"txt_sinfo\"> <span class=\"press\" title=\"뉴시스\">뉴시스</span> <span class=\"bar\"></span> 3시간 전 <span class=\"bar\"></span><a class=\"\" href=\"https://news.naver.com/main/read.nhn?mode=LSD&amp;mid=sec&amp;sid1=104&amp;oid=003&amp;aid=0009267633\" onclick=\"return goOtherCR(this, 'a=nws*c.nav&amp;r=10&amp;i=88000127_000000000000000009267633&amp;u='+urlencode(this.href));\" target=\"_blank\">네이버뉴스</a> </span> </li> <li> <span class=\"ico_bu\"></span> <a href=\"http://jedam15.koreafree.co.kr/news/view.html?section=1&amp;category=136&amp;item=&amp;no=53421\" onclick=\"return goOtherCR(this, 'a=nws*d.tit&amp;r=11&amp;i=8811BEF6_000000000000000000069925&amp;g=5147.0000069925&amp;u='+urlencode(this.href));\" target=\"_blank\" title='골드만삭스 \"미, 글로벌 무역전쟁 확전 가능성 상승\"'>골드만삭스 \"미, 글로벌 <strong class=\"hl\">무역전쟁</strong> 확전 가능성 상승\"</a> <span class=\"txt_sinfo\"> <span class=\"press\" title=\"한국무역신문\">한국무역신문</span> <span class=\"bar\"></span> 3시간 전 </span> </li> <li> <span class=\"ico_bu\"></span> <a href=\"http://www.ekn.kr/news/article.html?no=435816\" onclick=\"return goOtherCR(this, 'a=nws*d.tit&amp;r=12&amp;i=88102504_000000000000000000338808&amp;g=5133.0000338808&amp;u='+urlencode(this.href));\" target=\"_blank\" title=\"'갈등 국면' 미중 무역협상...무역전쟁 확대시 9개월 내 '경기 침체'\">'갈등 국면' 미중 무역협상...<strong class=\"hl\">무역전쟁</strong> 확대시 9개월 내 '경기 침체'</a> <span class=\"txt_sinfo\"> <span class=\"press\" title=\"에너지경제\">에너지경제</span> <span class=\"bar\"></span> 1시간 전 </span> </li> </ul> <div class=\"newr_more\"> <a class=\"more_news\" href=\"#\" onclick=\"news_submit_related_option('52270000312980', 0, 'nws*r.more'); return false;\">관련뉴스 5건 전체보기</a> </div> </dd> </dl> </li>,\n",
       " ' ',\n",
       " <li id=\"sp_nws13\"> <div class=\"thumb\"><a class=\"sp_thmb thmb80\" href=\"http://news1.kr/articles/?3637553\" onclick=\"return goOtherCR(this, 'a=nws*a.img&amp;r=13&amp;i=08138263_000000000000000004023359&amp;g=421.0004023359&amp;u='+urlencode(this.href));\" target=\"_blank\"><img alt=\"무역전쟁, 트럼프 다음\" class=\"\" height=\"80\" onerror=\"this.parentNode.style.display='none';\" src=\"https://search.pstatic.net/common/?src=https%3A%2F%2Fimgnews.pstatic.net%2Fimage%2Forigin%2F421%2F2019%2F06%2F04%2F4023359.jpg&amp;type=ofullfill80_80_q75_re2\" width=\"80\"/><span class=\"thmb_v\"></span></a></div> <dl> <dt><a class=\"_sp_each_title\" href=\"http://news1.kr/articles/?3637553\" onclick=\"return goOtherCR(this, 'a=nws*a.tit&amp;r=13&amp;i=08138263_000000000000000004023359&amp;g=421.0004023359&amp;u='+urlencode(this.href));\" target=\"_blank\" title=\"무역전쟁, 트럼프 다음 타깃은 중국 유학생들\"><strong class=\"hl\">무역전쟁</strong>, 트럼프 다음 타깃은 중국 유학생들</a></dt> <dd class=\"txt_inline\"><span class=\"_sp_each_source\">뉴스1</span> <span class=\"bar\"></span> 6시간 전 <span class=\"bar\"></span> <a class=\"_sp_each_url\" href=\"https://news.naver.com/main/read.nhn?mode=LSD&amp;mid=sec&amp;sid1=101&amp;oid=421&amp;aid=0004023359\" onclick=\"return goOtherCR(this, 'a=nws*a.nav&amp;r=13&amp;i=08138263_000000000000000004023359&amp;u='+urlencode(this.href));\" target=\"_blank\">네이버뉴스</a> <div class=\"scial\" id=\"sp_nws13_base\"> <span class=\"bar\"></span> <a class=\"bt_scial2 naver-splugin\" data-oninitialize=\"splugin_oninitialize('sp_nws13');\" data-style=\"unity-v2\" href=\"#\" onclick=\"goOtherTCR(this, 'a=nws*a.pplugin&amp;r=13&amp;i=08138263_000000000000000004023359&amp;u='+urlencode(this.href)); return false;\">보내기</a> </div> </dd> <dd>박형기 기자,김서연 기자 = 도널드 트럼프 미국 대통령의 대중 <strong class=\"hl\">무역전쟁</strong> 다음 타깃은 미국 명문대학에 유학 중인 중국 유학생들이라고 미국의 블룸버그통신이 3일(현지시간) 보도했다. <strong class=\"hl\">무역전쟁</strong>에 이어 화웨이를 둘러싸고...</dd> <dd> <ul class=\"relation_lst\"> <li> <span class=\"ico_bu\"></span> <a href=\"http://www.nexte.co.kr/news/article.html?id=20190604400001\" onclick=\"return goOtherCR(this, 'a=nws*d.tit&amp;r=14&amp;i=8819406f_000000000000000000000094&amp;g=5730.0000000094&amp;u='+urlencode(this.href));\" target=\"_blank\" title=\"트럼프, 무역전쟁 다음 타깃으로 ‘중국 유학생들’ 선정\">트럼프, <strong class=\"hl\">무역전쟁</strong> 다음 타깃으로 ‘중국 유학생들’ 선정</a> <span class=\"txt_sinfo\"> <span class=\"press\" title=\"넥스트경제\">넥스트경제</span> <span class=\"bar\"></span> 1시간 전 </span> </li> </ul> </dd> </dl> </li>,\n",
       " ' ',\n",
       " <li id=\"sp_nws15\"> <dl> <dt><a class=\"_sp_each_title\" href=\"https://view.asiae.co.kr/news/view.htm?idxno=2019060409294733283\" onclick=\"return goOtherCR(this, 'a=nws*a.tit&amp;r=15&amp;i=88000385_000000000000000004478639&amp;g=277.0004478639&amp;u='+urlencode(this.href));\" target=\"_blank\" title=\"中, 美 유학 경계령…무역전쟁 인재·교육 교류 타격 공식화\">中, 美 유학 경계령…<strong class=\"hl\">무역전쟁</strong> 인재·교육 교류 타격 공식화</a></dt> <dd class=\"txt_inline\"><span class=\"_sp_each_source\">아시아경제</span> <span class=\"bar\"></span> <span class=\"newspaper\">2면 <img alt=\"TOP\" height=\"9\" src=\"https://ssl.pstatic.net/sstatic/search/img3/ico_top.gif\" width=\"17\"/></span> <span class=\"bar\"></span> 5시간 전 <span class=\"bar\"></span> <a class=\"_sp_each_url\" href=\"https://news.naver.com/main/read.nhn?mode=LSD&amp;mid=sec&amp;sid1=101&amp;oid=277&amp;aid=0004478639\" onclick=\"return goOtherCR(this, 'a=nws*a.nav&amp;r=15&amp;i=88000385_000000000000000004478639&amp;u='+urlencode(this.href));\" target=\"_blank\">네이버뉴스</a> <div class=\"scial\" id=\"sp_nws15_base\"> <span class=\"bar\"></span> <a class=\"bt_scial2 naver-splugin\" data-oninitialize=\"splugin_oninitialize('sp_nws15');\" data-style=\"unity-v2\" href=\"#\" onclick=\"goOtherTCR(this, 'a=nws*a.pplugin&amp;r=15&amp;i=88000385_000000000000000004478639&amp;u='+urlencode(this.href)); return false;\">보내기</a> </div> </dd> <dd>미국과 <strong class=\"hl\">무역전쟁</strong> 중인 중국이 '미국 유학 경계령'을 발효했다. 고조된 미·중 <strong class=\"hl\">무역전쟁</strong>이 양국간 교육 교류 및 협력 축소로 이어질 수 있다는 점을 공식화했다는 것을 뜻한다. 4일 중국 신화통신에 따르면 중국 교육부는...</dd> <dd> <ul class=\"relation_lst\"> <li> <span class=\"ico_bu\"></span> <a href=\"http://www.edaily.co.kr/news/newspath.asp?newsid=02437046622518440\" onclick=\"return goOtherCR(this, 'a=nws*c.tit&amp;r=16&amp;i=880000E7_000000000000000004394549&amp;g=018.0004394549&amp;u='+urlencode(this.href));\" target=\"_blank\" title='\"무역갈등이 교육으로\"…미국유학 경계령 내린 中'>\"<strong class=\"hl\">무역</strong>갈등이 교육으로\"…미국유학 경계령 내린 中</a> <span class=\"txt_sinfo\"> <span class=\"press\" title=\"이데일리\">이데일리</span> <span class=\"bar\"></span> 4시간 전 <span class=\"bar\"></span><a class=\"_sp_each_url\" href=\"https://news.naver.com/main/read.nhn?mode=LSD&amp;mid=sec&amp;sid1=104&amp;oid=018&amp;aid=0004394549\" onclick=\"return goOtherCR(this, 'a=nws*c.nav&amp;r=16&amp;i=880000E7_000000000000000004394549&amp;u='+urlencode(this.href));\" target=\"_blank\">네이버뉴스</a> </span> </li> </ul> </dd> </dl> </li>,\n",
       " ' ',\n",
       " <li id=\"sp_nws17\"> <div class=\"thumb\"><a class=\"sp_thmb thmb80\" href=\"http://www.newspim.com/news/view/20190604000431\" onclick=\"return goOtherCR(this, 'a=nws*f.img&amp;r=17&amp;i=88000394_000000000000000001231453&amp;g=5002.0001231453&amp;u='+urlencode(this.href));\" target=\"_blank\"><img alt=\"중국, 무역전쟁 와중에\" class=\"\" height=\"80\" onerror=\"this.parentNode.style.display='none';\" src=\"https://search.pstatic.net/common/?src=https%3A%2F%2Fimgnews.pstatic.net%2Fimage%2Forigin%2F5002%2F2019%2F06%2F04%2F1231453.jpg&amp;type=ofullfill80_80_q75_re2\" width=\"80\"/><span class=\"thmb_v\"></span></a></div> <dl> <dt><a class=\"_sp_each_url _sp_each_title\" href=\"http://www.newspim.com/news/view/20190604000431\" onclick=\"return goOtherCR(this, 'a=nws*f.tit&amp;r=17&amp;i=88000394_000000000000000001231453&amp;g=5002.0001231453&amp;u='+urlencode(this.href));\" target=\"_blank\" title=\"중국, 무역전쟁 와중에 5G 상용화 1년 앞당겨, 한국 등 경쟁국 의식\">중국, <strong class=\"hl\">무역전쟁</strong> 와중에 5G 상용화 1년 앞당겨, 한국 등 경쟁국 의식</a></dt> <dd class=\"txt_inline\"><span class=\"_sp_each_source\">뉴스핌</span> <span class=\"bar\"></span> 1시간 전 <div class=\"scial\" id=\"sp_nws17_base\"> <span class=\"bar\"></span> <a class=\"bt_scial2 naver-splugin\" data-oninitialize=\"splugin_oninitialize('sp_nws17');\" data-style=\"unity-v2\" href=\"#\" onclick=\"goOtherTCR(this, 'a=nws*f.pplugin&amp;r=17&amp;i=88000394_000000000000000001231453&amp;u='+urlencode(this.href)); return false;\">보내기</a> </div> </dd> <dd>다만 일각에서는 중국 주요 통신장비 업체인 화웨이가 미국과의 <strong class=\"hl\">무역전쟁</strong> 속에서 미국으로부터 집중적 견제를 받고 있는 상황에서, 중국 통신업계가 5G 인프라 구축을 위한 핵심 부품 조달에 어려움을 겪으면서...</dd> </dl> </li>,\n",
       " ' ',\n",
       " <li id=\"sp_nws18\"> <dl> <dt><a class=\"_sp_each_title\" href=\"https://view.asiae.co.kr/news/view.htm?idxno=2019060414083943870\" onclick=\"return goOtherCR(this, 'a=nws*j.tit&amp;r=18&amp;i=88000385_000000000000000004478900&amp;g=277.0004478900&amp;u='+urlencode(this.href));\" target=\"_blank\" title='中 \"韓, 미·중 무역갈등 올바른 판단해야\"'>中 \"韓, 미·중 <strong class=\"hl\">무역</strong>갈등 올바른 판단해야\"</a></dt> <dd class=\"txt_inline\"><span class=\"_sp_each_source\">아시아경제<i class=\"sprenew api_ico_pick\">언론사 선정</i></span> <span class=\"bar\"></span> 1시간 전 <span class=\"bar\"></span> <a class=\"_sp_each_url\" href=\"https://news.naver.com/main/read.nhn?mode=LSD&amp;mid=sec&amp;sid1=100&amp;oid=277&amp;aid=0004478900\" onclick=\"return goOtherCR(this, 'a=nws*j.nav&amp;r=18&amp;i=88000385_000000000000000004478900&amp;u='+urlencode(this.href));\" target=\"_blank\">네이버뉴스</a> <div class=\"scial\" id=\"sp_nws18_base\"> <span class=\"bar\"></span> <a class=\"bt_scial2 naver-splugin\" data-oninitialize=\"splugin_oninitialize('sp_nws18');\" data-style=\"unity-v2\" href=\"#\" onclick=\"goOtherTCR(this, 'a=nws*j.pplugin&amp;r=18&amp;i=88000385_000000000000000004478900&amp;u='+urlencode(this.href)); return false;\">보내기</a> </div> </dd> <dd>미·중 <strong class=\"hl\">무역 전쟁</strong>와 과정에서 미국 정부가 주도하고 있는 중국 통신장비 업체 화웨이에 대한 제재에 한국 정부와 기업의 동참하는 것을 경계하려는 의도로 해석된다. 이 당국자는 \"한국 정부에서 올바른 판단을 해야 한다....</dd> </dl> </li>,\n",
       " ' ',\n",
       " <li id=\"sp_nws19\"> <div class=\"thumb\"><a class=\"sp_thmb thmb80\" href=\"http://news.chosun.com/site/data/html_dir/2019/06/03/2019060302889.html?utm_source=naver&amp;utm_medium=original&amp;utm_campaign=news\" onclick=\"return goOtherCR(this, 'a=nws*h.img&amp;r=19&amp;i=880000ED_000000000000000003451116&amp;g=023.0003451116&amp;u='+urlencode(this.href));\" target=\"_blank\"><img alt=\"中, ‘美 유학 경계령\" class=\"\" height=\"80\" onerror=\"this.parentNode.style.display='none';\" src=\"https://search.pstatic.net/common/?src=https%3A%2F%2Fimgnews.pstatic.net%2Fimage%2Forigin%2F023%2F2019%2F06%2F03%2F3451116.jpg&amp;type=ofullfill80_80_q75_re2\" width=\"80\"/><span class=\"thmb_v\"></span></a></div> <dl> <dt><a class=\"_sp_each_title\" href=\"http://news.chosun.com/site/data/html_dir/2019/06/03/2019060302889.html?utm_source=naver&amp;utm_medium=original&amp;utm_campaign=news\" onclick=\"return goOtherCR(this, 'a=nws*h.tit&amp;r=19&amp;i=880000ED_000000000000000003451116&amp;g=023.0003451116&amp;u='+urlencode(this.href));\" target=\"_blank\" title=\"中, ‘美 유학 경계령’ 발표…무역전쟁이 교육전쟁으로\">中, ‘美 유학 경계령’ 발표…<strong class=\"hl\">무역전쟁</strong>이 교육전쟁으로</a></dt> <dd class=\"txt_inline\"><span class=\"_sp_each_source\">조선일보<i class=\"sprenew api_ico_pick\">언론사 선정</i></span> <span class=\"bar\"></span> 18시간 전 <span class=\"bar\"></span> <a class=\"_sp_each_url\" href=\"https://news.naver.com/main/read.nhn?mode=LSD&amp;mid=sec&amp;sid1=104&amp;oid=023&amp;aid=0003451116\" onclick=\"return goOtherCR(this, 'a=nws*h.nav&amp;r=19&amp;i=880000ED_000000000000000003451116&amp;u='+urlencode(this.href));\" target=\"_blank\">네이버뉴스</a> <div class=\"scial\" id=\"sp_nws19_base\"> <span class=\"bar\"></span> <a class=\"bt_scial2 naver-splugin\" data-oninitialize=\"splugin_oninitialize('sp_nws19');\" data-style=\"unity-v2\" href=\"#\" onclick=\"goOtherTCR(this, 'a=nws*h.pplugin&amp;r=19&amp;i=880000ED_000000000000000003451116&amp;u='+urlencode(this.href)); return false;\">보내기</a> </div> </dd> <dd>미·중 <strong class=\"hl\">무역전쟁</strong>이 격화되는 가운데 중국 교육 당국이 ‘미국 유학 경계령’을 3일 발효했다. 두 나라 간 무역갈등이 교육계로까지 확산하는 모양새다. 이날 중국 교육부는 미국 유학 비자 발급 등에 주의하라는 내용의...</dd> <dd> <ul class=\"relation_lst\"> <li> <span class=\"ico_bu\"></span> <a href=\"http://yna.kr/AKR20190603148351083?did=1195m\" onclick=\"return goOtherCR(this, 'a=nws*c.tit&amp;r=20&amp;i=880000D8_000000000000000010866197&amp;g=001.0010866197&amp;u='+urlencode(this.href));\" target=\"_blank\" title=\"中, '미국 유학 경계령' 발효…무역전쟁 교육계로 확산(종합)\">中, '미국 유학 경계령' 발효…<strong class=\"hl\">무역전쟁</strong> 교육계로 확산(종합)</a> <span class=\"txt_sinfo\"> <span class=\"press\" title=\"연합뉴스\">연합뉴스</span> <span class=\"bar\"></span> 21시간 전 <span class=\"bar\"></span><a class=\"_sp_each_url\" href=\"https://news.naver.com/main/read.nhn?mode=LSD&amp;mid=sec&amp;sid1=104&amp;oid=001&amp;aid=0010866197\" onclick=\"return goOtherCR(this, 'a=nws*c.nav&amp;r=20&amp;i=880000D8_000000000000000010866197&amp;u='+urlencode(this.href));\" target=\"_blank\">네이버뉴스</a> </span> </li> <li> <span class=\"ico_bu\"></span> <a href=\"http://news.wowtv.co.kr/NewsCenter/News/Read?articleId=A201906030528&amp;t=NN\" onclick=\"return goOtherCR(this, 'a=nws*c.tit&amp;r=21&amp;i=88000149_000000000000000000778480&amp;g=215.0000778480&amp;u='+urlencode(this.href));\" target=\"_blank\" title=\"中, '미국 유학 경계령' 발효…무역전쟁 전방위 확산\">中, '미국 유학 경계령' 발효…<strong class=\"hl\">무역전쟁</strong> 전방위 확산</a> <span class=\"txt_sinfo\"> <span class=\"press\" title=\"한국경제TV\">한국경제TV</span> <span class=\"bar\"></span> 21시간 전 <span class=\"bar\"></span><a class=\"_sp_each_url\" href=\"https://news.naver.com/main/read.nhn?mode=LSD&amp;mid=sec&amp;sid1=104&amp;oid=215&amp;aid=0000778480\" onclick=\"return goOtherCR(this, 'a=nws*c.nav&amp;r=21&amp;i=88000149_000000000000000000778480&amp;u='+urlencode(this.href));\" target=\"_blank\">네이버뉴스</a> </span> </li> <li> <span class=\"ico_bu\"></span> <a href=\"http://yna.kr/AKR20190603148300083?did=1195m\" onclick=\"return goOtherCR(this, 'a=nws*c.tit&amp;r=22&amp;i=880000D8_000000000000000010866130&amp;g=001.0010866130&amp;u='+urlencode(this.href));\" target=\"_blank\" title=\"中, '미국 유학 경계령' 발효…무역전쟁 교육계로 확산\">中, '미국 유학 경계령' 발효…<strong class=\"hl\">무역전쟁</strong> 교육계로 확산</a> <span class=\"txt_sinfo\"> <span class=\"press\" title=\"연합뉴스\">연합뉴스</span> <span class=\"bar\"></span> 21시간 전 <span class=\"bar\"></span><a class=\"_sp_each_url\" href=\"https://news.naver.com/main/read.nhn?mode=LSD&amp;mid=sec&amp;sid1=104&amp;oid=001&amp;aid=0010866130\" onclick=\"return goOtherCR(this, 'a=nws*c.nav&amp;r=22&amp;i=880000D8_000000000000000010866130&amp;u='+urlencode(this.href));\" target=\"_blank\">네이버뉴스</a> </span> </li> <li> <span class=\"ico_bu\"></span> <a href=\"https://view.asiae.co.kr/news/view.htm?idxno=2019060318205324007\" onclick=\"return goOtherCR(this, 'a=nws*c.tit&amp;r=23&amp;i=88000385_000000000000000004478416&amp;g=277.0004478416&amp;u='+urlencode(this.href));\" target=\"_blank\" title=\"中, '미국 유학 경계령' 발효…무역전쟁 교육계로 확산 조짐\">中, '미국 유학 경계령' 발효…<strong class=\"hl\">무역전쟁</strong> 교육계로 확산 조짐</a> <span class=\"txt_sinfo\"> <span class=\"press\" title=\"아시아경제\">아시아경제</span> <span class=\"bar\"></span> 20시간 전 <span class=\"bar\"></span><a class=\"_sp_each_url\" href=\"https://news.naver.com/main/read.nhn?mode=LSD&amp;mid=sec&amp;sid1=104&amp;oid=277&amp;aid=0004478416\" onclick=\"return goOtherCR(this, 'a=nws*c.nav&amp;r=23&amp;i=88000385_000000000000000004478416&amp;u='+urlencode(this.href));\" target=\"_blank\">네이버뉴스</a> </span> </li> </ul> <div class=\"newr_more\"> <a class=\"more_news\" href=\"#\" onclick=\"news_submit_related_option('0230003451116', 0, 'nws*r.more'); return false;\">관련뉴스 5건 전체보기</a> </div> </dd> </dl> </li>,\n",
       " ' ',\n",
       " <li id=\"sp_nws24\"> <div class=\"thumb\"><a class=\"sp_thmb thmb80\" href=\"http://www.segyefn.com/newsView/20190604000471?OutUrl=naver\" onclick=\"return goOtherCR(this, 'a=nws*b.img&amp;r=24&amp;i=881844a5_000000000000000000011558&amp;g=5653.0000011558&amp;u='+urlencode(this.href));\" target=\"_blank\"><img alt=\"[뉴욕증시]美中 무역전\" class=\"\" height=\"80\" onerror=\"this.parentNode.style.display='none';\" src=\"https://search.pstatic.net/common/?src=https%3A%2F%2Fimgnews.pstatic.net%2Fimage%2Forigin%2F5653%2F2019%2F06%2F04%2F11558.jpg&amp;type=ofullfill80_80_q75_re2\" width=\"80\"/><span class=\"thmb_v\"></span></a></div> <dl> <dt><a class=\"_sp_each_url _sp_each_title\" href=\"http://www.segyefn.com/newsView/20190604000471?OutUrl=naver\" onclick=\"return goOtherCR(this, 'a=nws*b.tit&amp;r=24&amp;i=881844a5_000000000000000000011558&amp;g=5653.0000011558&amp;u='+urlencode(this.href));\" target=\"_blank\" title=\"[뉴욕증시]美中 무역전쟁·기술기업 규제 우려에 기술주 ‘뚝’…나스닥 1.61% ↓\">[뉴욕증시]美中 <strong class=\"hl\">무역전쟁</strong>·기술기업 규제 우려에 기술주 ‘뚝’…나스닥 1.61...</a></dt> <dd class=\"txt_inline\"><span class=\"_sp_each_source\">세계파이낸스</span> <span class=\"bar\"></span> 6시간 전 <div class=\"scial\" id=\"sp_nws24_base\"> <span class=\"bar\"></span> <a class=\"bt_scial2 naver-splugin\" data-oninitialize=\"splugin_oninitialize('sp_nws24');\" data-style=\"unity-v2\" href=\"#\" onclick=\"goOtherTCR(this, 'a=nws*b.pplugin&amp;r=24&amp;i=881844a5_000000000000000000011558&amp;u='+urlencode(this.href)); return false;\">보내기</a> </div> </dd> <dd>사진=연합뉴스[세계파이낸스=안재성 기자]미중 <strong class=\"hl\">무역전쟁</strong> 관련 불확실성이 여전한 가운데 3일(현지시간) 뉴욕증시는 혼조세를 나타냈다. 특히 정보기술(IT)기업에 대한 규제가 우려가 번져 나스닥지수 하락세가 컸다....</dd> <dd> <ul class=\"relation_lst\"> <li> <span class=\"ico_bu\"></span> <a href=\"http://www.dt.co.kr/contents.html?article_no=2019060402100932059003&amp;ref=naver\" onclick=\"return goOtherCR(this, 'a=nws*c.tit&amp;r=25&amp;i=880000AD_000000000000000002531349&amp;g=029.0002531349&amp;u='+urlencode(this.href));\" target=\"_blank\" title=\"무역전쟁 불똥튄 기술주…美 나스닥 1.61% 급락↓\"><strong class=\"hl\">무역전쟁</strong> 불똥튄 기술주…美 나스닥 1.61% 급락↓</a> <span class=\"txt_sinfo\"> <span class=\"press\" title=\"디지털타임스\">디지털타임스</span> <span class=\"bar\"></span> 7시간 전 <span class=\"bar\"></span><a class=\"\" href=\"https://news.naver.com/main/read.nhn?mode=LSD&amp;mid=sec&amp;sid1=101&amp;oid=029&amp;aid=0002531349\" onclick=\"return goOtherCR(this, 'a=nws*c.nav&amp;r=25&amp;i=880000AD_000000000000000002531349&amp;u='+urlencode(this.href));\" target=\"_blank\">네이버뉴스</a> </span> </li> <li> <span class=\"ico_bu\"></span> <a href=\"http://www.seoulfn.com/news/articleView.html?idxno=344869\" onclick=\"return goOtherCR(this, 'a=nws*d.tit&amp;r=26&amp;i=88000395_000000000000000000291051&amp;g=5001.0000291051&amp;u='+urlencode(this.href));\" target=\"_blank\" title=\"뉴욕증시, 무역정책 불확실 속 기술기업 규제 우려···나스닥, 1.61%↓\">뉴욕증시, <strong class=\"hl\">무역</strong>정책 불확실 속 기술기업 규제 우려···나스닥, 1.61%↓</a> <span class=\"txt_sinfo\"> <span class=\"press\" title=\"서울파이낸스\">서울파이낸스</span> <span class=\"bar\"></span> 7시간 전 </span> </li> <li> <span class=\"ico_bu\"></span> <a href=\"http://news.einfomax.co.kr/news/articleView.html?idxno=4032963\" onclick=\"return goOtherCR(this, 'a=nws*d.tit&amp;r=27&amp;i=88131147_000000000000000000312969&amp;g=5227.0000312969&amp;u='+urlencode(this.href));\" target=\"_blank\" title=\"&lt;뉴욕마켓워치&gt; 무역전쟁 우려·기술기업 규제…나스닥↓금리 2% 눈앞\">&lt;뉴욕마켓워치&gt; <strong class=\"hl\">무역전쟁</strong> 우려·기술기업 규제…나스닥↓금리 2% 눈앞</a> <span class=\"txt_sinfo\"> <span class=\"press\" title=\"연합인포맥스\">연합인포맥스</span> <span class=\"bar\"></span> 7시간 전 </span> </li> </ul> <div class=\"newr_more\"> <a class=\"more_news\" href=\"#\" onclick=\"news_submit_related_option('56530000011558', 0, 'nws*r.more'); return false;\">관련뉴스 4건 전체보기</a> </div> </dd> </dl> </li>,\n",
       " ' ',\n",
       " <li id=\"sp_nws28\"> <div class=\"thumb\"><a class=\"sp_thmb thmb80\" href=\"http://www.newsis.com/view/?id=NISX20190604_0000671332&amp;cID=10101&amp;pID=10100\" onclick=\"return goOtherCR(this, 'a=nws*a.img&amp;r=28&amp;i=88000127_000000000000000009267838&amp;g=003.0009267838&amp;u='+urlencode(this.href));\" target=\"_blank\"><img alt=\"美, 中무역백서 반박…\" class=\"\" height=\"80\" onerror=\"this.parentNode.style.display='none';\" src=\"https://search.pstatic.net/common/?src=https%3A%2F%2Fimgnews.pstatic.net%2Fimage%2Forigin%2F003%2F2019%2F06%2F04%2F9267838.jpg&amp;type=ofullfill80_80_q75_re2\" width=\"80\"/><span class=\"thmb_v\"></span></a></div> <dl> <dt><a class=\"_sp_each_title\" href=\"http://www.newsis.com/view/?id=NISX20190604_0000671332&amp;cID=10101&amp;pID=10100\" onclick=\"return goOtherCR(this, 'a=nws*a.tit&amp;r=28&amp;i=88000127_000000000000000009267838&amp;g=003.0009267838&amp;u='+urlencode(this.href));\" target=\"_blank\" title='美, 中무역백서 반박…\"합의이행 강제장치,주권훼손 아냐\"'>美, 中<strong class=\"hl\">무역</strong>백서 반박…\"합의이행 강제장치,주권훼손 아냐\"</a></dt> <dd class=\"txt_inline\"><span class=\"_sp_each_source\">뉴시스</span> <span class=\"bar\"></span> 3시간 전 <span class=\"bar\"></span> <a class=\"_sp_each_url\" href=\"https://news.naver.com/main/read.nhn?mode=LSD&amp;mid=sec&amp;sid1=104&amp;oid=003&amp;aid=0009267838\" onclick=\"return goOtherCR(this, 'a=nws*a.nav&amp;r=28&amp;i=88000127_000000000000000009267838&amp;u='+urlencode(this.href));\" target=\"_blank\">네이버뉴스</a> <div class=\"scial\" id=\"sp_nws28_base\"> <span class=\"bar\"></span> <a class=\"bt_scial2 naver-splugin\" data-oninitialize=\"splugin_oninitialize('sp_nws28');\" data-style=\"unity-v2\" href=\"#\" onclick=\"goOtherTCR(this, 'a=nws*a.pplugin&amp;r=28&amp;i=88000127_000000000000000009267838&amp;u='+urlencode(this.href)); return false;\">보내기</a> </div> </dd> <dd>미국 정부가 3일(현지시간) 중국이 전날 발표한 미중 <strong class=\"hl\">무역</strong>협상 관련 백서와 관련해 공식 입장을 발표하며 대응에 나섰다. 이날 미 <strong class=\"hl\">무역</strong>대표부(USTR)와 재무부는 공동성명을 통해 중국이 미중 <strong class=\"hl\">무역</strong>협상 본질과 역사를...</dd> <dd> <ul class=\"relation_lst\"> <li> <span class=\"ico_bu\"></span> <a href=\"http://news.einfomax.co.kr/news/articleView.html?idxno=4032973\" onclick=\"return goOtherCR(this, 'a=nws*d.tit&amp;r=29&amp;i=88131147_000000000000000000312979&amp;g=5227.0000312979&amp;u='+urlencode(this.href));\" target=\"_blank\" title='美 USTRㆍ재무부 \"中, 무역협상 결렬 이유 잘못 전달\"(상보)'>美 USTRㆍ재무부 \"中, <strong class=\"hl\">무역</strong>협상 결렬 이유 잘못 전달\"(상보)</a> <span class=\"txt_sinfo\"> <span class=\"press\" title=\"연합인포맥스\">연합인포맥스</span> <span class=\"bar\"></span> 7시간 전 </span> </li> <li> <span class=\"ico_bu\"></span> <a href=\"http://news1.kr/articles/?3637665\" onclick=\"return goOtherCR(this, 'a=nws*c.tit&amp;r=30&amp;i=08138263_000000000000000004023662&amp;g=421.0004023662&amp;u='+urlencode(this.href));\" target=\"_blank\" title='美, 中 무역백서 반박…\"합의이행 조항, 주권침해 아냐\"(종합)'>美, 中 <strong class=\"hl\">무역</strong>백서 반박…\"합의이행 조항, 주권침해 아냐\"(종합)</a> <span class=\"txt_sinfo\"> <span class=\"press\" title=\"뉴스1\">뉴스1</span> <span class=\"bar\"></span> 4시간 전 <span class=\"bar\"></span><a class=\"_sp_each_url\" href=\"https://news.naver.com/main/read.nhn?mode=LSD&amp;mid=sec&amp;sid1=104&amp;oid=421&amp;aid=0004023662\" onclick=\"return goOtherCR(this, 'a=nws*c.nav&amp;r=30&amp;i=08138263_000000000000000004023662&amp;u='+urlencode(this.href));\" target=\"_blank\">네이버뉴스</a> </span> </li> </ul> </dd> </dl> </li>,\n",
       " ' ']"
      ]
     },
     "execution_count": 7,
     "metadata": {},
     "output_type": "execute_result"
    }
   ],
   "source": [
    "ul_contents.contents"
   ]
  },
  {
   "cell_type": "code",
   "execution_count": 8,
   "metadata": {},
   "outputs": [],
   "source": [
    "new_ul = []\n",
    "for content in ul_contents.contents:\n",
    "    if not str(content).strip():\n",
    "        continue\n",
    "    new_ul.append(content)\n"
   ]
  },
  {
   "cell_type": "code",
   "execution_count": 9,
   "metadata": {},
   "outputs": [
    {
     "data": {
      "text/plain": [
       "10"
      ]
     },
     "execution_count": 9,
     "metadata": {},
     "output_type": "execute_result"
    }
   ],
   "source": [
    "len(new_ul)"
   ]
  },
  {
   "cell_type": "code",
   "execution_count": 10,
   "metadata": {},
   "outputs": [
    {
     "name": "stdout",
     "output_type": "stream",
     "text": [
      "[{'link': 'http://yna.kr/AKR20190604083500504?did=1195m', 'title': '中 외교당국자 \"미중 무역갈등 속 한국, 올바른 판단 해야\"'}, {'link': 'http://www.dt.co.kr/contents.html?article_no=2019060402109957607010&ref=naver', 'title': '美, 中 `무역백서` 반박...\"무역전쟁은 중국 탓\"'}, {'link': 'http://news.einfomax.co.kr/news/articleView.html?idxno=4032974', 'title': '골드만 \"미국, 對중국·멕시코 무역전쟁 확전 가능성↑\"'}, {'link': 'http://news1.kr/articles/?3637553', 'title': '무역전쟁, 트럼프 다음 타깃은 중국 유학생들'}, {'link': 'https://view.asiae.co.kr/news/view.htm?idxno=2019060409294733283', 'title': '中, 美 유학 경계령…무역전쟁 인재·교육 교류 타격 공식화'}, {'link': 'http://www.newspim.com/news/view/20190604000431', 'title': '중국, 무역전쟁 와중에 5G 상용화 1년 앞당겨, 한국 등 경쟁국 의식'}, {'link': 'https://view.asiae.co.kr/news/view.htm?idxno=2019060414083943870', 'title': '中 \"韓, 미·중 무역갈등 올바른 판단해야\"'}, {'link': 'http://news.chosun.com/site/data/html_dir/2019/06/03/2019060302889.html?utm_source=naver&utm_medium=original&utm_campaign=news', 'title': '中, ‘美 유학 경계령’ 발표…무역전쟁이 교육전쟁으로'}, {'link': 'http://www.segyefn.com/newsView/20190604000471?OutUrl=naver', 'title': '[뉴욕증시]美中 무역전쟁·기술기업 규제 우려에 기술주 ‘뚝’…나스닥 1.61...'}, {'link': 'http://www.newsis.com/view/?id=NISX20190604_0000671332&cID=10101&pID=10100', 'title': '美, 中무역백서 반박…\"합의이행 강제장치,주권훼손 아냐\"'}]\n"
     ]
    }
   ],
   "source": [
    "news_list = []\n",
    "\n",
    "for li in new_ul:\n",
    "    news_dict = {}\n",
    "    a_tag = li.find('dl').find('dt').find('a')\n",
    "#     print(a_tag)\n",
    "    \n",
    "    news_dict['link'] = a_tag['href']\n",
    "    \n",
    "    detail_resp = requests.get(news_dict['link'])\n",
    "    detail_soup = BeautifulSoup(detail_resp.content, 'html.parser')\n",
    "    \n",
    "    \n",
    "    news_dict['title'] = a_tag.text\n",
    "    \n",
    "#     print(news_dict)\n",
    "    news_list.append(news_dict)\n",
    "    \n",
    "print(news_list)"
   ]
  },
  {
   "cell_type": "code",
   "execution_count": 11,
   "metadata": {},
   "outputs": [
    {
     "name": "stdout",
     "output_type": "stream",
     "text": [
      "[{'link': 'http://yna.kr/AKR20190604083500504?did=1195m',\n",
      "  'title': '中 외교당국자 \"미중 무역갈등 속 한국, 올바른 판단 해야\"'},\n",
      " {'link': 'http://www.dt.co.kr/contents.html?article_no=2019060402109957607010&ref=naver',\n",
      "  'title': '美, 中 `무역백서` 반박...\"무역전쟁은 중국 탓\"'},\n",
      " {'link': 'http://news.einfomax.co.kr/news/articleView.html?idxno=4032974',\n",
      "  'title': '골드만 \"미국, 對중국·멕시코 무역전쟁 확전 가능성↑\"'},\n",
      " {'link': 'http://news1.kr/articles/?3637553',\n",
      "  'title': '무역전쟁, 트럼프 다음 타깃은 중국 유학생들'},\n",
      " {'link': 'https://view.asiae.co.kr/news/view.htm?idxno=2019060409294733283',\n",
      "  'title': '中, 美 유학 경계령…무역전쟁 인재·교육 교류 타격 공식화'},\n",
      " {'link': 'http://www.newspim.com/news/view/20190604000431',\n",
      "  'title': '중국, 무역전쟁 와중에 5G 상용화 1년 앞당겨, 한국 등 경쟁국 의식'},\n",
      " {'link': 'https://view.asiae.co.kr/news/view.htm?idxno=2019060414083943870',\n",
      "  'title': '中 \"韓, 미·중 무역갈등 올바른 판단해야\"'},\n",
      " {'link': 'http://news.chosun.com/site/data/html_dir/2019/06/03/2019060302889.html?utm_source=naver&utm_medium=original&utm_campaign=news',\n",
      "  'title': '中, ‘美 유학 경계령’ 발표…무역전쟁이 교육전쟁으로'},\n",
      " {'link': 'http://www.segyefn.com/newsView/20190604000471?OutUrl=naver',\n",
      "  'title': '[뉴욕증시]美中 무역전쟁·기술기업 규제 우려에 기술주 ‘뚝’…나스닥 1.61...'},\n",
      " {'link': 'http://www.newsis.com/view/?id=NISX20190604_0000671332&cID=10101&pID=10100',\n",
      "  'title': '美, 中무역백서 반박…\"합의이행 강제장치,주권훼손 아냐\"'}]\n"
     ]
    }
   ],
   "source": [
    "from pprint import pprint\n",
    "pprint(news_list)"
   ]
  },
  {
   "cell_type": "markdown",
   "metadata": {},
   "source": [
    "# 실습예제"
   ]
  },
  {
   "cell_type": "markdown",
   "metadata": {},
   "source": [
    "###  10 페이지 이동"
   ]
  },
  {
   "cell_type": "code",
   "execution_count": 12,
   "metadata": {},
   "outputs": [
    {
     "name": "stdout",
     "output_type": "stream",
     "text": [
      "http://www.hankookilbo.com/news/npath/201906031695723825?did=NA 에 들어갑니다.\n",
      "https://view.asiae.co.kr/news/view.htm?idxno=2019060409294733283 에 들어갑니다.\n",
      "http://news.einfomax.co.kr/news/articleView.html?idxno=4032973 에 들어갑니다.\n",
      "http://news.kbs.co.kr/news/view.do?ncd=4214493&ref=A 에 들어갑니다.\n",
      "http://news.einfomax.co.kr/news/articleView.html?idxno=4033081 에 들어갑니다.\n",
      "https://www.sedaily.com/NewsView/1VK9WGQA4Y 에 들어갑니다.\n",
      "http://yna.kr/AKR20190604061600009?did=1195m 에 들어갑니다.\n",
      "http://www.newspim.com/news/view/20190604000431 에 들어갑니다.\n",
      "http://biz.chosun.com/site/data/html_dir/2019/06/03/2019060302068.html 에 들어갑니다.\n",
      "http://news1.kr/articles/?3637976 에 들어갑니다.\n",
      "https://www.sisain.co.kr/?mod=news&act=articleView&idxno=34733 에 들어갑니다.\n",
      "http://www.fnnews.com/news/201906041418249085 에 들어갑니다.\n",
      "http://news1.kr/articles/?3637774 에 들어갑니다.\n",
      "http://www.yonhapnewstv.co.kr/MYH20190604001800038/?did=1825m 에 들어갑니다.\n",
      "http://news.einfomax.co.kr/news/articleView.html?idxno=4033056 에 들어갑니다.\n",
      "http://news.chosun.com/site/data/html_dir/2019/06/02/2019060200610.html?utm_source=naver&utm_medium=original&utm_campaign=news 에 들어갑니다.\n",
      "http://yna.kr/AKR20190604081100083?did=1195m 에 들어갑니다.\n",
      "http://www.fntimes.com/html/view.php?ud=201906041003374658711237d2fe_18 에 들어갑니다.\n",
      "http://www.munhwa.com/news/view.html?no=2019060401071221080001 에 들어갑니다.\n",
      "http://news.heraldcorp.com/view.php?ud=20190604000573 에 들어갑니다.\n"
     ]
    },
    {
     "name": "stderr",
     "output_type": "stream",
     "text": [
      "Some characters could not be decoded, and were replaced with REPLACEMENT CHARACTER.\n"
     ]
    },
    {
     "name": "stdout",
     "output_type": "stream",
     "text": [
      "http://yna.kr/AKR20190603177200072?did=1195m 에 들어갑니다.\n",
      "http://news1.kr/articles/?3637954 에 들어갑니다.\n",
      "http://news.einfomax.co.kr/news/articleView.html?idxno=4032957 에 들어갑니다.\n",
      "http://www.snmnews.com/news/articleView.html?idxno=447385 에 들어갑니다.\n",
      "http://www.finomy.com/news/articleView.html?idxno=66374 에 들어갑니다.\n",
      "http://www.fntimes.com/html/view.php?ud=201906040828492524711237d2fe_18 에 들어갑니다.\n",
      "http://www.edaily.co.kr/news/newspath.asp?newsid=03037286622518440 에 들어갑니다.\n",
      "https://cnbc.sbs.co.kr/article_hub/10000943820?division=NAVER 에 들어갑니다.\n",
      "http://news.heraldcorp.com/view.php?ud=20190604000227 에 들어갑니다.\n"
     ]
    },
    {
     "name": "stderr",
     "output_type": "stream",
     "text": [
      "Some characters could not be decoded, and were replaced with REPLACEMENT CHARACTER.\n"
     ]
    },
    {
     "name": "stdout",
     "output_type": "stream",
     "text": [
      "http://www.yonhapnewstv.co.kr/MYH20190603002100038/?did=1825m 에 들어갑니다.\n",
      "http://news.mt.co.kr/mtview.php?no=2019060316221864683 에 들어갑니다.\n",
      "http://news.einfomax.co.kr/news/articleView.html?idxno=4032920 에 들어갑니다.\n",
      "http://news.einfomax.co.kr/news/articleView.html?idxno=4032929 에 들어갑니다.\n",
      "http://www.newshankuk.com/news/content.asp?news_idx=201906040955420102 에 들어갑니다.\n",
      "http://news.heraldcorp.com/view.php?ud=20190604000466 에 들어갑니다.\n"
     ]
    },
    {
     "name": "stderr",
     "output_type": "stream",
     "text": [
      "Some characters could not be decoded, and were replaced with REPLACEMENT CHARACTER.\n"
     ]
    },
    {
     "name": "stdout",
     "output_type": "stream",
     "text": [
      "http://www.thescoop.co.kr/news/articleView.html?idxno=35244 에 들어갑니다.\n",
      "http://www.newspim.com/news/view/20190604000019 에 들어갑니다.\n",
      "http://www.newspim.com/news/view/20190604000015 에 들어갑니다.\n",
      "http://news.mtn.co.kr/newscenter/news_viewer.mtn?gidx=2019060407461121228 에 들어갑니다.\n",
      "http://news.einfomax.co.kr/news/articleView.html?idxno=4032949 에 들어갑니다.\n",
      "http://www.inews24.com/view/1183126 에 들어갑니다.\n",
      "http://www.segyefn.com/newsView/20190603001439?OutUrl=naver 에 들어갑니다.\n",
      "http://www.koreatimes.com/article/1250638 에 들어갑니다.\n",
      "http://yna.kr/AKR20190604055900083?did=1195m 에 들어갑니다.\n",
      "http://yna.kr/AKR20190604051300009?did=1195m 에 들어갑니다.\n",
      "http://news.einfomax.co.kr/news/articleView.html?idxno=4032954 에 들어갑니다.\n",
      "http://news.einfomax.co.kr/news/articleView.html?idxno=4032926 에 들어갑니다.\n",
      "http://news.einfomax.co.kr/news/articleView.html?idxno=4032945 에 들어갑니다.\n",
      "http://www.sportsworldi.com/content/html/2019/06/02/20190602505862.html 에 들어갑니다.\n",
      "http://news.einfomax.co.kr/news/articleView.html?idxno=4032751 에 들어갑니다.\n",
      "http://news.wowtv.co.kr/NewsCenter/News/Read?articleId=A201906030020&t=NNv 에 들어갑니다.\n",
      "http://news.einfomax.co.kr/news/articleView.html?idxno=4032782 에 들어갑니다.\n",
      "http://www.newspim.com/news/view/20190603001054 에 들어갑니다.\n",
      "http://www.etoday.co.kr/news/section/newsview.php?idxno=1762688 에 들어갑니다.\n",
      "https://cnbc.sbs.co.kr/article_hub/10000943769?division=NAVER 에 들어갑니다.\n",
      "http://www.newspim.com/news/view/20190603000859 에 들어갑니다.\n",
      "http://www.newspim.com/news/view/20190603000976 에 들어갑니다.\n",
      "http://news.einfomax.co.kr/news/articleView.html?idxno=4032890 에 들어갑니다.\n",
      "http://news.einfomax.co.kr/news/articleView.html?idxno=4032905 에 들어갑니다.\n",
      "http://news.mt.co.kr/mtview.php?no=2019060316030287615 에 들어갑니다.\n",
      "http://news.einfomax.co.kr/news/articleView.html?idxno=4032905 에 들어갑니다.\n",
      "http://news.mt.co.kr/mtview.php?no=2019060316030287615 에 들어갑니다.\n",
      "http://www.fntimes.com/html/view.php?ud=201906040737459034711237d2fe_18 에 들어갑니다.\n",
      "http://news1.kr/articles/?3637425 에 들어갑니다.\n",
      "http://news.mk.co.kr/newsRead.php?year=2019&no=375487 에 들어갑니다.\n",
      "http://www.ifs.or.kr/bbs/board.php?bo_table=news_board&wr_id=2453 에 들어갑니다.\n",
      "http://www.fnnews.com/news/201906022014497975 에 들어갑니다.\n",
      "http://www.segye.com/content/html/2019/06/02/20190602507402.html?OutUrl=naver 에 들어갑니다.\n",
      "http://news.khan.co.kr/kh_news/khan_art_view.html?artid=201906031531001&code=960100 에 들어갑니다.\n",
      "http://www.newspim.com/news/view/20190603000973 에 들어갑니다.\n",
      "http://economychosun.com/client/news/view.php?boardName=C12&t_num=13607130 에 들어갑니다.\n",
      "http://www.newspim.com/news/view/20190603000943 에 들어갑니다.\n",
      "http://www.inews24.com/view/1183114 에 들어갑니다.\n",
      "http://www.newsis.com/view/?id=NISX20190603_0000669509&cID=10101&pID=10100 에 들어갑니다.\n",
      "http://www.fntimes.com/html/view.php?ud=201906040603125343711237d2fe_18 에 들어갑니다.\n",
      "http://www.edaily.co.kr/news/newspath.asp?newsid=01118486622517784 에 들어갑니다.\n",
      "http://www.hani.co.kr/arti/economy/marketing/896335.html 에 들어갑니다.\n",
      "http://news.einfomax.co.kr/news/articleView.html?idxno=4032895 에 들어갑니다.\n",
      "http://news.jtbc.joins.com/article/article.aspx?news_id=NB11827155 에 들어갑니다.\n",
      "http://economychosun.com/client/news/view.php?boardName=C06&t_num=13607152 에 들어갑니다.\n",
      "http://news.jtbc.joins.com/article/article.aspx?news_id=NB11827155 에 들어갑니다.\n",
      "http://economychosun.com/client/news/view.php?boardName=C06&t_num=13607152 에 들어갑니다.\n",
      "https://view.asiae.co.kr/news/view.htm?idxno=2019060409174621141 에 들어갑니다.\n",
      "http://www.newspim.com/news/view/20190603000883 에 들어갑니다.\n",
      "http://news.kmib.co.kr/article/view.asp?arcid=0924081640&code=11142200&cp=nv 에 들어갑니다.\n",
      "http://news.mt.co.kr/mtview.php?no=2019060214393713456 에 들어갑니다.\n",
      "http://news1.kr/articles/?3637144 에 들어갑니다.\n",
      "https://view.asiae.co.kr/news/view.htm?idxno=2019060314383693810 에 들어갑니다.\n",
      "http://www.inews24.com/view/1183071 에 들어갑니다.\n",
      "http://economychosun.com/client/news/view.php?boardName=C12&t_num=13607131 에 들어갑니다.\n",
      "http://news.wowtv.co.kr/NewsCenter/News/Read?articleId=A201906030020&t=NNv 에 들어갑니다.\n",
      "https://www.seoul.co.kr/news/newsView.php?id=20190604010019&wlog_tag3=naver 에 들어갑니다.\n",
      "http://news.einfomax.co.kr/news/articleView.html?idxno=4032782 에 들어갑니다.\n",
      "http://www.shinailbo.co.kr/news/articleView.html?idxno=1172959 에 들어갑니다.\n",
      "http://www.newspim.com/news/view/20190603001054 에 들어갑니다.\n",
      "http://www.etoday.co.kr/news/section/newsview.php?idxno=1762688 에 들어갑니다.\n",
      "http://www.edaily.co.kr/news/newspath.asp?newsid=01990966622518112 에 들어갑니다.\n",
      "https://cnbc.sbs.co.kr/article_hub/10000943769?division=NAVER 에 들어갑니다.\n",
      "http://www.fntimes.com/html/view.php?ud=201906040929211124711237d2fe_18 에 들어갑니다.\n",
      "http://www.newspim.com/news/view/20190603000859 에 들어갑니다.\n"
     ]
    }
   ],
   "source": [
    "NAVER_SEARCH_URL = \"https://search.naver.com/search.naver\"\n",
    "query = \"무역전쟁\"\n",
    "\n",
    "news_list = []\n",
    "\n",
    "for i in range(1, 11):\n",
    "    start_var = 1 \n",
    "    params = {\n",
    "        'where': 'news',\n",
    "        'query': query,\n",
    "        'start': (i*10) + 1\n",
    "    }\n",
    "    # 검색 결과를 가져온다. (page 별로)\n",
    "    resp = requests.get(NAVER_SEARCH_URL, params=params)\n",
    "    # 검색 결과 soup\n",
    "    soup = BeautifulSoup(resp.content, 'html.parser')\n",
    "    \n",
    "    # ul ' ' 제거.\n",
    "    ul_contents = soup.find('ul', class_='type01')\n",
    "    new_ul = []\n",
    "    for content in ul_contents.contents:\n",
    "        if not str(content).strip():\n",
    "            continue\n",
    "        new_ul.append(content)\n",
    "    \n",
    "    # list 탐색\n",
    "    for li in new_ul:\n",
    "        news_dict = {}\n",
    "        a_tag = li.find('dl').find('dt').find('a')\n",
    "    \n",
    "        news_dict['link'] = a_tag['href']\n",
    "        news_dict['title'] = a_tag.text\n",
    "        \n",
    "        print(news_dict['link'], \"에 들어갑니다.\")\n",
    "        # 디테일 페이지 링크를 들어갑니다.\n",
    "        detail_resp = requests.get(news_dict['link'])\n",
    "        detail_soup = BeautifulSoup(detail_resp.content, \n",
    "                                    'html.parser')\n",
    "        news_dict['body'] = detail_soup.find('body')\n",
    "        \n",
    "        news_list.append(news_dict)\n",
    "\n"
   ]
  },
  {
   "cell_type": "markdown",
   "metadata": {},
   "source": [
    "# 실행순서"
   ]
  },
  {
   "cell_type": "markdown",
   "metadata": {},
   "source": [
    "1. url을 파악한다.\n",
    "2. url에 접속한다.\n",
    "3. html 파일을 soup로 만든다.\n",
    "4. soup에서 각 항목들을 정리한다.\n",
    "5. soup에서 상세페이지의 href를 가져온다.\n",
    "6. 각 상세페이지의 href를 requests.get()한다.\n",
    "7. soup로 만들고 상세페이지의 각 항목들을 정리한다.\n",
    "8. 반복문을 통해서 pagination을 이동한다.\n"
   ]
  },
  {
   "cell_type": "code",
   "execution_count": null,
   "metadata": {},
   "outputs": [],
   "source": []
  },
  {
   "cell_type": "markdown",
   "metadata": {},
   "source": [
    "# 뉴스토픽 가져오기"
   ]
  },
  {
   "cell_type": "markdown",
   "metadata": {},
   "source": [
    "### 개발순서\n",
    "1. "
   ]
  },
  {
   "cell_type": "code",
   "execution_count": 7,
   "metadata": {},
   "outputs": [],
   "source": [
    "resp = requests.get('https://search.naver.com/search.naver?&where=news&query=%EB%AC%B4%EC%97%AD%EC%A0%84%EC%9F%81&sm=tab_pge&sort=0&photo=0&field=0&reporter_article=&pd=0&ds=&de=&docid=&nso=so:r,p:all,a:all&mynews=0&cluster_rank=26&start=11&refresh_start=0')\n",
    "soup = BeautifulSoup(resp.content, 'html.parser')"
   ]
  },
  {
   "cell_type": "code",
   "execution_count": 8,
   "metadata": {},
   "outputs": [],
   "source": [
    "news_topic = soup.find('div', id=\"nxfr_htp\")"
   ]
  },
  {
   "cell_type": "code",
   "execution_count": 11,
   "metadata": {},
   "outputs": [
    {
     "data": {
      "text/plain": [
       "22"
      ]
     },
     "execution_count": 11,
     "metadata": {},
     "output_type": "execute_result"
    }
   ],
   "source": [
    "len(news_topic.find_all('li'))"
   ]
  },
  {
   "cell_type": "code",
   "execution_count": 12,
   "metadata": {},
   "outputs": [
    {
     "data": {
      "text/plain": [
       "<ol class=\"lst_realtime_srch _tab_area\"><li><a class=\"bx bx_item\" href=\"//search.naver.com/search.naver?where=nexearch&amp;sm=tab_htk.nws&amp;ie=utf8&amp;query=%EB%B6%88%EB%B2%95%ED%8F%90%EA%B8%B0%EB%AC%BC+%ED%8A%B9%EB%B3%84%EC%88%98%EC%82%AC%EB%8B%A8+%EB%B0%9C%EC%A1%B1\" onclick=\"return goOtherCR(this, 'a=htk.nwslist&amp;r=1&amp;i=&amp;u='+urlencode(urlexpand(this.href)));\"><span class=\"keyword\"><em class=\"num\">1</em><span class=\"tit\">불법폐기물 특별수사단 발족</span></span><em class=\"rank new\"><span class=\"spim\"></span><span>NEW</span></em></a></li><li><a class=\"bx bx_item\" href=\"//search.naver.com/search.naver?where=nexearch&amp;sm=tab_htk.nws&amp;ie=utf8&amp;query=%ED%95%9C%EC%84%A0%EA%B5%90+%EA%B8%B0%EC%9E%90%EB%93%A4+%ED%96%A5%ED%95%B4\" onclick=\"return goOtherCR(this, 'a=htk.nwslist&amp;r=2&amp;i=&amp;u='+urlencode(urlexpand(this.href)));\"><span class=\"keyword\"><em class=\"num\">2</em><span class=\"tit\">한선교 기자들 향해</span></span><em class=\"rank new\"><span class=\"spim\"></span><span>NEW</span></em></a></li><li><a class=\"bx bx_item\" href=\"//search.naver.com/search.naver?where=nexearch&amp;sm=tab_htk.nws&amp;ie=utf8&amp;query=%EA%B2%80%EC%B0%B0+%EC%BD%94%EC%98%A4%EB%A1%B1%EC%83%9D%EB%AA%85%EA%B3%BC%ED%95%99+%EC%95%95%EC%88%98%EC%88%98%EC%83%89\" onclick=\"return goOtherCR(this, 'a=htk.nwslist&amp;r=3&amp;i=&amp;u='+urlencode(urlexpand(this.href)));\"><span class=\"keyword\"><em class=\"num\">3</em><span class=\"tit\">검찰 코오롱생명과학 압수수색</span></span><em class=\"rank new\"><span class=\"spim\"></span><span>NEW</span></em></a></li><li><a class=\"bx bx_item\" href=\"//search.naver.com/search.naver?where=nexearch&amp;sm=tab_htk.nws&amp;ie=utf8&amp;query=%EA%B5%AD%EC%84%B8%EC%B2%AD+%EC%82%AC%EC%B9%AD\" onclick=\"return goOtherCR(this, 'a=htk.nwslist&amp;r=4&amp;i=&amp;u='+urlencode(urlexpand(this.href)));\"><span class=\"keyword\"><em class=\"num\">4</em><span class=\"tit\">국세청 사칭</span></span><em class=\"rank new\"><span class=\"spim\"></span><span>NEW</span></em></a></li><li><a class=\"bx bx_item\" href=\"//search.naver.com/search.naver?where=nexearch&amp;sm=tab_htk.nws&amp;ie=utf8&amp;query=%EB%8C%80%EC%9A%B0%EA%B1%B4%EC%84%A4+%EC%9D%84%EC%A7%80%EB%A1%9C%EC%8B%9C%EB%8C%80+%EA%B0%9C%EB%A7%89\" onclick=\"return goOtherCR(this, 'a=htk.nwslist&amp;r=5&amp;i=&amp;u='+urlencode(urlexpand(this.href)));\"><span class=\"keyword\"><em class=\"num\">5</em><span class=\"tit\">대우건설 을지로시대 개막</span></span><em class=\"rank new\"><span class=\"spim\"></span><span>NEW</span></em></a></li><li><a class=\"bx bx_item\" href=\"//search.naver.com/search.naver?where=nexearch&amp;sm=tab_htk.nws&amp;ie=utf8&amp;query=%EC%A0%95%EA%B2%BD%EB%91%90+%EA%B5%AD%EB%B0%A9\" onclick=\"return goOtherCR(this, 'a=htk.nwslist&amp;r=6&amp;i=&amp;u='+urlencode(urlexpand(this.href)));\"><span class=\"keyword\"><em class=\"num\">6</em><span class=\"tit\">정경두 국방</span></span><em class=\"rank new\"><span class=\"spim\"></span><span>NEW</span></em></a></li><li><a class=\"bx bx_item\" href=\"//search.naver.com/search.naver?where=nexearch&amp;sm=tab_htk.nws&amp;ie=utf8&amp;query=%EB%B0%98%EB%A0%A4%EA%B2%AC+%EC%88%98%EC%98%81%EB%8C%80%ED%9A%8C\" onclick=\"return goOtherCR(this, 'a=htk.nwslist&amp;r=7&amp;i=&amp;u='+urlencode(urlexpand(this.href)));\"><span class=\"keyword\"><em class=\"num\">7</em><span class=\"tit\">반려견 수영대회</span></span><em class=\"rank new\"><span class=\"spim\"></span><span>NEW</span></em></a></li><li><a class=\"bx bx_item\" href=\"//search.naver.com/search.naver?where=nexearch&amp;sm=tab_htk.nws&amp;ie=utf8&amp;query=%ED%95%9C%EB%AF%B8+%EA%B5%AD%EB%B0%A9%EC%9E%A5%EA%B4%80%ED%9A%8C%EB%8B%B4\" onclick=\"return goOtherCR(this, 'a=htk.nwslist&amp;r=8&amp;i=&amp;u='+urlencode(urlexpand(this.href)));\"><span class=\"keyword\"><em class=\"num\">8</em><span class=\"tit\">한미 국방장관회담</span></span><em class=\"rank new\"><span class=\"spim\"></span><span>NEW</span></em></a></li><li><a class=\"bx bx_item\" href=\"//search.naver.com/search.naver?where=nexearch&amp;sm=tab_htk.nws&amp;ie=utf8&amp;query=%EC%84%9C%EC%9A%B8%EC%97%B0%EA%B5%AC%EC%9B%90+%EB%AF%BC%EC%A3%BC%EC%97%B0%EA%B5%AC%EC%9B%90\" onclick=\"return goOtherCR(this, 'a=htk.nwslist&amp;r=9&amp;i=&amp;u='+urlencode(urlexpand(this.href)));\"><span class=\"keyword\"><em class=\"num\">9</em><span class=\"tit\">서울연구원 민주연구원</span></span><em class=\"rank new\"><span class=\"spim\"></span><span>NEW</span></em></a></li><li><a class=\"bx\" href=\"//search.naver.com/search.naver?where=nexearch&amp;sm=tab_htk.nws&amp;ie=utf8&amp;query=%EC%9C%A0%EC%8B%9C%EB%AF%BC+%ED%99%8D%EC%A4%80%ED%91%9C\" onclick=\"return goOtherCR(this, 'a=htk.nwslist&amp;r=10&amp;i=&amp;u='+urlencode(urlexpand(this.href)));\"><span class=\"keyword\"><em class=\"num\">10</em><span class=\"tit\">유시민 홍준표</span></span></a></li></ol>"
      ]
     },
     "execution_count": 12,
     "metadata": {},
     "output_type": "execute_result"
    }
   ],
   "source": [
    "news_topic = soup.find('ol', class_=\"lst_realtime_srch _tab_area\")\n",
    "news_topic"
   ]
  },
  {
   "cell_type": "markdown",
   "metadata": {},
   "source": [
    "### 방법 3개 "
   ]
  },
  {
   "cell_type": "markdown",
   "metadata": {},
   "source": [
    "### 1. contents 쓰기 "
   ]
  },
  {
   "cell_type": "code",
   "execution_count": 16,
   "metadata": {},
   "outputs": [
    {
     "data": {
      "text/plain": [
       "['불법폐기물 특별수사단 발족',\n",
       " '한선교 기자들 향해',\n",
       " '검찰 코오롱생명과학 압수수색',\n",
       " '국세청 사칭',\n",
       " '대우건설 을지로시대 개막',\n",
       " '정경두 국방',\n",
       " '반려견 수영대회',\n",
       " '한미 국방장관회담',\n",
       " '서울연구원 민주연구원',\n",
       " '유시민 홍준표']"
      ]
     },
     "execution_count": 16,
     "metadata": {},
     "output_type": "execute_result"
    }
   ],
   "source": [
    "li_tags = news_topic.contents\n",
    "new_list = []\n",
    "for t in li_tags:\n",
    "    title = t.find('span', class_=\"tit\").text\n",
    "    new_list.append(title)\n",
    "new_list"
   ]
  },
  {
   "cell_type": "markdown",
   "metadata": {},
   "source": [
    "### 2. siblings 쓰기"
   ]
  },
  {
   "cell_type": "code",
   "execution_count": 19,
   "metadata": {},
   "outputs": [
    {
     "data": {
      "text/plain": [
       "['불법폐기물 특별수사단 발족',\n",
       " '한선교 기자들 향해',\n",
       " '검찰 코오롱생명과학 압수수색',\n",
       " '국세청 사칭',\n",
       " '대우건설 을지로시대 개막',\n",
       " '정경두 국방',\n",
       " '반려견 수영대회',\n",
       " '한미 국방장관회담',\n",
       " '서울연구원 민주연구원',\n",
       " '유시민 홍준표']"
      ]
     },
     "execution_count": 19,
     "metadata": {},
     "output_type": "execute_result"
    }
   ],
   "source": [
    "li_tag = news_topic.li\n",
    "\n",
    "new_list2 = []\n",
    "\n",
    "title = li_tag.find('span', class_=\"tit\").text\n",
    "new_list2.append(title)\n",
    "\n",
    "for li in li_tag.find_next_siblings('li'):\n",
    "    title = li.find('span', class_=\"tit\").text\n",
    "    new_list2.append(title)\n",
    "    \n",
    "new_list2"
   ]
  },
  {
   "cell_type": "markdown",
   "metadata": {},
   "source": [
    "### 3. find_all(recursive=False) "
   ]
  },
  {
   "cell_type": "code",
   "execution_count": 27,
   "metadata": {},
   "outputs": [
    {
     "data": {
      "text/plain": [
       "10"
      ]
     },
     "execution_count": 27,
     "metadata": {},
     "output_type": "execute_result"
    }
   ],
   "source": [
    "li_list = news_topic.find_all('li', recursive=False)\n",
    "len(li_list)"
   ]
  },
  {
   "cell_type": "code",
   "execution_count": 26,
   "metadata": {},
   "outputs": [
    {
     "data": {
      "text/plain": [
       "['불법폐기물 특별수사단 발족',\n",
       " '한선교 기자들 향해',\n",
       " '검찰 코오롱생명과학 압수수색',\n",
       " '국세청 사칭',\n",
       " '대우건설 을지로시대 개막',\n",
       " '정경두 국방',\n",
       " '반려견 수영대회',\n",
       " '한미 국방장관회담',\n",
       " '서울연구원 민주연구원',\n",
       " '유시민 홍준표']"
      ]
     },
     "execution_count": 26,
     "metadata": {},
     "output_type": "execute_result"
    }
   ],
   "source": [
    "new_list3 = []\n",
    "for li in li_list:\n",
    "    title = li.find('span', class_=\"tit\").text\n",
    "    new_list3.append(title)\n",
    "    \n",
    "new_list3"
   ]
  },
  {
   "cell_type": "code",
   "execution_count": null,
   "metadata": {},
   "outputs": [],
   "source": []
  },
  {
   "cell_type": "code",
   "execution_count": 29,
   "metadata": {},
   "outputs": [],
   "source": [
    "resp =requests.get(\"https://blog.naver.com/pokara61/221545070553\")"
   ]
  },
  {
   "cell_type": "code",
   "execution_count": 31,
   "metadata": {},
   "outputs": [],
   "source": [
    "soup = BeautifulSoup(resp.content, 'html.parser')"
   ]
  },
  {
   "cell_type": "code",
   "execution_count": 33,
   "metadata": {},
   "outputs": [
    {
     "data": {
      "text/plain": [
       "<iframe allowfullscreen=\"\" id=\"mainFrame\" name=\"mainFrame\" onload=\"oFramesetTitleController.start(self.frames['mainFrame'], self, sTitle);oFramesetTitleController.onLoadFrame();oFramesetUrlController.start(self.frames['mainFrame']);oFramesetUrlController.onLoadFrame()\" scrolling=\"auto\" src=\"/PostView.nhn?blogId=pokara61&amp;logNo=221545070553&amp;redirect=Dlog&amp;widgetTypeCall=true&amp;directAccess=false\"></iframe>"
      ]
     },
     "execution_count": 33,
     "metadata": {},
     "output_type": "execute_result"
    }
   ],
   "source": [
    "soup.find(id=\"mainFrame\")"
   ]
  },
  {
   "cell_type": "code",
   "execution_count": null,
   "metadata": {},
   "outputs": [],
   "source": []
  }
 ],
 "metadata": {
  "kernelspec": {
   "display_name": "Python 3",
   "language": "python",
   "name": "python3"
  },
  "language_info": {
   "codemirror_mode": {
    "name": "ipython",
    "version": 3
   },
   "file_extension": ".py",
   "mimetype": "text/x-python",
   "name": "python",
   "nbconvert_exporter": "python",
   "pygments_lexer": "ipython3",
   "version": "3.6.8"
  }
 },
 "nbformat": 4,
 "nbformat_minor": 2
}
