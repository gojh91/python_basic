{
 "cells": [
  {
   "cell_type": "code",
   "execution_count": 1,
   "metadata": {},
   "outputs": [],
   "source": [
    "import requests\n",
    "from bs4 import BeautifulSoup"
   ]
  },
  {
   "cell_type": "code",
   "execution_count": 2,
   "metadata": {},
   "outputs": [
    {
     "name": "stdout",
     "output_type": "stream",
     "text": [
      "2019-06-12 13:47:47.141714\n",
      "2019-06-12\n"
     ]
    }
   ],
   "source": [
    "import datetime\n",
    "now = datetime.datetime.now()\n",
    "now\n",
    "print(now)          # 2015-04-19 12:11:32.669083\n",
    "nowDate = now.strftime('%Y-%m-%d')\n",
    "print(nowDate)      # 2015-04-19"
   ]
  },
  {
   "cell_type": "code",
   "execution_count": null,
   "metadata": {},
   "outputs": [],
   "source": [
    "temp = (now-datetime.timedelta(days=7)).strftime('%Y-%m-%d')\n",
    "temp"
   ]
  },
  {
   "cell_type": "code",
   "execution_count": null,
   "metadata": {},
   "outputs": [],
   "source": [
    "#날짜 정렬\n",
    "nowDate = now.strftime('%Y-%m-%d')  # 오늘 날짜\n",
    "day_set= (now-datetime.timedelta(days=1)).strftime('%Y-%m-%d') # 하루 전\n",
    "week_set = (now-datetime.timedelta(weeks=1)).strftime('%Y-%m-%d') # 일주일 전\n",
    "month_set = (now-datetime.timedelta(days=30)).strftime('%Y-%m-%d') # 한달 전 (30일로 기준잡음)\n",
    "print(nowDate)\n",
    "print(day_set)\n",
    "print(week_set)\n",
    "print(month_set)"
   ]
  },
  {
   "cell_type": "code",
   "execution_count": null,
   "metadata": {},
   "outputs": [],
   "source": [
    "youtube_url='https://www.youtube.com/results?'\n",
    "search_query='제이플라' #검색\n",
    "\n",
    "sort_many='&sp=CAM%253D' # 조회순\n",
    "sort_evaluate = '&sp=CAE%253D' # 평점순"
   ]
  },
  {
   "cell_type": "code",
   "execution_count": null,
   "metadata": {},
   "outputs": [],
   "source": [
    "def myquery_week(query,startdate=week_set,enddate=nowDate):\n",
    "    youtube_url='https://www.youtube.com/results?' #유튜브 검색 기본 url\n",
    "    sort='&sp=CAM%253D' # 조회수 많은 순 (키워드 땀)\n",
    "    my_query=youtube_url+'search_query='+str(query)+'+after%3A'+str(startdate)+'+before%3A'+str(enddate)+sort    \n",
    "    return my_query   \n",
    "print(myquery_week(search_query))"
   ]
  },
  {
   "cell_type": "code",
   "execution_count": null,
   "metadata": {},
   "outputs": [],
   "source": [
    "def myquery_day(query,startdate=day_set,enddate=nowDate):\n",
    "    youtube_url='https://www.youtube.com/results?'\n",
    "    sort='&sp=CAM%253D'\n",
    "    my_query=youtube_url+'search_query='+str(query)+'+after%3A'+str(startdate)+'+before%3A'+str(enddate)+sort\n",
    "    return my_query\n",
    "print(myquery_day(search_query))"
   ]
  },
  {
   "cell_type": "code",
   "execution_count": null,
   "metadata": {},
   "outputs": [],
   "source": [
    "def myquery_month(query,startdate=month_set,enddate=nowDate):\n",
    "    youtube_url='https://www.youtube.com/results?'\n",
    "    sort='&sp=CAM%253D'\n",
    "    my_query=youtube_url+'search_query='+str(query)+'+after%3A'+str(startdate)+'+before%3A'+str(enddate)+sort\n",
    "    return my_query\n",
    "print(myquery_month(search_query))"
   ]
  },
  {
   "cell_type": "code",
   "execution_count": null,
   "metadata": {
    "scrolled": true
   },
   "outputs": [],
   "source": [
    "myquery_day_url=myquery_day(search_query)\n",
    "myquery_week_url=myquery_week(search_query)\n",
    "myquery_month_url=myquery_month(search_query)"
   ]
  },
  {
   "cell_type": "code",
   "execution_count": null,
   "metadata": {},
   "outputs": [],
   "source": [
    "resp_day = requests.get(myquery_day_url)\n",
    "print(resp_day)"
   ]
  },
  {
   "cell_type": "code",
   "execution_count": null,
   "metadata": {},
   "outputs": [],
   "source": [
    "resp_day.content"
   ]
  },
  {
   "cell_type": "markdown",
   "metadata": {},
   "source": [
    "video_info = {\n",
    "'title':'',\n",
    "'video_link':'',\n",
    "'img_link':'',\n",
    "'play_time':'',\n",
    "'hits' : '',\n",
    "'updated_time':''\n",
    "}"
   ]
  },
  {
   "cell_type": "code",
   "execution_count": null,
   "metadata": {},
   "outputs": [],
   "source": [
    "test_resp = requests.get(myquery_day(search_query))\n",
    "soup = BeautifulSoup(test_resp.content, 'html.parser')\n",
    "temp=soup.find('div',class_ = 'style-scope ytd-item-section-renderer')"
   ]
  },
  {
   "cell_type": "code",
   "execution_count": null,
   "metadata": {},
   "outputs": [],
   "source": [
    "test_resp = requests.get(myquery_day(search_query))\n",
    "test_resp.content"
   ]
  },
  {
   "cell_type": "code",
   "execution_count": null,
   "metadata": {},
   "outputs": [],
   "source": [
    "list_find=soup.find_all('div',class_='yt-lockup-content')"
   ]
  },
  {
   "cell_type": "code",
   "execution_count": null,
   "metadata": {},
   "outputs": [],
   "source": [
    "temp=list_find[0].find('a')"
   ]
  },
  {
   "cell_type": "code",
   "execution_count": null,
   "metadata": {},
   "outputs": [],
   "source": [
    "list_img = soup.find_all('img')\n",
    "list_img"
   ]
  },
  {
   "cell_type": "code",
   "execution_count": null,
   "metadata": {},
   "outputs": [],
   "source": [
    "temp"
   ]
  },
  {
   "cell_type": "code",
   "execution_count": null,
   "metadata": {},
   "outputs": [],
   "source": [
    "print(temp['title'])\n",
    "print(\"https://www.youtube.com/\"+temp['href'])"
   ]
  },
  {
   "cell_type": "code",
   "execution_count": null,
   "metadata": {},
   "outputs": [],
   "source": [
    "list_find[0]"
   ]
  },
  {
   "cell_type": "code",
   "execution_count": null,
   "metadata": {},
   "outputs": [],
   "source": [
    "soup"
   ]
  },
  {
   "cell_type": "code",
   "execution_count": null,
   "metadata": {},
   "outputs": [],
   "source": [
    "temp_list2=soup.find_all('div', class_='yt-lockup yt-lockup-tile yt-lockup-playlist vve-check clearfix')"
   ]
  },
  {
   "cell_type": "code",
   "execution_count": null,
   "metadata": {},
   "outputs": [],
   "source": [
    "soup.find_all('ol')"
   ]
  },
  {
   "cell_type": "code",
   "execution_count": null,
   "metadata": {},
   "outputs": [],
   "source": []
  },
  {
   "cell_type": "code",
   "execution_count": null,
   "metadata": {},
   "outputs": [],
   "source": [
    "temp_list2[0].find('img')['src']"
   ]
  },
  {
   "cell_type": "code",
   "execution_count": null,
   "metadata": {},
   "outputs": [],
   "source": [
    "temp_list2[0]"
   ]
  },
  {
   "cell_type": "code",
   "execution_count": null,
   "metadata": {},
   "outputs": [],
   "source": [
    "resp_month = requests.get(myquery_month_url)  ###  month_url\n",
    "resp_month"
   ]
  },
  {
   "cell_type": "code",
   "execution_count": null,
   "metadata": {},
   "outputs": [],
   "source": [
    "soup_month = BeautifulSoup(resp_month.content, 'html.parser')\n",
    "temp_month=soup_month.find_all('div', class_='yt-lockup yt-lockup-tile yt-lockup-playlist vve-check clearfix') # 플레이리스트\n",
    "temp_temp = soup_month.find_all('div',class_= 'yt-lockup yt-lockup-tile yt-lockup-video vve-check clearfix') # 비디오"
   ]
  },
  {
   "cell_type": "code",
   "execution_count": null,
   "metadata": {},
   "outputs": [],
   "source": [
    "temp_month[0]"
   ]
  },
  {
   "cell_type": "code",
   "execution_count": null,
   "metadata": {},
   "outputs": [],
   "source": [
    "temp_temp = soup_month.find_all('div',class_= 'yt-lockup yt-lockup-tile yt-lockup-video vve-check clearfix')"
   ]
  },
  {
   "cell_type": "code",
   "execution_count": null,
   "metadata": {},
   "outputs": [],
   "source": [
    "temp_temp[0]"
   ]
  },
  {
   "cell_type": "code",
   "execution_count": null,
   "metadata": {},
   "outputs": [],
   "source": [
    "resp_month = requests.get(myquery_month_url)  ###  month_url\n",
    "soup_month = BeautifulSoup(resp_month.content, 'html.parser')\n",
    "#temp_month=soup_month.find_all('div', class_='yt-lockup yt-lockup-tile yt-lockup-playlist vve-check clearfix') # 플레이리스트\n",
    "#temp_temp = soup_month.find_all('div',class_= 'yt-lockup yt-lockup-tile yt-lockup-video vve-check clearfix') # 비디오\n",
    "\n",
    "ol_temp = soup_month.find('ol', class_='item-section')\n",
    "li_list = ol_temp.find_all('li')\n",
    "new_list = [val for idx,val in enumerate(li_list) if val.find('div')]\n",
    "print(len(li_list))\n",
    "print(len(new_list))"
   ]
  },
  {
   "cell_type": "code",
   "execution_count": null,
   "metadata": {
    "scrolled": true
   },
   "outputs": [],
   "source": [
    "video_list=[]\n",
    "\n",
    "for i in new_list:\n",
    "    video_info = {\n",
    "        'title':'',\n",
    "        'video_link':'',\n",
    "        'img_link':'',\n",
    "        'play_time':'',\n",
    "        'hits' : '',\n",
    "        'updated_time':''\n",
    "        }\n",
    "   \n",
    "    #print(\"타이틀\"+i.find('div',class_=\"yt-lockup-content\").find('a')['title'])\n",
    "    video_info['title'] = i.find('div',class_=\"yt-lockup-content\").find('a')['title']\n",
    "    \n",
    "    if i.find('img')['src'].find('http')>=0:\n",
    "       # print(\"이미지 링크:\"+i.find('img')['src'])\n",
    "        video_info['img_link'] = i.find('img')['src']\n",
    "    else:\n",
    "       # print(\"이미지 링크:\"+i.find('img')['data-thumb'])\n",
    "        video_info['img_link'] = i.find('img')['data-thumb']\n",
    "        \n",
    "    #print(\"동영상 링크:\"+\"https://www.youtube.com/\"+i.find('div',class_=\"yt-lockup-content\").find('a')['href'])\n",
    "    video_info['video_link'] = \"https://www.youtube.com/\"+i.find('div',class_=\"yt-lockup-content\").find('a')['href']\n",
    "    \n",
    "    #print(i.find('div',class_=\"yt-lockup-content\").find('span',class_=\"accessible-description\").text)\n",
    "    video_info['play_time'] = i.find('div',class_=\"yt-lockup-content\").find('span',class_=\"accessible-description\").text\n",
    "    \n",
    "    # <ul class=\"yt-lockup-meta-info\"><li>2일 전</li><li>조회수 1,207,052회</li></ul>\n",
    "    #div class=\"yt-lockup yt-lockup-tile yt-lockup-playlist vve-check clearfix\"\n",
    "    \n",
    "    if i.find('div',class_='yt-lockup yt-lockup-tile yt-lockup-video vve-check clearfix'):       \n",
    "        #print(i.find('div',class_=\"yt-lockup-content\").find('ul', class_=\"yt-lockup-meta-info\").find_all('li')[0].text)\n",
    "        video_info['updated_time'] = i.find('div',class_=\"yt-lockup-content\").find('ul', class_=\"yt-lockup-meta-info\").find_all('li')[0].text\n",
    "        #print(i.find('div',class_=\"yt-lockup-content\").find('ul', class_=\"yt-lockup-meta-info\").find_all('li')[1].text)\n",
    "        video_info['hits'] = i.find('div',class_=\"yt-lockup-content\").find('ul', class_=\"yt-lockup-meta-info\").find_all('li')[1].text\n",
    "        \n",
    "    video_list.append(video_info)"
   ]
  },
  {
   "cell_type": "code",
   "execution_count": null,
   "metadata": {},
   "outputs": [],
   "source": [
    "for i in video_list:\n",
    "    print(\"-\"*100)\n",
    "    print(\"타이틀:\"+i['title'])\n",
    "    print(\"비디오 링크:\"+i['video_link'])\n",
    "    print(\"썸네일 링크:\"+i['img_link'])\n",
    "    print(\"플레이 시간:\"+i['play_time'])\n",
    "    print(\"조회수:\"+i['hits'])\n",
    "    print(\"업로드 기간:\"+i['updated_time'])    "
   ]
  },
  {
   "cell_type": "code",
   "execution_count": null,
   "metadata": {},
   "outputs": [],
   "source": [
    "resp_week = requests.get(myquery_week_url)  ###  month_url\n",
    "soup_week = BeautifulSoup(resp_week.content, 'html.parser')\n",
    "#temp_month=soup_month.find_all('div', class_='yt-lockup yt-lockup-tile yt-lockup-playlist vve-check clearfix') # 플레이리스트\n",
    "#temp_temp = soup_month.find_all('div',class_= 'yt-lockup yt-lockup-tile yt-lockup-video vve-check clearfix') # 비디오\n",
    "\n",
    "ol_temp_week = soup_week.find('ol', class_='item-section')\n",
    "li_list_week = ol_temp_week.find_all('li')\n",
    "new_list_week = [val for idx,val in enumerate(li_list_week) if val.find('div')]\n",
    "print(len(li_list_week))\n",
    "print(len(new_list_week))"
   ]
  },
  {
   "cell_type": "code",
   "execution_count": null,
   "metadata": {},
   "outputs": [],
   "source": [
    "video_list_week=[]\n",
    "\n",
    "for i in new_list_week:\n",
    "    video_info = {\n",
    "        'title':'',\n",
    "        'video_link':'',\n",
    "        'img_link':'',\n",
    "        'play_time':'',\n",
    "        'hits' : '',\n",
    "        'updated_time':''\n",
    "        }\n",
    "   \n",
    "    #print(\"타이틀\"+i.find('div',class_=\"yt-lockup-content\").find('a')['title'])\n",
    "    video_info['title'] = i.find('div',class_=\"yt-lockup-content\").find('a')['title']\n",
    "    \n",
    "    if i.find('img')['src'].find('http')>=0:\n",
    "       # print(\"이미지 링크:\"+i.find('img')['src'])\n",
    "        video_info['img_link'] = i.find('img')['src']\n",
    "    else:\n",
    "       # print(\"이미지 링크:\"+i.find('img')['data-thumb'])\n",
    "        video_info['img_link'] = i.find('img')['data-thumb']\n",
    "        \n",
    "    #print(\"동영상 링크:\"+\"https://www.youtube.com/\"+i.find('div',class_=\"yt-lockup-content\").find('a')['href'])\n",
    "    video_info['video_link'] = \"https://www.youtube.com/\"+i.find('div',class_=\"yt-lockup-content\").find('a')['href']\n",
    "    \n",
    "    #print(i.find('div',class_=\"yt-lockup-content\").find('span',class_=\"accessible-description\").text)\n",
    "    video_info['play_time'] = i.find('div',class_=\"yt-lockup-content\").find('span',class_=\"accessible-description\").text\n",
    "    \n",
    "    # <ul class=\"yt-lockup-meta-info\"><li>2일 전</li><li>조회수 1,207,052회</li></ul>\n",
    "    #div class=\"yt-lockup yt-lockup-tile yt-lockup-playlist vve-check clearfix\"\n",
    "    \n",
    "    if i.find('div',class_='yt-lockup yt-lockup-tile yt-lockup-video vve-check clearfix'):       \n",
    "        #print(i.find('div',class_=\"yt-lockup-content\").find('ul', class_=\"yt-lockup-meta-info\").find_all('li')[0].text)\n",
    "        video_info['updated_time'] = i.find('div',class_=\"yt-lockup-content\").find('ul', class_=\"yt-lockup-meta-info\").find_all('li')[0].text\n",
    "        #print(i.find('div',class_=\"yt-lockup-content\").find('ul', class_=\"yt-lockup-meta-info\").find_all('li')[1].text)\n",
    "        video_info['hits'] = i.find('div',class_=\"yt-lockup-content\").find('ul', class_=\"yt-lockup-meta-info\").find_all('li')[1].text\n",
    "        \n",
    "    video_list_week.append(video_info)"
   ]
  },
  {
   "cell_type": "code",
   "execution_count": null,
   "metadata": {},
   "outputs": [],
   "source": [
    "for i in video_list_week:\n",
    "    print(\"-\"*100)\n",
    "    print(\"타이틀:\"+i['title'])\n",
    "    print(\"비디오 링크:\"+i['video_link'])\n",
    "    print(\"썸네일 링크:\"+i['img_link'])\n",
    "    print(\"플레이 시간:\"+i['play_time'])\n",
    "    print(\"조회수:\"+i['hits'])\n",
    "    print(\"업로드 기간:\"+i['updated_time'])    "
   ]
  },
  {
   "cell_type": "code",
   "execution_count": null,
   "metadata": {},
   "outputs": [],
   "source": []
  }
 ],
 "metadata": {
  "kernelspec": {
   "display_name": "Python 3",
   "language": "python",
   "name": "python3"
  },
  "language_info": {
   "codemirror_mode": {
    "name": "ipython",
    "version": 3
   },
   "file_extension": ".py",
   "mimetype": "text/x-python",
   "name": "python",
   "nbconvert_exporter": "python",
   "pygments_lexer": "ipython3",
   "version": "3.6.8"
  }
 },
 "nbformat": 4,
 "nbformat_minor": 2
}
