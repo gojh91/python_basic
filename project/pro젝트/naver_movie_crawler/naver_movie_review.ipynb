{
 "cells": [
  {
   "cell_type": "code",
   "execution_count": null,
   "metadata": {},
   "outputs": [],
   "source": [
    "import requests\n",
    "from bs4 import BeautifulSoup\n",
    "from pprint import pprint\n",
    "import json"
   ]
  },
  {
   "cell_type": "markdown",
   "metadata": {},
   "source": [
    "# 네이버 영화 code 구하기"
   ]
  },
  {
   "cell_type": "code",
   "execution_count": null,
   "metadata": {},
   "outputs": [],
   "source": [
    "# https://movie.naver.com/movie/search/result.nhn?query=기생충&section=all&ie=utf8"
   ]
  },
  {
   "cell_type": "code",
   "execution_count": null,
   "metadata": {},
   "outputs": [],
   "source": [
    "def searchMovieName(movieName):\n",
    "    MOVIE_SERCH_URL = \"https://movie.naver.com/movie/search/result.nhn?\"\n",
    "    # query=기생충&section=all&ie=utf8\n",
    "    # movieName = \"기생충\"\n",
    "    params = {\n",
    "        \"query\" : movieName,\n",
    "        \"section\" : \"all\",\n",
    "        \"ie\" : \"utf8\"\n",
    "    }\n",
    "\n",
    "    resp = requests.get(MOVIE_SERCH_URL, params = params)\n",
    "    soup = BeautifulSoup(resp.content, \"html.parser\")\n",
    "\n",
    "    movieCode = soup.find(\"p\", class_ = \"result_thumb\").a[\"href\"][-6:]\n",
    "\n",
    "    return movieCode"
   ]
  },
  {
   "cell_type": "code",
   "execution_count": null,
   "metadata": {},
   "outputs": [],
   "source": [
    "resp = requests.get(MOVIE_SERCH_URL, params = params)\n",
    "soup = BeautifulSoup(resp.content, \"html.parser\")"
   ]
  },
  {
   "cell_type": "code",
   "execution_count": null,
   "metadata": {},
   "outputs": [],
   "source": [
    "movieCode = soup.find(\"p\", class_ = \"result_thumb\").a[\"href\"][-6:]\n"
   ]
  },
  {
   "cell_type": "markdown",
   "metadata": {},
   "source": [
    "# 네이버 영화 리뷰 Crawling"
   ]
  },
  {
   "cell_type": "code",
   "execution_count": null,
   "metadata": {},
   "outputs": [],
   "source": [
    "# review basic\n",
    "def movieReviewCrawling(movieCode):\n",
    "    categoryDic = {\n",
    "        \"review\" : \"review\",\n",
    "        \"reviewread\" : \"reviewread\",\n",
    "        \"end\" : \".nhn?\"\n",
    "    }\n",
    "\n",
    "    # code=136900\n",
    "    MOVIE_URL = \"https://movie.naver.com\"\n",
    "    TAG = \"/movie/bi/mi/\"\n",
    "    REVIEW_URL = MOVIE_URL + TAG + categoryDic['review'] + categoryDic['end']\n",
    "    # movieCode = \"136900\"\n",
    "\n",
    "    params = {\n",
    "        \"code\" : movieCode\n",
    "    }\n",
    "\n",
    "    resp = requests.get(REVIEW_URL, params = params)\n",
    "    \n",
    "    soup = BeautifulSoup(resp.content, \"html.parser\")\n",
    "    ulContents = soup.find(\"ul\", class_ = \"rvw_list_area\")\n",
    "    return doCrawling(ulContents)\n"
   ]
  },
  {
   "cell_type": "code",
   "execution_count": null,
   "metadata": {},
   "outputs": [],
   "source": [
    "soup = BeautifulSoup(resp.content, \"html.parser\")\n",
    "ulContents = soup.find(\"ul\", class_ = \"rvw_list_area\")\n",
    "pagingContents = soup.find(\"div\", class_ = \"paging\")#.find_next_sibling"
   ]
  },
  {
   "cell_type": "code",
   "execution_count": null,
   "metadata": {},
   "outputs": [],
   "source": [
    "reviewPageList = []\n",
    "for div in pagingContents:\n",
    "    if(div == \"\\n\"):\n",
    "        continue\n",
    "    for i in div:\n",
    "        if(i == \"\\n\"):\n",
    "            continue\n",
    "        reviewPageList.append(i)\n",
    "\n",
    "reviewPageList.pop()\n"
   ]
  },
  {
   "cell_type": "code",
   "execution_count": null,
   "metadata": {},
   "outputs": [],
   "source": [
    "reviewPageList"
   ]
  },
  {
   "cell_type": "code",
   "execution_count": null,
   "metadata": {},
   "outputs": [],
   "source": [
    "for i in reviewPageList:\n",
    "    print(MOVIE_URL+i[\"href\"])"
   ]
  },
  {
   "cell_type": "code",
   "execution_count": null,
   "metadata": {},
   "outputs": [],
   "source": [
    "def doCrawling(ulContents):\n",
    "    reviewList = []\n",
    "    # print(list(ulContents))\n",
    "    for li in ulContents:\n",
    "        reviewDic = {}\n",
    "\n",
    "        if(li == \"\\n\"):\n",
    "            continue\n",
    "\n",
    "        liSpan = li.span\n",
    "        nid = str(liSpan).split(\"showReviewListByNid\")[1][2:9]\n",
    "        reviewDic[\"title\"] = li.find(\"a\").text.strip()\n",
    "        reviewDic[\"date\"] = liSpan.em.text.strip()\n",
    "        reviewDic[\"recommend\"] = liSpan.em.find_next_sibling().text[3:].strip()\n",
    "        reviewDic[\"previewText\"] = liSpan.find_next_sibling().a.text.strip()\n",
    "        reviewDic[\"nid\"] = nid\n",
    "\n",
    "        # detail ----------------------------------------------------\n",
    "\n",
    "        DETAIL_REVIEW_URL = MOVIE_URL + TAG + categoryDic['reviewread'] + categoryDic['end']\n",
    "\n",
    "        detailParams = {\n",
    "            \"nid\" : nid,\n",
    "            \"code\" : movieCode\n",
    "        }\n",
    "\n",
    "        detailResp = requests.get(DETAIL_REVIEW_URL, params = detailParams)\n",
    "        detailSoup = BeautifulSoup(detailResp.content, \"html.parser\")\n",
    "        detailDivContents = detailSoup.find_all(\"div\", class_ = \"user_tx_area\")\n",
    "        tempStr = \"\"\n",
    "#         print(detailDivContents)\n",
    "        for i in detailDivContents:\n",
    "            temp = i.find(\"span\")\n",
    "            if type(temp) != int and temp != None and temp.text != \"\\n\":\n",
    "                tempStr += temp.text\n",
    "\n",
    "        # detail ----------------------------------------------------\n",
    "\n",
    "        reviewDic[\"fullText\"] = tempStr\n",
    "\n",
    "\n",
    "        reviewList.append(reviewDic)\n",
    "    return reviewList"
   ]
  },
  {
   "cell_type": "code",
   "execution_count": null,
   "metadata": {},
   "outputs": [],
   "source": [
    "# https://movie.naver.com/movie/bi/mi/review.nhn?code=136900\n",
    "# https://movie.naver.com/movie/bi/mi/reviewread.nhn?nid=4007591&code=136900\n",
    "# https://movie.naver.com/movie/bi/mi/reviewread.nhn?nid=4699039&code=136900&order=#tab\n",
    "# reviewList"
   ]
  },
  {
   "cell_type": "code",
   "execution_count": null,
   "metadata": {},
   "outputs": [],
   "source": [
    "\n"
   ]
  },
  {
   "cell_type": "code",
   "execution_count": null,
   "metadata": {},
   "outputs": [],
   "source": []
  },
  {
   "cell_type": "code",
   "execution_count": null,
   "metadata": {},
   "outputs": [],
   "source": []
  },
  {
   "cell_type": "code",
   "execution_count": null,
   "metadata": {},
   "outputs": [],
   "source": []
  },
  {
   "cell_type": "code",
   "execution_count": null,
   "metadata": {},
   "outputs": [],
   "source": []
  },
  {
   "cell_type": "markdown",
   "metadata": {},
   "source": [
    "# Main method"
   ]
  },
  {
   "cell_type": "code",
   "execution_count": null,
   "metadata": {},
   "outputs": [],
   "source": [
    "movieName = input(\"영화 제목 입력: \")\n",
    "movieCode = searchMovieName(movieName)\n",
    "reviewList = movieReviewCrawling(movieCode)\n",
    "\n",
    "pprint(reviewList)\n",
    "# with open(f\"{movieName}.json\", 'w', encoding='utf-8') as file :\n",
    "#         json.dump(reviewList, file, ensure_ascii=False, indent='\\t')"
   ]
  },
  {
   "cell_type": "code",
   "execution_count": null,
   "metadata": {},
   "outputs": [],
   "source": []
  }
 ],
 "metadata": {
  "kernelspec": {
   "display_name": "Python 3",
   "language": "python",
   "name": "python3"
  },
  "language_info": {
   "codemirror_mode": {
    "name": "ipython",
    "version": 3
   },
   "file_extension": ".py",
   "mimetype": "text/x-python",
   "name": "python",
   "nbconvert_exporter": "python",
   "pygments_lexer": "ipython3",
   "version": "3.7.3"
  }
 },
 "nbformat": 4,
 "nbformat_minor": 2
}
