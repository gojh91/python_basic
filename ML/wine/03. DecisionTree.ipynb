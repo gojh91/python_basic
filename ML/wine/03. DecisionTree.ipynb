{
 "cells": [
  {
   "cell_type": "markdown",
   "metadata": {},
   "source": [
    "# Decision Tree"
   ]
  },
  {
   "cell_type": "code",
   "execution_count": 19,
   "metadata": {},
   "outputs": [],
   "source": [
    "import os\n",
    "import pandas as pd\n",
    "import numpy as np\n",
    "from matplotlib import pyplot as plt\n",
    "\n",
    "try:\n",
    "    import graphviz # pip install \n",
    "except:\n",
    "    !pip install graphviz\n",
    "    import graphviz\n"
   ]
  },
  {
   "cell_type": "code",
   "execution_count": 20,
   "metadata": {},
   "outputs": [],
   "source": [
    "DATASET_DIR = os.path.join(os.path.dirname(os.getcwd()), 'datasets')"
   ]
  },
  {
   "cell_type": "code",
   "execution_count": 21,
   "metadata": {},
   "outputs": [],
   "source": [
    "red_file = os.path.join(DATASET_DIR, 'winequality-red.csv')\n",
    "white_file = os.path.join(DATASET_DIR, 'winequality-white.csv')"
   ]
  },
  {
   "cell_type": "code",
   "execution_count": 22,
   "metadata": {},
   "outputs": [],
   "source": [
    "wine_red = pd.read_csv(red_file, sep=';')\n",
    "wine_white = pd.read_csv(white_file, sep=';')"
   ]
  },
  {
   "cell_type": "code",
   "execution_count": 23,
   "metadata": {
    "scrolled": true
   },
   "outputs": [
    {
     "data": {
      "text/html": [
       "<div>\n",
       "<style scoped>\n",
       "    .dataframe tbody tr th:only-of-type {\n",
       "        vertical-align: middle;\n",
       "    }\n",
       "\n",
       "    .dataframe tbody tr th {\n",
       "        vertical-align: top;\n",
       "    }\n",
       "\n",
       "    .dataframe thead th {\n",
       "        text-align: right;\n",
       "    }\n",
       "</style>\n",
       "<table border=\"1\" class=\"dataframe\">\n",
       "  <thead>\n",
       "    <tr style=\"text-align: right;\">\n",
       "      <th></th>\n",
       "      <th>fixed acidity</th>\n",
       "      <th>volatile acidity</th>\n",
       "      <th>citric acid</th>\n",
       "      <th>residual sugar</th>\n",
       "      <th>chlorides</th>\n",
       "      <th>free sulfur dioxide</th>\n",
       "      <th>total sulfur dioxide</th>\n",
       "      <th>density</th>\n",
       "      <th>pH</th>\n",
       "      <th>sulphates</th>\n",
       "      <th>alcohol</th>\n",
       "      <th>quality</th>\n",
       "    </tr>\n",
       "  </thead>\n",
       "  <tbody>\n",
       "    <tr>\n",
       "      <th>0</th>\n",
       "      <td>7.4</td>\n",
       "      <td>0.70</td>\n",
       "      <td>0.00</td>\n",
       "      <td>1.9</td>\n",
       "      <td>0.076</td>\n",
       "      <td>11.0</td>\n",
       "      <td>34.0</td>\n",
       "      <td>0.9978</td>\n",
       "      <td>3.51</td>\n",
       "      <td>0.56</td>\n",
       "      <td>9.4</td>\n",
       "      <td>5</td>\n",
       "    </tr>\n",
       "    <tr>\n",
       "      <th>1</th>\n",
       "      <td>7.8</td>\n",
       "      <td>0.88</td>\n",
       "      <td>0.00</td>\n",
       "      <td>2.6</td>\n",
       "      <td>0.098</td>\n",
       "      <td>25.0</td>\n",
       "      <td>67.0</td>\n",
       "      <td>0.9968</td>\n",
       "      <td>3.20</td>\n",
       "      <td>0.68</td>\n",
       "      <td>9.8</td>\n",
       "      <td>5</td>\n",
       "    </tr>\n",
       "    <tr>\n",
       "      <th>2</th>\n",
       "      <td>7.8</td>\n",
       "      <td>0.76</td>\n",
       "      <td>0.04</td>\n",
       "      <td>2.3</td>\n",
       "      <td>0.092</td>\n",
       "      <td>15.0</td>\n",
       "      <td>54.0</td>\n",
       "      <td>0.9970</td>\n",
       "      <td>3.26</td>\n",
       "      <td>0.65</td>\n",
       "      <td>9.8</td>\n",
       "      <td>5</td>\n",
       "    </tr>\n",
       "    <tr>\n",
       "      <th>3</th>\n",
       "      <td>11.2</td>\n",
       "      <td>0.28</td>\n",
       "      <td>0.56</td>\n",
       "      <td>1.9</td>\n",
       "      <td>0.075</td>\n",
       "      <td>17.0</td>\n",
       "      <td>60.0</td>\n",
       "      <td>0.9980</td>\n",
       "      <td>3.16</td>\n",
       "      <td>0.58</td>\n",
       "      <td>9.8</td>\n",
       "      <td>6</td>\n",
       "    </tr>\n",
       "    <tr>\n",
       "      <th>4</th>\n",
       "      <td>7.4</td>\n",
       "      <td>0.70</td>\n",
       "      <td>0.00</td>\n",
       "      <td>1.9</td>\n",
       "      <td>0.076</td>\n",
       "      <td>11.0</td>\n",
       "      <td>34.0</td>\n",
       "      <td>0.9978</td>\n",
       "      <td>3.51</td>\n",
       "      <td>0.56</td>\n",
       "      <td>9.4</td>\n",
       "      <td>5</td>\n",
       "    </tr>\n",
       "  </tbody>\n",
       "</table>\n",
       "</div>"
      ],
      "text/plain": [
       "   fixed acidity  volatile acidity  citric acid  residual sugar  chlorides  \\\n",
       "0            7.4              0.70         0.00             1.9      0.076   \n",
       "1            7.8              0.88         0.00             2.6      0.098   \n",
       "2            7.8              0.76         0.04             2.3      0.092   \n",
       "3           11.2              0.28         0.56             1.9      0.075   \n",
       "4            7.4              0.70         0.00             1.9      0.076   \n",
       "\n",
       "   free sulfur dioxide  total sulfur dioxide  density    pH  sulphates  \\\n",
       "0                 11.0                  34.0   0.9978  3.51       0.56   \n",
       "1                 25.0                  67.0   0.9968  3.20       0.68   \n",
       "2                 15.0                  54.0   0.9970  3.26       0.65   \n",
       "3                 17.0                  60.0   0.9980  3.16       0.58   \n",
       "4                 11.0                  34.0   0.9978  3.51       0.56   \n",
       "\n",
       "   alcohol  quality  \n",
       "0      9.4        5  \n",
       "1      9.8        5  \n",
       "2      9.8        5  \n",
       "3      9.8        6  \n",
       "4      9.4        5  "
      ]
     },
     "execution_count": 23,
     "metadata": {},
     "output_type": "execute_result"
    }
   ],
   "source": [
    "wine_red.head()"
   ]
  },
  {
   "cell_type": "code",
   "execution_count": 24,
   "metadata": {
    "scrolled": true
   },
   "outputs": [
    {
     "data": {
      "text/html": [
       "<div>\n",
       "<style scoped>\n",
       "    .dataframe tbody tr th:only-of-type {\n",
       "        vertical-align: middle;\n",
       "    }\n",
       "\n",
       "    .dataframe tbody tr th {\n",
       "        vertical-align: top;\n",
       "    }\n",
       "\n",
       "    .dataframe thead th {\n",
       "        text-align: right;\n",
       "    }\n",
       "</style>\n",
       "<table border=\"1\" class=\"dataframe\">\n",
       "  <thead>\n",
       "    <tr style=\"text-align: right;\">\n",
       "      <th></th>\n",
       "      <th>fixed acidity</th>\n",
       "      <th>volatile acidity</th>\n",
       "      <th>citric acid</th>\n",
       "      <th>residual sugar</th>\n",
       "      <th>chlorides</th>\n",
       "      <th>free sulfur dioxide</th>\n",
       "      <th>total sulfur dioxide</th>\n",
       "      <th>density</th>\n",
       "      <th>pH</th>\n",
       "      <th>sulphates</th>\n",
       "      <th>alcohol</th>\n",
       "      <th>quality</th>\n",
       "    </tr>\n",
       "  </thead>\n",
       "  <tbody>\n",
       "    <tr>\n",
       "      <th>0</th>\n",
       "      <td>7.0</td>\n",
       "      <td>0.27</td>\n",
       "      <td>0.36</td>\n",
       "      <td>20.7</td>\n",
       "      <td>0.045</td>\n",
       "      <td>45.0</td>\n",
       "      <td>170.0</td>\n",
       "      <td>1.0010</td>\n",
       "      <td>3.00</td>\n",
       "      <td>0.45</td>\n",
       "      <td>8.8</td>\n",
       "      <td>6</td>\n",
       "    </tr>\n",
       "    <tr>\n",
       "      <th>1</th>\n",
       "      <td>6.3</td>\n",
       "      <td>0.30</td>\n",
       "      <td>0.34</td>\n",
       "      <td>1.6</td>\n",
       "      <td>0.049</td>\n",
       "      <td>14.0</td>\n",
       "      <td>132.0</td>\n",
       "      <td>0.9940</td>\n",
       "      <td>3.30</td>\n",
       "      <td>0.49</td>\n",
       "      <td>9.5</td>\n",
       "      <td>6</td>\n",
       "    </tr>\n",
       "    <tr>\n",
       "      <th>2</th>\n",
       "      <td>8.1</td>\n",
       "      <td>0.28</td>\n",
       "      <td>0.40</td>\n",
       "      <td>6.9</td>\n",
       "      <td>0.050</td>\n",
       "      <td>30.0</td>\n",
       "      <td>97.0</td>\n",
       "      <td>0.9951</td>\n",
       "      <td>3.26</td>\n",
       "      <td>0.44</td>\n",
       "      <td>10.1</td>\n",
       "      <td>6</td>\n",
       "    </tr>\n",
       "    <tr>\n",
       "      <th>3</th>\n",
       "      <td>7.2</td>\n",
       "      <td>0.23</td>\n",
       "      <td>0.32</td>\n",
       "      <td>8.5</td>\n",
       "      <td>0.058</td>\n",
       "      <td>47.0</td>\n",
       "      <td>186.0</td>\n",
       "      <td>0.9956</td>\n",
       "      <td>3.19</td>\n",
       "      <td>0.40</td>\n",
       "      <td>9.9</td>\n",
       "      <td>6</td>\n",
       "    </tr>\n",
       "    <tr>\n",
       "      <th>4</th>\n",
       "      <td>7.2</td>\n",
       "      <td>0.23</td>\n",
       "      <td>0.32</td>\n",
       "      <td>8.5</td>\n",
       "      <td>0.058</td>\n",
       "      <td>47.0</td>\n",
       "      <td>186.0</td>\n",
       "      <td>0.9956</td>\n",
       "      <td>3.19</td>\n",
       "      <td>0.40</td>\n",
       "      <td>9.9</td>\n",
       "      <td>6</td>\n",
       "    </tr>\n",
       "  </tbody>\n",
       "</table>\n",
       "</div>"
      ],
      "text/plain": [
       "   fixed acidity  volatile acidity  citric acid  residual sugar  chlorides  \\\n",
       "0            7.0              0.27         0.36            20.7      0.045   \n",
       "1            6.3              0.30         0.34             1.6      0.049   \n",
       "2            8.1              0.28         0.40             6.9      0.050   \n",
       "3            7.2              0.23         0.32             8.5      0.058   \n",
       "4            7.2              0.23         0.32             8.5      0.058   \n",
       "\n",
       "   free sulfur dioxide  total sulfur dioxide  density    pH  sulphates  \\\n",
       "0                 45.0                 170.0   1.0010  3.00       0.45   \n",
       "1                 14.0                 132.0   0.9940  3.30       0.49   \n",
       "2                 30.0                  97.0   0.9951  3.26       0.44   \n",
       "3                 47.0                 186.0   0.9956  3.19       0.40   \n",
       "4                 47.0                 186.0   0.9956  3.19       0.40   \n",
       "\n",
       "   alcohol  quality  \n",
       "0      8.8        6  \n",
       "1      9.5        6  \n",
       "2     10.1        6  \n",
       "3      9.9        6  \n",
       "4      9.9        6  "
      ]
     },
     "execution_count": 24,
     "metadata": {},
     "output_type": "execute_result"
    }
   ],
   "source": [
    "wine_white.head()"
   ]
  },
  {
   "cell_type": "code",
   "execution_count": 25,
   "metadata": {
    "scrolled": true
   },
   "outputs": [
    {
     "data": {
      "text/plain": [
       "(1599, 4898)"
      ]
     },
     "execution_count": 25,
     "metadata": {},
     "output_type": "execute_result"
    }
   ],
   "source": [
    "len(wine_red), len(wine_white)"
   ]
  },
  {
   "cell_type": "markdown",
   "metadata": {},
   "source": [
    "## Classification"
   ]
  },
  {
   "cell_type": "markdown",
   "metadata": {},
   "source": [
    "### 1. Feature_n: 2(volatile acidity, sulphates), Binary Problem"
   ]
  },
  {
   "cell_type": "code",
   "execution_count": 28,
   "metadata": {},
   "outputs": [],
   "source": [
    "new_red = wine_red.copy()\n",
    "new_red['is_red'] = 1\n",
    "new_white = wine_white.copy()\n",
    "new_white['is_red'] = 0\n",
    "\n",
    "wine = new_red.append(new_white, ignore_index=True)\n"
   ]
  },
  {
   "cell_type": "code",
   "execution_count": 29,
   "metadata": {},
   "outputs": [
    {
     "data": {
      "text/html": [
       "<div>\n",
       "<style scoped>\n",
       "    .dataframe tbody tr th:only-of-type {\n",
       "        vertical-align: middle;\n",
       "    }\n",
       "\n",
       "    .dataframe tbody tr th {\n",
       "        vertical-align: top;\n",
       "    }\n",
       "\n",
       "    .dataframe thead th {\n",
       "        text-align: right;\n",
       "    }\n",
       "</style>\n",
       "<table border=\"1\" class=\"dataframe\">\n",
       "  <thead>\n",
       "    <tr style=\"text-align: right;\">\n",
       "      <th></th>\n",
       "      <th>fixed acidity</th>\n",
       "      <th>volatile acidity</th>\n",
       "      <th>citric acid</th>\n",
       "      <th>residual sugar</th>\n",
       "      <th>chlorides</th>\n",
       "      <th>free sulfur dioxide</th>\n",
       "      <th>total sulfur dioxide</th>\n",
       "      <th>density</th>\n",
       "      <th>pH</th>\n",
       "      <th>sulphates</th>\n",
       "      <th>alcohol</th>\n",
       "      <th>quality</th>\n",
       "      <th>is_red</th>\n",
       "    </tr>\n",
       "  </thead>\n",
       "  <tbody>\n",
       "    <tr>\n",
       "      <th>0</th>\n",
       "      <td>7.4</td>\n",
       "      <td>0.70</td>\n",
       "      <td>0.0</td>\n",
       "      <td>1.9</td>\n",
       "      <td>0.076</td>\n",
       "      <td>11.0</td>\n",
       "      <td>34.0</td>\n",
       "      <td>0.9978</td>\n",
       "      <td>3.51</td>\n",
       "      <td>0.56</td>\n",
       "      <td>9.4</td>\n",
       "      <td>5</td>\n",
       "      <td>1</td>\n",
       "    </tr>\n",
       "    <tr>\n",
       "      <th>1</th>\n",
       "      <td>7.8</td>\n",
       "      <td>0.88</td>\n",
       "      <td>0.0</td>\n",
       "      <td>2.6</td>\n",
       "      <td>0.098</td>\n",
       "      <td>25.0</td>\n",
       "      <td>67.0</td>\n",
       "      <td>0.9968</td>\n",
       "      <td>3.20</td>\n",
       "      <td>0.68</td>\n",
       "      <td>9.8</td>\n",
       "      <td>5</td>\n",
       "      <td>1</td>\n",
       "    </tr>\n",
       "  </tbody>\n",
       "</table>\n",
       "</div>"
      ],
      "text/plain": [
       "   fixed acidity  volatile acidity  citric acid  residual sugar  chlorides  \\\n",
       "0            7.4              0.70          0.0             1.9      0.076   \n",
       "1            7.8              0.88          0.0             2.6      0.098   \n",
       "\n",
       "   free sulfur dioxide  total sulfur dioxide  density    pH  sulphates  \\\n",
       "0                 11.0                  34.0   0.9978  3.51       0.56   \n",
       "1                 25.0                  67.0   0.9968  3.20       0.68   \n",
       "\n",
       "   alcohol  quality  is_red  \n",
       "0      9.4        5       1  \n",
       "1      9.8        5       1  "
      ]
     },
     "execution_count": 29,
     "metadata": {},
     "output_type": "execute_result"
    }
   ],
   "source": [
    "wine.head(2)"
   ]
  },
  {
   "cell_type": "code",
   "execution_count": 30,
   "metadata": {},
   "outputs": [
    {
     "data": {
      "text/html": [
       "<div>\n",
       "<style scoped>\n",
       "    .dataframe tbody tr th:only-of-type {\n",
       "        vertical-align: middle;\n",
       "    }\n",
       "\n",
       "    .dataframe tbody tr th {\n",
       "        vertical-align: top;\n",
       "    }\n",
       "\n",
       "    .dataframe thead th {\n",
       "        text-align: right;\n",
       "    }\n",
       "</style>\n",
       "<table border=\"1\" class=\"dataframe\">\n",
       "  <thead>\n",
       "    <tr style=\"text-align: right;\">\n",
       "      <th></th>\n",
       "      <th>fixed acidity</th>\n",
       "      <th>volatile acidity</th>\n",
       "      <th>citric acid</th>\n",
       "      <th>residual sugar</th>\n",
       "      <th>chlorides</th>\n",
       "      <th>free sulfur dioxide</th>\n",
       "      <th>total sulfur dioxide</th>\n",
       "      <th>density</th>\n",
       "      <th>pH</th>\n",
       "      <th>sulphates</th>\n",
       "      <th>alcohol</th>\n",
       "      <th>quality</th>\n",
       "      <th>is_red</th>\n",
       "    </tr>\n",
       "  </thead>\n",
       "  <tbody>\n",
       "    <tr>\n",
       "      <th>6495</th>\n",
       "      <td>5.5</td>\n",
       "      <td>0.29</td>\n",
       "      <td>0.30</td>\n",
       "      <td>1.1</td>\n",
       "      <td>0.022</td>\n",
       "      <td>20.0</td>\n",
       "      <td>110.0</td>\n",
       "      <td>0.98869</td>\n",
       "      <td>3.34</td>\n",
       "      <td>0.38</td>\n",
       "      <td>12.8</td>\n",
       "      <td>7</td>\n",
       "      <td>0</td>\n",
       "    </tr>\n",
       "    <tr>\n",
       "      <th>6496</th>\n",
       "      <td>6.0</td>\n",
       "      <td>0.21</td>\n",
       "      <td>0.38</td>\n",
       "      <td>0.8</td>\n",
       "      <td>0.020</td>\n",
       "      <td>22.0</td>\n",
       "      <td>98.0</td>\n",
       "      <td>0.98941</td>\n",
       "      <td>3.26</td>\n",
       "      <td>0.32</td>\n",
       "      <td>11.8</td>\n",
       "      <td>6</td>\n",
       "      <td>0</td>\n",
       "    </tr>\n",
       "  </tbody>\n",
       "</table>\n",
       "</div>"
      ],
      "text/plain": [
       "      fixed acidity  volatile acidity  citric acid  residual sugar  chlorides  \\\n",
       "6495            5.5              0.29         0.30             1.1      0.022   \n",
       "6496            6.0              0.21         0.38             0.8      0.020   \n",
       "\n",
       "      free sulfur dioxide  total sulfur dioxide  density    pH  sulphates  \\\n",
       "6495                 20.0                 110.0  0.98869  3.34       0.38   \n",
       "6496                 22.0                  98.0  0.98941  3.26       0.32   \n",
       "\n",
       "      alcohol  quality  is_red  \n",
       "6495     12.8        7       0  \n",
       "6496     11.8        6       0  "
      ]
     },
     "execution_count": 30,
     "metadata": {},
     "output_type": "execute_result"
    }
   ],
   "source": [
    "wine.tail(2)"
   ]
  },
  {
   "cell_type": "code",
   "execution_count": 31,
   "metadata": {},
   "outputs": [],
   "source": [
    "X = wine[['volatile acidity', 'sulphates']]\n",
    "y = wine['is_red']"
   ]
  },
  {
   "cell_type": "markdown",
   "metadata": {},
   "source": [
    "##### split train&test"
   ]
  },
  {
   "cell_type": "code",
   "execution_count": 32,
   "metadata": {},
   "outputs": [],
   "source": [
    "from sklearn.model_selection import train_test_split"
   ]
  },
  {
   "cell_type": "code",
   "execution_count": 33,
   "metadata": {},
   "outputs": [],
   "source": [
    "train_X, test_X, train_y, test_y = train_test_split(X, y, stratify=wine['is_red'], random_state=42, test_size=.2)"
   ]
  },
  {
   "cell_type": "code",
   "execution_count": 34,
   "metadata": {
    "scrolled": true
   },
   "outputs": [
    {
     "data": {
      "image/png": "[encoded data removed]",
      "text/plain": [
       "<Figure size 1080x1080 with 1 Axes>"
      ]
     },
     "metadata": {
      "needs_background": "light"
     },
     "output_type": "display_data"
    }
   ],
   "source": [
    "red_index = train_y[train_y==1].index\n",
    "white_index = train_y[train_y==0].index\n",
    "plt.figure(figsize=(15,15))\n",
    "plt.scatter(x=train_X.loc[white_index, 'volatile acidity'], y=train_X.loc[white_index, 'sulphates'], color='r', alpha=0.3)\n",
    "\n",
    "plt.scatter(x=train_X.loc[red_index, 'volatile acidity'], y=train_X.loc[red_index, 'sulphates'], color='g',  alpha=0.3)\n",
    "\n",
    "plt.show()"
   ]
  },
  {
   "cell_type": "code",
   "execution_count": 35,
   "metadata": {},
   "outputs": [
    {
     "data": {
      "text/plain": [
       "DecisionTreeClassifier(class_weight=None, criterion='entropy', max_depth=2,\n",
       "                       max_features=None, max_leaf_nodes=None,\n",
       "                       min_impurity_decrease=0.0, min_impurity_split=None,\n",
       "                       min_samples_leaf=1, min_samples_split=2,\n",
       "                       min_weight_fraction_leaf=0.0, presort=False,\n",
       "                       random_state=None, splitter='best')"
      ]
     },
     "execution_count": 35,
     "metadata": {},
     "output_type": "execute_result"
    }
   ],
   "source": [
    "from sklearn import tree\n",
    "# \n",
    "\n",
    "\"\"\"\n",
    "DecisionTreeClassifier(criterion=’gini’, splitter=’best’, max_depth=None, min_samples_split=2, min_samples_leaf=1, \n",
    "                       min_weight_fraction_leaf=0.0, max_features=None, max_leaf_nodes=None, \n",
    "                       min_impurity_decrease=0.0, min_impurity_split=None, class_weight=None, presort=False)\n",
    "\n",
    "# scikit-learn uses an optimised version of the CART algorithm.\n",
    "                       \n",
    "# criterion: entropy or gini\n",
    "The function to measure the quality of a split. \n",
    "Supported criteria are “gini” for the Gini impurity and “entropy” for the information gain.\n",
    "\n",
    "# random_state: 난수값\n",
    "\n",
    "# max_depth : int or None, optional (default=None)\n",
    "The maximum depth of the tree. \n",
    "If None, then nodes are expanded until all leaves are pure or until all leaves contain less than min_samples_split sample\n",
    "\n",
    "# min_samples_split: 분할 되기 위해 노드가 가져야 하는 최소 샘플 수 \n",
    "# min_samples_leaf: 리프 노드가 가지고 있어야 할 최소 샘플 수\n",
    "# max_leaf_nodes: 리프 노드의 최대 수\n",
    "# max_features: 노드에서 분할에 사용할 특성의 최대 수\n",
    "\"\"\"\n",
    "\n",
    "\n",
    "clf = tree.DecisionTreeClassifier('entropy', max_depth=2)\n",
    "clf.fit(train_X, train_y)\n"
   ]
  },
  {
   "cell_type": "code",
   "execution_count": 474,
   "metadata": {},
   "outputs": [
    {
     "name": "stderr",
     "output_type": "stream",
     "text": [
      "Error: <stdin>: syntax error in line 1 near 'None'\r\n"
     ]
    },
    {
     "ename": "CalledProcessError",
     "evalue": "Command '['dot', '-Tsvg']' returned non-zero exit status 1.",
     "output_type": "error",
     "traceback": [
      "\u001b[1;31m---------------------------------------------------------------------------\u001b[0m",
      "\u001b[1;31mCalledProcessError\u001b[0m                        Traceback (most recent call last)",
      "\u001b[1;32mC:\\ProgramData\\Anaconda3\\envs\\study\\lib\\site-packages\\IPython\\core\\formatters.py\u001b[0m in \u001b[0;36m__call__\u001b[1;34m(self, obj)\u001b[0m\n\u001b[0;32m    343\u001b[0m             \u001b[0mmethod\u001b[0m \u001b[1;33m=\u001b[0m \u001b[0mget_real_method\u001b[0m\u001b[1;33m(\u001b[0m\u001b[0mobj\u001b[0m\u001b[1;33m,\u001b[0m \u001b[0mself\u001b[0m\u001b[1;33m.\u001b[0m\u001b[0mprint_method\u001b[0m\u001b[1;33m)\u001b[0m\u001b[1;33m\u001b[0m\u001b[1;33m\u001b[0m\u001b[0m\n\u001b[0;32m    344\u001b[0m             \u001b[1;32mif\u001b[0m \u001b[0mmethod\u001b[0m \u001b[1;32mis\u001b[0m \u001b[1;32mnot\u001b[0m \u001b[1;32mNone\u001b[0m\u001b[1;33m:\u001b[0m\u001b[1;33m\u001b[0m\u001b[1;33m\u001b[0m\u001b[0m\n\u001b[1;32m--> 345\u001b[1;33m                 \u001b[1;32mreturn\u001b[0m \u001b[0mmethod\u001b[0m\u001b[1;33m(\u001b[0m\u001b[1;33m)\u001b[0m\u001b[1;33m\u001b[0m\u001b[1;33m\u001b[0m\u001b[0m\n\u001b[0m\u001b[0;32m    346\u001b[0m             \u001b[1;32mreturn\u001b[0m \u001b[1;32mNone\u001b[0m\u001b[1;33m\u001b[0m\u001b[1;33m\u001b[0m\u001b[0m\n\u001b[0;32m    347\u001b[0m         \u001b[1;32melse\u001b[0m\u001b[1;33m:\u001b[0m\u001b[1;33m\u001b[0m\u001b[1;33m\u001b[0m\u001b[0m\n",
      "\u001b[1;32mC:\\ProgramData\\Anaconda3\\envs\\study\\lib\\site-packages\\graphviz\\files.py\u001b[0m in \u001b[0;36m_repr_svg_\u001b[1;34m(self)\u001b[0m\n\u001b[0;32m    107\u001b[0m \u001b[1;33m\u001b[0m\u001b[0m\n\u001b[0;32m    108\u001b[0m     \u001b[1;32mdef\u001b[0m \u001b[0m_repr_svg_\u001b[0m\u001b[1;33m(\u001b[0m\u001b[0mself\u001b[0m\u001b[1;33m)\u001b[0m\u001b[1;33m:\u001b[0m\u001b[1;33m\u001b[0m\u001b[1;33m\u001b[0m\u001b[0m\n\u001b[1;32m--> 109\u001b[1;33m         \u001b[1;32mreturn\u001b[0m \u001b[0mself\u001b[0m\u001b[1;33m.\u001b[0m\u001b[0mpipe\u001b[0m\u001b[1;33m(\u001b[0m\u001b[0mformat\u001b[0m\u001b[1;33m=\u001b[0m\u001b[1;34m'svg'\u001b[0m\u001b[1;33m)\u001b[0m\u001b[1;33m.\u001b[0m\u001b[0mdecode\u001b[0m\u001b[1;33m(\u001b[0m\u001b[0mself\u001b[0m\u001b[1;33m.\u001b[0m\u001b[0m_encoding\u001b[0m\u001b[1;33m)\u001b[0m\u001b[1;33m\u001b[0m\u001b[1;33m\u001b[0m\u001b[0m\n\u001b[0m\u001b[0;32m    110\u001b[0m \u001b[1;33m\u001b[0m\u001b[0m\n\u001b[0;32m    111\u001b[0m     \u001b[1;32mdef\u001b[0m \u001b[0mpipe\u001b[0m\u001b[1;33m(\u001b[0m\u001b[0mself\u001b[0m\u001b[1;33m,\u001b[0m \u001b[0mformat\u001b[0m\u001b[1;33m=\u001b[0m\u001b[1;32mNone\u001b[0m\u001b[1;33m,\u001b[0m \u001b[0mrenderer\u001b[0m\u001b[1;33m=\u001b[0m\u001b[1;32mNone\u001b[0m\u001b[1;33m,\u001b[0m \u001b[0mformatter\u001b[0m\u001b[1;33m=\u001b[0m\u001b[1;32mNone\u001b[0m\u001b[1;33m,\u001b[0m \u001b[0mquiet\u001b[0m\u001b[1;33m=\u001b[0m\u001b[1;32mFalse\u001b[0m\u001b[1;33m)\u001b[0m\u001b[1;33m:\u001b[0m\u001b[1;33m\u001b[0m\u001b[1;33m\u001b[0m\u001b[0m\n",
      "\u001b[1;32mC:\\ProgramData\\Anaconda3\\envs\\study\\lib\\site-packages\\graphviz\\files.py\u001b[0m in \u001b[0;36mpipe\u001b[1;34m(self, format, renderer, formatter, quiet)\u001b[0m\n\u001b[0;32m    132\u001b[0m         out = backend.pipe(self._engine, format, data,\n\u001b[0;32m    133\u001b[0m                            \u001b[0mrenderer\u001b[0m\u001b[1;33m=\u001b[0m\u001b[0mrenderer\u001b[0m\u001b[1;33m,\u001b[0m \u001b[0mformatter\u001b[0m\u001b[1;33m=\u001b[0m\u001b[0mformatter\u001b[0m\u001b[1;33m,\u001b[0m\u001b[1;33m\u001b[0m\u001b[1;33m\u001b[0m\u001b[0m\n\u001b[1;32m--> 134\u001b[1;33m                            quiet=quiet)\n\u001b[0m\u001b[0;32m    135\u001b[0m \u001b[1;33m\u001b[0m\u001b[0m\n\u001b[0;32m    136\u001b[0m         \u001b[1;32mreturn\u001b[0m \u001b[0mout\u001b[0m\u001b[1;33m\u001b[0m\u001b[1;33m\u001b[0m\u001b[0m\n",
      "\u001b[1;32mC:\\ProgramData\\Anaconda3\\envs\\study\\lib\\site-packages\\graphviz\\backend.py\u001b[0m in \u001b[0;36mpipe\u001b[1;34m(engine, format, data, renderer, formatter, quiet)\u001b[0m\n\u001b[0;32m    214\u001b[0m     \"\"\"\n\u001b[0;32m    215\u001b[0m     \u001b[0mcmd\u001b[0m\u001b[1;33m,\u001b[0m \u001b[0m_\u001b[0m \u001b[1;33m=\u001b[0m \u001b[0mcommand\u001b[0m\u001b[1;33m(\u001b[0m\u001b[0mengine\u001b[0m\u001b[1;33m,\u001b[0m \u001b[0mformat\u001b[0m\u001b[1;33m,\u001b[0m \u001b[1;32mNone\u001b[0m\u001b[1;33m,\u001b[0m \u001b[0mrenderer\u001b[0m\u001b[1;33m,\u001b[0m \u001b[0mformatter\u001b[0m\u001b[1;33m)\u001b[0m\u001b[1;33m\u001b[0m\u001b[1;33m\u001b[0m\u001b[0m\n\u001b[1;32m--> 216\u001b[1;33m     \u001b[0mout\u001b[0m\u001b[1;33m,\u001b[0m \u001b[0m_\u001b[0m \u001b[1;33m=\u001b[0m \u001b[0mrun\u001b[0m\u001b[1;33m(\u001b[0m\u001b[0mcmd\u001b[0m\u001b[1;33m,\u001b[0m \u001b[0minput\u001b[0m\u001b[1;33m=\u001b[0m\u001b[0mdata\u001b[0m\u001b[1;33m,\u001b[0m \u001b[0mcapture_output\u001b[0m\u001b[1;33m=\u001b[0m\u001b[1;32mTrue\u001b[0m\u001b[1;33m,\u001b[0m \u001b[0mcheck\u001b[0m\u001b[1;33m=\u001b[0m\u001b[1;32mTrue\u001b[0m\u001b[1;33m,\u001b[0m \u001b[0mquiet\u001b[0m\u001b[1;33m=\u001b[0m\u001b[0mquiet\u001b[0m\u001b[1;33m)\u001b[0m\u001b[1;33m\u001b[0m\u001b[1;33m\u001b[0m\u001b[0m\n\u001b[0m\u001b[0;32m    217\u001b[0m     \u001b[1;32mreturn\u001b[0m \u001b[0mout\u001b[0m\u001b[1;33m\u001b[0m\u001b[1;33m\u001b[0m\u001b[0m\n\u001b[0;32m    218\u001b[0m \u001b[1;33m\u001b[0m\u001b[0m\n",
      "\u001b[1;32mC:\\ProgramData\\Anaconda3\\envs\\study\\lib\\site-packages\\graphviz\\backend.py\u001b[0m in \u001b[0;36mrun\u001b[1;34m(cmd, input, capture_output, check, quiet, **kwargs)\u001b[0m\n\u001b[0;32m    157\u001b[0m     \u001b[1;32mif\u001b[0m \u001b[0mcheck\u001b[0m \u001b[1;32mand\u001b[0m \u001b[0mproc\u001b[0m\u001b[1;33m.\u001b[0m\u001b[0mreturncode\u001b[0m\u001b[1;33m:\u001b[0m\u001b[1;33m\u001b[0m\u001b[1;33m\u001b[0m\u001b[0m\n\u001b[0;32m    158\u001b[0m         raise _compat.CalledProcessError(proc.returncode, cmd,\n\u001b[1;32m--> 159\u001b[1;33m                                          output=out, stderr=err)\n\u001b[0m\u001b[0;32m    160\u001b[0m \u001b[1;33m\u001b[0m\u001b[0m\n\u001b[0;32m    161\u001b[0m     \u001b[1;32mreturn\u001b[0m \u001b[0mout\u001b[0m\u001b[1;33m,\u001b[0m \u001b[0merr\u001b[0m\u001b[1;33m\u001b[0m\u001b[1;33m\u001b[0m\u001b[0m\n",
      "\u001b[1;31mCalledProcessError\u001b[0m: Command '['dot', '-Tsvg']' returned non-zero exit status 1."
     ]
    },
    {
     "data": {
      "text/plain": [
       "<graphviz.files.Source at 0xb98c550>"
      ]
     },
     "execution_count": 474,
     "metadata": {},
     "output_type": "execute_result"
    }
   ],
   "source": [
    "dot_data = tree.export_graphviz(\n",
    "    clf, out_file=None, \n",
    "    max_depth=2, feature_names=list(X.columns.values), \n",
    "    filled=True, rounded=True\n",
    ")\n",
    "graphviz.Source(dot_data)"
   ]
  },
  {
   "cell_type": "code",
   "execution_count": 36,
   "metadata": {},
   "outputs": [
    {
     "data": {
      "text/plain": [
       "array([0, 1], dtype=int64)"
      ]
     },
     "execution_count": 36,
     "metadata": {},
     "output_type": "execute_result"
    }
   ],
   "source": [
    "clf.classes_"
   ]
  },
  {
   "cell_type": "code",
   "execution_count": 37,
   "metadata": {},
   "outputs": [
    {
     "data": {
      "text/plain": [
       "2"
      ]
     },
     "execution_count": 37,
     "metadata": {},
     "output_type": "execute_result"
    }
   ],
   "source": [
    "clf.max_features_"
   ]
  },
  {
   "cell_type": "code",
   "execution_count": 39,
   "metadata": {},
   "outputs": [
    {
     "data": {
      "text/plain": [
       "2"
      ]
     },
     "execution_count": 39,
     "metadata": {},
     "output_type": "execute_result"
    }
   ],
   "source": [
    "clf.n_features_"
   ]
  },
  {
   "cell_type": "code",
   "execution_count": 40,
   "metadata": {},
   "outputs": [
    {
     "data": {
      "text/plain": [
       "4"
      ]
     },
     "execution_count": 40,
     "metadata": {},
     "output_type": "execute_result"
    }
   ],
   "source": [
    "clf.get_n_leaves()"
   ]
  },
  {
   "cell_type": "code",
   "execution_count": 41,
   "metadata": {},
   "outputs": [
    {
     "data": {
      "text/plain": [
       "0.8841639407350395"
      ]
     },
     "execution_count": 41,
     "metadata": {},
     "output_type": "execute_result"
    }
   ],
   "source": [
    "# Returns the mean accuracy on the given test data and labels.\n",
    "clf.score(train_X,train_y)"
   ]
  },
  {
   "cell_type": "code",
   "execution_count": 57,
   "metadata": {},
   "outputs": [
    {
     "data": {
      "text/plain": [
       "0.8930769230769231"
      ]
     },
     "execution_count": 57,
     "metadata": {},
     "output_type": "execute_result"
    }
   ],
   "source": [
    "clf.score(test_X, test_y)"
   ]
  },
  {
   "cell_type": "code",
   "execution_count": 58,
   "metadata": {
    "scrolled": true
   },
   "outputs": [
    {
     "data": {
      "text/plain": [
       "volatile acidity    0.58\n",
       "sulphates           0.59\n",
       "Name: 196, dtype: float64"
      ]
     },
     "execution_count": 58,
     "metadata": {},
     "output_type": "execute_result"
    }
   ],
   "source": [
    "train_X.iloc[1]"
   ]
  },
  {
   "cell_type": "code",
   "execution_count": null,
   "metadata": {},
   "outputs": [],
   "source": []
  },
  {
   "cell_type": "code",
   "execution_count": 281,
   "metadata": {},
   "outputs": [],
   "source": [
    "# X_index, node_id\n",
    "m = clf.decision_path(train_X.iloc[:1]).toarray()\n",
    "# type(m)\n",
    "# print(clf.decision_path(train_X.iloc[:1]))"
   ]
  },
  {
   "cell_type": "code",
   "execution_count": 282,
   "metadata": {},
   "outputs": [
    {
     "data": {
      "text/plain": [
       "array([6], dtype=int64)"
      ]
     },
     "execution_count": 282,
     "metadata": {},
     "output_type": "execute_result"
    }
   ],
   "source": [
    "# (a, b) = (X_index, node_index)\n",
    "clf.predict(train_X.iloc[:1])"
   ]
  },
  {
   "cell_type": "code",
   "execution_count": 285,
   "metadata": {},
   "outputs": [],
   "source": [
    "# (a, b) = (X_index, node_index)\n",
    "m = clf.decision_path(train_X)\n"
   ]
  },
  {
   "cell_type": "code",
   "execution_count": 286,
   "metadata": {
    "scrolled": true
   },
   "outputs": [
    {
     "name": "stderr",
     "output_type": "stream",
     "text": [
      "C:\\ProgramData\\Anaconda3\\envs\\study\\lib\\site-packages\\sklearn\\tree\\tree.py:890: RuntimeWarning: divide by zero encountered in log\n",
      "  return np.log(proba)\n"
     ]
    },
    {
     "data": {
      "text/plain": [
       "array([[-inf, -inf, -inf,   0., -inf, -inf],\n",
       "       [-inf, -inf,   0., -inf, -inf, -inf],\n",
       "       [-inf, -inf, -inf,   0., -inf, -inf],\n",
       "       ...,\n",
       "       [-inf, -inf,   0., -inf, -inf, -inf],\n",
       "       [-inf, -inf,   0., -inf, -inf, -inf],\n",
       "       [-inf, -inf, -inf,   0., -inf, -inf]])"
      ]
     },
     "execution_count": 286,
     "metadata": {},
     "output_type": "execute_result"
    }
   ],
   "source": [
    "# Predict class log-probabilities of the input samples X.\n",
    "clf.predict_log_proba(train_X)"
   ]
  },
  {
   "cell_type": "code",
   "execution_count": 287,
   "metadata": {
    "scrolled": true
   },
   "outputs": [
    {
     "data": {
      "text/plain": [
       "array([[0., 0., 0., 1., 0., 0.],\n",
       "       [0., 0., 1., 0., 0., 0.],\n",
       "       [0., 0., 0., 1., 0., 0.],\n",
       "       ...,\n",
       "       [0., 0., 1., 0., 0., 0.],\n",
       "       [0., 0., 1., 0., 0., 0.],\n",
       "       [0., 0., 0., 1., 0., 0.]])"
      ]
     },
     "execution_count": 287,
     "metadata": {},
     "output_type": "execute_result"
    }
   ],
   "source": [
    "# The predicted class probability is the fraction of samples of the same class in a leaf.\n",
    "clf.predict_proba(train_X)"
   ]
  },
  {
   "cell_type": "code",
   "execution_count": 288,
   "metadata": {},
   "outputs": [
    {
     "data": {
      "text/plain": [
       "19"
      ]
     },
     "execution_count": 288,
     "metadata": {},
     "output_type": "execute_result"
    }
   ],
   "source": [
    "clf.get_depth()"
   ]
  },
  {
   "cell_type": "code",
   "execution_count": 311,
   "metadata": {
    "scrolled": true
   },
   "outputs": [
    {
     "data": {
      "text/plain": [
       "<sklearn.tree._tree.Tree at 0xca0e2a0>"
      ]
     },
     "execution_count": 311,
     "metadata": {},
     "output_type": "execute_result"
    }
   ],
   "source": [
    "clf.tree_"
   ]
  },
  {
   "cell_type": "code",
   "execution_count": 312,
   "metadata": {},
   "outputs": [
    {
     "data": {
      "text/plain": [
       "297"
      ]
     },
     "execution_count": 312,
     "metadata": {},
     "output_type": "execute_result"
    }
   ],
   "source": [
    "clf.tree_.n_leaves"
   ]
  },
  {
   "cell_type": "code",
   "execution_count": 313,
   "metadata": {},
   "outputs": [
    {
     "data": {
      "text/plain": [
       "19"
      ]
     },
     "execution_count": 313,
     "metadata": {},
     "output_type": "execute_result"
    }
   ],
   "source": [
    "clf.tree_.max_depth"
   ]
  },
  {
   "cell_type": "code",
   "execution_count": 307,
   "metadata": {},
   "outputs": [
    {
     "data": {
      "text/plain": [
       "array([1.71011986, 1.38207114, 1.16349667, 0.86149674, 0.5395046 ,\n",
       "       1.44881564, 0.91829583, 0.        , 0.        , 0.81127812,\n",
       "       0.        , 0.        , 0.33015683, 0.61800386, 0.        ,\n",
       "       1.05298158, 0.        , 1.40563906, 0.91829583, 0.        ,\n",
       "       0.        , 0.72192809, 0.        , 0.        , 0.        ,\n",
       "       1.34706498, 0.93211157, 0.39124356, 0.        , 0.        ,\n",
       "       0.8812909 , 0.        , 0.97095059, 0.        , 0.        ,\n",
       "       1.32501121, 1.14883485, 0.        , 0.65002242, 0.        ,\n",
       "       0.        , 0.        , 1.19569928, 1.26323164, 1.15151972,\n",
       "       1.20330646, 1.13494388, 0.65002242, 0.        , 0.        ,\n",
       "       1.09864755, 1.21974849, 0.        , 1.20080487, 0.        ,\n",
       "       1.27346173, 1.12260797, 0.        , 0.89294274, 0.32275696,\n",
       "       1.        , 0.        , 0.        , 0.        , 1.5       ,\n",
       "       0.        , 1.        , 0.        , 0.        , 1.1433201 ,\n",
       "       1.24067053, 0.        , 0.54356444, 1.        , 0.        ,\n",
       "       0.        , 0.        , 0.        , 0.97494157, 0.        ,\n",
       "       0.99175702, 0.72192809, 0.99107606, 0.        , 0.        ,\n",
       "       0.        , 0.99810213, 0.69621226, 0.81127812, 0.        ,\n",
       "       0.        , 0.        , 0.99323382, 0.        , 0.97296613,\n",
       "       0.83900406, 0.94807824, 0.72192809, 0.        , 0.97095059,\n",
       "       0.91829583, 0.        , 0.        , 0.        , 0.8812909 ,\n",
       "       0.54356444, 0.        , 1.        , 0.        , 0.        ,\n",
       "       0.        , 0.        , 0.81127812, 0.91829583, 0.        ,\n",
       "       0.        , 0.        , 1.19128056, 0.        , 1.09100341,\n",
       "       0.8503259 , 0.49715018, 0.25801867, 0.        , 0.        ,\n",
       "       0.        , 1.5       , 0.        , 0.91829583, 0.        ,\n",
       "       0.        , 1.10928002, 0.88418372, 0.        , 0.61436945,\n",
       "       0.32275696, 0.        , 1.        , 0.        , 0.        ,\n",
       "       0.        , 0.94028596, 0.68403844, 0.        , 0.91829583,\n",
       "       0.        , 0.        , 0.        , 0.20559251, 0.        ,\n",
       "       0.91829583, 0.        , 0.        , 1.56936455, 1.81127812,\n",
       "       0.91829583, 0.        , 0.        , 1.37095059, 0.91829583,\n",
       "       0.        , 0.        , 0.59167278, 0.        , 0.        ,\n",
       "       1.01543128, 0.46899559, 0.68403844, 0.        , 1.        ,\n",
       "       0.        , 0.        , 0.        , 1.52192809, 0.91829583,\n",
       "       0.        , 0.        , 0.        , 0.34117437, 0.91829583,\n",
       "       0.        , 0.        , 0.13110653, 1.        , 0.        ,\n",
       "       0.        , 0.        , 1.60386307, 1.46717219, 1.353725  ,\n",
       "       1.26834795, 1.95021206, 1.        , 0.        , 0.        ,\n",
       "       0.91829583, 0.        , 0.        , 0.84026265, 0.91829583,\n",
       "       0.72192809, 1.        , 0.        , 0.        , 0.        ,\n",
       "       0.        , 0.32275696, 0.        , 0.        , 1.23189085,\n",
       "       0.91829583, 0.        , 0.        , 1.11788961, 0.90657955,\n",
       "       0.75537541, 0.86312057, 0.97095059, 0.97095059, 0.99403021,\n",
       "       0.954434  , 0.81127812, 0.        , 0.        , 0.        ,\n",
       "       0.        , 0.        , 0.46899559, 1.        , 0.        ,\n",
       "       0.        , 0.        , 0.        , 0.        , 0.89049164,\n",
       "       0.        , 0.72192809, 0.        , 0.        , 1.25972183,\n",
       "       1.37796304, 1.45914792, 0.        , 0.91829583, 0.        ,\n",
       "       0.        , 0.99572745, 0.        , 0.97095059, 0.81127812,\n",
       "       0.        , 0.        , 0.        , 0.        , 1.25677965,\n",
       "       0.95199408, 0.        , 0.66856444, 0.39124356, 1.        ,\n",
       "       0.        , 0.        , 0.        , 0.91829583, 0.        ,\n",
       "       0.        , 0.        , 1.5880006 , 1.60582083, 1.5124928 ,\n",
       "       1.38697299, 0.97095059, 0.        , 0.        , 1.25911814,\n",
       "       0.97095059, 0.        , 0.        , 1.11054953, 1.13027819,\n",
       "       0.96729478, 0.8935711 , 0.        , 0.82562653, 0.72192809,\n",
       "       0.        , 0.97986876, 0.        , 0.76420451, 0.        ,\n",
       "       0.91829583, 0.        , 0.        , 0.        , 0.        ,\n",
       "       0.        , 0.7742433 , 0.        , 1.5       , 0.        ,\n",
       "       1.        , 0.        , 0.        , 1.4854753 , 0.65002242,\n",
       "       0.        , 0.        , 0.81127812, 0.        , 0.        ,\n",
       "       0.87398105, 0.91829583, 0.        , 0.        , 0.43949699,\n",
       "       0.        , 0.        , 1.19141064, 0.91829583, 0.91829583,\n",
       "       0.        , 0.        , 0.        , 0.85714844, 0.        ,\n",
       "       0.98869941, 0.8812909 , 0.        , 0.        , 0.        ,\n",
       "       1.77541203, 1.6828842 , 1.56318321, 1.3328986 , 1.        ,\n",
       "       0.93406806, 0.        , 0.78712659, 0.99107606, 0.65002242,\n",
       "       0.        , 0.        , 0.        , 0.        , 0.        ,\n",
       "       0.99126426, 0.        , 0.43949699, 0.        , 0.        ,\n",
       "       1.48047106, 1.60390911, 0.96407876, 0.43949699, 0.        ,\n",
       "       0.        , 0.99884554, 0.76420451, 0.91829583, 0.        ,\n",
       "       0.        , 0.        , 0.89603823, 0.        , 0.954434  ,\n",
       "       0.        , 0.81127812, 0.        , 0.        , 1.76041174,\n",
       "       1.71386001, 1.34954855, 0.954434  , 0.97095059, 0.        ,\n",
       "       0.72192809, 0.        , 0.        , 0.        , 0.78712659,\n",
       "       0.98522814, 0.        , 0.        , 0.        , 1.82440939,\n",
       "       1.19946029, 0.        , 0.74959526, 0.98522814, 0.81127812,\n",
       "       0.        , 0.        , 0.        , 0.        , 1.74273765,\n",
       "       1.4854753 , 0.        , 1.45914792, 0.91829583, 0.        ,\n",
       "       0.        , 0.        , 0.72192809, 0.        , 0.        ,\n",
       "       0.954434  , 0.        , 0.        , 0.74486617, 1.40563906,\n",
       "       0.91829583, 0.        , 0.        , 0.72192809, 0.        ,\n",
       "       0.        , 0.36205125, 0.        , 0.97095059, 0.        ,\n",
       "       0.        , 1.56127812, 0.        , 0.97095059, 0.        ,\n",
       "       0.        , 1.63506292, 1.55851213, 1.63925526, 1.44575276,\n",
       "       1.27736009, 0.        , 1.07832208, 0.91829583, 0.        ,\n",
       "       0.        , 0.77322667, 0.6098403 , 0.48546076, 0.30954343,\n",
       "       0.        , 0.        , 0.        , 0.        , 0.        ,\n",
       "       1.30414476, 1.53061899, 1.35164412, 0.91829583, 0.        ,\n",
       "       0.        , 0.65002242, 0.        , 0.        , 0.72192809,\n",
       "       0.        , 0.        , 0.93211157, 1.        , 0.72192809,\n",
       "       0.        , 0.91829583, 0.        , 0.        , 0.        ,\n",
       "       0.        , 1.44664796, 0.9612366 , 0.        , 0.72192809,\n",
       "       0.        , 0.        , 0.81127812, 0.        , 0.        ,\n",
       "       1.26787253, 1.1775315 , 1.12506961, 1.07960973, 1.03831084,\n",
       "       1.1808    , 0.40217919, 0.24988229, 0.91829583, 0.        ,\n",
       "       0.        , 0.        , 0.        , 1.39707131, 1.30005978,\n",
       "       0.        , 1.1964264 , 0.72192809, 0.91829583, 0.        ,\n",
       "       0.        , 0.        , 1.13647733, 0.52255937, 0.        ,\n",
       "       0.33729007, 0.        , 0.91829583, 0.        , 0.        ,\n",
       "       1.14011568, 0.46899559, 0.        , 0.        , 0.        ,\n",
       "       0.        , 0.        , 0.        , 0.72192809, 0.        ,\n",
       "       0.        , 0.81127812, 0.        , 0.        , 0.        ,\n",
       "       1.53597771, 1.480066  , 1.28270298, 1.08151963, 0.80307173,\n",
       "       1.53049306, 0.91829583, 0.91829583, 0.        , 0.        ,\n",
       "       0.        , 0.91829583, 0.        , 0.        , 0.22853814,\n",
       "       0.        , 0.91829583, 0.        , 0.        , 0.91829583,\n",
       "       0.81127812, 0.        , 0.        , 0.        , 1.34810613,\n",
       "       1.19747762, 0.92192809, 0.50325833, 0.        , 0.        ,\n",
       "       0.        , 0.72192809, 0.        , 1.        , 0.81127812,\n",
       "       0.        , 0.        , 0.        , 0.86312057, 0.91829583,\n",
       "       0.        , 0.        , 0.        , 1.62335261, 1.56362549,\n",
       "       1.4854753 , 0.        , 0.954434  , 0.        , 1.        ,\n",
       "       0.        , 0.81127812, 0.        , 0.        , 0.94637294,\n",
       "       1.        , 0.        , 0.        , 0.41381685, 0.        ,\n",
       "       0.        , 0.94448853, 0.54356444, 0.        , 0.97095059,\n",
       "       0.        , 0.        , 1.        , 0.        , 0.        ,\n",
       "       0.91829583, 0.        , 0.        ])"
      ]
     },
     "execution_count": 307,
     "metadata": {},
     "output_type": "execute_result"
    }
   ],
   "source": []
  },
  {
   "cell_type": "code",
   "execution_count": null,
   "metadata": {},
   "outputs": [],
   "source": []
  },
  {
   "cell_type": "code",
   "execution_count": 74,
   "metadata": {},
   "outputs": [
    {
     "data": {
      "text/html": [
       "<div>\n",
       "<style scoped>\n",
       "    .dataframe tbody tr th:only-of-type {\n",
       "        vertical-align: middle;\n",
       "    }\n",
       "\n",
       "    .dataframe tbody tr th {\n",
       "        vertical-align: top;\n",
       "    }\n",
       "\n",
       "    .dataframe thead th {\n",
       "        text-align: right;\n",
       "    }\n",
       "</style>\n",
       "<table border=\"1\" class=\"dataframe\">\n",
       "  <thead>\n",
       "    <tr style=\"text-align: right;\">\n",
       "      <th></th>\n",
       "      <th>volatile acidity</th>\n",
       "      <th>sulphates</th>\n",
       "    </tr>\n",
       "  </thead>\n",
       "  <tbody>\n",
       "    <tr>\n",
       "      <th>3123</th>\n",
       "      <td>0.210</td>\n",
       "      <td>0.39</td>\n",
       "    </tr>\n",
       "    <tr>\n",
       "      <th>196</th>\n",
       "      <td>0.580</td>\n",
       "      <td>0.59</td>\n",
       "    </tr>\n",
       "    <tr>\n",
       "      <th>1704</th>\n",
       "      <td>0.130</td>\n",
       "      <td>0.35</td>\n",
       "    </tr>\n",
       "    <tr>\n",
       "      <th>3417</th>\n",
       "      <td>0.260</td>\n",
       "      <td>0.44</td>\n",
       "    </tr>\n",
       "    <tr>\n",
       "      <th>4422</th>\n",
       "      <td>0.270</td>\n",
       "      <td>0.48</td>\n",
       "    </tr>\n",
       "    <tr>\n",
       "      <th>3876</th>\n",
       "      <td>0.140</td>\n",
       "      <td>0.39</td>\n",
       "    </tr>\n",
       "    <tr>\n",
       "      <th>3378</th>\n",
       "      <td>0.150</td>\n",
       "      <td>0.69</td>\n",
       "    </tr>\n",
       "    <tr>\n",
       "      <th>439</th>\n",
       "      <td>0.620</td>\n",
       "      <td>0.60</td>\n",
       "    </tr>\n",
       "    <tr>\n",
       "      <th>834</th>\n",
       "      <td>0.685</td>\n",
       "      <td>0.47</td>\n",
       "    </tr>\n",
       "    <tr>\n",
       "      <th>2330</th>\n",
       "      <td>0.250</td>\n",
       "      <td>0.47</td>\n",
       "    </tr>\n",
       "  </tbody>\n",
       "</table>\n",
       "</div>"
      ],
      "text/plain": [
       "      volatile acidity  sulphates\n",
       "3123             0.210       0.39\n",
       "196              0.580       0.59\n",
       "1704             0.130       0.35\n",
       "3417             0.260       0.44\n",
       "4422             0.270       0.48\n",
       "3876             0.140       0.39\n",
       "3378             0.150       0.69\n",
       "439              0.620       0.60\n",
       "834              0.685       0.47\n",
       "2330             0.250       0.47"
      ]
     },
     "execution_count": 74,
     "metadata": {},
     "output_type": "execute_result"
    }
   ],
   "source": [
    "train_X.iloc[:10]"
   ]
  },
  {
   "cell_type": "code",
   "execution_count": 75,
   "metadata": {
    "scrolled": true
   },
   "outputs": [
    {
     "data": {
      "text/plain": [
       "array([2, 6, 2, 2, 2, 2, 3, 6, 5, 2], dtype=int64)"
      ]
     },
     "execution_count": 75,
     "metadata": {},
     "output_type": "execute_result"
    }
   ],
   "source": [
    "clf.apply(train_X.iloc[:10]) # node의 위치"
   ]
  },
  {
   "cell_type": "code",
   "execution_count": 76,
   "metadata": {},
   "outputs": [
    {
     "data": {
      "text/plain": [
       "array([1, 1, 1, ..., 0, 0, 0], dtype=int64)"
      ]
     },
     "execution_count": 76,
     "metadata": {},
     "output_type": "execute_result"
    }
   ],
   "source": [
    "clf.predict(X)"
   ]
  },
  {
   "cell_type": "markdown",
   "metadata": {},
   "source": [
    "### parameter 조정 # depth3"
   ]
  },
  {
   "cell_type": "code",
   "execution_count": 78,
   "metadata": {},
   "outputs": [
    {
     "data": {
      "text/plain": [
       "DecisionTreeClassifier(class_weight=None, criterion='entropy', max_depth=3,\n",
       "                       max_features=None, max_leaf_nodes=None,\n",
       "                       min_impurity_decrease=0.0, min_impurity_split=None,\n",
       "                       min_samples_leaf=1, min_samples_split=2,\n",
       "                       min_weight_fraction_leaf=0.0, presort=False,\n",
       "                       random_state=None, splitter='best')"
      ]
     },
     "execution_count": 78,
     "metadata": {},
     "output_type": "execute_result"
    }
   ],
   "source": [
    "from sklearn import tree\n",
    "\n",
    "\"\"\"\n",
    "DecisionTreeClassifier(criterion=’gini’, splitter=’best’, max_depth=None, min_samples_split=2, min_samples_leaf=1, \n",
    "                       min_weight_fraction_leaf=0.0, max_features=None, random_state=None, max_leaf_nodes=None, \n",
    "                       min_impurity_decrease=0.0, min_impurity_split=None, class_weight=None, presort=False)\n",
    "\n",
    "# scikit-learn uses an optimised version of the CART algorithm.\n",
    "                       \n",
    "# criterion: entropy or gini\n",
    "The function to measure the quality of a split. \n",
    "Supported criteria are “gini” for the Gini impurity and “entropy” for the information gain.\n",
    "\n",
    "# max_depth : int or None, optional (default=None)\n",
    "The maximum depth of the tree. \n",
    "If None, then nodes are expanded until all leaves are pure or until all leaves contain less than min_samples_split sample\n",
    "\n",
    "# min_samples_split: 분할 되기 위해 노드가 가져야 하는 최소 샘플 수 \n",
    "# min_samples_leaf: 리프 노드가 가지고 있어야 할 최소 샘플 수\n",
    "# max_leaf_nodes: 리프 노드의 최대 수\n",
    "# max_features: 노드에서 분할에 사용할 특성의 최대 수\n",
    "\"\"\"\n",
    "clf = tree.DecisionTreeClassifier('entropy', max_depth=3)\n",
    "clf.fit(train_X, train_y)\n"
   ]
  },
  {
   "cell_type": "code",
   "execution_count": 79,
   "metadata": {},
   "outputs": [
    {
     "data": {
      "image/svg+xml": [
       "<?xml version=\"1.0\" encoding=\"UTF-8\" standalone=\"no\"?>\r\n",
       "<!DOCTYPE svg PUBLIC \"-//W3C//DTD SVG 1.1//EN\"\r\n",
       " \"http://www.w3.org/Graphics/SVG/1.1/DTD/svg11.dtd\">\r\n",
       "<!-- Generated by graphviz version 2.38.0 (20140413.2041)\r\n",
       " -->\r\n",
       "<!-- Title: Tree Pages: 1 -->\r\n",
       "<svg width=\"1128pt\" height=\"373pt\"\r\n",
       " viewBox=\"0.00 0.00 1128.00 373.00\" xmlns=\"http://www.w3.org/2000/svg\" xmlns:xlink=\"http://www.w3.org/1999/xlink\">\r\n",
       "<g id=\"graph0\" class=\"graph\" transform=\"scale(1 1) rotate(0) translate(4 369)\">\r\n",
       "<title>Tree</title>\r\n",
       "<polygon fill=\"white\" stroke=\"none\" points=\"-4,4 -4,-369 1124,-369 1124,4 -4,4\"/>\r\n",
       "<!-- 0 -->\r\n",
       "<g id=\"node1\" class=\"node\"><title>0</title>\r\n",
       "<path fill=\"#edaa7a\" stroke=\"black\" d=\"M635,-365C635,-365 495,-365 495,-365 489,-365 483,-359 483,-353 483,-353 483,-309 483,-309 483,-303 489,-297 495,-297 495,-297 635,-297 635,-297 641,-297 647,-303 647,-309 647,-309 647,-353 647,-353 647,-359 641,-365 635,-365\"/>\r\n",
       "<text text-anchor=\"middle\" x=\"565\" y=\"-349.8\" font-family=\"Helvetica,sans-Serif\" font-size=\"14.00\">volatile acidity &lt;= 0.377</text>\r\n",
       "<text text-anchor=\"middle\" x=\"565\" y=\"-334.8\" font-family=\"Helvetica,sans-Serif\" font-size=\"14.00\">entropy = 0.805</text>\r\n",
       "<text text-anchor=\"middle\" x=\"565\" y=\"-319.8\" font-family=\"Helvetica,sans-Serif\" font-size=\"14.00\">samples = 5197</text>\r\n",
       "<text text-anchor=\"middle\" x=\"565\" y=\"-304.8\" font-family=\"Helvetica,sans-Serif\" font-size=\"14.00\">value = [3918, 1279]</text>\r\n",
       "</g>\r\n",
       "<!-- 1 -->\r\n",
       "<g id=\"node2\" class=\"node\"><title>1</title>\r\n",
       "<path fill=\"#e78b49\" stroke=\"black\" d=\"M512,-261C512,-261 398,-261 398,-261 392,-261 386,-255 386,-249 386,-249 386,-205 386,-205 386,-199 392,-193 398,-193 398,-193 512,-193 512,-193 518,-193 524,-199 524,-205 524,-205 524,-249 524,-249 524,-255 518,-261 512,-261\"/>\r\n",
       "<text text-anchor=\"middle\" x=\"455\" y=\"-245.8\" font-family=\"Helvetica,sans-Serif\" font-size=\"14.00\">sulphates &lt;= 0.645</text>\r\n",
       "<text text-anchor=\"middle\" x=\"455\" y=\"-230.8\" font-family=\"Helvetica,sans-Serif\" font-size=\"14.00\">entropy = 0.379</text>\r\n",
       "<text text-anchor=\"middle\" x=\"455\" y=\"-215.8\" font-family=\"Helvetica,sans-Serif\" font-size=\"14.00\">samples = 3658</text>\r\n",
       "<text text-anchor=\"middle\" x=\"455\" y=\"-200.8\" font-family=\"Helvetica,sans-Serif\" font-size=\"14.00\">value = [3389, 269]</text>\r\n",
       "</g>\r\n",
       "<!-- 0&#45;&gt;1 -->\r\n",
       "<g id=\"edge1\" class=\"edge\"><title>0&#45;&gt;1</title>\r\n",
       "<path fill=\"none\" stroke=\"black\" d=\"M529.286,-296.884C519.392,-287.709 508.544,-277.65 498.27,-268.123\"/>\r\n",
       "<polygon fill=\"black\" stroke=\"black\" points=\"500.624,-265.532 490.911,-261.299 495.864,-270.665 500.624,-265.532\"/>\r\n",
       "<text text-anchor=\"middle\" x=\"491.854\" y=\"-282.582\" font-family=\"Helvetica,sans-Serif\" font-size=\"14.00\">True</text>\r\n",
       "</g>\r\n",
       "<!-- 8 -->\r\n",
       "<g id=\"node9\" class=\"node\"><title>8</title>\r\n",
       "<path fill=\"#a1d0f3\" stroke=\"black\" d=\"M732,-261C732,-261 618,-261 618,-261 612,-261 606,-255 606,-249 606,-249 606,-205 606,-205 606,-199 612,-193 618,-193 618,-193 732,-193 732,-193 738,-193 744,-199 744,-205 744,-205 744,-249 744,-249 744,-255 738,-261 732,-261\"/>\r\n",
       "<text text-anchor=\"middle\" x=\"675\" y=\"-245.8\" font-family=\"Helvetica,sans-Serif\" font-size=\"14.00\">sulphates &lt;= 0.515</text>\r\n",
       "<text text-anchor=\"middle\" x=\"675\" y=\"-230.8\" font-family=\"Helvetica,sans-Serif\" font-size=\"14.00\">entropy = 0.928</text>\r\n",
       "<text text-anchor=\"middle\" x=\"675\" y=\"-215.8\" font-family=\"Helvetica,sans-Serif\" font-size=\"14.00\">samples = 1539</text>\r\n",
       "<text text-anchor=\"middle\" x=\"675\" y=\"-200.8\" font-family=\"Helvetica,sans-Serif\" font-size=\"14.00\">value = [529, 1010]</text>\r\n",
       "</g>\r\n",
       "<!-- 0&#45;&gt;8 -->\r\n",
       "<g id=\"edge8\" class=\"edge\"><title>0&#45;&gt;8</title>\r\n",
       "<path fill=\"none\" stroke=\"black\" d=\"M600.714,-296.884C610.608,-287.709 621.456,-277.65 631.73,-268.123\"/>\r\n",
       "<polygon fill=\"black\" stroke=\"black\" points=\"634.136,-270.665 639.089,-261.299 629.376,-265.532 634.136,-270.665\"/>\r\n",
       "<text text-anchor=\"middle\" x=\"638.146\" y=\"-282.582\" font-family=\"Helvetica,sans-Serif\" font-size=\"14.00\">False</text>\r\n",
       "</g>\r\n",
       "<!-- 2 -->\r\n",
       "<g id=\"node3\" class=\"node\"><title>2</title>\r\n",
       "<path fill=\"#e6853f\" stroke=\"black\" d=\"M266,-157C266,-157 152,-157 152,-157 146,-157 140,-151 140,-145 140,-145 140,-101 140,-101 140,-95 146,-89 152,-89 152,-89 266,-89 266,-89 272,-89 278,-95 278,-101 278,-101 278,-145 278,-145 278,-151 272,-157 266,-157\"/>\r\n",
       "<text text-anchor=\"middle\" x=\"209\" y=\"-141.8\" font-family=\"Helvetica,sans-Serif\" font-size=\"14.00\">sulphates &lt;= 0.505</text>\r\n",
       "<text text-anchor=\"middle\" x=\"209\" y=\"-126.8\" font-family=\"Helvetica,sans-Serif\" font-size=\"14.00\">entropy = 0.188</text>\r\n",
       "<text text-anchor=\"middle\" x=\"209\" y=\"-111.8\" font-family=\"Helvetica,sans-Serif\" font-size=\"14.00\">samples = 3164</text>\r\n",
       "<text text-anchor=\"middle\" x=\"209\" y=\"-96.8\" font-family=\"Helvetica,sans-Serif\" font-size=\"14.00\">value = [3073, 91]</text>\r\n",
       "</g>\r\n",
       "<!-- 1&#45;&gt;2 -->\r\n",
       "<g id=\"edge2\" class=\"edge\"><title>1&#45;&gt;2</title>\r\n",
       "<path fill=\"none\" stroke=\"black\" d=\"M385.821,-197.316C355.298,-184.66 319.267,-169.721 287.721,-156.64\"/>\r\n",
       "<polygon fill=\"black\" stroke=\"black\" points=\"288.664,-153.242 278.086,-152.645 285.983,-159.709 288.664,-153.242\"/>\r\n",
       "</g>\r\n",
       "<!-- 5 -->\r\n",
       "<g id=\"node6\" class=\"node\"><title>5</title>\r\n",
       "<path fill=\"#f4c8a9\" stroke=\"black\" d=\"M525,-157C525,-157 385,-157 385,-157 379,-157 373,-151 373,-145 373,-145 373,-101 373,-101 373,-95 379,-89 385,-89 385,-89 525,-89 525,-89 531,-89 537,-95 537,-101 537,-101 537,-145 537,-145 537,-151 531,-157 525,-157\"/>\r\n",
       "<text text-anchor=\"middle\" x=\"455\" y=\"-141.8\" font-family=\"Helvetica,sans-Serif\" font-size=\"14.00\">volatile acidity &lt;= 0.257</text>\r\n",
       "<text text-anchor=\"middle\" x=\"455\" y=\"-126.8\" font-family=\"Helvetica,sans-Serif\" font-size=\"14.00\">entropy = 0.943</text>\r\n",
       "<text text-anchor=\"middle\" x=\"455\" y=\"-111.8\" font-family=\"Helvetica,sans-Serif\" font-size=\"14.00\">samples = 494</text>\r\n",
       "<text text-anchor=\"middle\" x=\"455\" y=\"-96.8\" font-family=\"Helvetica,sans-Serif\" font-size=\"14.00\">value = [316, 178]</text>\r\n",
       "</g>\r\n",
       "<!-- 1&#45;&gt;5 -->\r\n",
       "<g id=\"edge5\" class=\"edge\"><title>1&#45;&gt;5</title>\r\n",
       "<path fill=\"none\" stroke=\"black\" d=\"M455,-192.884C455,-184.778 455,-175.982 455,-167.472\"/>\r\n",
       "<polygon fill=\"black\" stroke=\"black\" points=\"458.5,-167.299 455,-157.299 451.5,-167.299 458.5,-167.299\"/>\r\n",
       "</g>\r\n",
       "<!-- 3 -->\r\n",
       "<g id=\"node4\" class=\"node\"><title>3</title>\r\n",
       "<path fill=\"#e5823b\" stroke=\"black\" d=\"M118,-53C118,-53 12,-53 12,-53 6,-53 0,-47 0,-41 0,-41 0,-12 0,-12 0,-6 6,-0 12,-0 12,-0 118,-0 118,-0 124,-0 130,-6 130,-12 130,-12 130,-41 130,-41 130,-47 124,-53 118,-53\"/>\r\n",
       "<text text-anchor=\"middle\" x=\"65\" y=\"-37.8\" font-family=\"Helvetica,sans-Serif\" font-size=\"14.00\">entropy = 0.067</text>\r\n",
       "<text text-anchor=\"middle\" x=\"65\" y=\"-22.8\" font-family=\"Helvetica,sans-Serif\" font-size=\"14.00\">samples = 2127</text>\r\n",
       "<text text-anchor=\"middle\" x=\"65\" y=\"-7.8\" font-family=\"Helvetica,sans-Serif\" font-size=\"14.00\">value = [2110, 17]</text>\r\n",
       "</g>\r\n",
       "<!-- 2&#45;&gt;3 -->\r\n",
       "<g id=\"edge3\" class=\"edge\"><title>2&#45;&gt;3</title>\r\n",
       "<path fill=\"none\" stroke=\"black\" d=\"M158.636,-88.9485C143.72,-79.1601 127.439,-68.4756 112.697,-58.8015\"/>\r\n",
       "<polygon fill=\"black\" stroke=\"black\" points=\"114.499,-55.7971 104.218,-53.2367 110.658,-61.6495 114.499,-55.7971\"/>\r\n",
       "</g>\r\n",
       "<!-- 4 -->\r\n",
       "<g id=\"node5\" class=\"node\"><title>4</title>\r\n",
       "<path fill=\"#e78b48\" stroke=\"black\" d=\"M258,-53C258,-53 160,-53 160,-53 154,-53 148,-47 148,-41 148,-41 148,-12 148,-12 148,-6 154,-0 160,-0 160,-0 258,-0 258,-0 264,-0 270,-6 270,-12 270,-12 270,-41 270,-41 270,-47 264,-53 258,-53\"/>\r\n",
       "<text text-anchor=\"middle\" x=\"209\" y=\"-37.8\" font-family=\"Helvetica,sans-Serif\" font-size=\"14.00\">entropy = 0.371</text>\r\n",
       "<text text-anchor=\"middle\" x=\"209\" y=\"-22.8\" font-family=\"Helvetica,sans-Serif\" font-size=\"14.00\">samples = 1037</text>\r\n",
       "<text text-anchor=\"middle\" x=\"209\" y=\"-7.8\" font-family=\"Helvetica,sans-Serif\" font-size=\"14.00\">value = [963, 74]</text>\r\n",
       "</g>\r\n",
       "<!-- 2&#45;&gt;4 -->\r\n",
       "<g id=\"edge4\" class=\"edge\"><title>2&#45;&gt;4</title>\r\n",
       "<path fill=\"none\" stroke=\"black\" d=\"M209,-88.9485C209,-80.7153 209,-71.848 209,-63.4814\"/>\r\n",
       "<polygon fill=\"black\" stroke=\"black\" points=\"212.5,-63.2367 209,-53.2367 205.5,-63.2367 212.5,-63.2367\"/>\r\n",
       "</g>\r\n",
       "<!-- 6 -->\r\n",
       "<g id=\"node7\" class=\"node\"><title>6</title>\r\n",
       "<path fill=\"#e99559\" stroke=\"black\" d=\"M398,-53C398,-53 300,-53 300,-53 294,-53 288,-47 288,-41 288,-41 288,-12 288,-12 288,-6 294,-0 300,-0 300,-0 398,-0 398,-0 404,-0 410,-6 410,-12 410,-12 410,-41 410,-41 410,-47 404,-53 398,-53\"/>\r\n",
       "<text text-anchor=\"middle\" x=\"349\" y=\"-37.8\" font-family=\"Helvetica,sans-Serif\" font-size=\"14.00\">entropy = 0.578</text>\r\n",
       "<text text-anchor=\"middle\" x=\"349\" y=\"-22.8\" font-family=\"Helvetica,sans-Serif\" font-size=\"14.00\">samples = 247</text>\r\n",
       "<text text-anchor=\"middle\" x=\"349\" y=\"-7.8\" font-family=\"Helvetica,sans-Serif\" font-size=\"14.00\">value = [213, 34]</text>\r\n",
       "</g>\r\n",
       "<!-- 5&#45;&gt;6 -->\r\n",
       "<g id=\"edge6\" class=\"edge\"><title>5&#45;&gt;6</title>\r\n",
       "<path fill=\"none\" stroke=\"black\" d=\"M417.926,-88.9485C407.46,-79.6175 396.08,-69.4722 385.639,-60.1641\"/>\r\n",
       "<polygon fill=\"black\" stroke=\"black\" points=\"387.662,-57.2788 377.869,-53.2367 383.004,-62.5038 387.662,-57.2788\"/>\r\n",
       "</g>\r\n",
       "<!-- 7 -->\r\n",
       "<g id=\"node8\" class=\"node\"><title>7</title>\r\n",
       "<path fill=\"#c7e3f8\" stroke=\"black\" d=\"M546,-53C546,-53 440,-53 440,-53 434,-53 428,-47 428,-41 428,-41 428,-12 428,-12 428,-6 434,-0 440,-0 440,-0 546,-0 546,-0 552,-0 558,-6 558,-12 558,-12 558,-41 558,-41 558,-47 552,-53 546,-53\"/>\r\n",
       "<text text-anchor=\"middle\" x=\"493\" y=\"-37.8\" font-family=\"Helvetica,sans-Serif\" font-size=\"14.00\">entropy = 0.98</text>\r\n",
       "<text text-anchor=\"middle\" x=\"493\" y=\"-22.8\" font-family=\"Helvetica,sans-Serif\" font-size=\"14.00\">samples = 247</text>\r\n",
       "<text text-anchor=\"middle\" x=\"493\" y=\"-7.8\" font-family=\"Helvetica,sans-Serif\" font-size=\"14.00\">value = [103, 144]</text>\r\n",
       "</g>\r\n",
       "<!-- 5&#45;&gt;7 -->\r\n",
       "<g id=\"edge7\" class=\"edge\"><title>5&#45;&gt;7</title>\r\n",
       "<path fill=\"none\" stroke=\"black\" d=\"M468.291,-88.9485C471.712,-80.4408 475.405,-71.2562 478.867,-62.6464\"/>\r\n",
       "<polygon fill=\"black\" stroke=\"black\" points=\"482.167,-63.8205 482.651,-53.2367 475.673,-61.2089 482.167,-63.8205\"/>\r\n",
       "</g>\r\n",
       "<!-- 9 -->\r\n",
       "<g id=\"node10\" class=\"node\"><title>9</title>\r\n",
       "<path fill=\"#f0b68c\" stroke=\"black\" d=\"M745,-157C745,-157 605,-157 605,-157 599,-157 593,-151 593,-145 593,-145 593,-101 593,-101 593,-95 599,-89 605,-89 605,-89 745,-89 745,-89 751,-89 757,-95 757,-101 757,-101 757,-145 757,-145 757,-151 751,-157 745,-157\"/>\r\n",
       "<text text-anchor=\"middle\" x=\"675\" y=\"-141.8\" font-family=\"Helvetica,sans-Serif\" font-size=\"14.00\">volatile acidity &lt;= 0.558</text>\r\n",
       "<text text-anchor=\"middle\" x=\"675\" y=\"-126.8\" font-family=\"Helvetica,sans-Serif\" font-size=\"14.00\">entropy = 0.876</text>\r\n",
       "<text text-anchor=\"middle\" x=\"675\" y=\"-111.8\" font-family=\"Helvetica,sans-Serif\" font-size=\"14.00\">samples = 480</text>\r\n",
       "<text text-anchor=\"middle\" x=\"675\" y=\"-96.8\" font-family=\"Helvetica,sans-Serif\" font-size=\"14.00\">value = [338, 142]</text>\r\n",
       "</g>\r\n",
       "<!-- 8&#45;&gt;9 -->\r\n",
       "<g id=\"edge9\" class=\"edge\"><title>8&#45;&gt;9</title>\r\n",
       "<path fill=\"none\" stroke=\"black\" d=\"M675,-192.884C675,-184.778 675,-175.982 675,-167.472\"/>\r\n",
       "<polygon fill=\"black\" stroke=\"black\" points=\"678.5,-167.299 675,-157.299 671.5,-167.299 678.5,-167.299\"/>\r\n",
       "</g>\r\n",
       "<!-- 12 -->\r\n",
       "<g id=\"node13\" class=\"node\"><title>12</title>\r\n",
       "<path fill=\"#65b3eb\" stroke=\"black\" d=\"M985,-157C985,-157 845,-157 845,-157 839,-157 833,-151 833,-145 833,-145 833,-101 833,-101 833,-95 839,-89 845,-89 845,-89 985,-89 985,-89 991,-89 997,-95 997,-101 997,-101 997,-145 997,-145 997,-151 991,-157 985,-157\"/>\r\n",
       "<text text-anchor=\"middle\" x=\"915\" y=\"-141.8\" font-family=\"Helvetica,sans-Serif\" font-size=\"14.00\">volatile acidity &lt;= 0.465</text>\r\n",
       "<text text-anchor=\"middle\" x=\"915\" y=\"-126.8\" font-family=\"Helvetica,sans-Serif\" font-size=\"14.00\">entropy = 0.681</text>\r\n",
       "<text text-anchor=\"middle\" x=\"915\" y=\"-111.8\" font-family=\"Helvetica,sans-Serif\" font-size=\"14.00\">samples = 1059</text>\r\n",
       "<text text-anchor=\"middle\" x=\"915\" y=\"-96.8\" font-family=\"Helvetica,sans-Serif\" font-size=\"14.00\">value = [191, 868]</text>\r\n",
       "</g>\r\n",
       "<!-- 8&#45;&gt;12 -->\r\n",
       "<g id=\"edge12\" class=\"edge\"><title>8&#45;&gt;12</title>\r\n",
       "<path fill=\"none\" stroke=\"black\" d=\"M744.096,-196.634C770.223,-185.53 800.302,-172.747 827.872,-161.029\"/>\r\n",
       "<polygon fill=\"black\" stroke=\"black\" points=\"829.282,-164.233 837.116,-157.101 826.544,-157.791 829.282,-164.233\"/>\r\n",
       "</g>\r\n",
       "<!-- 10 -->\r\n",
       "<g id=\"node11\" class=\"node\"><title>10</title>\r\n",
       "<path fill=\"#e99457\" stroke=\"black\" d=\"M686,-53C686,-53 588,-53 588,-53 582,-53 576,-47 576,-41 576,-41 576,-12 576,-12 576,-6 582,-0 588,-0 588,-0 686,-0 686,-0 692,-0 698,-6 698,-12 698,-12 698,-41 698,-41 698,-47 692,-53 686,-53\"/>\r\n",
       "<text text-anchor=\"middle\" x=\"637\" y=\"-37.8\" font-family=\"Helvetica,sans-Serif\" font-size=\"14.00\">entropy = 0.56</text>\r\n",
       "<text text-anchor=\"middle\" x=\"637\" y=\"-22.8\" font-family=\"Helvetica,sans-Serif\" font-size=\"14.00\">samples = 328</text>\r\n",
       "<text text-anchor=\"middle\" x=\"637\" y=\"-7.8\" font-family=\"Helvetica,sans-Serif\" font-size=\"14.00\">value = [285, 43]</text>\r\n",
       "</g>\r\n",
       "<!-- 9&#45;&gt;10 -->\r\n",
       "<g id=\"edge10\" class=\"edge\"><title>9&#45;&gt;10</title>\r\n",
       "<path fill=\"none\" stroke=\"black\" d=\"M661.709,-88.9485C658.288,-80.4408 654.595,-71.2562 651.133,-62.6464\"/>\r\n",
       "<polygon fill=\"black\" stroke=\"black\" points=\"654.327,-61.2089 647.349,-53.2367 647.833,-63.8205 654.327,-61.2089\"/>\r\n",
       "</g>\r\n",
       "<!-- 11 -->\r\n",
       "<g id=\"node12\" class=\"node\"><title>11</title>\r\n",
       "<path fill=\"#a3d1f3\" stroke=\"black\" d=\"M820,-53C820,-53 728,-53 728,-53 722,-53 716,-47 716,-41 716,-41 716,-12 716,-12 716,-6 722,-0 728,-0 728,-0 820,-0 820,-0 826,-0 832,-6 832,-12 832,-12 832,-41 832,-41 832,-47 826,-53 820,-53\"/>\r\n",
       "<text text-anchor=\"middle\" x=\"774\" y=\"-37.8\" font-family=\"Helvetica,sans-Serif\" font-size=\"14.00\">entropy = 0.933</text>\r\n",
       "<text text-anchor=\"middle\" x=\"774\" y=\"-22.8\" font-family=\"Helvetica,sans-Serif\" font-size=\"14.00\">samples = 152</text>\r\n",
       "<text text-anchor=\"middle\" x=\"774\" y=\"-7.8\" font-family=\"Helvetica,sans-Serif\" font-size=\"14.00\">value = [53, 99]</text>\r\n",
       "</g>\r\n",
       "<!-- 9&#45;&gt;11 -->\r\n",
       "<g id=\"edge11\" class=\"edge\"><title>9&#45;&gt;11</title>\r\n",
       "<path fill=\"none\" stroke=\"black\" d=\"M709.625,-88.9485C719.401,-79.6175 730.029,-69.4722 739.78,-60.1641\"/>\r\n",
       "<polygon fill=\"black\" stroke=\"black\" points=\"742.221,-62.6732 747.038,-53.2367 737.387,-57.6097 742.221,-62.6732\"/>\r\n",
       "</g>\r\n",
       "<!-- 13 -->\r\n",
       "<g id=\"node14\" class=\"node\"><title>13</title>\r\n",
       "<path fill=\"#b0d8f5\" stroke=\"black\" d=\"M968,-53C968,-53 862,-53 862,-53 856,-53 850,-47 850,-41 850,-41 850,-12 850,-12 850,-6 856,-0 862,-0 862,-0 968,-0 968,-0 974,-0 980,-6 980,-12 980,-12 980,-41 980,-41 980,-47 974,-53 968,-53\"/>\r\n",
       "<text text-anchor=\"middle\" x=\"915\" y=\"-37.8\" font-family=\"Helvetica,sans-Serif\" font-size=\"14.00\">entropy = 0.955</text>\r\n",
       "<text text-anchor=\"middle\" x=\"915\" y=\"-22.8\" font-family=\"Helvetica,sans-Serif\" font-size=\"14.00\">samples = 343</text>\r\n",
       "<text text-anchor=\"middle\" x=\"915\" y=\"-7.8\" font-family=\"Helvetica,sans-Serif\" font-size=\"14.00\">value = [129, 214]</text>\r\n",
       "</g>\r\n",
       "<!-- 12&#45;&gt;13 -->\r\n",
       "<g id=\"edge13\" class=\"edge\"><title>12&#45;&gt;13</title>\r\n",
       "<path fill=\"none\" stroke=\"black\" d=\"M915,-88.9485C915,-80.7153 915,-71.848 915,-63.4814\"/>\r\n",
       "<polygon fill=\"black\" stroke=\"black\" points=\"918.5,-63.2367 915,-53.2367 911.5,-63.2367 918.5,-63.2367\"/>\r\n",
       "</g>\r\n",
       "<!-- 14 -->\r\n",
       "<g id=\"node15\" class=\"node\"><title>14</title>\r\n",
       "<path fill=\"#4ca6e7\" stroke=\"black\" d=\"M1108,-53C1108,-53 1010,-53 1010,-53 1004,-53 998,-47 998,-41 998,-41 998,-12 998,-12 998,-6 1004,-0 1010,-0 1010,-0 1108,-0 1108,-0 1114,-0 1120,-6 1120,-12 1120,-12 1120,-41 1120,-41 1120,-47 1114,-53 1108,-53\"/>\r\n",
       "<text text-anchor=\"middle\" x=\"1059\" y=\"-37.8\" font-family=\"Helvetica,sans-Serif\" font-size=\"14.00\">entropy = 0.425</text>\r\n",
       "<text text-anchor=\"middle\" x=\"1059\" y=\"-22.8\" font-family=\"Helvetica,sans-Serif\" font-size=\"14.00\">samples = 716</text>\r\n",
       "<text text-anchor=\"middle\" x=\"1059\" y=\"-7.8\" font-family=\"Helvetica,sans-Serif\" font-size=\"14.00\">value = [62, 654]</text>\r\n",
       "</g>\r\n",
       "<!-- 12&#45;&gt;14 -->\r\n",
       "<g id=\"edge14\" class=\"edge\"><title>12&#45;&gt;14</title>\r\n",
       "<path fill=\"none\" stroke=\"black\" d=\"M965.364,-88.9485C980.28,-79.1601 996.561,-68.4756 1011.3,-58.8015\"/>\r\n",
       "<polygon fill=\"black\" stroke=\"black\" points=\"1013.34,-61.6495 1019.78,-53.2367 1009.5,-55.7971 1013.34,-61.6495\"/>\r\n",
       "</g>\r\n",
       "</g>\r\n",
       "</svg>\r\n"
      ],
      "text/plain": [
       "<graphviz.files.Source at 0xb99bf28>"
      ]
     },
     "execution_count": 79,
     "metadata": {},
     "output_type": "execute_result"
    }
   ],
   "source": [
    "dot_data = tree.export_graphviz(clf, out_file=None, max_depth=3, feature_names=list(X.columns.values), filled=True, rounded=True)\n",
    "graphviz.Source(dot_data)"
   ]
  },
  {
   "cell_type": "code",
   "execution_count": 80,
   "metadata": {},
   "outputs": [
    {
     "data": {
      "text/plain": [
       "0.9009043679045603"
      ]
     },
     "execution_count": 80,
     "metadata": {},
     "output_type": "execute_result"
    }
   ],
   "source": [
    "clf.score(train_X,train_y)"
   ]
  },
  {
   "cell_type": "code",
   "execution_count": 81,
   "metadata": {},
   "outputs": [
    {
     "data": {
      "text/plain": [
       "0.9084615384615384"
      ]
     },
     "execution_count": 81,
     "metadata": {},
     "output_type": "execute_result"
    }
   ],
   "source": [
    "clf.score(test_X, test_y)"
   ]
  },
  {
   "cell_type": "code",
   "execution_count": null,
   "metadata": {},
   "outputs": [],
   "source": []
  },
  {
   "cell_type": "code",
   "execution_count": 82,
   "metadata": {},
   "outputs": [
    {
     "data": {
      "text/plain": [
       "DecisionTreeClassifier(class_weight=None, criterion='entropy', max_depth=5,\n",
       "                       max_features=None, max_leaf_nodes=None,\n",
       "                       min_impurity_decrease=0.0, min_impurity_split=None,\n",
       "                       min_samples_leaf=1, min_samples_split=2,\n",
       "                       min_weight_fraction_leaf=0.0, presort=False,\n",
       "                       random_state=None, splitter='best')"
      ]
     },
     "execution_count": 82,
     "metadata": {},
     "output_type": "execute_result"
    }
   ],
   "source": [
    "from sklearn import tree\n",
    "\n",
    "\n",
    "clf = tree.DecisionTreeClassifier('entropy', max_depth=5)\n",
    "clf.fit(train_X, train_y)\n"
   ]
  },
  {
   "cell_type": "code",
   "execution_count": 83,
   "metadata": {},
   "outputs": [
    {
     "data": {
      "text/plain": [
       "(0.9189917259957668, 0.9161538461538462)"
      ]
     },
     "execution_count": 83,
     "metadata": {},
     "output_type": "execute_result"
    }
   ],
   "source": [
    "clf.score(train_X,train_y), clf.score(test_X, test_y)"
   ]
  },
  {
   "cell_type": "code",
   "execution_count": 84,
   "metadata": {},
   "outputs": [
    {
     "data": {
      "text/plain": [
       "array([0, 0, 0, ..., 0, 0, 0], dtype=int64)"
      ]
     },
     "execution_count": 84,
     "metadata": {},
     "output_type": "execute_result"
    }
   ],
   "source": [
    "clf.predict(test_X)"
   ]
  },
  {
   "cell_type": "code",
   "execution_count": 85,
   "metadata": {},
   "outputs": [
    {
     "data": {
      "text/plain": [
       "(Index(['volatile acidity', 'sulphates'], dtype='object'),\n",
       " array([0.66540696, 0.33459304]))"
      ]
     },
     "execution_count": 85,
     "metadata": {},
     "output_type": "execute_result"
    }
   ],
   "source": [
    "# Feature importance is calculated as the decrease in node impurity weighted by the probability of reaching that node. \n",
    "# The node probability can be calculated by the number of samples that reach the node, divided by the total number of samples. \n",
    "# The higher the value the more important the feature.\n",
    "\n",
    "X.columns, clf.feature_importances_"
   ]
  },
  {
   "cell_type": "code",
   "execution_count": 87,
   "metadata": {},
   "outputs": [
    {
     "data": {
      "text/plain": [
       "'0.21.2'"
      ]
     },
     "execution_count": 87,
     "metadata": {},
     "output_type": "execute_result"
    }
   ],
   "source": [
    "import sklearn\n",
    "sklearn.__version__"
   ]
  },
  {
   "cell_type": "code",
   "execution_count": 86,
   "metadata": {
    "scrolled": true
   },
   "outputs": [
    {
     "data": {
      "text/plain": [
       "31"
      ]
     },
     "execution_count": 86,
     "metadata": {},
     "output_type": "execute_result"
    }
   ],
   "source": [
    "# clf.get_n_leaves()"
   ]
  },
  {
   "cell_type": "markdown",
   "metadata": {},
   "source": [
    "### 파라미터 조정 # max_leaf_nodes"
   ]
  },
  {
   "cell_type": "code",
   "execution_count": 88,
   "metadata": {},
   "outputs": [
    {
     "data": {
      "text/plain": [
       "DecisionTreeClassifier(class_weight=None, criterion='entropy', max_depth=3,\n",
       "                       max_features=None, max_leaf_nodes=None,\n",
       "                       min_impurity_decrease=0.0, min_impurity_split=None,\n",
       "                       min_samples_leaf=1, min_samples_split=500,\n",
       "                       min_weight_fraction_leaf=0.0, presort=False,\n",
       "                       random_state=None, splitter='best')"
      ]
     },
     "execution_count": 88,
     "metadata": {},
     "output_type": "execute_result"
    }
   ],
   "source": [
    "from sklearn import tree\n",
    "\n",
    "\"\"\"\n",
    "DecisionTreeClassifier(criterion=’gini’, splitter=’best’, max_depth=None, min_samples_split=2, min_samples_leaf=1, \n",
    "                       min_weight_fraction_leaf=0.0, max_features=None, random_state=None, max_leaf_nodes=None, \n",
    "                       min_impurity_decrease=0.0, min_impurity_split=None, class_weight=None, presort=False)\n",
    "\n",
    "# scikit-learn uses an optimised version of the CART algorithm.\n",
    "                       \n",
    "# criterion: entropy or gini\n",
    "The function to measure the quality of a split. \n",
    "Supported criteria are “gini” for the Gini impurity and “entropy” for the information gain.\n",
    "\n",
    "# max_depth : int or None, optional (default=None)\n",
    "The maximum depth of the tree. \n",
    "If None, then nodes are expanded until all leaves are pure or until all leaves contain less than min_samples_split sample\n",
    "\n",
    "# min_samples_split: 분할 되기 위해 노드가 가져야 하는 최소 샘플 수 \n",
    "# min_samples_leaf: 리프 노드가 가지고 있어야 할 최소 샘플 수\n",
    "# max_leaf_nodes: 리프 노드의 최대 수\n",
    "# max_features: 노드에서 분할에 사용할 특성의 최대 수\n",
    "\"\"\"\n",
    "clf = tree.DecisionTreeClassifier(\n",
    "    'entropy',  \n",
    "    max_depth=3,\n",
    "    min_samples_split=500\n",
    ")\n",
    "\n",
    "clf.fit(train_X, train_y)\n"
   ]
  },
  {
   "cell_type": "code",
   "execution_count": 89,
   "metadata": {},
   "outputs": [
    {
     "data": {
      "text/plain": [
       "0.8841639407350395"
      ]
     },
     "execution_count": 89,
     "metadata": {},
     "output_type": "execute_result"
    }
   ],
   "source": [
    "clf.score(train_X, train_y)"
   ]
  },
  {
   "cell_type": "code",
   "execution_count": 90,
   "metadata": {},
   "outputs": [
    {
     "data": {
      "text/plain": [
       "0.8930769230769231"
      ]
     },
     "execution_count": 90,
     "metadata": {},
     "output_type": "execute_result"
    }
   ],
   "source": [
    "clf.score(test_X, test_y)"
   ]
  },
  {
   "cell_type": "code",
   "execution_count": 91,
   "metadata": {},
   "outputs": [
    {
     "data": {
      "image/svg+xml": [
       "<?xml version=\"1.0\" encoding=\"UTF-8\" standalone=\"no\"?>\r\n",
       "<!DOCTYPE svg PUBLIC \"-//W3C//DTD SVG 1.1//EN\"\r\n",
       " \"http://www.w3.org/Graphics/SVG/1.1/DTD/svg11.dtd\">\r\n",
       "<!-- Generated by graphviz version 2.38.0 (20140413.2041)\r\n",
       " -->\r\n",
       "<!-- Title: Tree Pages: 1 -->\r\n",
       "<svg width=\"747pt\" height=\"373pt\"\r\n",
       " viewBox=\"0.00 0.00 747.00 373.00\" xmlns=\"http://www.w3.org/2000/svg\" xmlns:xlink=\"http://www.w3.org/1999/xlink\">\r\n",
       "<g id=\"graph0\" class=\"graph\" transform=\"scale(1 1) rotate(0) translate(4 369)\">\r\n",
       "<title>Tree</title>\r\n",
       "<polygon fill=\"white\" stroke=\"none\" points=\"-4,4 -4,-369 743,-369 743,4 -4,4\"/>\r\n",
       "<!-- 0 -->\r\n",
       "<g id=\"node1\" class=\"node\"><title>0</title>\r\n",
       "<path fill=\"#edaa7a\" stroke=\"black\" d=\"M435,-365C435,-365 295,-365 295,-365 289,-365 283,-359 283,-353 283,-353 283,-309 283,-309 283,-303 289,-297 295,-297 295,-297 435,-297 435,-297 441,-297 447,-303 447,-309 447,-309 447,-353 447,-353 447,-359 441,-365 435,-365\"/>\r\n",
       "<text text-anchor=\"middle\" x=\"365\" y=\"-349.8\" font-family=\"Helvetica,sans-Serif\" font-size=\"14.00\">volatile acidity &lt;= 0.377</text>\r\n",
       "<text text-anchor=\"middle\" x=\"365\" y=\"-334.8\" font-family=\"Helvetica,sans-Serif\" font-size=\"14.00\">entropy = 0.805</text>\r\n",
       "<text text-anchor=\"middle\" x=\"365\" y=\"-319.8\" font-family=\"Helvetica,sans-Serif\" font-size=\"14.00\">samples = 5197</text>\r\n",
       "<text text-anchor=\"middle\" x=\"365\" y=\"-304.8\" font-family=\"Helvetica,sans-Serif\" font-size=\"14.00\">value = [3918, 1279]</text>\r\n",
       "</g>\r\n",
       "<!-- 1 -->\r\n",
       "<g id=\"node2\" class=\"node\"><title>1</title>\r\n",
       "<path fill=\"#e78b49\" stroke=\"black\" d=\"M344,-261C344,-261 230,-261 230,-261 224,-261 218,-255 218,-249 218,-249 218,-205 218,-205 218,-199 224,-193 230,-193 230,-193 344,-193 344,-193 350,-193 356,-199 356,-205 356,-205 356,-249 356,-249 356,-255 350,-261 344,-261\"/>\r\n",
       "<text text-anchor=\"middle\" x=\"287\" y=\"-245.8\" font-family=\"Helvetica,sans-Serif\" font-size=\"14.00\">sulphates &lt;= 0.645</text>\r\n",
       "<text text-anchor=\"middle\" x=\"287\" y=\"-230.8\" font-family=\"Helvetica,sans-Serif\" font-size=\"14.00\">entropy = 0.379</text>\r\n",
       "<text text-anchor=\"middle\" x=\"287\" y=\"-215.8\" font-family=\"Helvetica,sans-Serif\" font-size=\"14.00\">samples = 3658</text>\r\n",
       "<text text-anchor=\"middle\" x=\"287\" y=\"-200.8\" font-family=\"Helvetica,sans-Serif\" font-size=\"14.00\">value = [3389, 269]</text>\r\n",
       "</g>\r\n",
       "<!-- 0&#45;&gt;1 -->\r\n",
       "<g id=\"edge1\" class=\"edge\"><title>0&#45;&gt;1</title>\r\n",
       "<path fill=\"none\" stroke=\"black\" d=\"M339.676,-296.884C333,-288.154 325.713,-278.625 318.746,-269.514\"/>\r\n",
       "<polygon fill=\"black\" stroke=\"black\" points=\"321.319,-267.117 312.464,-261.299 315.758,-271.369 321.319,-267.117\"/>\r\n",
       "<text text-anchor=\"middle\" x=\"309.16\" y=\"-282.38\" font-family=\"Helvetica,sans-Serif\" font-size=\"14.00\">True</text>\r\n",
       "</g>\r\n",
       "<!-- 6 -->\r\n",
       "<g id=\"node7\" class=\"node\"><title>6</title>\r\n",
       "<path fill=\"#a1d0f3\" stroke=\"black\" d=\"M500,-261C500,-261 386,-261 386,-261 380,-261 374,-255 374,-249 374,-249 374,-205 374,-205 374,-199 380,-193 386,-193 386,-193 500,-193 500,-193 506,-193 512,-199 512,-205 512,-205 512,-249 512,-249 512,-255 506,-261 500,-261\"/>\r\n",
       "<text text-anchor=\"middle\" x=\"443\" y=\"-245.8\" font-family=\"Helvetica,sans-Serif\" font-size=\"14.00\">sulphates &lt;= 0.515</text>\r\n",
       "<text text-anchor=\"middle\" x=\"443\" y=\"-230.8\" font-family=\"Helvetica,sans-Serif\" font-size=\"14.00\">entropy = 0.928</text>\r\n",
       "<text text-anchor=\"middle\" x=\"443\" y=\"-215.8\" font-family=\"Helvetica,sans-Serif\" font-size=\"14.00\">samples = 1539</text>\r\n",
       "<text text-anchor=\"middle\" x=\"443\" y=\"-200.8\" font-family=\"Helvetica,sans-Serif\" font-size=\"14.00\">value = [529, 1010]</text>\r\n",
       "</g>\r\n",
       "<!-- 0&#45;&gt;6 -->\r\n",
       "<g id=\"edge6\" class=\"edge\"><title>0&#45;&gt;6</title>\r\n",
       "<path fill=\"none\" stroke=\"black\" d=\"M390.324,-296.884C397,-288.154 404.287,-278.625 411.254,-269.514\"/>\r\n",
       "<polygon fill=\"black\" stroke=\"black\" points=\"414.242,-271.369 417.536,-261.299 408.681,-267.117 414.242,-271.369\"/>\r\n",
       "<text text-anchor=\"middle\" x=\"420.84\" y=\"-282.38\" font-family=\"Helvetica,sans-Serif\" font-size=\"14.00\">False</text>\r\n",
       "</g>\r\n",
       "<!-- 2 -->\r\n",
       "<g id=\"node3\" class=\"node\"><title>2</title>\r\n",
       "<path fill=\"#e6853f\" stroke=\"black\" d=\"M194,-157C194,-157 80,-157 80,-157 74,-157 68,-151 68,-145 68,-145 68,-101 68,-101 68,-95 74,-89 80,-89 80,-89 194,-89 194,-89 200,-89 206,-95 206,-101 206,-101 206,-145 206,-145 206,-151 200,-157 194,-157\"/>\r\n",
       "<text text-anchor=\"middle\" x=\"137\" y=\"-141.8\" font-family=\"Helvetica,sans-Serif\" font-size=\"14.00\">sulphates &lt;= 0.505</text>\r\n",
       "<text text-anchor=\"middle\" x=\"137\" y=\"-126.8\" font-family=\"Helvetica,sans-Serif\" font-size=\"14.00\">entropy = 0.188</text>\r\n",
       "<text text-anchor=\"middle\" x=\"137\" y=\"-111.8\" font-family=\"Helvetica,sans-Serif\" font-size=\"14.00\">samples = 3164</text>\r\n",
       "<text text-anchor=\"middle\" x=\"137\" y=\"-96.8\" font-family=\"Helvetica,sans-Serif\" font-size=\"14.00\">value = [3073, 91]</text>\r\n",
       "</g>\r\n",
       "<!-- 1&#45;&gt;2 -->\r\n",
       "<g id=\"edge2\" class=\"edge\"><title>1&#45;&gt;2</title>\r\n",
       "<path fill=\"none\" stroke=\"black\" d=\"M238.299,-192.884C224.212,-183.304 208.707,-172.761 194.154,-162.864\"/>\r\n",
       "<polygon fill=\"black\" stroke=\"black\" points=\"195.95,-159.854 185.713,-157.125 192.014,-165.642 195.95,-159.854\"/>\r\n",
       "</g>\r\n",
       "<!-- 5 -->\r\n",
       "<g id=\"node6\" class=\"node\"><title>5</title>\r\n",
       "<path fill=\"#f4c8a9\" stroke=\"black\" d=\"M342,-149.5C342,-149.5 236,-149.5 236,-149.5 230,-149.5 224,-143.5 224,-137.5 224,-137.5 224,-108.5 224,-108.5 224,-102.5 230,-96.5 236,-96.5 236,-96.5 342,-96.5 342,-96.5 348,-96.5 354,-102.5 354,-108.5 354,-108.5 354,-137.5 354,-137.5 354,-143.5 348,-149.5 342,-149.5\"/>\r\n",
       "<text text-anchor=\"middle\" x=\"289\" y=\"-134.3\" font-family=\"Helvetica,sans-Serif\" font-size=\"14.00\">entropy = 0.943</text>\r\n",
       "<text text-anchor=\"middle\" x=\"289\" y=\"-119.3\" font-family=\"Helvetica,sans-Serif\" font-size=\"14.00\">samples = 494</text>\r\n",
       "<text text-anchor=\"middle\" x=\"289\" y=\"-104.3\" font-family=\"Helvetica,sans-Serif\" font-size=\"14.00\">value = [316, 178]</text>\r\n",
       "</g>\r\n",
       "<!-- 1&#45;&gt;5 -->\r\n",
       "<g id=\"edge5\" class=\"edge\"><title>1&#45;&gt;5</title>\r\n",
       "<path fill=\"none\" stroke=\"black\" d=\"M287.649,-192.884C287.859,-182.216 288.091,-170.352 288.304,-159.519\"/>\r\n",
       "<polygon fill=\"black\" stroke=\"black\" points=\"291.803,-159.587 288.5,-149.52 284.804,-159.449 291.803,-159.587\"/>\r\n",
       "</g>\r\n",
       "<!-- 3 -->\r\n",
       "<g id=\"node4\" class=\"node\"><title>3</title>\r\n",
       "<path fill=\"#e5823b\" stroke=\"black\" d=\"M118,-53C118,-53 12,-53 12,-53 6,-53 0,-47 0,-41 0,-41 0,-12 0,-12 0,-6 6,-0 12,-0 12,-0 118,-0 118,-0 124,-0 130,-6 130,-12 130,-12 130,-41 130,-41 130,-47 124,-53 118,-53\"/>\r\n",
       "<text text-anchor=\"middle\" x=\"65\" y=\"-37.8\" font-family=\"Helvetica,sans-Serif\" font-size=\"14.00\">entropy = 0.067</text>\r\n",
       "<text text-anchor=\"middle\" x=\"65\" y=\"-22.8\" font-family=\"Helvetica,sans-Serif\" font-size=\"14.00\">samples = 2127</text>\r\n",
       "<text text-anchor=\"middle\" x=\"65\" y=\"-7.8\" font-family=\"Helvetica,sans-Serif\" font-size=\"14.00\">value = [2110, 17]</text>\r\n",
       "</g>\r\n",
       "<!-- 2&#45;&gt;3 -->\r\n",
       "<g id=\"edge3\" class=\"edge\"><title>2&#45;&gt;3</title>\r\n",
       "<path fill=\"none\" stroke=\"black\" d=\"M111.818,-88.9485C104.987,-79.9834 97.5841,-70.2666 90.7241,-61.2629\"/>\r\n",
       "<polygon fill=\"black\" stroke=\"black\" points=\"93.4534,-59.0699 84.6089,-53.2367 87.8854,-63.3122 93.4534,-59.0699\"/>\r\n",
       "</g>\r\n",
       "<!-- 4 -->\r\n",
       "<g id=\"node5\" class=\"node\"><title>4</title>\r\n",
       "<path fill=\"#e78b48\" stroke=\"black\" d=\"M258,-53C258,-53 160,-53 160,-53 154,-53 148,-47 148,-41 148,-41 148,-12 148,-12 148,-6 154,-0 160,-0 160,-0 258,-0 258,-0 264,-0 270,-6 270,-12 270,-12 270,-41 270,-41 270,-47 264,-53 258,-53\"/>\r\n",
       "<text text-anchor=\"middle\" x=\"209\" y=\"-37.8\" font-family=\"Helvetica,sans-Serif\" font-size=\"14.00\">entropy = 0.371</text>\r\n",
       "<text text-anchor=\"middle\" x=\"209\" y=\"-22.8\" font-family=\"Helvetica,sans-Serif\" font-size=\"14.00\">samples = 1037</text>\r\n",
       "<text text-anchor=\"middle\" x=\"209\" y=\"-7.8\" font-family=\"Helvetica,sans-Serif\" font-size=\"14.00\">value = [963, 74]</text>\r\n",
       "</g>\r\n",
       "<!-- 2&#45;&gt;4 -->\r\n",
       "<g id=\"edge4\" class=\"edge\"><title>2&#45;&gt;4</title>\r\n",
       "<path fill=\"none\" stroke=\"black\" d=\"M162.182,-88.9485C169.013,-79.9834 176.416,-70.2666 183.276,-61.2629\"/>\r\n",
       "<polygon fill=\"black\" stroke=\"black\" points=\"186.115,-63.3122 189.391,-53.2367 180.547,-59.0699 186.115,-63.3122\"/>\r\n",
       "</g>\r\n",
       "<!-- 7 -->\r\n",
       "<g id=\"node8\" class=\"node\"><title>7</title>\r\n",
       "<path fill=\"#f0b68c\" stroke=\"black\" d=\"M494,-149.5C494,-149.5 388,-149.5 388,-149.5 382,-149.5 376,-143.5 376,-137.5 376,-137.5 376,-108.5 376,-108.5 376,-102.5 382,-96.5 388,-96.5 388,-96.5 494,-96.5 494,-96.5 500,-96.5 506,-102.5 506,-108.5 506,-108.5 506,-137.5 506,-137.5 506,-143.5 500,-149.5 494,-149.5\"/>\r\n",
       "<text text-anchor=\"middle\" x=\"441\" y=\"-134.3\" font-family=\"Helvetica,sans-Serif\" font-size=\"14.00\">entropy = 0.876</text>\r\n",
       "<text text-anchor=\"middle\" x=\"441\" y=\"-119.3\" font-family=\"Helvetica,sans-Serif\" font-size=\"14.00\">samples = 480</text>\r\n",
       "<text text-anchor=\"middle\" x=\"441\" y=\"-104.3\" font-family=\"Helvetica,sans-Serif\" font-size=\"14.00\">value = [338, 142]</text>\r\n",
       "</g>\r\n",
       "<!-- 6&#45;&gt;7 -->\r\n",
       "<g id=\"edge7\" class=\"edge\"><title>6&#45;&gt;7</title>\r\n",
       "<path fill=\"none\" stroke=\"black\" d=\"M442.351,-192.884C442.141,-182.216 441.909,-170.352 441.696,-159.519\"/>\r\n",
       "<polygon fill=\"black\" stroke=\"black\" points=\"445.196,-159.449 441.5,-149.52 438.197,-159.587 445.196,-159.449\"/>\r\n",
       "</g>\r\n",
       "<!-- 8 -->\r\n",
       "<g id=\"node9\" class=\"node\"><title>8</title>\r\n",
       "<path fill=\"#65b3eb\" stroke=\"black\" d=\"M676,-157C676,-157 536,-157 536,-157 530,-157 524,-151 524,-145 524,-145 524,-101 524,-101 524,-95 530,-89 536,-89 536,-89 676,-89 676,-89 682,-89 688,-95 688,-101 688,-101 688,-145 688,-145 688,-151 682,-157 676,-157\"/>\r\n",
       "<text text-anchor=\"middle\" x=\"606\" y=\"-141.8\" font-family=\"Helvetica,sans-Serif\" font-size=\"14.00\">volatile acidity &lt;= 0.465</text>\r\n",
       "<text text-anchor=\"middle\" x=\"606\" y=\"-126.8\" font-family=\"Helvetica,sans-Serif\" font-size=\"14.00\">entropy = 0.681</text>\r\n",
       "<text text-anchor=\"middle\" x=\"606\" y=\"-111.8\" font-family=\"Helvetica,sans-Serif\" font-size=\"14.00\">samples = 1059</text>\r\n",
       "<text text-anchor=\"middle\" x=\"606\" y=\"-96.8\" font-family=\"Helvetica,sans-Serif\" font-size=\"14.00\">value = [191, 868]</text>\r\n",
       "</g>\r\n",
       "<!-- 6&#45;&gt;8 -->\r\n",
       "<g id=\"edge8\" class=\"edge\"><title>6&#45;&gt;8</title>\r\n",
       "<path fill=\"none\" stroke=\"black\" d=\"M495.921,-192.884C511.373,-183.214 528.394,-172.563 544.336,-162.587\"/>\r\n",
       "<polygon fill=\"black\" stroke=\"black\" points=\"546.445,-165.396 553.065,-157.125 542.732,-159.462 546.445,-165.396\"/>\r\n",
       "</g>\r\n",
       "<!-- 9 -->\r\n",
       "<g id=\"node10\" class=\"node\"><title>9</title>\r\n",
       "<path fill=\"#b0d8f5\" stroke=\"black\" d=\"M587,-53C587,-53 481,-53 481,-53 475,-53 469,-47 469,-41 469,-41 469,-12 469,-12 469,-6 475,-0 481,-0 481,-0 587,-0 587,-0 593,-0 599,-6 599,-12 599,-12 599,-41 599,-41 599,-47 593,-53 587,-53\"/>\r\n",
       "<text text-anchor=\"middle\" x=\"534\" y=\"-37.8\" font-family=\"Helvetica,sans-Serif\" font-size=\"14.00\">entropy = 0.955</text>\r\n",
       "<text text-anchor=\"middle\" x=\"534\" y=\"-22.8\" font-family=\"Helvetica,sans-Serif\" font-size=\"14.00\">samples = 343</text>\r\n",
       "<text text-anchor=\"middle\" x=\"534\" y=\"-7.8\" font-family=\"Helvetica,sans-Serif\" font-size=\"14.00\">value = [129, 214]</text>\r\n",
       "</g>\r\n",
       "<!-- 8&#45;&gt;9 -->\r\n",
       "<g id=\"edge9\" class=\"edge\"><title>8&#45;&gt;9</title>\r\n",
       "<path fill=\"none\" stroke=\"black\" d=\"M580.818,-88.9485C573.987,-79.9834 566.584,-70.2666 559.724,-61.2629\"/>\r\n",
       "<polygon fill=\"black\" stroke=\"black\" points=\"562.453,-59.0699 553.609,-53.2367 556.885,-63.3122 562.453,-59.0699\"/>\r\n",
       "</g>\r\n",
       "<!-- 10 -->\r\n",
       "<g id=\"node11\" class=\"node\"><title>10</title>\r\n",
       "<path fill=\"#4ca6e7\" stroke=\"black\" d=\"M727,-53C727,-53 629,-53 629,-53 623,-53 617,-47 617,-41 617,-41 617,-12 617,-12 617,-6 623,-0 629,-0 629,-0 727,-0 727,-0 733,-0 739,-6 739,-12 739,-12 739,-41 739,-41 739,-47 733,-53 727,-53\"/>\r\n",
       "<text text-anchor=\"middle\" x=\"678\" y=\"-37.8\" font-family=\"Helvetica,sans-Serif\" font-size=\"14.00\">entropy = 0.425</text>\r\n",
       "<text text-anchor=\"middle\" x=\"678\" y=\"-22.8\" font-family=\"Helvetica,sans-Serif\" font-size=\"14.00\">samples = 716</text>\r\n",
       "<text text-anchor=\"middle\" x=\"678\" y=\"-7.8\" font-family=\"Helvetica,sans-Serif\" font-size=\"14.00\">value = [62, 654]</text>\r\n",
       "</g>\r\n",
       "<!-- 8&#45;&gt;10 -->\r\n",
       "<g id=\"edge10\" class=\"edge\"><title>8&#45;&gt;10</title>\r\n",
       "<path fill=\"none\" stroke=\"black\" d=\"M631.182,-88.9485C638.013,-79.9834 645.416,-70.2666 652.276,-61.2629\"/>\r\n",
       "<polygon fill=\"black\" stroke=\"black\" points=\"655.115,-63.3122 658.391,-53.2367 649.547,-59.0699 655.115,-63.3122\"/>\r\n",
       "</g>\r\n",
       "</g>\r\n",
       "</svg>\r\n"
      ],
      "text/plain": [
       "<graphviz.files.Source at 0x5ebea20>"
      ]
     },
     "execution_count": 91,
     "metadata": {},
     "output_type": "execute_result"
    }
   ],
   "source": [
    "dot_data = tree.export_graphviz(clf, out_file=None, max_depth=5, feature_names=list(X.columns.values), filled=True, rounded=True)\n",
    "graphviz.Source(dot_data)"
   ]
  },
  {
   "cell_type": "code",
   "execution_count": null,
   "metadata": {},
   "outputs": [],
   "source": []
  },
  {
   "cell_type": "markdown",
   "metadata": {},
   "source": [
    "# 실습1: depth가 5이고  max_leaf_nodes가 10인 트리를 만들고 학습시키시오.\n"
   ]
  },
  {
   "cell_type": "code",
   "execution_count": 93,
   "metadata": {},
   "outputs": [
    {
     "data": {
      "text/plain": [
       "DecisionTreeClassifier(class_weight=None, criterion='entropy', max_depth=5,\n",
       "                       max_features=None, max_leaf_nodes=10,\n",
       "                       min_impurity_decrease=0.0, min_impurity_split=None,\n",
       "                       min_samples_leaf=1, min_samples_split=2,\n",
       "                       min_weight_fraction_leaf=0.0, presort=False,\n",
       "                       random_state=None, splitter='best')"
      ]
     },
     "execution_count": 93,
     "metadata": {},
     "output_type": "execute_result"
    }
   ],
   "source": [
    "clf = tree.DecisionTreeClassifier(\n",
    "    'entropy',\n",
    "    max_depth=5,\n",
    "    max_leaf_nodes=10)\n",
    "clf.fit(train_X, train_y)"
   ]
  },
  {
   "cell_type": "code",
   "execution_count": 102,
   "metadata": {},
   "outputs": [
    {
     "data": {
      "text/plain": [
       "(0.9059072541851068, 0.9123076923076923)"
      ]
     },
     "execution_count": 102,
     "metadata": {},
     "output_type": "execute_result"
    }
   ],
   "source": [
    "clf.score(train_X, train_y), clf.score(test_X, test_y)"
   ]
  },
  {
   "cell_type": "code",
   "execution_count": 103,
   "metadata": {},
   "outputs": [
    {
     "data": {
      "image/svg+xml": [
       "<?xml version=\"1.0\" encoding=\"UTF-8\" standalone=\"no\"?>\r\n",
       "<!DOCTYPE svg PUBLIC \"-//W3C//DTD SVG 1.1//EN\"\r\n",
       " \"http://www.w3.org/Graphics/SVG/1.1/DTD/svg11.dtd\">\r\n",
       "<!-- Generated by graphviz version 2.38.0 (20140413.2041)\r\n",
       " -->\r\n",
       "<!-- Title: Tree Pages: 1 -->\r\n",
       "<svg width=\"1152pt\" height=\"477pt\"\r\n",
       " viewBox=\"0.00 0.00 1152.00 477.00\" xmlns=\"http://www.w3.org/2000/svg\" xmlns:xlink=\"http://www.w3.org/1999/xlink\">\r\n",
       "<g id=\"graph0\" class=\"graph\" transform=\"scale(1 1) rotate(0) translate(4 473)\">\r\n",
       "<title>Tree</title>\r\n",
       "<polygon fill=\"white\" stroke=\"none\" points=\"-4,4 -4,-473 1148,-473 1148,4 -4,4\"/>\r\n",
       "<!-- 0 -->\r\n",
       "<g id=\"node1\" class=\"node\"><title>0</title>\r\n",
       "<path fill=\"#edaa7a\" stroke=\"black\" d=\"M639,-469C639,-469 499,-469 499,-469 493,-469 487,-463 487,-457 487,-457 487,-413 487,-413 487,-407 493,-401 499,-401 499,-401 639,-401 639,-401 645,-401 651,-407 651,-413 651,-413 651,-457 651,-457 651,-463 645,-469 639,-469\"/>\r\n",
       "<text text-anchor=\"middle\" x=\"569\" y=\"-453.8\" font-family=\"Helvetica,sans-Serif\" font-size=\"14.00\">volatile acidity &lt;= 0.377</text>\r\n",
       "<text text-anchor=\"middle\" x=\"569\" y=\"-438.8\" font-family=\"Helvetica,sans-Serif\" font-size=\"14.00\">entropy = 0.805</text>\r\n",
       "<text text-anchor=\"middle\" x=\"569\" y=\"-423.8\" font-family=\"Helvetica,sans-Serif\" font-size=\"14.00\">samples = 5197</text>\r\n",
       "<text text-anchor=\"middle\" x=\"569\" y=\"-408.8\" font-family=\"Helvetica,sans-Serif\" font-size=\"14.00\">value = [3918, 1279]</text>\r\n",
       "</g>\r\n",
       "<!-- 1 -->\r\n",
       "<g id=\"node2\" class=\"node\"><title>1</title>\r\n",
       "<path fill=\"#e78b49\" stroke=\"black\" d=\"M514,-365C514,-365 400,-365 400,-365 394,-365 388,-359 388,-353 388,-353 388,-309 388,-309 388,-303 394,-297 400,-297 400,-297 514,-297 514,-297 520,-297 526,-303 526,-309 526,-309 526,-353 526,-353 526,-359 520,-365 514,-365\"/>\r\n",
       "<text text-anchor=\"middle\" x=\"457\" y=\"-349.8\" font-family=\"Helvetica,sans-Serif\" font-size=\"14.00\">sulphates &lt;= 0.645</text>\r\n",
       "<text text-anchor=\"middle\" x=\"457\" y=\"-334.8\" font-family=\"Helvetica,sans-Serif\" font-size=\"14.00\">entropy = 0.379</text>\r\n",
       "<text text-anchor=\"middle\" x=\"457\" y=\"-319.8\" font-family=\"Helvetica,sans-Serif\" font-size=\"14.00\">samples = 3658</text>\r\n",
       "<text text-anchor=\"middle\" x=\"457\" y=\"-304.8\" font-family=\"Helvetica,sans-Serif\" font-size=\"14.00\">value = [3389, 269]</text>\r\n",
       "</g>\r\n",
       "<!-- 0&#45;&gt;1 -->\r\n",
       "<g id=\"edge1\" class=\"edge\"><title>0&#45;&gt;1</title>\r\n",
       "<path fill=\"none\" stroke=\"black\" d=\"M532.637,-400.884C522.563,-391.709 511.518,-381.65 501.056,-372.123\"/>\r\n",
       "<polygon fill=\"black\" stroke=\"black\" points=\"503.314,-369.445 493.564,-365.299 498.601,-374.62 503.314,-369.445\"/>\r\n",
       "<text text-anchor=\"middle\" x=\"494.731\" y=\"-386.572\" font-family=\"Helvetica,sans-Serif\" font-size=\"14.00\">True</text>\r\n",
       "</g>\r\n",
       "<!-- 2 -->\r\n",
       "<g id=\"node9\" class=\"node\"><title>2</title>\r\n",
       "<path fill=\"#a1d0f3\" stroke=\"black\" d=\"M738,-365C738,-365 624,-365 624,-365 618,-365 612,-359 612,-353 612,-353 612,-309 612,-309 612,-303 618,-297 624,-297 624,-297 738,-297 738,-297 744,-297 750,-303 750,-309 750,-309 750,-353 750,-353 750,-359 744,-365 738,-365\"/>\r\n",
       "<text text-anchor=\"middle\" x=\"681\" y=\"-349.8\" font-family=\"Helvetica,sans-Serif\" font-size=\"14.00\">sulphates &lt;= 0.515</text>\r\n",
       "<text text-anchor=\"middle\" x=\"681\" y=\"-334.8\" font-family=\"Helvetica,sans-Serif\" font-size=\"14.00\">entropy = 0.928</text>\r\n",
       "<text text-anchor=\"middle\" x=\"681\" y=\"-319.8\" font-family=\"Helvetica,sans-Serif\" font-size=\"14.00\">samples = 1539</text>\r\n",
       "<text text-anchor=\"middle\" x=\"681\" y=\"-304.8\" font-family=\"Helvetica,sans-Serif\" font-size=\"14.00\">value = [529, 1010]</text>\r\n",
       "</g>\r\n",
       "<!-- 0&#45;&gt;2 -->\r\n",
       "<g id=\"edge8\" class=\"edge\"><title>0&#45;&gt;2</title>\r\n",
       "<path fill=\"none\" stroke=\"black\" d=\"M605.363,-400.884C615.437,-391.709 626.482,-381.65 636.944,-372.123\"/>\r\n",
       "<polygon fill=\"black\" stroke=\"black\" points=\"639.399,-374.62 644.436,-365.299 634.686,-369.445 639.399,-374.62\"/>\r\n",
       "<text text-anchor=\"middle\" x=\"643.269\" y=\"-386.572\" font-family=\"Helvetica,sans-Serif\" font-size=\"14.00\">False</text>\r\n",
       "</g>\r\n",
       "<!-- 3 -->\r\n",
       "<g id=\"node3\" class=\"node\"><title>3</title>\r\n",
       "<path fill=\"#e6853f\" stroke=\"black\" d=\"M266,-261C266,-261 152,-261 152,-261 146,-261 140,-255 140,-249 140,-249 140,-205 140,-205 140,-199 146,-193 152,-193 152,-193 266,-193 266,-193 272,-193 278,-199 278,-205 278,-205 278,-249 278,-249 278,-255 272,-261 266,-261\"/>\r\n",
       "<text text-anchor=\"middle\" x=\"209\" y=\"-245.8\" font-family=\"Helvetica,sans-Serif\" font-size=\"14.00\">sulphates &lt;= 0.505</text>\r\n",
       "<text text-anchor=\"middle\" x=\"209\" y=\"-230.8\" font-family=\"Helvetica,sans-Serif\" font-size=\"14.00\">entropy = 0.188</text>\r\n",
       "<text text-anchor=\"middle\" x=\"209\" y=\"-215.8\" font-family=\"Helvetica,sans-Serif\" font-size=\"14.00\">samples = 3164</text>\r\n",
       "<text text-anchor=\"middle\" x=\"209\" y=\"-200.8\" font-family=\"Helvetica,sans-Serif\" font-size=\"14.00\">value = [3073, 91]</text>\r\n",
       "</g>\r\n",
       "<!-- 1&#45;&gt;3 -->\r\n",
       "<g id=\"edge2\" class=\"edge\"><title>1&#45;&gt;3</title>\r\n",
       "<path fill=\"none\" stroke=\"black\" d=\"M387.918,-301.587C356.742,-288.765 319.761,-273.555 287.535,-260.301\"/>\r\n",
       "<polygon fill=\"black\" stroke=\"black\" points=\"288.721,-257.004 278.141,-256.437 286.058,-263.478 288.721,-257.004\"/>\r\n",
       "</g>\r\n",
       "<!-- 4 -->\r\n",
       "<g id=\"node6\" class=\"node\"><title>4</title>\r\n",
       "<path fill=\"#f4c8a9\" stroke=\"black\" d=\"M527,-261C527,-261 387,-261 387,-261 381,-261 375,-255 375,-249 375,-249 375,-205 375,-205 375,-199 381,-193 387,-193 387,-193 527,-193 527,-193 533,-193 539,-199 539,-205 539,-205 539,-249 539,-249 539,-255 533,-261 527,-261\"/>\r\n",
       "<text text-anchor=\"middle\" x=\"457\" y=\"-245.8\" font-family=\"Helvetica,sans-Serif\" font-size=\"14.00\">volatile acidity &lt;= 0.257</text>\r\n",
       "<text text-anchor=\"middle\" x=\"457\" y=\"-230.8\" font-family=\"Helvetica,sans-Serif\" font-size=\"14.00\">entropy = 0.943</text>\r\n",
       "<text text-anchor=\"middle\" x=\"457\" y=\"-215.8\" font-family=\"Helvetica,sans-Serif\" font-size=\"14.00\">samples = 494</text>\r\n",
       "<text text-anchor=\"middle\" x=\"457\" y=\"-200.8\" font-family=\"Helvetica,sans-Serif\" font-size=\"14.00\">value = [316, 178]</text>\r\n",
       "</g>\r\n",
       "<!-- 1&#45;&gt;4 -->\r\n",
       "<g id=\"edge5\" class=\"edge\"><title>1&#45;&gt;4</title>\r\n",
       "<path fill=\"none\" stroke=\"black\" d=\"M457,-296.884C457,-288.778 457,-279.982 457,-271.472\"/>\r\n",
       "<polygon fill=\"black\" stroke=\"black\" points=\"460.5,-271.299 457,-261.299 453.5,-271.299 460.5,-271.299\"/>\r\n",
       "</g>\r\n",
       "<!-- 13 -->\r\n",
       "<g id=\"node4\" class=\"node\"><title>13</title>\r\n",
       "<path fill=\"#e5823b\" stroke=\"black\" d=\"M118,-149.5C118,-149.5 12,-149.5 12,-149.5 6,-149.5 0,-143.5 0,-137.5 0,-137.5 0,-108.5 0,-108.5 0,-102.5 6,-96.5 12,-96.5 12,-96.5 118,-96.5 118,-96.5 124,-96.5 130,-102.5 130,-108.5 130,-108.5 130,-137.5 130,-137.5 130,-143.5 124,-149.5 118,-149.5\"/>\r\n",
       "<text text-anchor=\"middle\" x=\"65\" y=\"-134.3\" font-family=\"Helvetica,sans-Serif\" font-size=\"14.00\">entropy = 0.067</text>\r\n",
       "<text text-anchor=\"middle\" x=\"65\" y=\"-119.3\" font-family=\"Helvetica,sans-Serif\" font-size=\"14.00\">samples = 2127</text>\r\n",
       "<text text-anchor=\"middle\" x=\"65\" y=\"-104.3\" font-family=\"Helvetica,sans-Serif\" font-size=\"14.00\">value = [2110, 17]</text>\r\n",
       "</g>\r\n",
       "<!-- 3&#45;&gt;13 -->\r\n",
       "<g id=\"edge3\" class=\"edge\"><title>3&#45;&gt;13</title>\r\n",
       "<path fill=\"none\" stroke=\"black\" d=\"M162.247,-192.884C145.324,-180.896 126.269,-167.399 109.54,-155.549\"/>\r\n",
       "<polygon fill=\"black\" stroke=\"black\" points=\"111.211,-152.444 101.028,-149.52 107.165,-158.156 111.211,-152.444\"/>\r\n",
       "</g>\r\n",
       "<!-- 14 -->\r\n",
       "<g id=\"node5\" class=\"node\"><title>14</title>\r\n",
       "<path fill=\"#e78b48\" stroke=\"black\" d=\"M258,-149.5C258,-149.5 160,-149.5 160,-149.5 154,-149.5 148,-143.5 148,-137.5 148,-137.5 148,-108.5 148,-108.5 148,-102.5 154,-96.5 160,-96.5 160,-96.5 258,-96.5 258,-96.5 264,-96.5 270,-102.5 270,-108.5 270,-108.5 270,-137.5 270,-137.5 270,-143.5 264,-149.5 258,-149.5\"/>\r\n",
       "<text text-anchor=\"middle\" x=\"209\" y=\"-134.3\" font-family=\"Helvetica,sans-Serif\" font-size=\"14.00\">entropy = 0.371</text>\r\n",
       "<text text-anchor=\"middle\" x=\"209\" y=\"-119.3\" font-family=\"Helvetica,sans-Serif\" font-size=\"14.00\">samples = 1037</text>\r\n",
       "<text text-anchor=\"middle\" x=\"209\" y=\"-104.3\" font-family=\"Helvetica,sans-Serif\" font-size=\"14.00\">value = [963, 74]</text>\r\n",
       "</g>\r\n",
       "<!-- 3&#45;&gt;14 -->\r\n",
       "<g id=\"edge4\" class=\"edge\"><title>3&#45;&gt;14</title>\r\n",
       "<path fill=\"none\" stroke=\"black\" d=\"M209,-192.884C209,-182.326 209,-170.597 209,-159.854\"/>\r\n",
       "<polygon fill=\"black\" stroke=\"black\" points=\"212.5,-159.52 209,-149.52 205.5,-159.52 212.5,-159.52\"/>\r\n",
       "</g>\r\n",
       "<!-- 11 -->\r\n",
       "<g id=\"node7\" class=\"node\"><title>11</title>\r\n",
       "<path fill=\"#e99559\" stroke=\"black\" d=\"M398,-149.5C398,-149.5 300,-149.5 300,-149.5 294,-149.5 288,-143.5 288,-137.5 288,-137.5 288,-108.5 288,-108.5 288,-102.5 294,-96.5 300,-96.5 300,-96.5 398,-96.5 398,-96.5 404,-96.5 410,-102.5 410,-108.5 410,-108.5 410,-137.5 410,-137.5 410,-143.5 404,-149.5 398,-149.5\"/>\r\n",
       "<text text-anchor=\"middle\" x=\"349\" y=\"-134.3\" font-family=\"Helvetica,sans-Serif\" font-size=\"14.00\">entropy = 0.578</text>\r\n",
       "<text text-anchor=\"middle\" x=\"349\" y=\"-119.3\" font-family=\"Helvetica,sans-Serif\" font-size=\"14.00\">samples = 247</text>\r\n",
       "<text text-anchor=\"middle\" x=\"349\" y=\"-104.3\" font-family=\"Helvetica,sans-Serif\" font-size=\"14.00\">value = [213, 34]</text>\r\n",
       "</g>\r\n",
       "<!-- 4&#45;&gt;11 -->\r\n",
       "<g id=\"edge6\" class=\"edge\"><title>4&#45;&gt;11</title>\r\n",
       "<path fill=\"none\" stroke=\"black\" d=\"M421.935,-192.884C409.592,-181.226 395.737,-168.141 383.445,-156.532\"/>\r\n",
       "<polygon fill=\"black\" stroke=\"black\" points=\"385.694,-153.842 376.021,-149.52 380.888,-158.931 385.694,-153.842\"/>\r\n",
       "</g>\r\n",
       "<!-- 12 -->\r\n",
       "<g id=\"node8\" class=\"node\"><title>12</title>\r\n",
       "<path fill=\"#c7e3f8\" stroke=\"black\" d=\"M546,-149.5C546,-149.5 440,-149.5 440,-149.5 434,-149.5 428,-143.5 428,-137.5 428,-137.5 428,-108.5 428,-108.5 428,-102.5 434,-96.5 440,-96.5 440,-96.5 546,-96.5 546,-96.5 552,-96.5 558,-102.5 558,-108.5 558,-108.5 558,-137.5 558,-137.5 558,-143.5 552,-149.5 546,-149.5\"/>\r\n",
       "<text text-anchor=\"middle\" x=\"493\" y=\"-134.3\" font-family=\"Helvetica,sans-Serif\" font-size=\"14.00\">entropy = 0.98</text>\r\n",
       "<text text-anchor=\"middle\" x=\"493\" y=\"-119.3\" font-family=\"Helvetica,sans-Serif\" font-size=\"14.00\">samples = 247</text>\r\n",
       "<text text-anchor=\"middle\" x=\"493\" y=\"-104.3\" font-family=\"Helvetica,sans-Serif\" font-size=\"14.00\">value = [103, 144]</text>\r\n",
       "</g>\r\n",
       "<!-- 4&#45;&gt;12 -->\r\n",
       "<g id=\"edge7\" class=\"edge\"><title>4&#45;&gt;12</title>\r\n",
       "<path fill=\"none\" stroke=\"black\" d=\"M468.688,-192.884C472.492,-182.106 476.727,-170.108 480.582,-159.184\"/>\r\n",
       "<polygon fill=\"black\" stroke=\"black\" points=\"483.965,-160.115 483.993,-149.52 477.364,-157.785 483.965,-160.115\"/>\r\n",
       "</g>\r\n",
       "<!-- 5 -->\r\n",
       "<g id=\"node10\" class=\"node\"><title>5</title>\r\n",
       "<path fill=\"#f0b68c\" stroke=\"black\" d=\"M751,-261C751,-261 611,-261 611,-261 605,-261 599,-255 599,-249 599,-249 599,-205 599,-205 599,-199 605,-193 611,-193 611,-193 751,-193 751,-193 757,-193 763,-199 763,-205 763,-205 763,-249 763,-249 763,-255 757,-261 751,-261\"/>\r\n",
       "<text text-anchor=\"middle\" x=\"681\" y=\"-245.8\" font-family=\"Helvetica,sans-Serif\" font-size=\"14.00\">volatile acidity &lt;= 0.558</text>\r\n",
       "<text text-anchor=\"middle\" x=\"681\" y=\"-230.8\" font-family=\"Helvetica,sans-Serif\" font-size=\"14.00\">entropy = 0.876</text>\r\n",
       "<text text-anchor=\"middle\" x=\"681\" y=\"-215.8\" font-family=\"Helvetica,sans-Serif\" font-size=\"14.00\">samples = 480</text>\r\n",
       "<text text-anchor=\"middle\" x=\"681\" y=\"-200.8\" font-family=\"Helvetica,sans-Serif\" font-size=\"14.00\">value = [338, 142]</text>\r\n",
       "</g>\r\n",
       "<!-- 2&#45;&gt;5 -->\r\n",
       "<g id=\"edge9\" class=\"edge\"><title>2&#45;&gt;5</title>\r\n",
       "<path fill=\"none\" stroke=\"black\" d=\"M681,-296.884C681,-288.778 681,-279.982 681,-271.472\"/>\r\n",
       "<polygon fill=\"black\" stroke=\"black\" points=\"684.5,-271.299 681,-261.299 677.5,-271.299 684.5,-271.299\"/>\r\n",
       "</g>\r\n",
       "<!-- 6 -->\r\n",
       "<g id=\"node15\" class=\"node\"><title>6</title>\r\n",
       "<path fill=\"#65b3eb\" stroke=\"black\" d=\"M1005,-261C1005,-261 865,-261 865,-261 859,-261 853,-255 853,-249 853,-249 853,-205 853,-205 853,-199 859,-193 865,-193 865,-193 1005,-193 1005,-193 1011,-193 1017,-199 1017,-205 1017,-205 1017,-249 1017,-249 1017,-255 1011,-261 1005,-261\"/>\r\n",
       "<text text-anchor=\"middle\" x=\"935\" y=\"-245.8\" font-family=\"Helvetica,sans-Serif\" font-size=\"14.00\">volatile acidity &lt;= 0.465</text>\r\n",
       "<text text-anchor=\"middle\" x=\"935\" y=\"-230.8\" font-family=\"Helvetica,sans-Serif\" font-size=\"14.00\">entropy = 0.681</text>\r\n",
       "<text text-anchor=\"middle\" x=\"935\" y=\"-215.8\" font-family=\"Helvetica,sans-Serif\" font-size=\"14.00\">samples = 1059</text>\r\n",
       "<text text-anchor=\"middle\" x=\"935\" y=\"-200.8\" font-family=\"Helvetica,sans-Serif\" font-size=\"14.00\">value = [191, 868]</text>\r\n",
       "</g>\r\n",
       "<!-- 2&#45;&gt;6 -->\r\n",
       "<g id=\"edge14\" class=\"edge\"><title>2&#45;&gt;6</title>\r\n",
       "<path fill=\"none\" stroke=\"black\" d=\"M750.071,-302.263C778.827,-290.715 812.627,-277.142 843.409,-264.78\"/>\r\n",
       "<polygon fill=\"black\" stroke=\"black\" points=\"844.881,-267.961 852.857,-260.987 842.273,-261.465 844.881,-267.961\"/>\r\n",
       "</g>\r\n",
       "<!-- 7 -->\r\n",
       "<g id=\"node11\" class=\"node\"><title>7</title>\r\n",
       "<path fill=\"#e99457\" stroke=\"black\" d=\"M702,-157C702,-157 588,-157 588,-157 582,-157 576,-151 576,-145 576,-145 576,-101 576,-101 576,-95 582,-89 588,-89 588,-89 702,-89 702,-89 708,-89 714,-95 714,-101 714,-101 714,-145 714,-145 714,-151 708,-157 702,-157\"/>\r\n",
       "<text text-anchor=\"middle\" x=\"645\" y=\"-141.8\" font-family=\"Helvetica,sans-Serif\" font-size=\"14.00\">sulphates &lt;= 0.425</text>\r\n",
       "<text text-anchor=\"middle\" x=\"645\" y=\"-126.8\" font-family=\"Helvetica,sans-Serif\" font-size=\"14.00\">entropy = 0.56</text>\r\n",
       "<text text-anchor=\"middle\" x=\"645\" y=\"-111.8\" font-family=\"Helvetica,sans-Serif\" font-size=\"14.00\">samples = 328</text>\r\n",
       "<text text-anchor=\"middle\" x=\"645\" y=\"-96.8\" font-family=\"Helvetica,sans-Serif\" font-size=\"14.00\">value = [285, 43]</text>\r\n",
       "</g>\r\n",
       "<!-- 5&#45;&gt;7 -->\r\n",
       "<g id=\"edge10\" class=\"edge\"><title>5&#45;&gt;7</title>\r\n",
       "<path fill=\"none\" stroke=\"black\" d=\"M669.312,-192.884C666.388,-184.6 663.21,-175.595 660.145,-166.911\"/>\r\n",
       "<polygon fill=\"black\" stroke=\"black\" points=\"663.381,-165.564 656.753,-157.299 656.781,-167.894 663.381,-165.564\"/>\r\n",
       "</g>\r\n",
       "<!-- 8 -->\r\n",
       "<g id=\"node14\" class=\"node\"><title>8</title>\r\n",
       "<path fill=\"#a3d1f3\" stroke=\"black\" d=\"M836,-149.5C836,-149.5 744,-149.5 744,-149.5 738,-149.5 732,-143.5 732,-137.5 732,-137.5 732,-108.5 732,-108.5 732,-102.5 738,-96.5 744,-96.5 744,-96.5 836,-96.5 836,-96.5 842,-96.5 848,-102.5 848,-108.5 848,-108.5 848,-137.5 848,-137.5 848,-143.5 842,-149.5 836,-149.5\"/>\r\n",
       "<text text-anchor=\"middle\" x=\"790\" y=\"-134.3\" font-family=\"Helvetica,sans-Serif\" font-size=\"14.00\">entropy = 0.933</text>\r\n",
       "<text text-anchor=\"middle\" x=\"790\" y=\"-119.3\" font-family=\"Helvetica,sans-Serif\" font-size=\"14.00\">samples = 152</text>\r\n",
       "<text text-anchor=\"middle\" x=\"790\" y=\"-104.3\" font-family=\"Helvetica,sans-Serif\" font-size=\"14.00\">value = [53, 99]</text>\r\n",
       "</g>\r\n",
       "<!-- 5&#45;&gt;8 -->\r\n",
       "<g id=\"edge13\" class=\"edge\"><title>5&#45;&gt;8</title>\r\n",
       "<path fill=\"none\" stroke=\"black\" d=\"M716.389,-192.884C728.847,-181.226 742.83,-168.141 755.236,-156.532\"/>\r\n",
       "<polygon fill=\"black\" stroke=\"black\" points=\"757.819,-158.908 762.729,-149.52 753.036,-153.797 757.819,-158.908\"/>\r\n",
       "</g>\r\n",
       "<!-- 17 -->\r\n",
       "<g id=\"node12\" class=\"node\"><title>17</title>\r\n",
       "<path fill=\"#e58139\" stroke=\"black\" d=\"M596.5,-53C596.5,-53 507.5,-53 507.5,-53 501.5,-53 495.5,-47 495.5,-41 495.5,-41 495.5,-12 495.5,-12 495.5,-6 501.5,-0 507.5,-0 507.5,-0 596.5,-0 596.5,-0 602.5,-0 608.5,-6 608.5,-12 608.5,-12 608.5,-41 608.5,-41 608.5,-47 602.5,-53 596.5,-53\"/>\r\n",
       "<text text-anchor=\"middle\" x=\"552\" y=\"-37.8\" font-family=\"Helvetica,sans-Serif\" font-size=\"14.00\">entropy = 0.0</text>\r\n",
       "<text text-anchor=\"middle\" x=\"552\" y=\"-22.8\" font-family=\"Helvetica,sans-Serif\" font-size=\"14.00\">samples = 139</text>\r\n",
       "<text text-anchor=\"middle\" x=\"552\" y=\"-7.8\" font-family=\"Helvetica,sans-Serif\" font-size=\"14.00\">value = [139, 0]</text>\r\n",
       "</g>\r\n",
       "<!-- 7&#45;&gt;17 -->\r\n",
       "<g id=\"edge11\" class=\"edge\"><title>7&#45;&gt;17</title>\r\n",
       "<path fill=\"none\" stroke=\"black\" d=\"M612.473,-88.9485C603.38,-79.709 593.502,-69.671 584.415,-60.4381\"/>\r\n",
       "<polygon fill=\"black\" stroke=\"black\" points=\"586.837,-57.9091 577.328,-53.2367 581.848,-62.8191 586.837,-57.9091\"/>\r\n",
       "</g>\r\n",
       "<!-- 18 -->\r\n",
       "<g id=\"node13\" class=\"node\"><title>18</title>\r\n",
       "<path fill=\"#eda673\" stroke=\"black\" d=\"M737,-53C737,-53 639,-53 639,-53 633,-53 627,-47 627,-41 627,-41 627,-12 627,-12 627,-6 633,-0 639,-0 639,-0 737,-0 737,-0 743,-0 749,-6 749,-12 749,-12 749,-41 749,-41 749,-47 743,-53 737,-53\"/>\r\n",
       "<text text-anchor=\"middle\" x=\"688\" y=\"-37.8\" font-family=\"Helvetica,sans-Serif\" font-size=\"14.00\">entropy = 0.774</text>\r\n",
       "<text text-anchor=\"middle\" x=\"688\" y=\"-22.8\" font-family=\"Helvetica,sans-Serif\" font-size=\"14.00\">samples = 189</text>\r\n",
       "<text text-anchor=\"middle\" x=\"688\" y=\"-7.8\" font-family=\"Helvetica,sans-Serif\" font-size=\"14.00\">value = [146, 43]</text>\r\n",
       "</g>\r\n",
       "<!-- 7&#45;&gt;18 -->\r\n",
       "<g id=\"edge12\" class=\"edge\"><title>7&#45;&gt;18</title>\r\n",
       "<path fill=\"none\" stroke=\"black\" d=\"M660.039,-88.9485C663.952,-80.3494 668.18,-71.0586 672.134,-62.3689\"/>\r\n",
       "<polygon fill=\"black\" stroke=\"black\" points=\"675.333,-63.7883 676.289,-53.2367 668.962,-60.8891 675.333,-63.7883\"/>\r\n",
       "</g>\r\n",
       "<!-- 9 -->\r\n",
       "<g id=\"node16\" class=\"node\"><title>9</title>\r\n",
       "<path fill=\"#b0d8f5\" stroke=\"black\" d=\"M992,-157C992,-157 878,-157 878,-157 872,-157 866,-151 866,-145 866,-145 866,-101 866,-101 866,-95 872,-89 878,-89 878,-89 992,-89 992,-89 998,-89 1004,-95 1004,-101 1004,-101 1004,-145 1004,-145 1004,-151 998,-157 992,-157\"/>\r\n",
       "<text text-anchor=\"middle\" x=\"935\" y=\"-141.8\" font-family=\"Helvetica,sans-Serif\" font-size=\"14.00\">sulphates &lt;= 0.605</text>\r\n",
       "<text text-anchor=\"middle\" x=\"935\" y=\"-126.8\" font-family=\"Helvetica,sans-Serif\" font-size=\"14.00\">entropy = 0.955</text>\r\n",
       "<text text-anchor=\"middle\" x=\"935\" y=\"-111.8\" font-family=\"Helvetica,sans-Serif\" font-size=\"14.00\">samples = 343</text>\r\n",
       "<text text-anchor=\"middle\" x=\"935\" y=\"-96.8\" font-family=\"Helvetica,sans-Serif\" font-size=\"14.00\">value = [129, 214]</text>\r\n",
       "</g>\r\n",
       "<!-- 6&#45;&gt;9 -->\r\n",
       "<g id=\"edge15\" class=\"edge\"><title>6&#45;&gt;9</title>\r\n",
       "<path fill=\"none\" stroke=\"black\" d=\"M935,-192.884C935,-184.778 935,-175.982 935,-167.472\"/>\r\n",
       "<polygon fill=\"black\" stroke=\"black\" points=\"938.5,-167.299 935,-157.299 931.5,-167.299 938.5,-167.299\"/>\r\n",
       "</g>\r\n",
       "<!-- 10 -->\r\n",
       "<g id=\"node19\" class=\"node\"><title>10</title>\r\n",
       "<path fill=\"#4ca6e7\" stroke=\"black\" d=\"M1132,-149.5C1132,-149.5 1034,-149.5 1034,-149.5 1028,-149.5 1022,-143.5 1022,-137.5 1022,-137.5 1022,-108.5 1022,-108.5 1022,-102.5 1028,-96.5 1034,-96.5 1034,-96.5 1132,-96.5 1132,-96.5 1138,-96.5 1144,-102.5 1144,-108.5 1144,-108.5 1144,-137.5 1144,-137.5 1144,-143.5 1138,-149.5 1132,-149.5\"/>\r\n",
       "<text text-anchor=\"middle\" x=\"1083\" y=\"-134.3\" font-family=\"Helvetica,sans-Serif\" font-size=\"14.00\">entropy = 0.425</text>\r\n",
       "<text text-anchor=\"middle\" x=\"1083\" y=\"-119.3\" font-family=\"Helvetica,sans-Serif\" font-size=\"14.00\">samples = 716</text>\r\n",
       "<text text-anchor=\"middle\" x=\"1083\" y=\"-104.3\" font-family=\"Helvetica,sans-Serif\" font-size=\"14.00\">value = [62, 654]</text>\r\n",
       "</g>\r\n",
       "<!-- 6&#45;&gt;10 -->\r\n",
       "<g id=\"edge18\" class=\"edge\"><title>6&#45;&gt;10</title>\r\n",
       "<path fill=\"none\" stroke=\"black\" d=\"M983.051,-192.884C1000.6,-180.786 1020.39,-167.151 1037.69,-155.224\"/>\r\n",
       "<polygon fill=\"black\" stroke=\"black\" points=\"1039.72,-158.077 1045.97,-149.52 1035.75,-152.313 1039.72,-158.077\"/>\r\n",
       "</g>\r\n",
       "<!-- 15 -->\r\n",
       "<g id=\"node17\" class=\"node\"><title>15</title>\r\n",
       "<path fill=\"#f8dbc7\" stroke=\"black\" d=\"M911.5,-53C911.5,-53 822.5,-53 822.5,-53 816.5,-53 810.5,-47 810.5,-41 810.5,-41 810.5,-12 810.5,-12 810.5,-6 816.5,-0 822.5,-0 822.5,-0 911.5,-0 911.5,-0 917.5,-0 923.5,-6 923.5,-12 923.5,-12 923.5,-41 923.5,-41 923.5,-47 917.5,-53 911.5,-53\"/>\r\n",
       "<text text-anchor=\"middle\" x=\"867\" y=\"-37.8\" font-family=\"Helvetica,sans-Serif\" font-size=\"14.00\">entropy = 0.98</text>\r\n",
       "<text text-anchor=\"middle\" x=\"867\" y=\"-22.8\" font-family=\"Helvetica,sans-Serif\" font-size=\"14.00\">samples = 158</text>\r\n",
       "<text text-anchor=\"middle\" x=\"867\" y=\"-7.8\" font-family=\"Helvetica,sans-Serif\" font-size=\"14.00\">value = [92, 66]</text>\r\n",
       "</g>\r\n",
       "<!-- 9&#45;&gt;15 -->\r\n",
       "<g id=\"edge16\" class=\"edge\"><title>9&#45;&gt;15</title>\r\n",
       "<path fill=\"none\" stroke=\"black\" d=\"M911.217,-88.9485C904.832,-80.0749 897.916,-70.4648 891.493,-61.5388\"/>\r\n",
       "<polygon fill=\"black\" stroke=\"black\" points=\"894.201,-59.3094 885.52,-53.2367 888.519,-63.398 894.201,-59.3094\"/>\r\n",
       "</g>\r\n",
       "<!-- 16 -->\r\n",
       "<g id=\"node18\" class=\"node\"><title>16</title>\r\n",
       "<path fill=\"#6ab6ec\" stroke=\"black\" d=\"M1052,-53C1052,-53 954,-53 954,-53 948,-53 942,-47 942,-41 942,-41 942,-12 942,-12 942,-6 948,-0 954,-0 954,-0 1052,-0 1052,-0 1058,-0 1064,-6 1064,-12 1064,-12 1064,-41 1064,-41 1064,-47 1058,-53 1052,-53\"/>\r\n",
       "<text text-anchor=\"middle\" x=\"1003\" y=\"-37.8\" font-family=\"Helvetica,sans-Serif\" font-size=\"14.00\">entropy = 0.722</text>\r\n",
       "<text text-anchor=\"middle\" x=\"1003\" y=\"-22.8\" font-family=\"Helvetica,sans-Serif\" font-size=\"14.00\">samples = 185</text>\r\n",
       "<text text-anchor=\"middle\" x=\"1003\" y=\"-7.8\" font-family=\"Helvetica,sans-Serif\" font-size=\"14.00\">value = [37, 148]</text>\r\n",
       "</g>\r\n",
       "<!-- 9&#45;&gt;16 -->\r\n",
       "<g id=\"edge17\" class=\"edge\"><title>9&#45;&gt;16</title>\r\n",
       "<path fill=\"none\" stroke=\"black\" d=\"M958.783,-88.9485C965.168,-80.0749 972.084,-70.4648 978.507,-61.5388\"/>\r\n",
       "<polygon fill=\"black\" stroke=\"black\" points=\"981.481,-63.398 984.48,-53.2367 975.799,-59.3094 981.481,-63.398\"/>\r\n",
       "</g>\r\n",
       "</g>\r\n",
       "</svg>\r\n"
      ],
      "text/plain": [
       "<graphviz.files.Source at 0xc759588>"
      ]
     },
     "execution_count": 103,
     "metadata": {},
     "output_type": "execute_result"
    }
   ],
   "source": [
    "dot_data = tree.export_graphviz(clf, out_file=None, max_depth=5, feature_names=list(X.columns.values), filled=True, rounded=True)\n",
    "graphviz.Source(dot_data)"
   ]
  },
  {
   "cell_type": "code",
   "execution_count": 106,
   "metadata": {},
   "outputs": [
    {
     "data": {
      "text/plain": [
       "array([0, 0, 0, ..., 0, 0, 0], dtype=int64)"
      ]
     },
     "execution_count": 106,
     "metadata": {},
     "output_type": "execute_result"
    }
   ],
   "source": [
    "clf.predict(test_X)"
   ]
  },
  {
   "cell_type": "code",
   "execution_count": 107,
   "metadata": {},
   "outputs": [
    {
     "data": {
      "text/plain": [
       "array([[0.92864031, 0.07135969],\n",
       "       [0.86234818, 0.13765182],\n",
       "       [0.86234818, 0.13765182],\n",
       "       ...,\n",
       "       [0.92864031, 0.07135969],\n",
       "       [0.92864031, 0.07135969],\n",
       "       [0.77248677, 0.22751323]])"
      ]
     },
     "execution_count": 107,
     "metadata": {},
     "output_type": "execute_result"
    }
   ],
   "source": [
    "clf.predict_proba(test_X)"
   ]
  },
  {
   "cell_type": "markdown",
   "metadata": {},
   "source": [
    "$$Gini = 1-\\sum_jp_j^2$$"
   ]
  },
  {
   "cell_type": "markdown",
   "metadata": {},
   "source": [
    "### Overfitting  # 이전 예제에 비해 비교적"
   ]
  },
  {
   "cell_type": "markdown",
   "metadata": {},
   "source": [
    "### 1. depth제한 X:  Feature_n: 2(volatile acidity, sulphates), Binary Problem"
   ]
  },
  {
   "cell_type": "code",
   "execution_count": 114,
   "metadata": {},
   "outputs": [
    {
     "data": {
      "text/plain": [
       "DecisionTreeClassifier(class_weight=None, criterion='entropy', max_depth=None,\n",
       "                       max_features=None, max_leaf_nodes=None,\n",
       "                       min_impurity_decrease=0.0, min_impurity_split=None,\n",
       "                       min_samples_leaf=1, min_samples_split=2,\n",
       "                       min_weight_fraction_leaf=0.0, presort=False,\n",
       "                       random_state=None, splitter='best')"
      ]
     },
     "execution_count": 114,
     "metadata": {},
     "output_type": "execute_result"
    }
   ],
   "source": [
    "clf = tree.DecisionTreeClassifier('entropy')\n",
    "clf.fit(train_X, train_y)"
   ]
  },
  {
   "cell_type": "code",
   "execution_count": 116,
   "metadata": {},
   "outputs": [
    {
     "data": {
      "image/svg+xml": [
       "<?xml version=\"1.0\" encoding=\"UTF-8\" standalone=\"no\"?>\r\n",
       "<!DOCTYPE svg PUBLIC \"-//W3C//DTD SVG 1.1//EN\"\r\n",
       " \"http://www.w3.org/Graphics/SVG/1.1/DTD/svg11.dtd\">\r\n",
       "<!-- Generated by graphviz version 2.38.0 (20140413.2041)\r\n",
       " -->\r\n",
       "<!-- Title: Tree Pages: 1 -->\r\n",
       "<svg width=\"692pt\" height=\"356pt\"\r\n",
       " viewBox=\"0.00 0.00 692.00 356.00\" xmlns=\"http://www.w3.org/2000/svg\" xmlns:xlink=\"http://www.w3.org/1999/xlink\">\r\n",
       "<g id=\"graph0\" class=\"graph\" transform=\"scale(1 1) rotate(0) translate(4 352)\">\r\n",
       "<title>Tree</title>\r\n",
       "<polygon fill=\"white\" stroke=\"none\" points=\"-4,4 -4,-352 688,-352 688,4 -4,4\"/>\r\n",
       "<!-- 0 -->\r\n",
       "<g id=\"node1\" class=\"node\"><title>0</title>\r\n",
       "<path fill=\"#edaa7a\" stroke=\"black\" d=\"M399,-348C399,-348 259,-348 259,-348 253,-348 247,-342 247,-336 247,-336 247,-292 247,-292 247,-286 253,-280 259,-280 259,-280 399,-280 399,-280 405,-280 411,-286 411,-292 411,-292 411,-336 411,-336 411,-342 405,-348 399,-348\"/>\r\n",
       "<text text-anchor=\"middle\" x=\"329\" y=\"-332.8\" font-family=\"Helvetica,sans-Serif\" font-size=\"14.00\">volatile acidity &lt;= 0.377</text>\r\n",
       "<text text-anchor=\"middle\" x=\"329\" y=\"-317.8\" font-family=\"Helvetica,sans-Serif\" font-size=\"14.00\">entropy = 0.805</text>\r\n",
       "<text text-anchor=\"middle\" x=\"329\" y=\"-302.8\" font-family=\"Helvetica,sans-Serif\" font-size=\"14.00\">samples = 5197</text>\r\n",
       "<text text-anchor=\"middle\" x=\"329\" y=\"-287.8\" font-family=\"Helvetica,sans-Serif\" font-size=\"14.00\">value = [3918, 1279]</text>\r\n",
       "</g>\r\n",
       "<!-- 1 -->\r\n",
       "<g id=\"node2\" class=\"node\"><title>1</title>\r\n",
       "<path fill=\"#e78b49\" stroke=\"black\" d=\"M295,-244C295,-244 181,-244 181,-244 175,-244 169,-238 169,-232 169,-232 169,-188 169,-188 169,-182 175,-176 181,-176 181,-176 295,-176 295,-176 301,-176 307,-182 307,-188 307,-188 307,-232 307,-232 307,-238 301,-244 295,-244\"/>\r\n",
       "<text text-anchor=\"middle\" x=\"238\" y=\"-228.8\" font-family=\"Helvetica,sans-Serif\" font-size=\"14.00\">sulphates &lt;= 0.645</text>\r\n",
       "<text text-anchor=\"middle\" x=\"238\" y=\"-213.8\" font-family=\"Helvetica,sans-Serif\" font-size=\"14.00\">entropy = 0.379</text>\r\n",
       "<text text-anchor=\"middle\" x=\"238\" y=\"-198.8\" font-family=\"Helvetica,sans-Serif\" font-size=\"14.00\">samples = 3658</text>\r\n",
       "<text text-anchor=\"middle\" x=\"238\" y=\"-183.8\" font-family=\"Helvetica,sans-Serif\" font-size=\"14.00\">value = [3389, 269]</text>\r\n",
       "</g>\r\n",
       "<!-- 0&#45;&gt;1 -->\r\n",
       "<g id=\"edge1\" class=\"edge\"><title>0&#45;&gt;1</title>\r\n",
       "<path fill=\"none\" stroke=\"black\" d=\"M299.455,-279.884C291.508,-270.976 282.818,-261.235 274.54,-251.957\"/>\r\n",
       "<polygon fill=\"black\" stroke=\"black\" points=\"276.977,-249.431 267.708,-244.299 271.754,-254.091 276.977,-249.431\"/>\r\n",
       "<text text-anchor=\"middle\" x=\"266.286\" y=\"-265.559\" font-family=\"Helvetica,sans-Serif\" font-size=\"14.00\">True</text>\r\n",
       "</g>\r\n",
       "<!-- 594 -->\r\n",
       "<g id=\"node9\" class=\"node\"><title>594</title>\r\n",
       "<path fill=\"#a1d0f3\" stroke=\"black\" d=\"M477,-244C477,-244 363,-244 363,-244 357,-244 351,-238 351,-232 351,-232 351,-188 351,-188 351,-182 357,-176 363,-176 363,-176 477,-176 477,-176 483,-176 489,-182 489,-188 489,-188 489,-232 489,-232 489,-238 483,-244 477,-244\"/>\r\n",
       "<text text-anchor=\"middle\" x=\"420\" y=\"-228.8\" font-family=\"Helvetica,sans-Serif\" font-size=\"14.00\">sulphates &lt;= 0.515</text>\r\n",
       "<text text-anchor=\"middle\" x=\"420\" y=\"-213.8\" font-family=\"Helvetica,sans-Serif\" font-size=\"14.00\">entropy = 0.928</text>\r\n",
       "<text text-anchor=\"middle\" x=\"420\" y=\"-198.8\" font-family=\"Helvetica,sans-Serif\" font-size=\"14.00\">samples = 1539</text>\r\n",
       "<text text-anchor=\"middle\" x=\"420\" y=\"-183.8\" font-family=\"Helvetica,sans-Serif\" font-size=\"14.00\">value = [529, 1010]</text>\r\n",
       "</g>\r\n",
       "<!-- 0&#45;&gt;594 -->\r\n",
       "<g id=\"edge8\" class=\"edge\"><title>0&#45;&gt;594</title>\r\n",
       "<path fill=\"none\" stroke=\"black\" d=\"M358.545,-279.884C366.492,-270.976 375.182,-261.235 383.46,-251.957\"/>\r\n",
       "<polygon fill=\"black\" stroke=\"black\" points=\"386.246,-254.091 390.292,-244.299 381.023,-249.431 386.246,-254.091\"/>\r\n",
       "<text text-anchor=\"middle\" x=\"391.714\" y=\"-265.559\" font-family=\"Helvetica,sans-Serif\" font-size=\"14.00\">False</text>\r\n",
       "</g>\r\n",
       "<!-- 2 -->\r\n",
       "<g id=\"node3\" class=\"node\"><title>2</title>\r\n",
       "<path fill=\"#e6853f\" stroke=\"black\" d=\"M126,-140C126,-140 12,-140 12,-140 6,-140 0,-134 0,-128 0,-128 0,-84 0,-84 0,-78 6,-72 12,-72 12,-72 126,-72 126,-72 132,-72 138,-78 138,-84 138,-84 138,-128 138,-128 138,-134 132,-140 126,-140\"/>\r\n",
       "<text text-anchor=\"middle\" x=\"69\" y=\"-124.8\" font-family=\"Helvetica,sans-Serif\" font-size=\"14.00\">sulphates &lt;= 0.505</text>\r\n",
       "<text text-anchor=\"middle\" x=\"69\" y=\"-109.8\" font-family=\"Helvetica,sans-Serif\" font-size=\"14.00\">entropy = 0.188</text>\r\n",
       "<text text-anchor=\"middle\" x=\"69\" y=\"-94.8\" font-family=\"Helvetica,sans-Serif\" font-size=\"14.00\">samples = 3164</text>\r\n",
       "<text text-anchor=\"middle\" x=\"69\" y=\"-79.8\" font-family=\"Helvetica,sans-Serif\" font-size=\"14.00\">value = [3073, 91]</text>\r\n",
       "</g>\r\n",
       "<!-- 1&#45;&gt;2 -->\r\n",
       "<g id=\"edge2\" class=\"edge\"><title>1&#45;&gt;2</title>\r\n",
       "<path fill=\"none\" stroke=\"black\" d=\"M183.131,-175.884C166.962,-166.125 149.136,-155.366 132.475,-145.31\"/>\r\n",
       "<polygon fill=\"black\" stroke=\"black\" points=\"134.253,-142.296 123.883,-140.125 130.636,-148.289 134.253,-142.296\"/>\r\n",
       "</g>\r\n",
       "<!-- 335 -->\r\n",
       "<g id=\"node6\" class=\"node\"><title>335</title>\r\n",
       "<path fill=\"#f4c8a9\" stroke=\"black\" d=\"M308,-140C308,-140 168,-140 168,-140 162,-140 156,-134 156,-128 156,-128 156,-84 156,-84 156,-78 162,-72 168,-72 168,-72 308,-72 308,-72 314,-72 320,-78 320,-84 320,-84 320,-128 320,-128 320,-134 314,-140 308,-140\"/>\r\n",
       "<text text-anchor=\"middle\" x=\"238\" y=\"-124.8\" font-family=\"Helvetica,sans-Serif\" font-size=\"14.00\">volatile acidity &lt;= 0.257</text>\r\n",
       "<text text-anchor=\"middle\" x=\"238\" y=\"-109.8\" font-family=\"Helvetica,sans-Serif\" font-size=\"14.00\">entropy = 0.943</text>\r\n",
       "<text text-anchor=\"middle\" x=\"238\" y=\"-94.8\" font-family=\"Helvetica,sans-Serif\" font-size=\"14.00\">samples = 494</text>\r\n",
       "<text text-anchor=\"middle\" x=\"238\" y=\"-79.8\" font-family=\"Helvetica,sans-Serif\" font-size=\"14.00\">value = [316, 178]</text>\r\n",
       "</g>\r\n",
       "<!-- 1&#45;&gt;335 -->\r\n",
       "<g id=\"edge5\" class=\"edge\"><title>1&#45;&gt;335</title>\r\n",
       "<path fill=\"none\" stroke=\"black\" d=\"M238,-175.884C238,-167.778 238,-158.982 238,-150.472\"/>\r\n",
       "<polygon fill=\"black\" stroke=\"black\" points=\"241.5,-150.299 238,-140.299 234.5,-150.299 241.5,-150.299\"/>\r\n",
       "</g>\r\n",
       "<!-- 3 -->\r\n",
       "<g id=\"node4\" class=\"node\"><title>3</title>\r\n",
       "<path fill=\"#c0c0c0\" stroke=\"black\" d=\"M58,-36C58,-36 28,-36 28,-36 22,-36 16,-30 16,-24 16,-24 16,-12 16,-12 16,-6 22,-0 28,-0 28,-0 58,-0 58,-0 64,-0 70,-6 70,-12 70,-12 70,-24 70,-24 70,-30 64,-36 58,-36\"/>\r\n",
       "<text text-anchor=\"middle\" x=\"43\" y=\"-14.3\" font-family=\"Helvetica,sans-Serif\" font-size=\"14.00\">(...)</text>\r\n",
       "</g>\r\n",
       "<!-- 2&#45;&gt;3 -->\r\n",
       "<g id=\"edge3\" class=\"edge\"><title>2&#45;&gt;3</title>\r\n",
       "<path fill=\"none\" stroke=\"black\" d=\"M59.0221,-71.9961C56.4444,-63.4699 53.6989,-54.3885 51.2221,-46.1962\"/>\r\n",
       "<polygon fill=\"black\" stroke=\"black\" points=\"54.5057,-44.9626 48.2615,-36.4034 47.8052,-46.9884 54.5057,-44.9626\"/>\r\n",
       "</g>\r\n",
       "<!-- 80 -->\r\n",
       "<g id=\"node5\" class=\"node\"><title>80</title>\r\n",
       "<path fill=\"#c0c0c0\" stroke=\"black\" d=\"M130,-36C130,-36 100,-36 100,-36 94,-36 88,-30 88,-24 88,-24 88,-12 88,-12 88,-6 94,-0 100,-0 100,-0 130,-0 130,-0 136,-0 142,-6 142,-12 142,-12 142,-24 142,-24 142,-30 136,-36 130,-36\"/>\r\n",
       "<text text-anchor=\"middle\" x=\"115\" y=\"-14.3\" font-family=\"Helvetica,sans-Serif\" font-size=\"14.00\">(...)</text>\r\n",
       "</g>\r\n",
       "<!-- 2&#45;&gt;80 -->\r\n",
       "<g id=\"edge4\" class=\"edge\"><title>2&#45;&gt;80</title>\r\n",
       "<path fill=\"none\" stroke=\"black\" d=\"M86.6532,-71.9961C91.3658,-63.1856 96.3954,-53.7825 100.89,-45.38\"/>\r\n",
       "<polygon fill=\"black\" stroke=\"black\" points=\"104.061,-46.872 105.691,-36.4034 97.8884,-43.5704 104.061,-46.872\"/>\r\n",
       "</g>\r\n",
       "<!-- 336 -->\r\n",
       "<g id=\"node7\" class=\"node\"><title>336</title>\r\n",
       "<path fill=\"#c0c0c0\" stroke=\"black\" d=\"M214,-36C214,-36 184,-36 184,-36 178,-36 172,-30 172,-24 172,-24 172,-12 172,-12 172,-6 178,-0 184,-0 184,-0 214,-0 214,-0 220,-0 226,-6 226,-12 226,-12 226,-24 226,-24 226,-30 220,-36 214,-36\"/>\r\n",
       "<text text-anchor=\"middle\" x=\"199\" y=\"-14.3\" font-family=\"Helvetica,sans-Serif\" font-size=\"14.00\">(...)</text>\r\n",
       "</g>\r\n",
       "<!-- 335&#45;&gt;336 -->\r\n",
       "<g id=\"edge6\" class=\"edge\"><title>335&#45;&gt;336</title>\r\n",
       "<path fill=\"none\" stroke=\"black\" d=\"M223.033,-71.9961C219.081,-63.2804 214.865,-53.9846 211.086,-45.6514\"/>\r\n",
       "<polygon fill=\"black\" stroke=\"black\" points=\"214.21,-44.0651 206.892,-36.4034 207.835,-46.9562 214.21,-44.0651\"/>\r\n",
       "</g>\r\n",
       "<!-- 427 -->\r\n",
       "<g id=\"node8\" class=\"node\"><title>427</title>\r\n",
       "<path fill=\"#c0c0c0\" stroke=\"black\" d=\"M286,-36C286,-36 256,-36 256,-36 250,-36 244,-30 244,-24 244,-24 244,-12 244,-12 244,-6 250,-0 256,-0 256,-0 286,-0 286,-0 292,-0 298,-6 298,-12 298,-12 298,-24 298,-24 298,-30 292,-36 286,-36\"/>\r\n",
       "<text text-anchor=\"middle\" x=\"271\" y=\"-14.3\" font-family=\"Helvetica,sans-Serif\" font-size=\"14.00\">(...)</text>\r\n",
       "</g>\r\n",
       "<!-- 335&#45;&gt;427 -->\r\n",
       "<g id=\"edge7\" class=\"edge\"><title>335&#45;&gt;427</title>\r\n",
       "<path fill=\"none\" stroke=\"black\" d=\"M250.664,-71.9961C253.972,-63.3751 257.498,-54.1866 260.669,-45.9234\"/>\r\n",
       "<polygon fill=\"black\" stroke=\"black\" points=\"264.007,-46.9935 264.322,-36.4034 257.472,-44.4857 264.007,-46.9935\"/>\r\n",
       "</g>\r\n",
       "<!-- 595 -->\r\n",
       "<g id=\"node10\" class=\"node\"><title>595</title>\r\n",
       "<path fill=\"#f0b68c\" stroke=\"black\" d=\"M490,-140C490,-140 350,-140 350,-140 344,-140 338,-134 338,-128 338,-128 338,-84 338,-84 338,-78 344,-72 350,-72 350,-72 490,-72 490,-72 496,-72 502,-78 502,-84 502,-84 502,-128 502,-128 502,-134 496,-140 490,-140\"/>\r\n",
       "<text text-anchor=\"middle\" x=\"420\" y=\"-124.8\" font-family=\"Helvetica,sans-Serif\" font-size=\"14.00\">volatile acidity &lt;= 0.558</text>\r\n",
       "<text text-anchor=\"middle\" x=\"420\" y=\"-109.8\" font-family=\"Helvetica,sans-Serif\" font-size=\"14.00\">entropy = 0.876</text>\r\n",
       "<text text-anchor=\"middle\" x=\"420\" y=\"-94.8\" font-family=\"Helvetica,sans-Serif\" font-size=\"14.00\">samples = 480</text>\r\n",
       "<text text-anchor=\"middle\" x=\"420\" y=\"-79.8\" font-family=\"Helvetica,sans-Serif\" font-size=\"14.00\">value = [338, 142]</text>\r\n",
       "</g>\r\n",
       "<!-- 594&#45;&gt;595 -->\r\n",
       "<g id=\"edge9\" class=\"edge\"><title>594&#45;&gt;595</title>\r\n",
       "<path fill=\"none\" stroke=\"black\" d=\"M420,-175.884C420,-167.778 420,-158.982 420,-150.472\"/>\r\n",
       "<polygon fill=\"black\" stroke=\"black\" points=\"423.5,-150.299 420,-140.299 416.5,-150.299 423.5,-150.299\"/>\r\n",
       "</g>\r\n",
       "<!-- 796 -->\r\n",
       "<g id=\"node13\" class=\"node\"><title>796</title>\r\n",
       "<path fill=\"#65b3eb\" stroke=\"black\" d=\"M672,-140C672,-140 532,-140 532,-140 526,-140 520,-134 520,-128 520,-128 520,-84 520,-84 520,-78 526,-72 532,-72 532,-72 672,-72 672,-72 678,-72 684,-78 684,-84 684,-84 684,-128 684,-128 684,-134 678,-140 672,-140\"/>\r\n",
       "<text text-anchor=\"middle\" x=\"602\" y=\"-124.8\" font-family=\"Helvetica,sans-Serif\" font-size=\"14.00\">volatile acidity &lt;= 0.465</text>\r\n",
       "<text text-anchor=\"middle\" x=\"602\" y=\"-109.8\" font-family=\"Helvetica,sans-Serif\" font-size=\"14.00\">entropy = 0.681</text>\r\n",
       "<text text-anchor=\"middle\" x=\"602\" y=\"-94.8\" font-family=\"Helvetica,sans-Serif\" font-size=\"14.00\">samples = 1059</text>\r\n",
       "<text text-anchor=\"middle\" x=\"602\" y=\"-79.8\" font-family=\"Helvetica,sans-Serif\" font-size=\"14.00\">value = [191, 868]</text>\r\n",
       "</g>\r\n",
       "<!-- 594&#45;&gt;796 -->\r\n",
       "<g id=\"edge12\" class=\"edge\"><title>594&#45;&gt;796</title>\r\n",
       "<path fill=\"none\" stroke=\"black\" d=\"M479.09,-175.884C496.662,-166.035 516.052,-155.169 534.136,-145.034\"/>\r\n",
       "<polygon fill=\"black\" stroke=\"black\" points=\"535.883,-148.067 542.895,-140.125 532.46,-141.961 535.883,-148.067\"/>\r\n",
       "</g>\r\n",
       "<!-- 596 -->\r\n",
       "<g id=\"node11\" class=\"node\"><title>596</title>\r\n",
       "<path fill=\"#c0c0c0\" stroke=\"black\" d=\"M389,-36C389,-36 359,-36 359,-36 353,-36 347,-30 347,-24 347,-24 347,-12 347,-12 347,-6 353,-0 359,-0 359,-0 389,-0 389,-0 395,-0 401,-6 401,-12 401,-12 401,-24 401,-24 401,-30 395,-36 389,-36\"/>\r\n",
       "<text text-anchor=\"middle\" x=\"374\" y=\"-14.3\" font-family=\"Helvetica,sans-Serif\" font-size=\"14.00\">(...)</text>\r\n",
       "</g>\r\n",
       "<!-- 595&#45;&gt;596 -->\r\n",
       "<g id=\"edge10\" class=\"edge\"><title>595&#45;&gt;596</title>\r\n",
       "<path fill=\"none\" stroke=\"black\" d=\"M402.347,-71.9961C397.634,-63.1856 392.605,-53.7825 388.11,-45.38\"/>\r\n",
       "<polygon fill=\"black\" stroke=\"black\" points=\"391.112,-43.5704 383.309,-36.4034 384.939,-46.872 391.112,-43.5704\"/>\r\n",
       "</g>\r\n",
       "<!-- 703 -->\r\n",
       "<g id=\"node12\" class=\"node\"><title>703</title>\r\n",
       "<path fill=\"#c0c0c0\" stroke=\"black\" d=\"M461,-36C461,-36 431,-36 431,-36 425,-36 419,-30 419,-24 419,-24 419,-12 419,-12 419,-6 425,-0 431,-0 431,-0 461,-0 461,-0 467,-0 473,-6 473,-12 473,-12 473,-24 473,-24 473,-30 467,-36 461,-36\"/>\r\n",
       "<text text-anchor=\"middle\" x=\"446\" y=\"-14.3\" font-family=\"Helvetica,sans-Serif\" font-size=\"14.00\">(...)</text>\r\n",
       "</g>\r\n",
       "<!-- 595&#45;&gt;703 -->\r\n",
       "<g id=\"edge11\" class=\"edge\"><title>595&#45;&gt;703</title>\r\n",
       "<path fill=\"none\" stroke=\"black\" d=\"M429.978,-71.9961C432.556,-63.4699 435.301,-54.3885 437.778,-46.1962\"/>\r\n",
       "<polygon fill=\"black\" stroke=\"black\" points=\"441.195,-46.9884 440.739,-36.4034 434.494,-44.9626 441.195,-46.9884\"/>\r\n",
       "</g>\r\n",
       "<!-- 797 -->\r\n",
       "<g id=\"node14\" class=\"node\"><title>797</title>\r\n",
       "<path fill=\"#c0c0c0\" stroke=\"black\" d=\"M581,-36C581,-36 551,-36 551,-36 545,-36 539,-30 539,-24 539,-24 539,-12 539,-12 539,-6 545,-0 551,-0 551,-0 581,-0 581,-0 587,-0 593,-6 593,-12 593,-12 593,-24 593,-24 593,-30 587,-36 581,-36\"/>\r\n",
       "<text text-anchor=\"middle\" x=\"566\" y=\"-14.3\" font-family=\"Helvetica,sans-Serif\" font-size=\"14.00\">(...)</text>\r\n",
       "</g>\r\n",
       "<!-- 796&#45;&gt;797 -->\r\n",
       "<g id=\"edge13\" class=\"edge\"><title>796&#45;&gt;797</title>\r\n",
       "<path fill=\"none\" stroke=\"black\" d=\"M588.184,-71.9961C584.536,-63.2804 580.645,-53.9846 577.156,-45.6514\"/>\r\n",
       "<polygon fill=\"black\" stroke=\"black\" points=\"580.375,-44.2763 573.285,-36.4034 573.918,-46.9793 580.375,-44.2763\"/>\r\n",
       "</g>\r\n",
       "<!-- 1016 -->\r\n",
       "<g id=\"node15\" class=\"node\"><title>1016</title>\r\n",
       "<path fill=\"#c0c0c0\" stroke=\"black\" d=\"M653,-36C653,-36 623,-36 623,-36 617,-36 611,-30 611,-24 611,-24 611,-12 611,-12 611,-6 617,-0 623,-0 623,-0 653,-0 653,-0 659,-0 665,-6 665,-12 665,-12 665,-24 665,-24 665,-30 659,-36 653,-36\"/>\r\n",
       "<text text-anchor=\"middle\" x=\"638\" y=\"-14.3\" font-family=\"Helvetica,sans-Serif\" font-size=\"14.00\">(...)</text>\r\n",
       "</g>\r\n",
       "<!-- 796&#45;&gt;1016 -->\r\n",
       "<g id=\"edge14\" class=\"edge\"><title>796&#45;&gt;1016</title>\r\n",
       "<path fill=\"none\" stroke=\"black\" d=\"M615.816,-71.9961C619.464,-63.2804 623.355,-53.9846 626.844,-45.6514\"/>\r\n",
       "<polygon fill=\"black\" stroke=\"black\" points=\"630.082,-46.9793 630.715,-36.4034 623.625,-44.2763 630.082,-46.9793\"/>\r\n",
       "</g>\r\n",
       "</g>\r\n",
       "</svg>\r\n"
      ],
      "text/plain": [
       "<graphviz.files.Source at 0xc7596d8>"
      ]
     },
     "execution_count": 116,
     "metadata": {},
     "output_type": "execute_result"
    }
   ],
   "source": [
    "dot_data = tree.export_graphviz(clf, max_depth=2, out_file=None, feature_names=list(X.columns.values), filled=True, rounded=True)\n",
    "graphviz.Source(dot_data)"
   ]
  },
  {
   "cell_type": "code",
   "execution_count": 119,
   "metadata": {},
   "outputs": [
    {
     "data": {
      "text/plain": [
       "0.9609390032711179"
      ]
     },
     "execution_count": 119,
     "metadata": {},
     "output_type": "execute_result"
    }
   ],
   "source": [
    "clf.score(train_X, train_y)"
   ]
  },
  {
   "cell_type": "code",
   "execution_count": 120,
   "metadata": {},
   "outputs": [
    {
     "data": {
      "text/plain": [
       "0.9038461538461539"
      ]
     },
     "execution_count": 120,
     "metadata": {},
     "output_type": "execute_result"
    }
   ],
   "source": [
    "clf.score(test_X, test_y)"
   ]
  },
  {
   "cell_type": "code",
   "execution_count": 113,
   "metadata": {},
   "outputs": [
    {
     "data": {
      "text/plain": [
       "array([0, 1], dtype=int64)"
      ]
     },
     "execution_count": 113,
     "metadata": {},
     "output_type": "execute_result"
    }
   ],
   "source": [
    "clf.classes_"
   ]
  },
  {
   "cell_type": "code",
   "execution_count": 121,
   "metadata": {},
   "outputs": [
    {
     "data": {
      "text/plain": [
       "2"
      ]
     },
     "execution_count": 121,
     "metadata": {},
     "output_type": "execute_result"
    }
   ],
   "source": [
    "clf.max_features_"
   ]
  },
  {
   "cell_type": "code",
   "execution_count": null,
   "metadata": {},
   "outputs": [],
   "source": [
    "clf.n_classes_"
   ]
  },
  {
   "cell_type": "code",
   "execution_count": 123,
   "metadata": {
    "scrolled": true
   },
   "outputs": [
    {
     "data": {
      "text/plain": [
       "2"
      ]
     },
     "execution_count": 123,
     "metadata": {},
     "output_type": "execute_result"
    }
   ],
   "source": [
    "clf.n_features_"
   ]
  },
  {
   "cell_type": "code",
   "execution_count": 122,
   "metadata": {},
   "outputs": [
    {
     "data": {
      "text/plain": [
       "631"
      ]
     },
     "execution_count": 122,
     "metadata": {},
     "output_type": "execute_result"
    }
   ],
   "source": [
    "clf.get_n_leaves()"
   ]
  },
  {
   "cell_type": "code",
   "execution_count": 124,
   "metadata": {},
   "outputs": [
    {
     "data": {
      "text/plain": [
       "21"
      ]
     },
     "execution_count": 124,
     "metadata": {},
     "output_type": "execute_result"
    }
   ],
   "source": [
    "clf.get_depth()"
   ]
  },
  {
   "cell_type": "code",
   "execution_count": 125,
   "metadata": {},
   "outputs": [
    {
     "data": {
      "text/plain": [
       "0.9609390032711179"
      ]
     },
     "execution_count": 125,
     "metadata": {},
     "output_type": "execute_result"
    }
   ],
   "source": [
    "# Returns the mean accuracy on the given test data and labels.\n",
    "clf.score(train_X,train_y)"
   ]
  },
  {
   "cell_type": "code",
   "execution_count": 126,
   "metadata": {},
   "outputs": [
    {
     "data": {
      "text/plain": [
       "0.9038461538461539"
      ]
     },
     "execution_count": 126,
     "metadata": {},
     "output_type": "execute_result"
    }
   ],
   "source": [
    "clf.score(test_X, test_y)"
   ]
  },
  {
   "cell_type": "code",
   "execution_count": null,
   "metadata": {
    "scrolled": true
   },
   "outputs": [],
   "source": [
    "train_X.iloc[1]"
   ]
  },
  {
   "cell_type": "code",
   "execution_count": 139,
   "metadata": {},
   "outputs": [
    {
     "data": {
      "text/plain": [
       "volatile acidity    0.70\n",
       "sulphates           0.56\n",
       "Name: 0, dtype: float64"
      ]
     },
     "execution_count": 139,
     "metadata": {},
     "output_type": "execute_result"
    }
   ],
   "source": [
    "train_X.loc[0,:]"
   ]
  },
  {
   "cell_type": "code",
   "execution_count": 141,
   "metadata": {},
   "outputs": [
    {
     "data": {
      "text/html": [
       "<div>\n",
       "<style scoped>\n",
       "    .dataframe tbody tr th:only-of-type {\n",
       "        vertical-align: middle;\n",
       "    }\n",
       "\n",
       "    .dataframe tbody tr th {\n",
       "        vertical-align: top;\n",
       "    }\n",
       "\n",
       "    .dataframe thead th {\n",
       "        text-align: right;\n",
       "    }\n",
       "</style>\n",
       "<table border=\"1\" class=\"dataframe\">\n",
       "  <thead>\n",
       "    <tr style=\"text-align: right;\">\n",
       "      <th></th>\n",
       "      <th>volatile acidity</th>\n",
       "      <th>sulphates</th>\n",
       "    </tr>\n",
       "  </thead>\n",
       "  <tbody>\n",
       "    <tr>\n",
       "      <th>3123</th>\n",
       "      <td>0.21</td>\n",
       "      <td>0.39</td>\n",
       "    </tr>\n",
       "    <tr>\n",
       "      <th>196</th>\n",
       "      <td>0.58</td>\n",
       "      <td>0.59</td>\n",
       "    </tr>\n",
       "  </tbody>\n",
       "</table>\n",
       "</div>"
      ],
      "text/plain": [
       "      volatile acidity  sulphates\n",
       "3123              0.21       0.39\n",
       "196               0.58       0.59"
      ]
     },
     "execution_count": 141,
     "metadata": {},
     "output_type": "execute_result"
    }
   ],
   "source": [
    "train_X.head(2)"
   ]
  },
  {
   "cell_type": "code",
   "execution_count": 142,
   "metadata": {},
   "outputs": [
    {
     "name": "stdout",
     "output_type": "stream",
     "text": [
      "  (0, 0)\t1\n",
      "  (0, 1)\t1\n",
      "  (0, 2)\t1\n",
      "  (0, 3)\t1\n",
      "  (0, 4)\t1\n",
      "  (0, 6)\t1\n",
      "  (0, 7)\t1\n",
      "  (0, 8)\t1\n",
      "  (0, 9)\t1\n",
      "  (0, 10)\t1\n",
      "  (1, 0)\t1\n",
      "  (1, 594)\t1\n",
      "  (1, 796)\t1\n",
      "  (1, 1016)\t1\n",
      "  (1, 1148)\t1\n",
      "  (1, 1149)\t1\n",
      "  (1, 1150)\t1\n",
      "  (1, 1151)\t1\n",
      "  (1, 1152)\t1\n",
      "  (1, 1160)\t1\n",
      "  (1, 1170)\t1\n",
      "  (1, 1171)\t1\n",
      "  (2, 0)\t1\n",
      "  (2, 1)\t1\n",
      "  (2, 2)\t1\n",
      "  :\t:\n",
      "  (5193, 83)\t1\n",
      "  (5194, 0)\t1\n",
      "  (5194, 1)\t1\n",
      "  (5194, 2)\t1\n",
      "  (5194, 3)\t1\n",
      "  (5194, 4)\t1\n",
      "  (5194, 5)\t1\n",
      "  (5195, 0)\t1\n",
      "  (5195, 1)\t1\n",
      "  (5195, 335)\t1\n",
      "  (5195, 427)\t1\n",
      "  (5195, 503)\t1\n",
      "  (5195, 504)\t1\n",
      "  (5195, 505)\t1\n",
      "  (5195, 506)\t1\n",
      "  (5195, 510)\t1\n",
      "  (5196, 0)\t1\n",
      "  (5196, 1)\t1\n",
      "  (5196, 2)\t1\n",
      "  (5196, 3)\t1\n",
      "  (5196, 4)\t1\n",
      "  (5196, 6)\t1\n",
      "  (5196, 26)\t1\n",
      "  (5196, 28)\t1\n",
      "  (5196, 42)\t1\n"
     ]
    }
   ],
   "source": [
    "# \n",
    "# (a, b) = (X_index, node_index)\n",
    "m = clf.decision_path(train_X)\n",
    "print(m)"
   ]
  },
  {
   "cell_type": "code",
   "execution_count": null,
   "metadata": {
    "scrolled": true
   },
   "outputs": [],
   "source": [
    "# Predict class log-probabilities of the input samples X.\n",
    "clf.predict_log_proba(X)"
   ]
  },
  {
   "cell_type": "code",
   "execution_count": null,
   "metadata": {
    "scrolled": false
   },
   "outputs": [],
   "source": [
    "# The predicted class probability is the fraction of samples of the same class in a leaf.\n",
    "clf.predict_proba(X)"
   ]
  },
  {
   "cell_type": "code",
   "execution_count": null,
   "metadata": {},
   "outputs": [],
   "source": [
    "clf.get_depth()"
   ]
  },
  {
   "cell_type": "code",
   "execution_count": null,
   "metadata": {},
   "outputs": [],
   "source": [
    "clf.apply(X.loc[:10]) # node의 위치"
   ]
  },
  {
   "cell_type": "code",
   "execution_count": null,
   "metadata": {},
   "outputs": [],
   "source": [
    "clf.predict(X)"
   ]
  },
  {
   "cell_type": "code",
   "execution_count": null,
   "metadata": {},
   "outputs": [],
   "source": []
  },
  {
   "cell_type": "markdown",
   "metadata": {},
   "source": [
    "# 2. Feature: All, y= red or white"
   ]
  },
  {
   "cell_type": "code",
   "execution_count": 143,
   "metadata": {},
   "outputs": [],
   "source": [
    "new_red = wine_red.copy()\n",
    "new_red['is_red'] = 1\n",
    "new_white = wine_white.copy()\n",
    "new_white['is_red'] = 0\n",
    "\n",
    "wine = new_red.append(new_white, ignore_index=True)"
   ]
  },
  {
   "cell_type": "code",
   "execution_count": 144,
   "metadata": {},
   "outputs": [
    {
     "data": {
      "text/html": [
       "<div>\n",
       "<style scoped>\n",
       "    .dataframe tbody tr th:only-of-type {\n",
       "        vertical-align: middle;\n",
       "    }\n",
       "\n",
       "    .dataframe tbody tr th {\n",
       "        vertical-align: top;\n",
       "    }\n",
       "\n",
       "    .dataframe thead th {\n",
       "        text-align: right;\n",
       "    }\n",
       "</style>\n",
       "<table border=\"1\" class=\"dataframe\">\n",
       "  <thead>\n",
       "    <tr style=\"text-align: right;\">\n",
       "      <th></th>\n",
       "      <th>fixed acidity</th>\n",
       "      <th>volatile acidity</th>\n",
       "      <th>citric acid</th>\n",
       "      <th>residual sugar</th>\n",
       "      <th>chlorides</th>\n",
       "      <th>free sulfur dioxide</th>\n",
       "      <th>total sulfur dioxide</th>\n",
       "      <th>density</th>\n",
       "      <th>pH</th>\n",
       "      <th>sulphates</th>\n",
       "      <th>alcohol</th>\n",
       "      <th>quality</th>\n",
       "      <th>is_red</th>\n",
       "    </tr>\n",
       "  </thead>\n",
       "  <tbody>\n",
       "    <tr>\n",
       "      <th>0</th>\n",
       "      <td>7.4</td>\n",
       "      <td>0.70</td>\n",
       "      <td>0.0</td>\n",
       "      <td>1.9</td>\n",
       "      <td>0.076</td>\n",
       "      <td>11.0</td>\n",
       "      <td>34.0</td>\n",
       "      <td>0.9978</td>\n",
       "      <td>3.51</td>\n",
       "      <td>0.56</td>\n",
       "      <td>9.4</td>\n",
       "      <td>5</td>\n",
       "      <td>1</td>\n",
       "    </tr>\n",
       "    <tr>\n",
       "      <th>1</th>\n",
       "      <td>7.8</td>\n",
       "      <td>0.88</td>\n",
       "      <td>0.0</td>\n",
       "      <td>2.6</td>\n",
       "      <td>0.098</td>\n",
       "      <td>25.0</td>\n",
       "      <td>67.0</td>\n",
       "      <td>0.9968</td>\n",
       "      <td>3.20</td>\n",
       "      <td>0.68</td>\n",
       "      <td>9.8</td>\n",
       "      <td>5</td>\n",
       "      <td>1</td>\n",
       "    </tr>\n",
       "  </tbody>\n",
       "</table>\n",
       "</div>"
      ],
      "text/plain": [
       "   fixed acidity  volatile acidity  citric acid  residual sugar  chlorides  \\\n",
       "0            7.4              0.70          0.0             1.9      0.076   \n",
       "1            7.8              0.88          0.0             2.6      0.098   \n",
       "\n",
       "   free sulfur dioxide  total sulfur dioxide  density    pH  sulphates  \\\n",
       "0                 11.0                  34.0   0.9978  3.51       0.56   \n",
       "1                 25.0                  67.0   0.9968  3.20       0.68   \n",
       "\n",
       "   alcohol  quality  is_red  \n",
       "0      9.4        5       1  \n",
       "1      9.8        5       1  "
      ]
     },
     "execution_count": 144,
     "metadata": {},
     "output_type": "execute_result"
    }
   ],
   "source": [
    "wine.head(2)"
   ]
  },
  {
   "cell_type": "code",
   "execution_count": 145,
   "metadata": {},
   "outputs": [
    {
     "data": {
      "text/html": [
       "<div>\n",
       "<style scoped>\n",
       "    .dataframe tbody tr th:only-of-type {\n",
       "        vertical-align: middle;\n",
       "    }\n",
       "\n",
       "    .dataframe tbody tr th {\n",
       "        vertical-align: top;\n",
       "    }\n",
       "\n",
       "    .dataframe thead th {\n",
       "        text-align: right;\n",
       "    }\n",
       "</style>\n",
       "<table border=\"1\" class=\"dataframe\">\n",
       "  <thead>\n",
       "    <tr style=\"text-align: right;\">\n",
       "      <th></th>\n",
       "      <th>fixed acidity</th>\n",
       "      <th>volatile acidity</th>\n",
       "      <th>citric acid</th>\n",
       "      <th>residual sugar</th>\n",
       "      <th>chlorides</th>\n",
       "      <th>free sulfur dioxide</th>\n",
       "      <th>total sulfur dioxide</th>\n",
       "      <th>density</th>\n",
       "      <th>pH</th>\n",
       "      <th>sulphates</th>\n",
       "      <th>alcohol</th>\n",
       "      <th>quality</th>\n",
       "      <th>is_red</th>\n",
       "    </tr>\n",
       "  </thead>\n",
       "  <tbody>\n",
       "    <tr>\n",
       "      <th>6495</th>\n",
       "      <td>5.5</td>\n",
       "      <td>0.29</td>\n",
       "      <td>0.30</td>\n",
       "      <td>1.1</td>\n",
       "      <td>0.022</td>\n",
       "      <td>20.0</td>\n",
       "      <td>110.0</td>\n",
       "      <td>0.98869</td>\n",
       "      <td>3.34</td>\n",
       "      <td>0.38</td>\n",
       "      <td>12.8</td>\n",
       "      <td>7</td>\n",
       "      <td>0</td>\n",
       "    </tr>\n",
       "    <tr>\n",
       "      <th>6496</th>\n",
       "      <td>6.0</td>\n",
       "      <td>0.21</td>\n",
       "      <td>0.38</td>\n",
       "      <td>0.8</td>\n",
       "      <td>0.020</td>\n",
       "      <td>22.0</td>\n",
       "      <td>98.0</td>\n",
       "      <td>0.98941</td>\n",
       "      <td>3.26</td>\n",
       "      <td>0.32</td>\n",
       "      <td>11.8</td>\n",
       "      <td>6</td>\n",
       "      <td>0</td>\n",
       "    </tr>\n",
       "  </tbody>\n",
       "</table>\n",
       "</div>"
      ],
      "text/plain": [
       "      fixed acidity  volatile acidity  citric acid  residual sugar  chlorides  \\\n",
       "6495            5.5              0.29         0.30             1.1      0.022   \n",
       "6496            6.0              0.21         0.38             0.8      0.020   \n",
       "\n",
       "      free sulfur dioxide  total sulfur dioxide  density    pH  sulphates  \\\n",
       "6495                 20.0                 110.0  0.98869  3.34       0.38   \n",
       "6496                 22.0                  98.0  0.98941  3.26       0.32   \n",
       "\n",
       "      alcohol  quality  is_red  \n",
       "6495     12.8        7       0  \n",
       "6496     11.8        6       0  "
      ]
     },
     "execution_count": 145,
     "metadata": {},
     "output_type": "execute_result"
    }
   ],
   "source": [
    "wine.tail(2)"
   ]
  },
  {
   "cell_type": "code",
   "execution_count": 146,
   "metadata": {},
   "outputs": [],
   "source": [
    "X = wine.drop('is_red', axis=1)\n",
    "y = wine['is_red']"
   ]
  },
  {
   "cell_type": "code",
   "execution_count": 147,
   "metadata": {},
   "outputs": [],
   "source": [
    "train_X, test_X, train_y, test_y = train_test_split(X, y, stratify=wine['is_red'], random_state=42, test_size=.2)"
   ]
  },
  {
   "cell_type": "code",
   "execution_count": 226,
   "metadata": {},
   "outputs": [
    {
     "data": {
      "text/plain": [
       "DecisionTreeClassifier(class_weight=None, criterion='entropy', max_depth=100,\n",
       "                       max_features=3, max_leaf_nodes=None,\n",
       "                       min_impurity_decrease=0.0, min_impurity_split=None,\n",
       "                       min_samples_leaf=1, min_samples_split=2,\n",
       "                       min_weight_fraction_leaf=0.0, presort=False,\n",
       "                       random_state=42, splitter='best')"
      ]
     },
     "execution_count": 226,
     "metadata": {},
     "output_type": "execute_result"
    }
   ],
   "source": [
    "from sklearn import tree\n",
    "\n",
    "\"\"\"\n",
    "DecisionTreeClassifier(criterion=’gini’, splitter=’best’, max_depth=None, min_samples_split=2, min_samples_leaf=1, \n",
    "                       min_weight_fraction_leaf=0.0, max_features=None, random_state=None, max_leaf_nodes=None, \n",
    "                       min_impurity_decrease=0.0, min_impurity_split=None, class_weight=None, presort=False)\n",
    "\n",
    "# scikit-learn uses an optimised version of the CART algorithm.\n",
    "                       \n",
    "# criterion: entropy or gini\n",
    "The function to measure the quality of a split. \n",
    "Supported criteria are “gini” for the Gini impurity and “entropy” for the information gain.\n",
    "\n",
    "# max_depth : int or None, optional (default=None)\n",
    "The maximum depth of the tree. \n",
    "If None, then nodes are expanded until all leaves are pure or until all leaves contain less than min_samples_split sample\n",
    "\n",
    "# random_state: 난수값\n",
    "\n",
    "# min_samples_split: 분할 되기 위해 노드가 가져야 하는 최소 샘플 수 \n",
    "# min_samples_leaf: 리프 노드가 가지고 있어야 할 최소 샘플 수\n",
    "# max_leaf_nodes: 리프 노드의 최대 수\n",
    "# max_features: 노드에서 분할에 사용할 특성의 최대 수 \n",
    "\n",
    "# max_features : int, float, string or None, optional (default=”auto”)\n",
    "The number of features to consider when looking for the best split:\n",
    "\n",
    "If int, then consider max_features features at each split.\n",
    "If float, then max_features is a fraction and int(max_features * n_features) features are considered at each split.\n",
    "If “auto”, then max_features=sqrt(n_features).\n",
    "If “sqrt”, then max_features=sqrt(n_features) (same as “auto”).\n",
    "If “log2”, then max_features=log2(n_features).\n",
    "If None, then max_features=n_features.\n",
    "\n",
    "\"\"\"\n",
    "clf = tree.DecisionTreeClassifier('entropy', \n",
    "                                  random_state=42, \n",
    "                                  max_features=3, \n",
    "                                  max_depth=100)\n",
    "\n",
    "clf.fit(train_X, train_y)\n"
   ]
  },
  {
   "cell_type": "code",
   "execution_count": 227,
   "metadata": {},
   "outputs": [
    {
     "data": {
      "text/plain": [
       "0.9998075812969021"
      ]
     },
     "execution_count": 227,
     "metadata": {},
     "output_type": "execute_result"
    }
   ],
   "source": [
    "clf.score(train_X, train_y)"
   ]
  },
  {
   "cell_type": "code",
   "execution_count": 228,
   "metadata": {},
   "outputs": [
    {
     "data": {
      "text/plain": [
       "0.99"
      ]
     },
     "execution_count": 228,
     "metadata": {},
     "output_type": "execute_result"
    }
   ],
   "source": [
    "clf.score(test_X, test_y)"
   ]
  },
  {
   "cell_type": "code",
   "execution_count": 229,
   "metadata": {},
   "outputs": [
    {
     "data": {
      "text/plain": [
       "12"
      ]
     },
     "execution_count": 229,
     "metadata": {},
     "output_type": "execute_result"
    }
   ],
   "source": [
    "clf.get_depth()"
   ]
  },
  {
   "cell_type": "code",
   "execution_count": 230,
   "metadata": {},
   "outputs": [
    {
     "data": {
      "image/svg+xml": [
       "<?xml version=\"1.0\" encoding=\"UTF-8\" standalone=\"no\"?>\r\n",
       "<!DOCTYPE svg PUBLIC \"-//W3C//DTD SVG 1.1//EN\"\r\n",
       " \"http://www.w3.org/Graphics/SVG/1.1/DTD/svg11.dtd\">\r\n",
       "<!-- Generated by graphviz version 2.38.0 (20140413.2041)\r\n",
       " -->\r\n",
       "<!-- Title: Tree Pages: 1 -->\r\n",
       "<svg width=\"718pt\" height=\"356pt\"\r\n",
       " viewBox=\"0.00 0.00 717.50 356.00\" xmlns=\"http://www.w3.org/2000/svg\" xmlns:xlink=\"http://www.w3.org/1999/xlink\">\r\n",
       "<g id=\"graph0\" class=\"graph\" transform=\"scale(1 1) rotate(0) translate(4 352)\">\r\n",
       "<title>Tree</title>\r\n",
       "<polygon fill=\"white\" stroke=\"none\" points=\"-4,4 -4,-352 713.5,-352 713.5,4 -4,4\"/>\r\n",
       "<!-- 0 -->\r\n",
       "<g id=\"node1\" class=\"node\"><title>0</title>\r\n",
       "<path fill=\"#edaa7a\" stroke=\"black\" d=\"M405.5,-348C405.5,-348 283.5,-348 283.5,-348 277.5,-348 271.5,-342 271.5,-336 271.5,-336 271.5,-292 271.5,-292 271.5,-286 277.5,-280 283.5,-280 283.5,-280 405.5,-280 405.5,-280 411.5,-280 417.5,-286 417.5,-292 417.5,-292 417.5,-336 417.5,-336 417.5,-342 411.5,-348 405.5,-348\"/>\r\n",
       "<text text-anchor=\"middle\" x=\"344.5\" y=\"-332.8\" font-family=\"Helvetica,sans-Serif\" font-size=\"14.00\">chlorides &lt;= 0.06</text>\r\n",
       "<text text-anchor=\"middle\" x=\"344.5\" y=\"-317.8\" font-family=\"Helvetica,sans-Serif\" font-size=\"14.00\">entropy = 0.805</text>\r\n",
       "<text text-anchor=\"middle\" x=\"344.5\" y=\"-302.8\" font-family=\"Helvetica,sans-Serif\" font-size=\"14.00\">samples = 5197</text>\r\n",
       "<text text-anchor=\"middle\" x=\"344.5\" y=\"-287.8\" font-family=\"Helvetica,sans-Serif\" font-size=\"14.00\">value = [3918, 1279]</text>\r\n",
       "</g>\r\n",
       "<!-- 1 -->\r\n",
       "<g id=\"node2\" class=\"node\"><title>1</title>\r\n",
       "<path fill=\"#e68640\" stroke=\"black\" d=\"M330.5,-244C330.5,-244 190.5,-244 190.5,-244 184.5,-244 178.5,-238 178.5,-232 178.5,-232 178.5,-188 178.5,-188 178.5,-182 184.5,-176 190.5,-176 190.5,-176 330.5,-176 330.5,-176 336.5,-176 342.5,-182 342.5,-188 342.5,-188 342.5,-232 342.5,-232 342.5,-238 336.5,-244 330.5,-244\"/>\r\n",
       "<text text-anchor=\"middle\" x=\"260.5\" y=\"-228.8\" font-family=\"Helvetica,sans-Serif\" font-size=\"14.00\">volatile acidity &lt;= 0.465</text>\r\n",
       "<text text-anchor=\"middle\" x=\"260.5\" y=\"-213.8\" font-family=\"Helvetica,sans-Serif\" font-size=\"14.00\">entropy = 0.224</text>\r\n",
       "<text text-anchor=\"middle\" x=\"260.5\" y=\"-198.8\" font-family=\"Helvetica,sans-Serif\" font-size=\"14.00\">samples = 3762</text>\r\n",
       "<text text-anchor=\"middle\" x=\"260.5\" y=\"-183.8\" font-family=\"Helvetica,sans-Serif\" font-size=\"14.00\">value = [3626, 136]</text>\r\n",
       "</g>\r\n",
       "<!-- 0&#45;&gt;1 -->\r\n",
       "<g id=\"edge1\" class=\"edge\"><title>0&#45;&gt;1</title>\r\n",
       "<path fill=\"none\" stroke=\"black\" d=\"M317.228,-279.884C309.965,-271.065 302.031,-261.43 294.458,-252.235\"/>\r\n",
       "<polygon fill=\"black\" stroke=\"black\" points=\"296.982,-249.794 287.923,-244.299 291.578,-254.244 296.982,-249.794\"/>\r\n",
       "<text text-anchor=\"middle\" x=\"285.515\" y=\"-265.483\" font-family=\"Helvetica,sans-Serif\" font-size=\"14.00\">True</text>\r\n",
       "</g>\r\n",
       "<!-- 94 -->\r\n",
       "<g id=\"node9\" class=\"node\"><title>94</title>\r\n",
       "<path fill=\"#6cb6ec\" stroke=\"black\" d=\"M486.5,-244C486.5,-244 372.5,-244 372.5,-244 366.5,-244 360.5,-238 360.5,-232 360.5,-232 360.5,-188 360.5,-188 360.5,-182 366.5,-176 372.5,-176 372.5,-176 486.5,-176 486.5,-176 492.5,-176 498.5,-182 498.5,-188 498.5,-188 498.5,-232 498.5,-232 498.5,-238 492.5,-244 486.5,-244\"/>\r\n",
       "<text text-anchor=\"middle\" x=\"429.5\" y=\"-228.8\" font-family=\"Helvetica,sans-Serif\" font-size=\"14.00\">sulphates &lt;= 0.515</text>\r\n",
       "<text text-anchor=\"middle\" x=\"429.5\" y=\"-213.8\" font-family=\"Helvetica,sans-Serif\" font-size=\"14.00\">entropy = 0.729</text>\r\n",
       "<text text-anchor=\"middle\" x=\"429.5\" y=\"-198.8\" font-family=\"Helvetica,sans-Serif\" font-size=\"14.00\">samples = 1435</text>\r\n",
       "<text text-anchor=\"middle\" x=\"429.5\" y=\"-183.8\" font-family=\"Helvetica,sans-Serif\" font-size=\"14.00\">value = [292, 1143]</text>\r\n",
       "</g>\r\n",
       "<!-- 0&#45;&gt;94 -->\r\n",
       "<g id=\"edge8\" class=\"edge\"><title>0&#45;&gt;94</title>\r\n",
       "<path fill=\"none\" stroke=\"black\" d=\"M372.097,-279.884C379.446,-271.065 387.475,-261.43 395.137,-252.235\"/>\r\n",
       "<polygon fill=\"black\" stroke=\"black\" points=\"398.037,-254.222 401.751,-244.299 392.66,-249.741 398.037,-254.222\"/>\r\n",
       "<text text-anchor=\"middle\" x=\"404.014\" y=\"-265.497\" font-family=\"Helvetica,sans-Serif\" font-size=\"14.00\">False</text>\r\n",
       "</g>\r\n",
       "<!-- 2 -->\r\n",
       "<g id=\"node3\" class=\"node\"><title>2</title>\r\n",
       "<path fill=\"#e5833c\" stroke=\"black\" d=\"M171,-140C171,-140 12,-140 12,-140 6,-140 0,-134 0,-128 0,-128 0,-84 0,-84 0,-78 6,-72 12,-72 12,-72 171,-72 171,-72 177,-72 183,-78 183,-84 183,-84 183,-128 183,-128 183,-134 177,-140 171,-140\"/>\r\n",
       "<text text-anchor=\"middle\" x=\"91.5\" y=\"-124.8\" font-family=\"Helvetica,sans-Serif\" font-size=\"14.00\">total sulfur dioxide &lt;= 55.5</text>\r\n",
       "<text text-anchor=\"middle\" x=\"91.5\" y=\"-109.8\" font-family=\"Helvetica,sans-Serif\" font-size=\"14.00\">entropy = 0.116</text>\r\n",
       "<text text-anchor=\"middle\" x=\"91.5\" y=\"-94.8\" font-family=\"Helvetica,sans-Serif\" font-size=\"14.00\">samples = 3532</text>\r\n",
       "<text text-anchor=\"middle\" x=\"91.5\" y=\"-79.8\" font-family=\"Helvetica,sans-Serif\" font-size=\"14.00\">value = [3477, 55]</text>\r\n",
       "</g>\r\n",
       "<!-- 1&#45;&gt;2 -->\r\n",
       "<g id=\"edge2\" class=\"edge\"><title>1&#45;&gt;2</title>\r\n",
       "<path fill=\"none\" stroke=\"black\" d=\"M205.631,-175.884C189.462,-166.125 171.636,-155.366 154.975,-145.31\"/>\r\n",
       "<polygon fill=\"black\" stroke=\"black\" points=\"156.753,-142.296 146.383,-140.125 153.136,-148.289 156.753,-142.296\"/>\r\n",
       "</g>\r\n",
       "<!-- 63 -->\r\n",
       "<g id=\"node6\" class=\"node\"><title>63</title>\r\n",
       "<path fill=\"#f3c5a5\" stroke=\"black\" d=\"M311.5,-140C311.5,-140 213.5,-140 213.5,-140 207.5,-140 201.5,-134 201.5,-128 201.5,-128 201.5,-84 201.5,-84 201.5,-78 207.5,-72 213.5,-72 213.5,-72 311.5,-72 311.5,-72 317.5,-72 323.5,-78 323.5,-84 323.5,-84 323.5,-128 323.5,-128 323.5,-134 317.5,-140 311.5,-140\"/>\r\n",
       "<text text-anchor=\"middle\" x=\"262.5\" y=\"-124.8\" font-family=\"Helvetica,sans-Serif\" font-size=\"14.00\">pH &lt;= 3.345</text>\r\n",
       "<text text-anchor=\"middle\" x=\"262.5\" y=\"-109.8\" font-family=\"Helvetica,sans-Serif\" font-size=\"14.00\">entropy = 0.936</text>\r\n",
       "<text text-anchor=\"middle\" x=\"262.5\" y=\"-94.8\" font-family=\"Helvetica,sans-Serif\" font-size=\"14.00\">samples = 230</text>\r\n",
       "<text text-anchor=\"middle\" x=\"262.5\" y=\"-79.8\" font-family=\"Helvetica,sans-Serif\" font-size=\"14.00\">value = [149, 81]</text>\r\n",
       "</g>\r\n",
       "<!-- 1&#45;&gt;63 -->\r\n",
       "<g id=\"edge5\" class=\"edge\"><title>1&#45;&gt;63</title>\r\n",
       "<path fill=\"none\" stroke=\"black\" d=\"M261.149,-175.884C261.308,-167.778 261.481,-158.982 261.648,-150.472\"/>\r\n",
       "<polygon fill=\"black\" stroke=\"black\" points=\"265.15,-150.366 261.847,-140.299 258.152,-150.229 265.15,-150.366\"/>\r\n",
       "</g>\r\n",
       "<!-- 3 -->\r\n",
       "<g id=\"node4\" class=\"node\"><title>3</title>\r\n",
       "<path fill=\"#c0c0c0\" stroke=\"black\" d=\"M78.5,-36C78.5,-36 48.5,-36 48.5,-36 42.5,-36 36.5,-30 36.5,-24 36.5,-24 36.5,-12 36.5,-12 36.5,-6 42.5,-0 48.5,-0 48.5,-0 78.5,-0 78.5,-0 84.5,-0 90.5,-6 90.5,-12 90.5,-12 90.5,-24 90.5,-24 90.5,-30 84.5,-36 78.5,-36\"/>\r\n",
       "<text text-anchor=\"middle\" x=\"63.5\" y=\"-14.3\" font-family=\"Helvetica,sans-Serif\" font-size=\"14.00\">(...)</text>\r\n",
       "</g>\r\n",
       "<!-- 2&#45;&gt;3 -->\r\n",
       "<g id=\"edge3\" class=\"edge\"><title>2&#45;&gt;3</title>\r\n",
       "<path fill=\"none\" stroke=\"black\" d=\"M80.7545,-71.9961C77.9477,-63.3751 74.9561,-54.1866 72.2658,-45.9234\"/>\r\n",
       "<polygon fill=\"black\" stroke=\"black\" points=\"75.5902,-44.8285 69.1662,-36.4034 68.9341,-46.9957 75.5902,-44.8285\"/>\r\n",
       "</g>\r\n",
       "<!-- 14 -->\r\n",
       "<g id=\"node5\" class=\"node\"><title>14</title>\r\n",
       "<path fill=\"#c0c0c0\" stroke=\"black\" d=\"M150.5,-36C150.5,-36 120.5,-36 120.5,-36 114.5,-36 108.5,-30 108.5,-24 108.5,-24 108.5,-12 108.5,-12 108.5,-6 114.5,-0 120.5,-0 120.5,-0 150.5,-0 150.5,-0 156.5,-0 162.5,-6 162.5,-12 162.5,-12 162.5,-24 162.5,-24 162.5,-30 156.5,-36 150.5,-36\"/>\r\n",
       "<text text-anchor=\"middle\" x=\"135.5\" y=\"-14.3\" font-family=\"Helvetica,sans-Serif\" font-size=\"14.00\">(...)</text>\r\n",
       "</g>\r\n",
       "<!-- 2&#45;&gt;14 -->\r\n",
       "<g id=\"edge4\" class=\"edge\"><title>2&#45;&gt;14</title>\r\n",
       "<path fill=\"none\" stroke=\"black\" d=\"M108.386,-71.9961C112.893,-63.1856 117.704,-53.7825 122.003,-45.38\"/>\r\n",
       "<polygon fill=\"black\" stroke=\"black\" points=\"125.157,-46.9001 126.596,-36.4034 118.925,-43.7117 125.157,-46.9001\"/>\r\n",
       "</g>\r\n",
       "<!-- 64 -->\r\n",
       "<g id=\"node7\" class=\"node\"><title>64</title>\r\n",
       "<path fill=\"#c0c0c0\" stroke=\"black\" d=\"M233.5,-36C233.5,-36 203.5,-36 203.5,-36 197.5,-36 191.5,-30 191.5,-24 191.5,-24 191.5,-12 191.5,-12 191.5,-6 197.5,-0 203.5,-0 203.5,-0 233.5,-0 233.5,-0 239.5,-0 245.5,-6 245.5,-12 245.5,-12 245.5,-24 245.5,-24 245.5,-30 239.5,-36 233.5,-36\"/>\r\n",
       "<text text-anchor=\"middle\" x=\"218.5\" y=\"-14.3\" font-family=\"Helvetica,sans-Serif\" font-size=\"14.00\">(...)</text>\r\n",
       "</g>\r\n",
       "<!-- 63&#45;&gt;64 -->\r\n",
       "<g id=\"edge6\" class=\"edge\"><title>63&#45;&gt;64</title>\r\n",
       "<path fill=\"none\" stroke=\"black\" d=\"M245.614,-71.9961C241.107,-63.1856 236.296,-53.7825 231.997,-45.38\"/>\r\n",
       "<polygon fill=\"black\" stroke=\"black\" points=\"235.075,-43.7117 227.404,-36.4034 228.843,-46.9001 235.075,-43.7117\"/>\r\n",
       "</g>\r\n",
       "<!-- 81 -->\r\n",
       "<g id=\"node8\" class=\"node\"><title>81</title>\r\n",
       "<path fill=\"#c0c0c0\" stroke=\"black\" d=\"M305.5,-36C305.5,-36 275.5,-36 275.5,-36 269.5,-36 263.5,-30 263.5,-24 263.5,-24 263.5,-12 263.5,-12 263.5,-6 269.5,-0 275.5,-0 275.5,-0 305.5,-0 305.5,-0 311.5,-0 317.5,-6 317.5,-12 317.5,-12 317.5,-24 317.5,-24 317.5,-30 311.5,-36 305.5,-36\"/>\r\n",
       "<text text-anchor=\"middle\" x=\"290.5\" y=\"-14.3\" font-family=\"Helvetica,sans-Serif\" font-size=\"14.00\">(...)</text>\r\n",
       "</g>\r\n",
       "<!-- 63&#45;&gt;81 -->\r\n",
       "<g id=\"edge7\" class=\"edge\"><title>63&#45;&gt;81</title>\r\n",
       "<path fill=\"none\" stroke=\"black\" d=\"M273.245,-71.9961C276.052,-63.3751 279.044,-54.1866 281.734,-45.9234\"/>\r\n",
       "<polygon fill=\"black\" stroke=\"black\" points=\"285.066,-46.9957 284.834,-36.4034 278.41,-44.8285 285.066,-46.9957\"/>\r\n",
       "</g>\r\n",
       "<!-- 95 -->\r\n",
       "<g id=\"node10\" class=\"node\"><title>95</title>\r\n",
       "<path fill=\"#f6d5bd\" stroke=\"black\" d=\"M497.5,-140C497.5,-140 357.5,-140 357.5,-140 351.5,-140 345.5,-134 345.5,-128 345.5,-128 345.5,-84 345.5,-84 345.5,-78 351.5,-72 357.5,-72 357.5,-72 497.5,-72 497.5,-72 503.5,-72 509.5,-78 509.5,-84 509.5,-84 509.5,-128 509.5,-128 509.5,-134 503.5,-140 497.5,-140\"/>\r\n",
       "<text text-anchor=\"middle\" x=\"427.5\" y=\"-124.8\" font-family=\"Helvetica,sans-Serif\" font-size=\"14.00\">volatile acidity &lt;= 0.385</text>\r\n",
       "<text text-anchor=\"middle\" x=\"427.5\" y=\"-109.8\" font-family=\"Helvetica,sans-Serif\" font-size=\"14.00\">entropy = 0.971</text>\r\n",
       "<text text-anchor=\"middle\" x=\"427.5\" y=\"-94.8\" font-family=\"Helvetica,sans-Serif\" font-size=\"14.00\">samples = 327</text>\r\n",
       "<text text-anchor=\"middle\" x=\"427.5\" y=\"-79.8\" font-family=\"Helvetica,sans-Serif\" font-size=\"14.00\">value = [196, 131]</text>\r\n",
       "</g>\r\n",
       "<!-- 94&#45;&gt;95 -->\r\n",
       "<g id=\"edge9\" class=\"edge\"><title>94&#45;&gt;95</title>\r\n",
       "<path fill=\"none\" stroke=\"black\" d=\"M428.851,-175.884C428.692,-167.778 428.519,-158.982 428.352,-150.472\"/>\r\n",
       "<polygon fill=\"black\" stroke=\"black\" points=\"431.848,-150.229 428.153,-140.299 424.85,-150.366 431.848,-150.229\"/>\r\n",
       "</g>\r\n",
       "<!-- 142 -->\r\n",
       "<g id=\"node13\" class=\"node\"><title>142</title>\r\n",
       "<path fill=\"#4ca6e7\" stroke=\"black\" d=\"M697.5,-140C697.5,-140 539.5,-140 539.5,-140 533.5,-140 527.5,-134 527.5,-128 527.5,-128 527.5,-84 527.5,-84 527.5,-78 533.5,-72 539.5,-72 539.5,-72 697.5,-72 697.5,-72 703.5,-72 709.5,-78 709.5,-84 709.5,-84 709.5,-128 709.5,-128 709.5,-134 703.5,-140 697.5,-140\"/>\r\n",
       "<text text-anchor=\"middle\" x=\"618.5\" y=\"-124.8\" font-family=\"Helvetica,sans-Serif\" font-size=\"14.00\">free sulfur dioxide &lt;= 18.5</text>\r\n",
       "<text text-anchor=\"middle\" x=\"618.5\" y=\"-109.8\" font-family=\"Helvetica,sans-Serif\" font-size=\"14.00\">entropy = 0.425</text>\r\n",
       "<text text-anchor=\"middle\" x=\"618.5\" y=\"-94.8\" font-family=\"Helvetica,sans-Serif\" font-size=\"14.00\">samples = 1108</text>\r\n",
       "<text text-anchor=\"middle\" x=\"618.5\" y=\"-79.8\" font-family=\"Helvetica,sans-Serif\" font-size=\"14.00\">value = [96, 1012]</text>\r\n",
       "</g>\r\n",
       "<!-- 94&#45;&gt;142 -->\r\n",
       "<g id=\"edge12\" class=\"edge\"><title>94&#45;&gt;142</title>\r\n",
       "<path fill=\"none\" stroke=\"black\" d=\"M490.863,-175.884C509.194,-165.991 529.429,-155.07 548.282,-144.895\"/>\r\n",
       "<polygon fill=\"black\" stroke=\"black\" points=\"549.984,-147.954 557.122,-140.125 546.659,-141.794 549.984,-147.954\"/>\r\n",
       "</g>\r\n",
       "<!-- 96 -->\r\n",
       "<g id=\"node11\" class=\"node\"><title>96</title>\r\n",
       "<path fill=\"#c0c0c0\" stroke=\"black\" d=\"M399.5,-36C399.5,-36 369.5,-36 369.5,-36 363.5,-36 357.5,-30 357.5,-24 357.5,-24 357.5,-12 357.5,-12 357.5,-6 363.5,-0 369.5,-0 369.5,-0 399.5,-0 399.5,-0 405.5,-0 411.5,-6 411.5,-12 411.5,-12 411.5,-24 411.5,-24 411.5,-30 405.5,-36 399.5,-36\"/>\r\n",
       "<text text-anchor=\"middle\" x=\"384.5\" y=\"-14.3\" font-family=\"Helvetica,sans-Serif\" font-size=\"14.00\">(...)</text>\r\n",
       "</g>\r\n",
       "<!-- 95&#45;&gt;96 -->\r\n",
       "<g id=\"edge10\" class=\"edge\"><title>95&#45;&gt;96</title>\r\n",
       "<path fill=\"none\" stroke=\"black\" d=\"M410.998,-71.9961C406.593,-63.1856 401.891,-53.7825 397.69,-45.38\"/>\r\n",
       "<polygon fill=\"black\" stroke=\"black\" points=\"400.804,-43.7824 393.202,-36.4034 394.543,-46.9129 400.804,-43.7824\"/>\r\n",
       "</g>\r\n",
       "<!-- 107 -->\r\n",
       "<g id=\"node12\" class=\"node\"><title>107</title>\r\n",
       "<path fill=\"#c0c0c0\" stroke=\"black\" d=\"M471.5,-36C471.5,-36 441.5,-36 441.5,-36 435.5,-36 429.5,-30 429.5,-24 429.5,-24 429.5,-12 429.5,-12 429.5,-6 435.5,-0 441.5,-0 441.5,-0 471.5,-0 471.5,-0 477.5,-0 483.5,-6 483.5,-12 483.5,-12 483.5,-24 483.5,-24 483.5,-30 477.5,-36 471.5,-36\"/>\r\n",
       "<text text-anchor=\"middle\" x=\"456.5\" y=\"-14.3\" font-family=\"Helvetica,sans-Serif\" font-size=\"14.00\">(...)</text>\r\n",
       "</g>\r\n",
       "<!-- 95&#45;&gt;107 -->\r\n",
       "<g id=\"edge11\" class=\"edge\"><title>95&#45;&gt;107</title>\r\n",
       "<path fill=\"none\" stroke=\"black\" d=\"M438.629,-71.9961C441.536,-63.3751 444.635,-54.1866 447.421,-45.9234\"/>\r\n",
       "<polygon fill=\"black\" stroke=\"black\" points=\"450.753,-46.9975 450.631,-36.4034 444.12,-44.7608 450.753,-46.9975\"/>\r\n",
       "</g>\r\n",
       "<!-- 143 -->\r\n",
       "<g id=\"node14\" class=\"node\"><title>143</title>\r\n",
       "<path fill=\"#c0c0c0\" stroke=\"black\" d=\"M597.5,-36C597.5,-36 567.5,-36 567.5,-36 561.5,-36 555.5,-30 555.5,-24 555.5,-24 555.5,-12 555.5,-12 555.5,-6 561.5,-0 567.5,-0 567.5,-0 597.5,-0 597.5,-0 603.5,-0 609.5,-6 609.5,-12 609.5,-12 609.5,-24 609.5,-24 609.5,-30 603.5,-36 597.5,-36\"/>\r\n",
       "<text text-anchor=\"middle\" x=\"582.5\" y=\"-14.3\" font-family=\"Helvetica,sans-Serif\" font-size=\"14.00\">(...)</text>\r\n",
       "</g>\r\n",
       "<!-- 142&#45;&gt;143 -->\r\n",
       "<g id=\"edge13\" class=\"edge\"><title>142&#45;&gt;143</title>\r\n",
       "<path fill=\"none\" stroke=\"black\" d=\"M604.684,-71.9961C601.036,-63.2804 597.145,-53.9846 593.656,-45.6514\"/>\r\n",
       "<polygon fill=\"black\" stroke=\"black\" points=\"596.875,-44.2763 589.785,-36.4034 590.418,-46.9793 596.875,-44.2763\"/>\r\n",
       "</g>\r\n",
       "<!-- 160 -->\r\n",
       "<g id=\"node15\" class=\"node\"><title>160</title>\r\n",
       "<path fill=\"#c0c0c0\" stroke=\"black\" d=\"M669.5,-36C669.5,-36 639.5,-36 639.5,-36 633.5,-36 627.5,-30 627.5,-24 627.5,-24 627.5,-12 627.5,-12 627.5,-6 633.5,-0 639.5,-0 639.5,-0 669.5,-0 669.5,-0 675.5,-0 681.5,-6 681.5,-12 681.5,-12 681.5,-24 681.5,-24 681.5,-30 675.5,-36 669.5,-36\"/>\r\n",
       "<text text-anchor=\"middle\" x=\"654.5\" y=\"-14.3\" font-family=\"Helvetica,sans-Serif\" font-size=\"14.00\">(...)</text>\r\n",
       "</g>\r\n",
       "<!-- 142&#45;&gt;160 -->\r\n",
       "<g id=\"edge14\" class=\"edge\"><title>142&#45;&gt;160</title>\r\n",
       "<path fill=\"none\" stroke=\"black\" d=\"M632.316,-71.9961C635.964,-63.2804 639.855,-53.9846 643.344,-45.6514\"/>\r\n",
       "<polygon fill=\"black\" stroke=\"black\" points=\"646.582,-46.9793 647.215,-36.4034 640.125,-44.2763 646.582,-46.9793\"/>\r\n",
       "</g>\r\n",
       "</g>\r\n",
       "</svg>\r\n"
      ],
      "text/plain": [
       "<graphviz.files.Source at 0xd9b1a20>"
      ]
     },
     "execution_count": 230,
     "metadata": {},
     "output_type": "execute_result"
    }
   ],
   "source": [
    "dot_data = tree.export_graphviz(clf, out_file=None, max_depth=2, feature_names=list(X.columns.values), filled=True, rounded=True)\n",
    "graphviz.Source(dot_data)"
   ]
  },
  {
   "cell_type": "code",
   "execution_count": null,
   "metadata": {
    "scrolled": true
   },
   "outputs": [],
   "source": [
    "list(zip(X.columns, clf.feature_importances_))"
   ]
  },
  {
   "cell_type": "code",
   "execution_count": null,
   "metadata": {},
   "outputs": [],
   "source": [
    "clf.classes_"
   ]
  },
  {
   "cell_type": "code",
   "execution_count": null,
   "metadata": {},
   "outputs": [],
   "source": [
    "clf.max_features_"
   ]
  },
  {
   "cell_type": "code",
   "execution_count": null,
   "metadata": {},
   "outputs": [],
   "source": [
    "clf.n_classes_"
   ]
  },
  {
   "cell_type": "code",
   "execution_count": null,
   "metadata": {},
   "outputs": [],
   "source": [
    "clf.n_features_"
   ]
  },
  {
   "cell_type": "code",
   "execution_count": null,
   "metadata": {},
   "outputs": [],
   "source": [
    "clf.get_n_leaves()"
   ]
  },
  {
   "cell_type": "code",
   "execution_count": null,
   "metadata": {},
   "outputs": [],
   "source": [
    "\n",
    "\n"
   ]
  },
  {
   "cell_type": "code",
   "execution_count": null,
   "metadata": {},
   "outputs": [],
   "source": []
  },
  {
   "cell_type": "code",
   "execution_count": null,
   "metadata": {},
   "outputs": [],
   "source": []
  },
  {
   "cell_type": "code",
   "execution_count": null,
   "metadata": {},
   "outputs": [],
   "source": []
  },
  {
   "cell_type": "markdown",
   "metadata": {},
   "source": [
    "# 3. Quality 예측"
   ]
  },
  {
   "cell_type": "code",
   "execution_count": 314,
   "metadata": {},
   "outputs": [],
   "source": [
    "new_red = wine_red.copy()\n",
    "new_white = wine_white.copy()"
   ]
  },
  {
   "cell_type": "code",
   "execution_count": 315,
   "metadata": {},
   "outputs": [],
   "source": [
    "X = new_red.drop('quality', axis=1)\n",
    "y = new_red['quality']"
   ]
  },
  {
   "cell_type": "code",
   "execution_count": 316,
   "metadata": {},
   "outputs": [],
   "source": [
    "from sklearn.model_selection import train_test_split\n",
    "train_X, test_X, train_y, test_y = train_test_split(X, y, stratify=y, random_state=42, test_size=.2)"
   ]
  },
  {
   "cell_type": "code",
   "execution_count": 317,
   "metadata": {},
   "outputs": [
    {
     "data": {
      "text/plain": [
       "1542    6\n",
       "1558    5\n",
       "344     6\n",
       "924     5\n",
       "971     6\n",
       "Name: quality, dtype: int64"
      ]
     },
     "execution_count": 317,
     "metadata": {},
     "output_type": "execute_result"
    }
   ],
   "source": [
    "train_y.head()"
   ]
  },
  {
   "cell_type": "code",
   "execution_count": 332,
   "metadata": {},
   "outputs": [
    {
     "data": {
      "text/plain": [
       "DecisionTreeClassifier(class_weight=None, criterion='gini', max_depth=None,\n",
       "                       max_features=None, max_leaf_nodes=None,\n",
       "                       min_impurity_decrease=0.0, min_impurity_split=None,\n",
       "                       min_samples_leaf=1, min_samples_split=2,\n",
       "                       min_weight_fraction_leaf=0.0, presort=False,\n",
       "                       random_state=0, splitter='best')"
      ]
     },
     "execution_count": 332,
     "metadata": {},
     "output_type": "execute_result"
    }
   ],
   "source": [
    "from sklearn import tree\n",
    "\n",
    "\"\"\"\n",
    "DecisionTreeClassifier(criterion=’gini’, splitter=’best’, max_depth=None, min_samples_split=2, min_samples_leaf=1, \n",
    "                       min_weight_fraction_leaf=0.0, max_features=None, random_state=None, max_leaf_nodes=None, \n",
    "                       min_impurity_decrease=0.0, min_impurity_split=None, class_weight=None, presort=False)\n",
    "\n",
    "# scikit-learn uses an optimised version of the CART algorithm.\n",
    "                       \n",
    "# criterion: entropy or gini\n",
    "The function to measure the quality of a split. \n",
    "Supported criteria are “gini” for the Gini impurity and “entropy” for the information gain.\n",
    "\n",
    "# max_depth : int or None, optional (default=None)\n",
    "The maximum depth of the tree. \n",
    "If None, then nodes are expanded until all leaves are pure or until all leaves contain less than min_samples_split sample\n",
    "\n",
    "# random_state: 난수값\n",
    "\n",
    "# min_samples_split: 분할 되기 위해 노드가 가져야 하는 최소 샘플 수 \n",
    "# min_samples_leaf: 리프 노드가 가지고 있어야 할 최소 샘플 수\n",
    "# max_leaf_nodes: 리프 노드의 최대 수\n",
    "# max_features: 노드에서 분할에 사용할 특성의 최대 수 \n",
    "\n",
    "# max_features : int, float, string or None, optional (default=”auto”)\n",
    "The number of features to consider when looking for the best split:\n",
    "\n",
    "If int, then consider max_features features at each split.\n",
    "If float, then max_features is a fraction and int(max_features * n_features) features are considered at each split.\n",
    "If “auto”, then max_features=sqrt(n_features).\n",
    "If “sqrt”, then max_features=sqrt(n_features) (same as “auto”).\n",
    "If “log2”, then max_features=log2(n_features).\n",
    "If None, then max_features=n_features.\n",
    "\n",
    "\"\"\"\n",
    "clf = tree.DecisionTreeClassifier('gini')\n",
    "\n",
    "clf.fit(train_X, train_y)\n"
   ]
  },
  {
   "cell_type": "code",
   "execution_count": 333,
   "metadata": {},
   "outputs": [
    {
     "data": {
      "text/plain": [
       "5    545\n",
       "6    510\n",
       "7    159\n",
       "4     42\n",
       "8     15\n",
       "3      8\n",
       "Name: quality, dtype: int64"
      ]
     },
     "execution_count": 333,
     "metadata": {},
     "output_type": "execute_result"
    }
   ],
   "source": [
    "train_y.value_counts()"
   ]
  },
  {
   "cell_type": "code",
   "execution_count": 334,
   "metadata": {},
   "outputs": [
    {
     "data": {
      "image/svg+xml": [
       "<?xml version=\"1.0\" encoding=\"UTF-8\" standalone=\"no\"?>\r\n",
       "<!DOCTYPE svg PUBLIC \"-//W3C//DTD SVG 1.1//EN\"\r\n",
       " \"http://www.w3.org/Graphics/SVG/1.1/DTD/svg11.dtd\">\r\n",
       "<!-- Generated by graphviz version 2.38.0 (20140413.2041)\r\n",
       " -->\r\n",
       "<!-- Title: Tree Pages: 1 -->\r\n",
       "<svg width=\"862pt\" height=\"356pt\"\r\n",
       " viewBox=\"0.00 0.00 862.00 356.00\" xmlns=\"http://www.w3.org/2000/svg\" xmlns:xlink=\"http://www.w3.org/1999/xlink\">\r\n",
       "<g id=\"graph0\" class=\"graph\" transform=\"scale(1 1) rotate(0) translate(4 352)\">\r\n",
       "<title>Tree</title>\r\n",
       "<polygon fill=\"white\" stroke=\"none\" points=\"-4,4 -4,-352 858,-352 858,4 -4,4\"/>\r\n",
       "<!-- 0 -->\r\n",
       "<g id=\"node1\" class=\"node\"><title>0</title>\r\n",
       "<path fill=\"#f6fef9\" stroke=\"black\" d=\"M523.5,-348C523.5,-348 321.5,-348 321.5,-348 315.5,-348 309.5,-342 309.5,-336 309.5,-336 309.5,-292 309.5,-292 309.5,-286 315.5,-280 321.5,-280 321.5,-280 523.5,-280 523.5,-280 529.5,-280 535.5,-286 535.5,-292 535.5,-292 535.5,-336 535.5,-336 535.5,-342 529.5,-348 523.5,-348\"/>\r\n",
       "<text text-anchor=\"middle\" x=\"422.5\" y=\"-332.8\" font-family=\"Helvetica,sans-Serif\" font-size=\"14.00\">alcohol &lt;= 10.15</text>\r\n",
       "<text text-anchor=\"middle\" x=\"422.5\" y=\"-317.8\" font-family=\"Helvetica,sans-Serif\" font-size=\"14.00\">gini = 0.643</text>\r\n",
       "<text text-anchor=\"middle\" x=\"422.5\" y=\"-302.8\" font-family=\"Helvetica,sans-Serif\" font-size=\"14.00\">samples = 1279</text>\r\n",
       "<text text-anchor=\"middle\" x=\"422.5\" y=\"-287.8\" font-family=\"Helvetica,sans-Serif\" font-size=\"14.00\">value = [8, 42, 545, 510, 159, 15]</text>\r\n",
       "</g>\r\n",
       "<!-- 1 -->\r\n",
       "<g id=\"node2\" class=\"node\"><title>1</title>\r\n",
       "<path fill=\"#9ff2c2\" stroke=\"black\" d=\"M397,-244C397,-244 212,-244 212,-244 206,-244 200,-238 200,-232 200,-232 200,-188 200,-188 200,-182 206,-176 212,-176 212,-176 397,-176 397,-176 403,-176 409,-182 409,-188 409,-188 409,-232 409,-232 409,-238 403,-244 397,-244\"/>\r\n",
       "<text text-anchor=\"middle\" x=\"304.5\" y=\"-228.8\" font-family=\"Helvetica,sans-Serif\" font-size=\"14.00\">sulphates &lt;= 0.575</text>\r\n",
       "<text text-anchor=\"middle\" x=\"304.5\" y=\"-213.8\" font-family=\"Helvetica,sans-Serif\" font-size=\"14.00\">gini = 0.507</text>\r\n",
       "<text text-anchor=\"middle\" x=\"304.5\" y=\"-198.8\" font-family=\"Helvetica,sans-Serif\" font-size=\"14.00\">samples = 634</text>\r\n",
       "<text text-anchor=\"middle\" x=\"304.5\" y=\"-183.8\" font-family=\"Helvetica,sans-Serif\" font-size=\"14.00\">value = [4, 22, 403, 187, 17, 1]</text>\r\n",
       "</g>\r\n",
       "<!-- 0&#45;&gt;1 -->\r\n",
       "<g id=\"edge1\" class=\"edge\"><title>0&#45;&gt;1</title>\r\n",
       "<path fill=\"none\" stroke=\"black\" d=\"M384.189,-279.884C373.472,-270.62 361.712,-260.455 350.596,-250.845\"/>\r\n",
       "<polygon fill=\"black\" stroke=\"black\" points=\"352.877,-248.191 343.023,-244.299 348.299,-253.487 352.877,-248.191\"/>\r\n",
       "<text text-anchor=\"middle\" x=\"344.836\" y=\"-265.534\" font-family=\"Helvetica,sans-Serif\" font-size=\"14.00\">True</text>\r\n",
       "</g>\r\n",
       "<!-- 290 -->\r\n",
       "<g id=\"node9\" class=\"node\"><title>290</title>\r\n",
       "<path fill=\"#b8dcf6\" stroke=\"black\" d=\"M641.5,-244C641.5,-244 439.5,-244 439.5,-244 433.5,-244 427.5,-238 427.5,-232 427.5,-232 427.5,-188 427.5,-188 427.5,-182 433.5,-176 439.5,-176 439.5,-176 641.5,-176 641.5,-176 647.5,-176 653.5,-182 653.5,-188 653.5,-188 653.5,-232 653.5,-232 653.5,-238 647.5,-244 641.5,-244\"/>\r\n",
       "<text text-anchor=\"middle\" x=\"540.5\" y=\"-228.8\" font-family=\"Helvetica,sans-Serif\" font-size=\"14.00\">volatile acidity &lt;= 0.363</text>\r\n",
       "<text text-anchor=\"middle\" x=\"540.5\" y=\"-213.8\" font-family=\"Helvetica,sans-Serif\" font-size=\"14.00\">gini = 0.651</text>\r\n",
       "<text text-anchor=\"middle\" x=\"540.5\" y=\"-198.8\" font-family=\"Helvetica,sans-Serif\" font-size=\"14.00\">samples = 645</text>\r\n",
       "<text text-anchor=\"middle\" x=\"540.5\" y=\"-183.8\" font-family=\"Helvetica,sans-Serif\" font-size=\"14.00\">value = [4, 20, 142, 323, 142, 14]</text>\r\n",
       "</g>\r\n",
       "<!-- 0&#45;&gt;290 -->\r\n",
       "<g id=\"edge8\" class=\"edge\"><title>0&#45;&gt;290</title>\r\n",
       "<path fill=\"none\" stroke=\"black\" d=\"M460.811,-279.884C471.528,-270.62 483.288,-260.455 494.404,-250.845\"/>\r\n",
       "<polygon fill=\"black\" stroke=\"black\" points=\"496.701,-253.487 501.977,-244.299 492.123,-248.191 496.701,-253.487\"/>\r\n",
       "<text text-anchor=\"middle\" x=\"500.164\" y=\"-265.534\" font-family=\"Helvetica,sans-Serif\" font-size=\"14.00\">False</text>\r\n",
       "</g>\r\n",
       "<!-- 2 -->\r\n",
       "<g id=\"node3\" class=\"node\"><title>2</title>\r\n",
       "<path fill=\"#72eda5\" stroke=\"black\" d=\"M181,-140C181,-140 12,-140 12,-140 6,-140 0,-134 0,-128 0,-128 0,-84 0,-84 0,-78 6,-72 12,-72 12,-72 181,-72 181,-72 187,-72 193,-78 193,-84 193,-84 193,-128 193,-128 193,-134 187,-140 181,-140\"/>\r\n",
       "<text text-anchor=\"middle\" x=\"96.5\" y=\"-124.8\" font-family=\"Helvetica,sans-Serif\" font-size=\"14.00\">alcohol &lt;= 9.75</text>\r\n",
       "<text text-anchor=\"middle\" x=\"96.5\" y=\"-109.8\" font-family=\"Helvetica,sans-Serif\" font-size=\"14.00\">gini = 0.386</text>\r\n",
       "<text text-anchor=\"middle\" x=\"96.5\" y=\"-94.8\" font-family=\"Helvetica,sans-Serif\" font-size=\"14.00\">samples = 273</text>\r\n",
       "<text text-anchor=\"middle\" x=\"96.5\" y=\"-79.8\" font-family=\"Helvetica,sans-Serif\" font-size=\"14.00\">value = [2, 13, 208, 48, 2, 0]</text>\r\n",
       "</g>\r\n",
       "<!-- 1&#45;&gt;2 -->\r\n",
       "<g id=\"edge2\" class=\"edge\"><title>1&#45;&gt;2</title>\r\n",
       "<path fill=\"none\" stroke=\"black\" d=\"M236.968,-175.884C216.612,-165.901 194.122,-154.872 173.214,-144.619\"/>\r\n",
       "<polygon fill=\"black\" stroke=\"black\" points=\"174.568,-141.385 164.048,-140.125 171.486,-147.67 174.568,-141.385\"/>\r\n",
       "</g>\r\n",
       "<!-- 117 -->\r\n",
       "<g id=\"node6\" class=\"node\"><title>117</title>\r\n",
       "<path fill=\"#cdf8df\" stroke=\"black\" d=\"M400,-140C400,-140 223,-140 223,-140 217,-140 211,-134 211,-128 211,-128 211,-84 211,-84 211,-78 217,-72 223,-72 223,-72 400,-72 400,-72 406,-72 412,-78 412,-84 412,-84 412,-128 412,-128 412,-134 406,-140 400,-140\"/>\r\n",
       "<text text-anchor=\"middle\" x=\"311.5\" y=\"-124.8\" font-family=\"Helvetica,sans-Serif\" font-size=\"14.00\">total sulfur dioxide &lt;= 95.5</text>\r\n",
       "<text text-anchor=\"middle\" x=\"311.5\" y=\"-109.8\" font-family=\"Helvetica,sans-Serif\" font-size=\"14.00\">gini = 0.558</text>\r\n",
       "<text text-anchor=\"middle\" x=\"311.5\" y=\"-94.8\" font-family=\"Helvetica,sans-Serif\" font-size=\"14.00\">samples = 361</text>\r\n",
       "<text text-anchor=\"middle\" x=\"311.5\" y=\"-79.8\" font-family=\"Helvetica,sans-Serif\" font-size=\"14.00\">value = [2, 9, 195, 139, 15, 1]</text>\r\n",
       "</g>\r\n",
       "<!-- 1&#45;&gt;117 -->\r\n",
       "<g id=\"edge5\" class=\"edge\"><title>1&#45;&gt;117</title>\r\n",
       "<path fill=\"none\" stroke=\"black\" d=\"M306.773,-175.884C307.329,-167.778 307.933,-158.982 308.517,-150.472\"/>\r\n",
       "<polygon fill=\"black\" stroke=\"black\" points=\"312.022,-150.516 309.215,-140.299 305.038,-150.036 312.022,-150.516\"/>\r\n",
       "</g>\r\n",
       "<!-- 3 -->\r\n",
       "<g id=\"node4\" class=\"node\"><title>3</title>\r\n",
       "<path fill=\"#c0c0c0\" stroke=\"black\" d=\"M94.5,-36C94.5,-36 64.5,-36 64.5,-36 58.5,-36 52.5,-30 52.5,-24 52.5,-24 52.5,-12 52.5,-12 52.5,-6 58.5,-0 64.5,-0 64.5,-0 94.5,-0 94.5,-0 100.5,-0 106.5,-6 106.5,-12 106.5,-12 106.5,-24 106.5,-24 106.5,-30 100.5,-36 94.5,-36\"/>\r\n",
       "<text text-anchor=\"middle\" x=\"79.5\" y=\"-14.3\" font-family=\"Helvetica,sans-Serif\" font-size=\"14.00\">(...)</text>\r\n",
       "</g>\r\n",
       "<!-- 2&#45;&gt;3 -->\r\n",
       "<g id=\"edge3\" class=\"edge\"><title>2&#45;&gt;3</title>\r\n",
       "<path fill=\"none\" stroke=\"black\" d=\"M89.976,-71.9961C88.3093,-63.5646 86.5353,-54.5902 84.93,-46.4696\"/>\r\n",
       "<polygon fill=\"black\" stroke=\"black\" points=\"88.3131,-45.5348 82.9402,-36.4034 81.4459,-46.8923 88.3131,-45.5348\"/>\r\n",
       "</g>\r\n",
       "<!-- 76 -->\r\n",
       "<g id=\"node5\" class=\"node\"><title>76</title>\r\n",
       "<path fill=\"#c0c0c0\" stroke=\"black\" d=\"M166.5,-36C166.5,-36 136.5,-36 136.5,-36 130.5,-36 124.5,-30 124.5,-24 124.5,-24 124.5,-12 124.5,-12 124.5,-6 130.5,-0 136.5,-0 136.5,-0 166.5,-0 166.5,-0 172.5,-0 178.5,-6 178.5,-12 178.5,-12 178.5,-24 178.5,-24 178.5,-30 172.5,-36 166.5,-36\"/>\r\n",
       "<text text-anchor=\"middle\" x=\"151.5\" y=\"-14.3\" font-family=\"Helvetica,sans-Serif\" font-size=\"14.00\">(...)</text>\r\n",
       "</g>\r\n",
       "<!-- 2&#45;&gt;76 -->\r\n",
       "<g id=\"edge4\" class=\"edge\"><title>2&#45;&gt;76</title>\r\n",
       "<path fill=\"none\" stroke=\"black\" d=\"M117.607,-71.9961C123.363,-62.9962 129.514,-53.3778 134.975,-44.8393\"/>\r\n",
       "<polygon fill=\"black\" stroke=\"black\" points=\"137.931,-46.7136 140.37,-36.4034 132.034,-42.9422 137.931,-46.7136\"/>\r\n",
       "</g>\r\n",
       "<!-- 118 -->\r\n",
       "<g id=\"node7\" class=\"node\"><title>118</title>\r\n",
       "<path fill=\"#c0c0c0\" stroke=\"black\" d=\"M271.5,-36C271.5,-36 241.5,-36 241.5,-36 235.5,-36 229.5,-30 229.5,-24 229.5,-24 229.5,-12 229.5,-12 229.5,-6 235.5,-0 241.5,-0 241.5,-0 271.5,-0 271.5,-0 277.5,-0 283.5,-6 283.5,-12 283.5,-12 283.5,-24 283.5,-24 283.5,-30 277.5,-36 271.5,-36\"/>\r\n",
       "<text text-anchor=\"middle\" x=\"256.5\" y=\"-14.3\" font-family=\"Helvetica,sans-Serif\" font-size=\"14.00\">(...)</text>\r\n",
       "</g>\r\n",
       "<!-- 117&#45;&gt;118 -->\r\n",
       "<g id=\"edge6\" class=\"edge\"><title>117&#45;&gt;118</title>\r\n",
       "<path fill=\"none\" stroke=\"black\" d=\"M290.393,-71.9961C284.637,-62.9962 278.486,-53.3778 273.025,-44.8393\"/>\r\n",
       "<polygon fill=\"black\" stroke=\"black\" points=\"275.966,-42.9422 267.63,-36.4034 270.069,-46.7136 275.966,-42.9422\"/>\r\n",
       "</g>\r\n",
       "<!-- 283 -->\r\n",
       "<g id=\"node8\" class=\"node\"><title>283</title>\r\n",
       "<path fill=\"#c0c0c0\" stroke=\"black\" d=\"M343.5,-36C343.5,-36 313.5,-36 313.5,-36 307.5,-36 301.5,-30 301.5,-24 301.5,-24 301.5,-12 301.5,-12 301.5,-6 307.5,-0 313.5,-0 313.5,-0 343.5,-0 343.5,-0 349.5,-0 355.5,-6 355.5,-12 355.5,-12 355.5,-24 355.5,-24 355.5,-30 349.5,-36 343.5,-36\"/>\r\n",
       "<text text-anchor=\"middle\" x=\"328.5\" y=\"-14.3\" font-family=\"Helvetica,sans-Serif\" font-size=\"14.00\">(...)</text>\r\n",
       "</g>\r\n",
       "<!-- 117&#45;&gt;283 -->\r\n",
       "<g id=\"edge7\" class=\"edge\"><title>117&#45;&gt;283</title>\r\n",
       "<path fill=\"none\" stroke=\"black\" d=\"M318.024,-71.9961C319.691,-63.5646 321.465,-54.5902 323.07,-46.4696\"/>\r\n",
       "<polygon fill=\"black\" stroke=\"black\" points=\"326.554,-46.8923 325.06,-36.4034 319.687,-45.5348 326.554,-46.8923\"/>\r\n",
       "</g>\r\n",
       "<!-- 291 -->\r\n",
       "<g id=\"node10\" class=\"node\"><title>291</title>\r\n",
       "<path fill=\"#fbf9fe\" stroke=\"black\" d=\"M615,-140C615,-140 454,-140 454,-140 448,-140 442,-134 442,-128 442,-128 442,-84 442,-84 442,-78 448,-72 454,-72 454,-72 615,-72 615,-72 621,-72 627,-78 627,-84 627,-84 627,-128 627,-128 627,-134 621,-140 615,-140\"/>\r\n",
       "<text text-anchor=\"middle\" x=\"534.5\" y=\"-124.8\" font-family=\"Helvetica,sans-Serif\" font-size=\"14.00\">fixed acidity &lt;= 6.6</text>\r\n",
       "<text text-anchor=\"middle\" x=\"534.5\" y=\"-109.8\" font-family=\"Helvetica,sans-Serif\" font-size=\"14.00\">gini = 0.622</text>\r\n",
       "<text text-anchor=\"middle\" x=\"534.5\" y=\"-94.8\" font-family=\"Helvetica,sans-Serif\" font-size=\"14.00\">samples = 172</text>\r\n",
       "<text text-anchor=\"middle\" x=\"534.5\" y=\"-79.8\" font-family=\"Helvetica,sans-Serif\" font-size=\"14.00\">value = [0, 1, 19, 72, 75, 5]</text>\r\n",
       "</g>\r\n",
       "<!-- 290&#45;&gt;291 -->\r\n",
       "<g id=\"edge9\" class=\"edge\"><title>290&#45;&gt;291</title>\r\n",
       "<path fill=\"none\" stroke=\"black\" d=\"M538.552,-175.884C538.075,-167.778 537.558,-158.982 537.057,-150.472\"/>\r\n",
       "<polygon fill=\"black\" stroke=\"black\" points=\"540.54,-150.077 536.459,-140.299 533.552,-150.488 540.54,-150.077\"/>\r\n",
       "</g>\r\n",
       "<!-- 392 -->\r\n",
       "<g id=\"node13\" class=\"node\"><title>392</title>\r\n",
       "<path fill=\"#b7dbf5\" stroke=\"black\" d=\"M842,-140C842,-140 657,-140 657,-140 651,-140 645,-134 645,-128 645,-128 645,-84 645,-84 645,-78 651,-72 657,-72 657,-72 842,-72 842,-72 848,-72 854,-78 854,-84 854,-84 854,-128 854,-128 854,-134 848,-140 842,-140\"/>\r\n",
       "<text text-anchor=\"middle\" x=\"749.5\" y=\"-124.8\" font-family=\"Helvetica,sans-Serif\" font-size=\"14.00\">alcohol &lt;= 11.45</text>\r\n",
       "<text text-anchor=\"middle\" x=\"749.5\" y=\"-109.8\" font-family=\"Helvetica,sans-Serif\" font-size=\"14.00\">gini = 0.629</text>\r\n",
       "<text text-anchor=\"middle\" x=\"749.5\" y=\"-94.8\" font-family=\"Helvetica,sans-Serif\" font-size=\"14.00\">samples = 473</text>\r\n",
       "<text text-anchor=\"middle\" x=\"749.5\" y=\"-79.8\" font-family=\"Helvetica,sans-Serif\" font-size=\"14.00\">value = [4, 19, 123, 251, 67, 9]</text>\r\n",
       "</g>\r\n",
       "<!-- 290&#45;&gt;392 -->\r\n",
       "<g id=\"edge12\" class=\"edge\"><title>290&#45;&gt;392</title>\r\n",
       "<path fill=\"none\" stroke=\"black\" d=\"M608.356,-175.884C628.81,-165.901 651.409,-154.872 672.417,-144.619\"/>\r\n",
       "<polygon fill=\"black\" stroke=\"black\" points=\"674.175,-147.656 681.627,-140.125 671.105,-141.365 674.175,-147.656\"/>\r\n",
       "</g>\r\n",
       "<!-- 292 -->\r\n",
       "<g id=\"node11\" class=\"node\"><title>292</title>\r\n",
       "<path fill=\"#c0c0c0\" stroke=\"black\" d=\"M513.5,-36C513.5,-36 483.5,-36 483.5,-36 477.5,-36 471.5,-30 471.5,-24 471.5,-24 471.5,-12 471.5,-12 471.5,-6 477.5,-0 483.5,-0 483.5,-0 513.5,-0 513.5,-0 519.5,-0 525.5,-6 525.5,-12 525.5,-12 525.5,-24 525.5,-24 525.5,-30 519.5,-36 513.5,-36\"/>\r\n",
       "<text text-anchor=\"middle\" x=\"498.5\" y=\"-14.3\" font-family=\"Helvetica,sans-Serif\" font-size=\"14.00\">(...)</text>\r\n",
       "</g>\r\n",
       "<!-- 291&#45;&gt;292 -->\r\n",
       "<g id=\"edge10\" class=\"edge\"><title>291&#45;&gt;292</title>\r\n",
       "<path fill=\"none\" stroke=\"black\" d=\"M520.684,-71.9961C517.036,-63.2804 513.145,-53.9846 509.656,-45.6514\"/>\r\n",
       "<polygon fill=\"black\" stroke=\"black\" points=\"512.875,-44.2763 505.785,-36.4034 506.418,-46.9793 512.875,-44.2763\"/>\r\n",
       "</g>\r\n",
       "<!-- 297 -->\r\n",
       "<g id=\"node12\" class=\"node\"><title>297</title>\r\n",
       "<path fill=\"#c0c0c0\" stroke=\"black\" d=\"M585.5,-36C585.5,-36 555.5,-36 555.5,-36 549.5,-36 543.5,-30 543.5,-24 543.5,-24 543.5,-12 543.5,-12 543.5,-6 549.5,-0 555.5,-0 555.5,-0 585.5,-0 585.5,-0 591.5,-0 597.5,-6 597.5,-12 597.5,-12 597.5,-24 597.5,-24 597.5,-30 591.5,-36 585.5,-36\"/>\r\n",
       "<text text-anchor=\"middle\" x=\"570.5\" y=\"-14.3\" font-family=\"Helvetica,sans-Serif\" font-size=\"14.00\">(...)</text>\r\n",
       "</g>\r\n",
       "<!-- 291&#45;&gt;297 -->\r\n",
       "<g id=\"edge11\" class=\"edge\"><title>291&#45;&gt;297</title>\r\n",
       "<path fill=\"none\" stroke=\"black\" d=\"M548.316,-71.9961C551.964,-63.2804 555.855,-53.9846 559.344,-45.6514\"/>\r\n",
       "<polygon fill=\"black\" stroke=\"black\" points=\"562.582,-46.9793 563.215,-36.4034 556.125,-44.2763 562.582,-46.9793\"/>\r\n",
       "</g>\r\n",
       "<!-- 393 -->\r\n",
       "<g id=\"node14\" class=\"node\"><title>393</title>\r\n",
       "<path fill=\"#c0c0c0\" stroke=\"black\" d=\"M728.5,-36C728.5,-36 698.5,-36 698.5,-36 692.5,-36 686.5,-30 686.5,-24 686.5,-24 686.5,-12 686.5,-12 686.5,-6 692.5,-0 698.5,-0 698.5,-0 728.5,-0 728.5,-0 734.5,-0 740.5,-6 740.5,-12 740.5,-12 740.5,-24 740.5,-24 740.5,-30 734.5,-36 728.5,-36\"/>\r\n",
       "<text text-anchor=\"middle\" x=\"713.5\" y=\"-14.3\" font-family=\"Helvetica,sans-Serif\" font-size=\"14.00\">(...)</text>\r\n",
       "</g>\r\n",
       "<!-- 392&#45;&gt;393 -->\r\n",
       "<g id=\"edge13\" class=\"edge\"><title>392&#45;&gt;393</title>\r\n",
       "<path fill=\"none\" stroke=\"black\" d=\"M735.684,-71.9961C732.036,-63.2804 728.145,-53.9846 724.656,-45.6514\"/>\r\n",
       "<polygon fill=\"black\" stroke=\"black\" points=\"727.875,-44.2763 720.785,-36.4034 721.418,-46.9793 727.875,-44.2763\"/>\r\n",
       "</g>\r\n",
       "<!-- 588 -->\r\n",
       "<g id=\"node15\" class=\"node\"><title>588</title>\r\n",
       "<path fill=\"#c0c0c0\" stroke=\"black\" d=\"M800.5,-36C800.5,-36 770.5,-36 770.5,-36 764.5,-36 758.5,-30 758.5,-24 758.5,-24 758.5,-12 758.5,-12 758.5,-6 764.5,-0 770.5,-0 770.5,-0 800.5,-0 800.5,-0 806.5,-0 812.5,-6 812.5,-12 812.5,-12 812.5,-24 812.5,-24 812.5,-30 806.5,-36 800.5,-36\"/>\r\n",
       "<text text-anchor=\"middle\" x=\"785.5\" y=\"-14.3\" font-family=\"Helvetica,sans-Serif\" font-size=\"14.00\">(...)</text>\r\n",
       "</g>\r\n",
       "<!-- 392&#45;&gt;588 -->\r\n",
       "<g id=\"edge14\" class=\"edge\"><title>392&#45;&gt;588</title>\r\n",
       "<path fill=\"none\" stroke=\"black\" d=\"M763.316,-71.9961C766.964,-63.2804 770.855,-53.9846 774.344,-45.6514\"/>\r\n",
       "<polygon fill=\"black\" stroke=\"black\" points=\"777.582,-46.9793 778.215,-36.4034 771.125,-44.2763 777.582,-46.9793\"/>\r\n",
       "</g>\r\n",
       "</g>\r\n",
       "</svg>\r\n"
      ],
      "text/plain": [
       "<graphviz.files.Source at 0xc759e48>"
      ]
     },
     "execution_count": 334,
     "metadata": {},
     "output_type": "execute_result"
    }
   ],
   "source": [
    "dot_data = tree.export_graphviz(clf, out_file=None, max_depth=2, feature_names=list(X.columns.values), filled=True, rounded=True)\n",
    "graphviz.Source(dot_data)"
   ]
  },
  {
   "cell_type": "code",
   "execution_count": 335,
   "metadata": {},
   "outputs": [
    {
     "data": {
      "text/plain": [
       "1.0"
      ]
     },
     "execution_count": 335,
     "metadata": {},
     "output_type": "execute_result"
    }
   ],
   "source": [
    "clf.score(train_X, train_y)"
   ]
  },
  {
   "cell_type": "code",
   "execution_count": 337,
   "metadata": {},
   "outputs": [
    {
     "data": {
      "text/plain": [
       "0.60625"
      ]
     },
     "execution_count": 337,
     "metadata": {},
     "output_type": "execute_result"
    }
   ],
   "source": [
    "clf.score(test_X, test_y)"
   ]
  },
  {
   "cell_type": "code",
   "execution_count": 339,
   "metadata": {},
   "outputs": [
    {
     "data": {
      "text/plain": [
       "21"
      ]
     },
     "execution_count": 339,
     "metadata": {},
     "output_type": "execute_result"
    }
   ],
   "source": [
    "clf.tree_.max_depth"
   ]
  },
  {
   "cell_type": "code",
   "execution_count": 340,
   "metadata": {
    "scrolled": true
   },
   "outputs": [
    {
     "data": {
      "text/plain": [
       "[('fixed acidity', 0.06283612709492922),\n",
       " ('volatile acidity', 0.11215944666970311),\n",
       " ('citric acid', 0.06511604588520502),\n",
       " ('residual sugar', 0.06341135673802553),\n",
       " ('chlorides', 0.061216741421694365),\n",
       " ('free sulfur dioxide', 0.047325170329928966),\n",
       " ('total sulfur dioxide', 0.12024848934262317),\n",
       " ('density', 0.07280492453166233),\n",
       " ('pH', 0.08041320720696658),\n",
       " ('sulphates', 0.14202612941437417),\n",
       " ('alcohol', 0.17244236136488758)]"
      ]
     },
     "execution_count": 340,
     "metadata": {},
     "output_type": "execute_result"
    }
   ],
   "source": [
    "list(zip(X.columns, clf.feature_importances_))"
   ]
  },
  {
   "cell_type": "code",
   "execution_count": 341,
   "metadata": {},
   "outputs": [
    {
     "data": {
      "text/plain": [
       "array([3, 4, 5, 6, 7, 8], dtype=int64)"
      ]
     },
     "execution_count": 341,
     "metadata": {},
     "output_type": "execute_result"
    }
   ],
   "source": [
    "clf.classes_"
   ]
  },
  {
   "cell_type": "code",
   "execution_count": 342,
   "metadata": {},
   "outputs": [
    {
     "data": {
      "text/plain": [
       "11"
      ]
     },
     "execution_count": 342,
     "metadata": {},
     "output_type": "execute_result"
    }
   ],
   "source": [
    "clf.max_features_"
   ]
  },
  {
   "cell_type": "code",
   "execution_count": 343,
   "metadata": {},
   "outputs": [
    {
     "data": {
      "text/plain": [
       "6"
      ]
     },
     "execution_count": 343,
     "metadata": {},
     "output_type": "execute_result"
    }
   ],
   "source": [
    "clf.n_classes_"
   ]
  },
  {
   "cell_type": "code",
   "execution_count": 344,
   "metadata": {},
   "outputs": [
    {
     "data": {
      "text/plain": [
       "11"
      ]
     },
     "execution_count": 344,
     "metadata": {},
     "output_type": "execute_result"
    }
   ],
   "source": [
    "clf.n_features_"
   ]
  },
  {
   "cell_type": "code",
   "execution_count": 345,
   "metadata": {},
   "outputs": [
    {
     "data": {
      "text/plain": [
       "339"
      ]
     },
     "execution_count": 345,
     "metadata": {},
     "output_type": "execute_result"
    }
   ],
   "source": [
    "clf.tree_.n_leaves\n"
   ]
  },
  {
   "cell_type": "code",
   "execution_count": null,
   "metadata": {},
   "outputs": [],
   "source": []
  },
  {
   "cell_type": "code",
   "execution_count": 269,
   "metadata": {},
   "outputs": [
    {
     "data": {
      "text/plain": [
       "19"
      ]
     },
     "execution_count": 269,
     "metadata": {},
     "output_type": "execute_result"
    }
   ],
   "source": [
    "clf.get_depth()"
   ]
  },
  {
   "cell_type": "code",
   "execution_count": null,
   "metadata": {},
   "outputs": [],
   "source": []
  },
  {
   "cell_type": "markdown",
   "metadata": {},
   "source": [
    "# 실습1. white wine에 대해서 Quality 예측"
   ]
  },
  {
   "cell_type": "code",
   "execution_count": 374,
   "metadata": {},
   "outputs": [],
   "source": [
    "X = new_white.drop('quality', axis=1)\n",
    "y = new_white['quality']"
   ]
  },
  {
   "cell_type": "code",
   "execution_count": 384,
   "metadata": {},
   "outputs": [],
   "source": [
    "from sklearn.model_selection import train_test_split\n",
    "train_X, test_X, train_y, test_y = train_test_split(X, y, stratify=y, random_state=42, test_size=.2)"
   ]
  },
  {
   "cell_type": "code",
   "execution_count": 410,
   "metadata": {},
   "outputs": [
    {
     "data": {
      "text/plain": [
       "DecisionTreeClassifier(class_weight=None, criterion='entropy', max_depth=None,\n",
       "                       max_features=None, max_leaf_nodes=None,\n",
       "                       min_impurity_decrease=0.0, min_impurity_split=None,\n",
       "                       min_samples_leaf=1, min_samples_split=2,\n",
       "                       min_weight_fraction_leaf=0.0, presort=False,\n",
       "                       random_state=0, splitter='best')"
      ]
     },
     "execution_count": 410,
     "metadata": {},
     "output_type": "execute_result"
    }
   ],
   "source": [
    "from sklearn import tree\n",
    "\n",
    "\"\"\"\n",
    "DecisionTreeClassifier(criterion=’gini’, splitter=’best’, max_depth=None, min_samples_split=2, min_samples_leaf=1, \n",
    "                       min_weight_fraction_leaf=0.0, max_features=None, random_state=None, max_leaf_nodes=None, \n",
    "                       min_impurity_decrease=0.0, min_impurity_split=None, class_weight=None, presort=False)\n",
    "\n",
    "# scikit-learn uses an optimised version of the CART algorithm.\n",
    "                       \n",
    "# criterion: entropy or gini\n",
    "The function to measure the quality of a split. \n",
    "Supported criteria are “gini” for the Gini impurity and “entropy” for the information gain.\n",
    "\n",
    "# max_depth : int or None, optional (default=None)\n",
    "The maximum depth of the tree. \n",
    "If None, then nodes are expanded until all leaves are pure or until all leaves contain less than min_samples_split sample\n",
    "\n",
    "# random_state: 난수값\n",
    "\n",
    "# min_samples_split: 분할 되기 위해 노드가 가져야 하는 최소 샘플 수 \n",
    "# min_samples_leaf: 리프 노드가 가지고 있어야 할 최소 샘플 수\n",
    "# max_leaf_nodes: 리프 노드의 최대 수\n",
    "# max_features: 노드에서 분할에 사용할 특성의 최대 수 \n",
    "\n",
    "# max_features : int, float, string or None, optional (default=”auto”)\n",
    "The number of features to consider when looking for the best split:\n",
    "\n",
    "If int, then consider max_features features at each split.\n",
    "If float, then max_features is a fraction and int(max_features * n_features) features are considered at each split.\n",
    "If “auto”, then max_features=sqrt(n_features).\n",
    "If “sqrt”, then max_features=sqrt(n_features) (same as “auto”).\n",
    "If “log2”, then max_features=log2(n_features).\n",
    "If None, then max_features=n_features.\n",
    "\n",
    "\"\"\"\n",
    "clf = tree.DecisionTreeClassifier('entropy', \n",
    "                                  random_state=0)\n",
    "\n",
    "clf.fit(train_X, train_y)\n"
   ]
  },
  {
   "cell_type": "code",
   "execution_count": 411,
   "metadata": {},
   "outputs": [
    {
     "data": {
      "image/svg+xml": [
       "<?xml version=\"1.0\" encoding=\"UTF-8\" standalone=\"no\"?>\r\n",
       "<!DOCTYPE svg PUBLIC \"-//W3C//DTD SVG 1.1//EN\"\r\n",
       " \"http://www.w3.org/Graphics/SVG/1.1/DTD/svg11.dtd\">\r\n",
       "<!-- Generated by graphviz version 2.38.0 (20140413.2041)\r\n",
       " -->\r\n",
       "<!-- Title: Tree Pages: 1 -->\r\n",
       "<svg width=\"1009pt\" height=\"356pt\"\r\n",
       " viewBox=\"0.00 0.00 1009.00 356.00\" xmlns=\"http://www.w3.org/2000/svg\" xmlns:xlink=\"http://www.w3.org/1999/xlink\">\r\n",
       "<g id=\"graph0\" class=\"graph\" transform=\"scale(1 1) rotate(0) translate(4 352)\">\r\n",
       "<title>Tree</title>\r\n",
       "<polygon fill=\"white\" stroke=\"none\" points=\"-4,4 -4,-352 1005,-352 1005,4 -4,4\"/>\r\n",
       "<!-- 0 -->\r\n",
       "<g id=\"node1\" class=\"node\"><title>0</title>\r\n",
       "<path fill=\"#d4f9f9\" stroke=\"black\" d=\"M629.5,-348C629.5,-348 370.5,-348 370.5,-348 364.5,-348 358.5,-342 358.5,-336 358.5,-336 358.5,-292 358.5,-292 358.5,-286 364.5,-280 370.5,-280 370.5,-280 629.5,-280 629.5,-280 635.5,-280 641.5,-286 641.5,-292 641.5,-292 641.5,-336 641.5,-336 641.5,-342 635.5,-348 629.5,-348\"/>\r\n",
       "<text text-anchor=\"middle\" x=\"500\" y=\"-332.8\" font-family=\"Helvetica,sans-Serif\" font-size=\"14.00\">alcohol &lt;= 10.85</text>\r\n",
       "<text text-anchor=\"middle\" x=\"500\" y=\"-317.8\" font-family=\"Helvetica,sans-Serif\" font-size=\"14.00\">entropy = 1.861</text>\r\n",
       "<text text-anchor=\"middle\" x=\"500\" y=\"-302.8\" font-family=\"Helvetica,sans-Serif\" font-size=\"14.00\">samples = 3918</text>\r\n",
       "<text text-anchor=\"middle\" x=\"500\" y=\"-287.8\" font-family=\"Helvetica,sans-Serif\" font-size=\"14.00\">value = [16, 130, 1166, 1758, 704, 140, 4]</text>\r\n",
       "</g>\r\n",
       "<!-- 1 -->\r\n",
       "<g id=\"node2\" class=\"node\"><title>1</title>\r\n",
       "<path fill=\"#f7fefe\" stroke=\"black\" d=\"M483,-244C483,-244 241,-244 241,-244 235,-244 229,-238 229,-232 229,-232 229,-188 229,-188 229,-182 235,-176 241,-176 241,-176 483,-176 483,-176 489,-176 495,-182 495,-188 495,-188 495,-232 495,-232 495,-238 489,-244 483,-244\"/>\r\n",
       "<text text-anchor=\"middle\" x=\"362\" y=\"-228.8\" font-family=\"Helvetica,sans-Serif\" font-size=\"14.00\">volatile acidity &lt;= 0.267</text>\r\n",
       "<text text-anchor=\"middle\" x=\"362\" y=\"-213.8\" font-family=\"Helvetica,sans-Serif\" font-size=\"14.00\">entropy = 1.652</text>\r\n",
       "<text text-anchor=\"middle\" x=\"362\" y=\"-198.8\" font-family=\"Helvetica,sans-Serif\" font-size=\"14.00\">samples = 2464</text>\r\n",
       "<text text-anchor=\"middle\" x=\"362\" y=\"-183.8\" font-family=\"Helvetica,sans-Serif\" font-size=\"14.00\">value = [9, 101, 1026, 1082, 218, 27, 1]</text>\r\n",
       "</g>\r\n",
       "<!-- 0&#45;&gt;1 -->\r\n",
       "<g id=\"edge1\" class=\"edge\"><title>0&#45;&gt;1</title>\r\n",
       "<path fill=\"none\" stroke=\"black\" d=\"M455.195,-279.884C442.421,-270.442 428.38,-260.064 415.159,-250.292\"/>\r\n",
       "<polygon fill=\"black\" stroke=\"black\" points=\"417.174,-247.429 407.052,-244.299 413.013,-253.058 417.174,-247.429\"/>\r\n",
       "<text text-anchor=\"middle\" x=\"410.761\" y=\"-265.323\" font-family=\"Helvetica,sans-Serif\" font-size=\"14.00\">True</text>\r\n",
       "</g>\r\n",
       "<!-- 1186 -->\r\n",
       "<g id=\"node9\" class=\"node\"><title>1186</title>\r\n",
       "<path fill=\"#d8faf9\" stroke=\"black\" d=\"M751,-244C751,-244 525,-244 525,-244 519,-244 513,-238 513,-232 513,-232 513,-188 513,-188 513,-182 519,-176 525,-176 525,-176 751,-176 751,-176 757,-176 763,-182 763,-188 763,-188 763,-232 763,-232 763,-238 757,-244 751,-244\"/>\r\n",
       "<text text-anchor=\"middle\" x=\"638\" y=\"-228.8\" font-family=\"Helvetica,sans-Serif\" font-size=\"14.00\">free sulfur dioxide &lt;= 11.5</text>\r\n",
       "<text text-anchor=\"middle\" x=\"638\" y=\"-213.8\" font-family=\"Helvetica,sans-Serif\" font-size=\"14.00\">entropy = 1.822</text>\r\n",
       "<text text-anchor=\"middle\" x=\"638\" y=\"-198.8\" font-family=\"Helvetica,sans-Serif\" font-size=\"14.00\">samples = 1454</text>\r\n",
       "<text text-anchor=\"middle\" x=\"638\" y=\"-183.8\" font-family=\"Helvetica,sans-Serif\" font-size=\"14.00\">value = [7, 29, 140, 676, 486, 113, 3]</text>\r\n",
       "</g>\r\n",
       "<!-- 0&#45;&gt;1186 -->\r\n",
       "<g id=\"edge8\" class=\"edge\"><title>0&#45;&gt;1186</title>\r\n",
       "<path fill=\"none\" stroke=\"black\" d=\"M544.805,-279.884C557.579,-270.442 571.62,-260.064 584.841,-250.292\"/>\r\n",
       "<polygon fill=\"black\" stroke=\"black\" points=\"586.987,-253.058 592.948,-244.299 582.826,-247.429 586.987,-253.058\"/>\r\n",
       "<text text-anchor=\"middle\" x=\"589.239\" y=\"-265.323\" font-family=\"Helvetica,sans-Serif\" font-size=\"14.00\">False</text>\r\n",
       "</g>\r\n",
       "<!-- 2 -->\r\n",
       "<g id=\"node3\" class=\"node\"><title>2</title>\r\n",
       "<path fill=\"#bef6f5\" stroke=\"black\" d=\"M230,-140C230,-140 12,-140 12,-140 6,-140 0,-134 0,-128 0,-128 0,-84 0,-84 0,-78 6,-72 12,-72 12,-72 230,-72 230,-72 236,-72 242,-78 242,-84 242,-84 242,-128 242,-128 242,-134 236,-140 230,-140\"/>\r\n",
       "<text text-anchor=\"middle\" x=\"121\" y=\"-124.8\" font-family=\"Helvetica,sans-Serif\" font-size=\"14.00\">volatile acidity &lt;= 0.207</text>\r\n",
       "<text text-anchor=\"middle\" x=\"121\" y=\"-109.8\" font-family=\"Helvetica,sans-Serif\" font-size=\"14.00\">entropy = 1.652</text>\r\n",
       "<text text-anchor=\"middle\" x=\"121\" y=\"-94.8\" font-family=\"Helvetica,sans-Serif\" font-size=\"14.00\">samples = 1316</text>\r\n",
       "<text text-anchor=\"middle\" x=\"121\" y=\"-79.8\" font-family=\"Helvetica,sans-Serif\" font-size=\"14.00\">value = [6, 25, 385, 691, 186, 23, 0]</text>\r\n",
       "</g>\r\n",
       "<!-- 1&#45;&gt;2 -->\r\n",
       "<g id=\"edge2\" class=\"edge\"><title>1&#45;&gt;2</title>\r\n",
       "<path fill=\"none\" stroke=\"black\" d=\"M283.754,-175.884C259.745,-165.722 233.174,-154.476 208.583,-144.069\"/>\r\n",
       "<polygon fill=\"black\" stroke=\"black\" points=\"209.839,-140.799 199.265,-140.125 207.11,-147.246 209.839,-140.799\"/>\r\n",
       "</g>\r\n",
       "<!-- 651 -->\r\n",
       "<g id=\"node6\" class=\"node\"><title>651</title>\r\n",
       "<path fill=\"#bef6c4\" stroke=\"black\" d=\"M473.5,-140C473.5,-140 272.5,-140 272.5,-140 266.5,-140 260.5,-134 260.5,-128 260.5,-128 260.5,-84 260.5,-84 260.5,-78 266.5,-72 272.5,-72 272.5,-72 473.5,-72 473.5,-72 479.5,-72 485.5,-78 485.5,-84 485.5,-84 485.5,-128 485.5,-128 485.5,-134 479.5,-140 473.5,-140\"/>\r\n",
       "<text text-anchor=\"middle\" x=\"373\" y=\"-124.8\" font-family=\"Helvetica,sans-Serif\" font-size=\"14.00\">alcohol &lt;= 10.25</text>\r\n",
       "<text text-anchor=\"middle\" x=\"373\" y=\"-109.8\" font-family=\"Helvetica,sans-Serif\" font-size=\"14.00\">entropy = 1.462</text>\r\n",
       "<text text-anchor=\"middle\" x=\"373\" y=\"-94.8\" font-family=\"Helvetica,sans-Serif\" font-size=\"14.00\">samples = 1148</text>\r\n",
       "<text text-anchor=\"middle\" x=\"373\" y=\"-79.8\" font-family=\"Helvetica,sans-Serif\" font-size=\"14.00\">value = [3, 76, 641, 391, 32, 4, 1]</text>\r\n",
       "</g>\r\n",
       "<!-- 1&#45;&gt;651 -->\r\n",
       "<g id=\"edge5\" class=\"edge\"><title>1&#45;&gt;651</title>\r\n",
       "<path fill=\"none\" stroke=\"black\" d=\"M365.571,-175.884C366.446,-167.778 367.394,-158.982 368.312,-150.472\"/>\r\n",
       "<polygon fill=\"black\" stroke=\"black\" points=\"371.816,-150.617 369.409,-140.299 364.857,-149.866 371.816,-150.617\"/>\r\n",
       "</g>\r\n",
       "<!-- 3 -->\r\n",
       "<g id=\"node4\" class=\"node\"><title>3</title>\r\n",
       "<path fill=\"#c0c0c0\" stroke=\"black\" d=\"M100,-36C100,-36 70,-36 70,-36 64,-36 58,-30 58,-24 58,-24 58,-12 58,-12 58,-6 64,-0 70,-0 70,-0 100,-0 100,-0 106,-0 112,-6 112,-12 112,-12 112,-24 112,-24 112,-30 106,-36 100,-36\"/>\r\n",
       "<text text-anchor=\"middle\" x=\"85\" y=\"-14.3\" font-family=\"Helvetica,sans-Serif\" font-size=\"14.00\">(...)</text>\r\n",
       "</g>\r\n",
       "<!-- 2&#45;&gt;3 -->\r\n",
       "<g id=\"edge3\" class=\"edge\"><title>2&#45;&gt;3</title>\r\n",
       "<path fill=\"none\" stroke=\"black\" d=\"M107.184,-71.9961C103.536,-63.2804 99.6447,-53.9846 96.1564,-45.6514\"/>\r\n",
       "<polygon fill=\"black\" stroke=\"black\" points=\"99.3751,-44.2763 92.2851,-36.4034 92.918,-46.9793 99.3751,-44.2763\"/>\r\n",
       "</g>\r\n",
       "<!-- 302 -->\r\n",
       "<g id=\"node5\" class=\"node\"><title>302</title>\r\n",
       "<path fill=\"#c0c0c0\" stroke=\"black\" d=\"M172,-36C172,-36 142,-36 142,-36 136,-36 130,-30 130,-24 130,-24 130,-12 130,-12 130,-6 136,-0 142,-0 142,-0 172,-0 172,-0 178,-0 184,-6 184,-12 184,-12 184,-24 184,-24 184,-30 178,-36 172,-36\"/>\r\n",
       "<text text-anchor=\"middle\" x=\"157\" y=\"-14.3\" font-family=\"Helvetica,sans-Serif\" font-size=\"14.00\">(...)</text>\r\n",
       "</g>\r\n",
       "<!-- 2&#45;&gt;302 -->\r\n",
       "<g id=\"edge4\" class=\"edge\"><title>2&#45;&gt;302</title>\r\n",
       "<path fill=\"none\" stroke=\"black\" d=\"M134.816,-71.9961C138.464,-63.2804 142.355,-53.9846 145.844,-45.6514\"/>\r\n",
       "<polygon fill=\"black\" stroke=\"black\" points=\"149.082,-46.9793 149.715,-36.4034 142.625,-44.2763 149.082,-46.9793\"/>\r\n",
       "</g>\r\n",
       "<!-- 652 -->\r\n",
       "<g id=\"node7\" class=\"node\"><title>652</title>\r\n",
       "<path fill=\"#c0c0c0\" stroke=\"black\" d=\"M352,-36C352,-36 322,-36 322,-36 316,-36 310,-30 310,-24 310,-24 310,-12 310,-12 310,-6 316,-0 322,-0 322,-0 352,-0 352,-0 358,-0 364,-6 364,-12 364,-12 364,-24 364,-24 364,-30 358,-36 352,-36\"/>\r\n",
       "<text text-anchor=\"middle\" x=\"337\" y=\"-14.3\" font-family=\"Helvetica,sans-Serif\" font-size=\"14.00\">(...)</text>\r\n",
       "</g>\r\n",
       "<!-- 651&#45;&gt;652 -->\r\n",
       "<g id=\"edge6\" class=\"edge\"><title>651&#45;&gt;652</title>\r\n",
       "<path fill=\"none\" stroke=\"black\" d=\"M359.184,-71.9961C355.536,-63.2804 351.645,-53.9846 348.156,-45.6514\"/>\r\n",
       "<polygon fill=\"black\" stroke=\"black\" points=\"351.375,-44.2763 344.285,-36.4034 344.918,-46.9793 351.375,-44.2763\"/>\r\n",
       "</g>\r\n",
       "<!-- 1061 -->\r\n",
       "<g id=\"node8\" class=\"node\"><title>1061</title>\r\n",
       "<path fill=\"#c0c0c0\" stroke=\"black\" d=\"M424,-36C424,-36 394,-36 394,-36 388,-36 382,-30 382,-24 382,-24 382,-12 382,-12 382,-6 388,-0 394,-0 394,-0 424,-0 424,-0 430,-0 436,-6 436,-12 436,-12 436,-24 436,-24 436,-30 430,-36 424,-36\"/>\r\n",
       "<text text-anchor=\"middle\" x=\"409\" y=\"-14.3\" font-family=\"Helvetica,sans-Serif\" font-size=\"14.00\">(...)</text>\r\n",
       "</g>\r\n",
       "<!-- 651&#45;&gt;1061 -->\r\n",
       "<g id=\"edge7\" class=\"edge\"><title>651&#45;&gt;1061</title>\r\n",
       "<path fill=\"none\" stroke=\"black\" d=\"M386.816,-71.9961C390.464,-63.2804 394.355,-53.9846 397.844,-45.6514\"/>\r\n",
       "<polygon fill=\"black\" stroke=\"black\" points=\"401.082,-46.9793 401.715,-36.4034 394.625,-44.2763 401.082,-46.9793\"/>\r\n",
       "</g>\r\n",
       "<!-- 1187 -->\r\n",
       "<g id=\"node10\" class=\"node\"><title>1187</title>\r\n",
       "<path fill=\"#defbfa\" stroke=\"black\" d=\"M720.5,-140C720.5,-140 535.5,-140 535.5,-140 529.5,-140 523.5,-134 523.5,-128 523.5,-128 523.5,-84 523.5,-84 523.5,-78 529.5,-72 535.5,-72 535.5,-72 720.5,-72 720.5,-72 726.5,-72 732.5,-78 732.5,-84 732.5,-84 732.5,-128 732.5,-128 732.5,-134 726.5,-140 720.5,-140\"/>\r\n",
       "<text text-anchor=\"middle\" x=\"628\" y=\"-124.8\" font-family=\"Helvetica,sans-Serif\" font-size=\"14.00\">citric acid &lt;= 0.245</text>\r\n",
       "<text text-anchor=\"middle\" x=\"628\" y=\"-109.8\" font-family=\"Helvetica,sans-Serif\" font-size=\"14.00\">entropy = 2.096</text>\r\n",
       "<text text-anchor=\"middle\" x=\"628\" y=\"-94.8\" font-family=\"Helvetica,sans-Serif\" font-size=\"14.00\">samples = 96</text>\r\n",
       "<text text-anchor=\"middle\" x=\"628\" y=\"-79.8\" font-family=\"Helvetica,sans-Serif\" font-size=\"14.00\">value = [2, 18, 25, 37, 12, 2, 0]</text>\r\n",
       "</g>\r\n",
       "<!-- 1186&#45;&gt;1187 -->\r\n",
       "<g id=\"edge9\" class=\"edge\"><title>1186&#45;&gt;1187</title>\r\n",
       "<path fill=\"none\" stroke=\"black\" d=\"M634.753,-175.884C633.959,-167.778 633.096,-158.982 632.262,-150.472\"/>\r\n",
       "<polygon fill=\"black\" stroke=\"black\" points=\"635.724,-149.91 631.265,-140.299 628.757,-150.593 635.724,-149.91\"/>\r\n",
       "</g>\r\n",
       "<!-- 1250 -->\r\n",
       "<g id=\"node13\" class=\"node\"><title>1250</title>\r\n",
       "<path fill=\"#dafafa\" stroke=\"black\" d=\"M989,-140C989,-140 763,-140 763,-140 757,-140 751,-134 751,-128 751,-128 751,-84 751,-84 751,-78 757,-72 763,-72 763,-72 989,-72 989,-72 995,-72 1001,-78 1001,-84 1001,-84 1001,-128 1001,-128 1001,-134 995,-140 989,-140\"/>\r\n",
       "<text text-anchor=\"middle\" x=\"876\" y=\"-124.8\" font-family=\"Helvetica,sans-Serif\" font-size=\"14.00\">alcohol &lt;= 11.675</text>\r\n",
       "<text text-anchor=\"middle\" x=\"876\" y=\"-109.8\" font-family=\"Helvetica,sans-Serif\" font-size=\"14.00\">entropy = 1.744</text>\r\n",
       "<text text-anchor=\"middle\" x=\"876\" y=\"-94.8\" font-family=\"Helvetica,sans-Serif\" font-size=\"14.00\">samples = 1358</text>\r\n",
       "<text text-anchor=\"middle\" x=\"876\" y=\"-79.8\" font-family=\"Helvetica,sans-Serif\" font-size=\"14.00\">value = [5, 11, 115, 639, 474, 111, 3]</text>\r\n",
       "</g>\r\n",
       "<!-- 1186&#45;&gt;1250 -->\r\n",
       "<g id=\"edge12\" class=\"edge\"><title>1186&#45;&gt;1250</title>\r\n",
       "<path fill=\"none\" stroke=\"black\" d=\"M715.272,-175.884C738.982,-165.722 765.222,-154.476 789.507,-144.069\"/>\r\n",
       "<polygon fill=\"black\" stroke=\"black\" points=\"790.896,-147.281 798.709,-140.125 788.139,-140.847 790.896,-147.281\"/>\r\n",
       "</g>\r\n",
       "<!-- 1188 -->\r\n",
       "<g id=\"node11\" class=\"node\"><title>1188</title>\r\n",
       "<path fill=\"#c0c0c0\" stroke=\"black\" d=\"M607,-36C607,-36 577,-36 577,-36 571,-36 565,-30 565,-24 565,-24 565,-12 565,-12 565,-6 571,-0 577,-0 577,-0 607,-0 607,-0 613,-0 619,-6 619,-12 619,-12 619,-24 619,-24 619,-30 613,-36 607,-36\"/>\r\n",
       "<text text-anchor=\"middle\" x=\"592\" y=\"-14.3\" font-family=\"Helvetica,sans-Serif\" font-size=\"14.00\">(...)</text>\r\n",
       "</g>\r\n",
       "<!-- 1187&#45;&gt;1188 -->\r\n",
       "<g id=\"edge10\" class=\"edge\"><title>1187&#45;&gt;1188</title>\r\n",
       "<path fill=\"none\" stroke=\"black\" d=\"M614.184,-71.9961C610.536,-63.2804 606.645,-53.9846 603.156,-45.6514\"/>\r\n",
       "<polygon fill=\"black\" stroke=\"black\" points=\"606.375,-44.2763 599.285,-36.4034 599.918,-46.9793 606.375,-44.2763\"/>\r\n",
       "</g>\r\n",
       "<!-- 1197 -->\r\n",
       "<g id=\"node12\" class=\"node\"><title>1197</title>\r\n",
       "<path fill=\"#c0c0c0\" stroke=\"black\" d=\"M679,-36C679,-36 649,-36 649,-36 643,-36 637,-30 637,-24 637,-24 637,-12 637,-12 637,-6 643,-0 649,-0 649,-0 679,-0 679,-0 685,-0 691,-6 691,-12 691,-12 691,-24 691,-24 691,-30 685,-36 679,-36\"/>\r\n",
       "<text text-anchor=\"middle\" x=\"664\" y=\"-14.3\" font-family=\"Helvetica,sans-Serif\" font-size=\"14.00\">(...)</text>\r\n",
       "</g>\r\n",
       "<!-- 1187&#45;&gt;1197 -->\r\n",
       "<g id=\"edge11\" class=\"edge\"><title>1187&#45;&gt;1197</title>\r\n",
       "<path fill=\"none\" stroke=\"black\" d=\"M641.816,-71.9961C645.464,-63.2804 649.355,-53.9846 652.844,-45.6514\"/>\r\n",
       "<polygon fill=\"black\" stroke=\"black\" points=\"656.082,-46.9793 656.715,-36.4034 649.625,-44.2763 656.082,-46.9793\"/>\r\n",
       "</g>\r\n",
       "<!-- 1251 -->\r\n",
       "<g id=\"node14\" class=\"node\"><title>1251</title>\r\n",
       "<path fill=\"#c0c0c0\" stroke=\"black\" d=\"M855,-36C855,-36 825,-36 825,-36 819,-36 813,-30 813,-24 813,-24 813,-12 813,-12 813,-6 819,-0 825,-0 825,-0 855,-0 855,-0 861,-0 867,-6 867,-12 867,-12 867,-24 867,-24 867,-30 861,-36 855,-36\"/>\r\n",
       "<text text-anchor=\"middle\" x=\"840\" y=\"-14.3\" font-family=\"Helvetica,sans-Serif\" font-size=\"14.00\">(...)</text>\r\n",
       "</g>\r\n",
       "<!-- 1250&#45;&gt;1251 -->\r\n",
       "<g id=\"edge13\" class=\"edge\"><title>1250&#45;&gt;1251</title>\r\n",
       "<path fill=\"none\" stroke=\"black\" d=\"M862.184,-71.9961C858.536,-63.2804 854.645,-53.9846 851.156,-45.6514\"/>\r\n",
       "<polygon fill=\"black\" stroke=\"black\" points=\"854.375,-44.2763 847.285,-36.4034 847.918,-46.9793 854.375,-44.2763\"/>\r\n",
       "</g>\r\n",
       "<!-- 1602 -->\r\n",
       "<g id=\"node15\" class=\"node\"><title>1602</title>\r\n",
       "<path fill=\"#c0c0c0\" stroke=\"black\" d=\"M927,-36C927,-36 897,-36 897,-36 891,-36 885,-30 885,-24 885,-24 885,-12 885,-12 885,-6 891,-0 897,-0 897,-0 927,-0 927,-0 933,-0 939,-6 939,-12 939,-12 939,-24 939,-24 939,-30 933,-36 927,-36\"/>\r\n",
       "<text text-anchor=\"middle\" x=\"912\" y=\"-14.3\" font-family=\"Helvetica,sans-Serif\" font-size=\"14.00\">(...)</text>\r\n",
       "</g>\r\n",
       "<!-- 1250&#45;&gt;1602 -->\r\n",
       "<g id=\"edge14\" class=\"edge\"><title>1250&#45;&gt;1602</title>\r\n",
       "<path fill=\"none\" stroke=\"black\" d=\"M889.816,-71.9961C893.464,-63.2804 897.355,-53.9846 900.844,-45.6514\"/>\r\n",
       "<polygon fill=\"black\" stroke=\"black\" points=\"904.082,-46.9793 904.715,-36.4034 897.625,-44.2763 904.082,-46.9793\"/>\r\n",
       "</g>\r\n",
       "</g>\r\n",
       "</svg>\r\n"
      ],
      "text/plain": [
       "<graphviz.files.Source at 0xcc05b38>"
      ]
     },
     "execution_count": 411,
     "metadata": {},
     "output_type": "execute_result"
    }
   ],
   "source": [
    "dot_data = tree.export_graphviz(clf, out_file=None, max_depth=2, feature_names=list(X.columns.values), filled=True, rounded=True)\n",
    "graphviz.Source(dot_data)"
   ]
  },
  {
   "cell_type": "code",
   "execution_count": 412,
   "metadata": {},
   "outputs": [
    {
     "data": {
      "text/plain": [
       "1.0"
      ]
     },
     "execution_count": 412,
     "metadata": {},
     "output_type": "execute_result"
    }
   ],
   "source": [
    "clf.score(train_X, train_y)"
   ]
  },
  {
   "cell_type": "code",
   "execution_count": 413,
   "metadata": {},
   "outputs": [
    {
     "data": {
      "text/plain": [
       "0.6214285714285714"
      ]
     },
     "execution_count": 413,
     "metadata": {},
     "output_type": "execute_result"
    }
   ],
   "source": [
    "clf.score(test_X, test_y)"
   ]
  },
  {
   "cell_type": "code",
   "execution_count": 414,
   "metadata": {},
   "outputs": [
    {
     "data": {
      "text/plain": [
       "23"
      ]
     },
     "execution_count": 414,
     "metadata": {},
     "output_type": "execute_result"
    }
   ],
   "source": [
    "clf.tree_.max_depth"
   ]
  },
  {
   "cell_type": "code",
   "execution_count": 415,
   "metadata": {
    "scrolled": true
   },
   "outputs": [
    {
     "data": {
      "text/plain": [
       "[('fixed acidity', 0.06337465874717897),\n",
       " ('volatile acidity', 0.10243792415591456),\n",
       " ('citric acid', 0.07257098119219334),\n",
       " ('residual sugar', 0.08803650579389526),\n",
       " ('chlorides', 0.07880139060295413),\n",
       " ('free sulfur dioxide', 0.11724772362889596),\n",
       " ('total sulfur dioxide', 0.09154026678888438),\n",
       " ('density', 0.0820061108712275),\n",
       " ('pH', 0.07928249422250078),\n",
       " ('sulphates', 0.07274712096722222),\n",
       " ('alcohol', 0.15195482302913293)]"
      ]
     },
     "execution_count": 415,
     "metadata": {},
     "output_type": "execute_result"
    }
   ],
   "source": [
    "list(zip(X.columns, clf.feature_importances_))"
   ]
  },
  {
   "cell_type": "code",
   "execution_count": 356,
   "metadata": {},
   "outputs": [
    {
     "data": {
      "text/plain": [
       "array([3, 4, 5, 6, 7, 8, 9], dtype=int64)"
      ]
     },
     "execution_count": 356,
     "metadata": {},
     "output_type": "execute_result"
    }
   ],
   "source": [
    "clf.classes_"
   ]
  },
  {
   "cell_type": "code",
   "execution_count": 342,
   "metadata": {},
   "outputs": [
    {
     "data": {
      "text/plain": [
       "11"
      ]
     },
     "execution_count": 342,
     "metadata": {},
     "output_type": "execute_result"
    }
   ],
   "source": [
    "clf.max_features_"
   ]
  },
  {
   "cell_type": "code",
   "execution_count": 343,
   "metadata": {},
   "outputs": [
    {
     "data": {
      "text/plain": [
       "6"
      ]
     },
     "execution_count": 343,
     "metadata": {},
     "output_type": "execute_result"
    }
   ],
   "source": [
    "clf.n_classes_"
   ]
  },
  {
   "cell_type": "code",
   "execution_count": 344,
   "metadata": {},
   "outputs": [
    {
     "data": {
      "text/plain": [
       "11"
      ]
     },
     "execution_count": 344,
     "metadata": {},
     "output_type": "execute_result"
    }
   ],
   "source": [
    "clf.n_features_"
   ]
  },
  {
   "cell_type": "code",
   "execution_count": 345,
   "metadata": {},
   "outputs": [
    {
     "data": {
      "text/plain": [
       "339"
      ]
     },
     "execution_count": 345,
     "metadata": {},
     "output_type": "execute_result"
    }
   ],
   "source": [
    "clf.tree_.n_leaves\n"
   ]
  },
  {
   "cell_type": "code",
   "execution_count": null,
   "metadata": {},
   "outputs": [],
   "source": []
  },
  {
   "cell_type": "code",
   "execution_count": 269,
   "metadata": {},
   "outputs": [
    {
     "data": {
      "text/plain": [
       "19"
      ]
     },
     "execution_count": 269,
     "metadata": {},
     "output_type": "execute_result"
    }
   ],
   "source": [
    "clf.get_depth()"
   ]
  },
  {
   "cell_type": "code",
   "execution_count": null,
   "metadata": {},
   "outputs": [],
   "source": []
  },
  {
   "cell_type": "code",
   "execution_count": null,
   "metadata": {},
   "outputs": [],
   "source": []
  },
  {
   "cell_type": "markdown",
   "metadata": {},
   "source": [
    "# 실습2. 전체 와인셋(red+ white)에 대해 quality 예측"
   ]
  },
  {
   "cell_type": "code",
   "execution_count": 450,
   "metadata": {},
   "outputs": [],
   "source": [
    "new_red = wine_red.copy()\n",
    "new_white = wine_white.copy()\n",
    "\n",
    "wine = new_red.append(new_white, ignore_index=True)"
   ]
  },
  {
   "cell_type": "code",
   "execution_count": 451,
   "metadata": {},
   "outputs": [],
   "source": [
    "X = wine.drop('quality', axis=1)\n",
    "y = wine['quality']"
   ]
  },
  {
   "cell_type": "code",
   "execution_count": 452,
   "metadata": {},
   "outputs": [],
   "source": [
    "from sklearn.model_selection import train_test_split\n",
    "train_X, test_X, train_y, test_y = train_test_split(X, y, stratify=y, random_state=42, test_size=.2)"
   ]
  },
  {
   "cell_type": "code",
   "execution_count": 453,
   "metadata": {},
   "outputs": [
    {
     "data": {
      "text/plain": [
       "DecisionTreeClassifier(class_weight=None, criterion='entropy', max_depth=None,\n",
       "                       max_features=None, max_leaf_nodes=None,\n",
       "                       min_impurity_decrease=0.0, min_impurity_split=None,\n",
       "                       min_samples_leaf=1, min_samples_split=2,\n",
       "                       min_weight_fraction_leaf=0.0, presort=False,\n",
       "                       random_state=0, splitter='best')"
      ]
     },
     "execution_count": 453,
     "metadata": {},
     "output_type": "execute_result"
    }
   ],
   "source": [
    "from sklearn import tree\n",
    "\n",
    "\"\"\"\n",
    "DecisionTreeClassifier(criterion=’gini’, splitter=’best’, max_depth=None, min_samples_split=2, min_samples_leaf=1, \n",
    "                       min_weight_fraction_leaf=0.0, max_features=None, random_state=None, max_leaf_nodes=None, \n",
    "                       min_impurity_decrease=0.0, min_impurity_split=None, class_weight=None, presort=False)\n",
    "\n",
    "# scikit-learn uses an optimised version of the CART algorithm.\n",
    "                       \n",
    "# criterion: entropy or gini\n",
    "The function to measure the quality of a split. \n",
    "Supported criteria are “gini” for the Gini impurity and “entropy” for the information gain.\n",
    "\n",
    "# max_depth : int or None, optional (default=None)\n",
    "The maximum depth of the tree. \n",
    "If None, then nodes are expanded until all leaves are pure or until all leaves contain less than min_samples_split sample\n",
    "\n",
    "# random_state: 난수값\n",
    "\n",
    "# min_samples_split: 분할 되기 위해 노드가 가져야 하는 최소 샘플 수 \n",
    "# min_samples_leaf: 리프 노드가 가지고 있어야 할 최소 샘플 수\n",
    "# max_leaf_nodes: 리프 노드의 최대 수\n",
    "# max_features: 노드에서 분할에 사용할 특성의 최대 수 \n",
    "\n",
    "# max_features : int, float, string or None, optional (default=”auto”)\n",
    "The number of features to consider when looking for the best split:\n",
    "\n",
    "If int, then consider max_features features at each split.\n",
    "If float, then max_features is a fraction and int(max_features * n_features) features are considered at each split.\n",
    "If “auto”, then max_features=sqrt(n_features).\n",
    "If “sqrt”, then max_features=sqrt(n_features) (same as “auto”).\n",
    "If “log2”, then max_features=log2(n_features).\n",
    "If None, then max_features=n_features.\n",
    "\n",
    "\"\"\"\n",
    "clf = tree.DecisionTreeClassifier('entropy', random_state=0)\n",
    "\n",
    "clf.fit(train_X, train_y)\n"
   ]
  },
  {
   "cell_type": "code",
   "execution_count": 454,
   "metadata": {},
   "outputs": [
    {
     "data": {
      "image/svg+xml": [
       "<?xml version=\"1.0\" encoding=\"UTF-8\" standalone=\"no\"?>\r\n",
       "<!DOCTYPE svg PUBLIC \"-//W3C//DTD SVG 1.1//EN\"\r\n",
       " \"http://www.w3.org/Graphics/SVG/1.1/DTD/svg11.dtd\">\r\n",
       "<!-- Generated by graphviz version 2.38.0 (20140413.2041)\r\n",
       " -->\r\n",
       "<!-- Title: Tree Pages: 1 -->\r\n",
       "<svg width=\"1032pt\" height=\"356pt\"\r\n",
       " viewBox=\"0.00 0.00 1031.50 356.00\" xmlns=\"http://www.w3.org/2000/svg\" xmlns:xlink=\"http://www.w3.org/1999/xlink\">\r\n",
       "<g id=\"graph0\" class=\"graph\" transform=\"scale(1 1) rotate(0) translate(4 352)\">\r\n",
       "<title>Tree</title>\r\n",
       "<polygon fill=\"white\" stroke=\"none\" points=\"-4,4 -4,-352 1027.5,-352 1027.5,4 -4,4\"/>\r\n",
       "<!-- 0 -->\r\n",
       "<g id=\"node1\" class=\"node\"><title>0</title>\r\n",
       "<path fill=\"#dffbfa\" stroke=\"black\" d=\"M644.5,-348C644.5,-348 385.5,-348 385.5,-348 379.5,-348 373.5,-342 373.5,-336 373.5,-336 373.5,-292 373.5,-292 373.5,-286 379.5,-280 385.5,-280 385.5,-280 644.5,-280 644.5,-280 650.5,-280 656.5,-286 656.5,-292 656.5,-292 656.5,-336 656.5,-336 656.5,-342 650.5,-348 644.5,-348\"/>\r\n",
       "<text text-anchor=\"middle\" x=\"515\" y=\"-332.8\" font-family=\"Helvetica,sans-Serif\" font-size=\"14.00\">alcohol &lt;= 10.85</text>\r\n",
       "<text text-anchor=\"middle\" x=\"515\" y=\"-317.8\" font-family=\"Helvetica,sans-Serif\" font-size=\"14.00\">entropy = 1.837</text>\r\n",
       "<text text-anchor=\"middle\" x=\"515\" y=\"-302.8\" font-family=\"Helvetica,sans-Serif\" font-size=\"14.00\">samples = 5197</text>\r\n",
       "<text text-anchor=\"middle\" x=\"515\" y=\"-287.8\" font-family=\"Helvetica,sans-Serif\" font-size=\"14.00\">value = [24, 173, 1710, 2269, 863, 154, 4]</text>\r\n",
       "</g>\r\n",
       "<!-- 1 -->\r\n",
       "<g id=\"node2\" class=\"node\"><title>1</title>\r\n",
       "<path fill=\"#f5fef6\" stroke=\"black\" d=\"M500.5,-244C500.5,-244 249.5,-244 249.5,-244 243.5,-244 237.5,-238 237.5,-232 237.5,-232 237.5,-188 237.5,-188 237.5,-182 243.5,-176 249.5,-176 249.5,-176 500.5,-176 500.5,-176 506.5,-176 512.5,-182 512.5,-188 512.5,-188 512.5,-232 512.5,-232 512.5,-238 506.5,-244 500.5,-244\"/>\r\n",
       "<text text-anchor=\"middle\" x=\"375\" y=\"-228.8\" font-family=\"Helvetica,sans-Serif\" font-size=\"14.00\">volatile acidity &lt;= 0.267</text>\r\n",
       "<text text-anchor=\"middle\" x=\"375\" y=\"-213.8\" font-family=\"Helvetica,sans-Serif\" font-size=\"14.00\">entropy = 1.616</text>\r\n",
       "<text text-anchor=\"middle\" x=\"375\" y=\"-198.8\" font-family=\"Helvetica,sans-Serif\" font-size=\"14.00\">samples = 3346</text>\r\n",
       "<text text-anchor=\"middle\" x=\"375\" y=\"-183.8\" font-family=\"Helvetica,sans-Serif\" font-size=\"14.00\">value = [15, 129, 1502, 1404, 264, 31, 1]</text>\r\n",
       "</g>\r\n",
       "<!-- 0&#45;&gt;1 -->\r\n",
       "<g id=\"edge1\" class=\"edge\"><title>0&#45;&gt;1</title>\r\n",
       "<path fill=\"none\" stroke=\"black\" d=\"M469.546,-279.884C456.587,-270.442 442.342,-260.064 428.93,-250.292\"/>\r\n",
       "<polygon fill=\"black\" stroke=\"black\" points=\"430.848,-247.359 420.705,-244.299 426.726,-253.017 430.848,-247.359\"/>\r\n",
       "<text text-anchor=\"middle\" x=\"424.583\" y=\"-265.297\" font-family=\"Helvetica,sans-Serif\" font-size=\"14.00\">True</text>\r\n",
       "</g>\r\n",
       "<!-- 1596 -->\r\n",
       "<g id=\"node9\" class=\"node\"><title>1596</title>\r\n",
       "<path fill=\"#d5f9f9\" stroke=\"black\" d=\"M769,-244C769,-244 543,-244 543,-244 537,-244 531,-238 531,-232 531,-232 531,-188 531,-188 531,-182 537,-176 543,-176 543,-176 769,-176 769,-176 775,-176 781,-182 781,-188 781,-188 781,-232 781,-232 781,-238 775,-244 769,-244\"/>\r\n",
       "<text text-anchor=\"middle\" x=\"656\" y=\"-228.8\" font-family=\"Helvetica,sans-Serif\" font-size=\"14.00\">alcohol &lt;= 11.617</text>\r\n",
       "<text text-anchor=\"middle\" x=\"656\" y=\"-213.8\" font-family=\"Helvetica,sans-Serif\" font-size=\"14.00\">entropy = 1.835</text>\r\n",
       "<text text-anchor=\"middle\" x=\"656\" y=\"-198.8\" font-family=\"Helvetica,sans-Serif\" font-size=\"14.00\">samples = 1851</text>\r\n",
       "<text text-anchor=\"middle\" x=\"656\" y=\"-183.8\" font-family=\"Helvetica,sans-Serif\" font-size=\"14.00\">value = [9, 44, 208, 865, 599, 123, 3]</text>\r\n",
       "</g>\r\n",
       "<!-- 0&#45;&gt;1596 -->\r\n",
       "<g id=\"edge8\" class=\"edge\"><title>0&#45;&gt;1596</title>\r\n",
       "<path fill=\"none\" stroke=\"black\" d=\"M560.779,-279.884C573.831,-270.442 588.177,-260.064 601.685,-250.292\"/>\r\n",
       "<polygon fill=\"black\" stroke=\"black\" points=\"603.918,-252.996 609.969,-244.299 599.815,-247.325 603.918,-252.996\"/>\r\n",
       "<text text-anchor=\"middle\" x=\"606.007\" y=\"-265.283\" font-family=\"Helvetica,sans-Serif\" font-size=\"14.00\">False</text>\r\n",
       "</g>\r\n",
       "<!-- 2 -->\r\n",
       "<g id=\"node3\" class=\"node\"><title>2</title>\r\n",
       "<path fill=\"#baf6f5\" stroke=\"black\" d=\"M230,-140C230,-140 12,-140 12,-140 6,-140 0,-134 0,-128 0,-128 0,-84 0,-84 0,-78 6,-72 12,-72 12,-72 230,-72 230,-72 236,-72 242,-78 242,-84 242,-84 242,-128 242,-128 242,-134 236,-140 230,-140\"/>\r\n",
       "<text text-anchor=\"middle\" x=\"121\" y=\"-124.8\" font-family=\"Helvetica,sans-Serif\" font-size=\"14.00\">volatile acidity &lt;= 0.207</text>\r\n",
       "<text text-anchor=\"middle\" x=\"121\" y=\"-109.8\" font-family=\"Helvetica,sans-Serif\" font-size=\"14.00\">entropy = 1.646</text>\r\n",
       "<text text-anchor=\"middle\" x=\"121\" y=\"-94.8\" font-family=\"Helvetica,sans-Serif\" font-size=\"14.00\">samples = 1354</text>\r\n",
       "<text text-anchor=\"middle\" x=\"121\" y=\"-79.8\" font-family=\"Helvetica,sans-Serif\" font-size=\"14.00\">value = [6, 22, 382, 723, 193, 28, 0]</text>\r\n",
       "</g>\r\n",
       "<!-- 1&#45;&gt;2 -->\r\n",
       "<g id=\"edge2\" class=\"edge\"><title>1&#45;&gt;2</title>\r\n",
       "<path fill=\"none\" stroke=\"black\" d=\"M292.533,-175.884C267.118,-165.677 238.978,-154.377 212.965,-143.931\"/>\r\n",
       "<polygon fill=\"black\" stroke=\"black\" points=\"214.071,-140.603 203.487,-140.125 211.463,-147.099 214.071,-140.603\"/>\r\n",
       "</g>\r\n",
       "<!-- 677 -->\r\n",
       "<g id=\"node6\" class=\"node\"><title>677</title>\r\n",
       "<path fill=\"#bdf6c3\" stroke=\"black\" d=\"M490,-140C490,-140 272,-140 272,-140 266,-140 260,-134 260,-128 260,-128 260,-84 260,-84 260,-78 266,-72 272,-72 272,-72 490,-72 490,-72 496,-72 502,-78 502,-84 502,-84 502,-128 502,-128 502,-134 496,-140 490,-140\"/>\r\n",
       "<text text-anchor=\"middle\" x=\"381\" y=\"-124.8\" font-family=\"Helvetica,sans-Serif\" font-size=\"14.00\">alcohol &lt;= 9.85</text>\r\n",
       "<text text-anchor=\"middle\" x=\"381\" y=\"-109.8\" font-family=\"Helvetica,sans-Serif\" font-size=\"14.00\">entropy = 1.449</text>\r\n",
       "<text text-anchor=\"middle\" x=\"381\" y=\"-94.8\" font-family=\"Helvetica,sans-Serif\" font-size=\"14.00\">samples = 1992</text>\r\n",
       "<text text-anchor=\"middle\" x=\"381\" y=\"-79.8\" font-family=\"Helvetica,sans-Serif\" font-size=\"14.00\">value = [9, 107, 1120, 681, 71, 3, 1]</text>\r\n",
       "</g>\r\n",
       "<!-- 1&#45;&gt;677 -->\r\n",
       "<g id=\"edge5\" class=\"edge\"><title>1&#45;&gt;677</title>\r\n",
       "<path fill=\"none\" stroke=\"black\" d=\"M376.948,-175.884C377.425,-167.778 377.942,-158.982 378.443,-150.472\"/>\r\n",
       "<polygon fill=\"black\" stroke=\"black\" points=\"381.948,-150.488 379.041,-140.299 374.96,-150.077 381.948,-150.488\"/>\r\n",
       "</g>\r\n",
       "<!-- 3 -->\r\n",
       "<g id=\"node4\" class=\"node\"><title>3</title>\r\n",
       "<path fill=\"#c0c0c0\" stroke=\"black\" d=\"M100,-36C100,-36 70,-36 70,-36 64,-36 58,-30 58,-24 58,-24 58,-12 58,-12 58,-6 64,-0 70,-0 70,-0 100,-0 100,-0 106,-0 112,-6 112,-12 112,-12 112,-24 112,-24 112,-30 106,-36 100,-36\"/>\r\n",
       "<text text-anchor=\"middle\" x=\"85\" y=\"-14.3\" font-family=\"Helvetica,sans-Serif\" font-size=\"14.00\">(...)</text>\r\n",
       "</g>\r\n",
       "<!-- 2&#45;&gt;3 -->\r\n",
       "<g id=\"edge3\" class=\"edge\"><title>2&#45;&gt;3</title>\r\n",
       "<path fill=\"none\" stroke=\"black\" d=\"M107.184,-71.9961C103.536,-63.2804 99.6447,-53.9846 96.1564,-45.6514\"/>\r\n",
       "<polygon fill=\"black\" stroke=\"black\" points=\"99.3751,-44.2763 92.2851,-36.4034 92.918,-46.9793 99.3751,-44.2763\"/>\r\n",
       "</g>\r\n",
       "<!-- 296 -->\r\n",
       "<g id=\"node5\" class=\"node\"><title>296</title>\r\n",
       "<path fill=\"#c0c0c0\" stroke=\"black\" d=\"M172,-36C172,-36 142,-36 142,-36 136,-36 130,-30 130,-24 130,-24 130,-12 130,-12 130,-6 136,-0 142,-0 142,-0 172,-0 172,-0 178,-0 184,-6 184,-12 184,-12 184,-24 184,-24 184,-30 178,-36 172,-36\"/>\r\n",
       "<text text-anchor=\"middle\" x=\"157\" y=\"-14.3\" font-family=\"Helvetica,sans-Serif\" font-size=\"14.00\">(...)</text>\r\n",
       "</g>\r\n",
       "<!-- 2&#45;&gt;296 -->\r\n",
       "<g id=\"edge4\" class=\"edge\"><title>2&#45;&gt;296</title>\r\n",
       "<path fill=\"none\" stroke=\"black\" d=\"M134.816,-71.9961C138.464,-63.2804 142.355,-53.9846 145.844,-45.6514\"/>\r\n",
       "<polygon fill=\"black\" stroke=\"black\" points=\"149.082,-46.9793 149.715,-36.4034 142.625,-44.2763 149.082,-46.9793\"/>\r\n",
       "</g>\r\n",
       "<!-- 678 -->\r\n",
       "<g id=\"node7\" class=\"node\"><title>678</title>\r\n",
       "<path fill=\"#c0c0c0\" stroke=\"black\" d=\"M360,-36C360,-36 330,-36 330,-36 324,-36 318,-30 318,-24 318,-24 318,-12 318,-12 318,-6 324,-0 330,-0 330,-0 360,-0 360,-0 366,-0 372,-6 372,-12 372,-12 372,-24 372,-24 372,-30 366,-36 360,-36\"/>\r\n",
       "<text text-anchor=\"middle\" x=\"345\" y=\"-14.3\" font-family=\"Helvetica,sans-Serif\" font-size=\"14.00\">(...)</text>\r\n",
       "</g>\r\n",
       "<!-- 677&#45;&gt;678 -->\r\n",
       "<g id=\"edge6\" class=\"edge\"><title>677&#45;&gt;678</title>\r\n",
       "<path fill=\"none\" stroke=\"black\" d=\"M367.184,-71.9961C363.536,-63.2804 359.645,-53.9846 356.156,-45.6514\"/>\r\n",
       "<polygon fill=\"black\" stroke=\"black\" points=\"359.375,-44.2763 352.285,-36.4034 352.918,-46.9793 359.375,-44.2763\"/>\r\n",
       "</g>\r\n",
       "<!-- 1201 -->\r\n",
       "<g id=\"node8\" class=\"node\"><title>1201</title>\r\n",
       "<path fill=\"#c0c0c0\" stroke=\"black\" d=\"M432,-36C432,-36 402,-36 402,-36 396,-36 390,-30 390,-24 390,-24 390,-12 390,-12 390,-6 396,-0 402,-0 402,-0 432,-0 432,-0 438,-0 444,-6 444,-12 444,-12 444,-24 444,-24 444,-30 438,-36 432,-36\"/>\r\n",
       "<text text-anchor=\"middle\" x=\"417\" y=\"-14.3\" font-family=\"Helvetica,sans-Serif\" font-size=\"14.00\">(...)</text>\r\n",
       "</g>\r\n",
       "<!-- 677&#45;&gt;1201 -->\r\n",
       "<g id=\"edge7\" class=\"edge\"><title>677&#45;&gt;1201</title>\r\n",
       "<path fill=\"none\" stroke=\"black\" d=\"M394.816,-71.9961C398.464,-63.2804 402.355,-53.9846 405.844,-45.6514\"/>\r\n",
       "<polygon fill=\"black\" stroke=\"black\" points=\"409.082,-46.9793 409.715,-36.4034 402.625,-44.2763 409.082,-46.9793\"/>\r\n",
       "</g>\r\n",
       "<!-- 1597 -->\r\n",
       "<g id=\"node10\" class=\"node\"><title>1597</title>\r\n",
       "<path fill=\"#c0f7f6\" stroke=\"black\" d=\"M760,-140C760,-140 542,-140 542,-140 536,-140 530,-134 530,-128 530,-128 530,-84 530,-84 530,-78 536,-72 542,-72 542,-72 760,-72 760,-72 766,-72 772,-78 772,-84 772,-84 772,-128 772,-128 772,-134 766,-140 760,-140\"/>\r\n",
       "<text text-anchor=\"middle\" x=\"651\" y=\"-124.8\" font-family=\"Helvetica,sans-Serif\" font-size=\"14.00\">citric acid &lt;= 0.235</text>\r\n",
       "<text text-anchor=\"middle\" x=\"651\" y=\"-109.8\" font-family=\"Helvetica,sans-Serif\" font-size=\"14.00\">entropy = 1.856</text>\r\n",
       "<text text-anchor=\"middle\" x=\"651\" y=\"-94.8\" font-family=\"Helvetica,sans-Serif\" font-size=\"14.00\">samples = 895</text>\r\n",
       "<text text-anchor=\"middle\" x=\"651\" y=\"-79.8\" font-family=\"Helvetica,sans-Serif\" font-size=\"14.00\">value = [7, 33, 157, 438, 226, 34, 0]</text>\r\n",
       "</g>\r\n",
       "<!-- 1596&#45;&gt;1597 -->\r\n",
       "<g id=\"edge9\" class=\"edge\"><title>1596&#45;&gt;1597</title>\r\n",
       "<path fill=\"none\" stroke=\"black\" d=\"M654.377,-175.884C653.979,-167.778 653.548,-158.982 653.131,-150.472\"/>\r\n",
       "<polygon fill=\"black\" stroke=\"black\" points=\"656.618,-150.116 652.632,-140.299 649.626,-150.459 656.618,-150.116\"/>\r\n",
       "</g>\r\n",
       "<!-- 2112 -->\r\n",
       "<g id=\"node13\" class=\"node\"><title>2112</title>\r\n",
       "<path fill=\"#edfdfc\" stroke=\"black\" d=\"M1011.5,-140C1011.5,-140 802.5,-140 802.5,-140 796.5,-140 790.5,-134 790.5,-128 790.5,-128 790.5,-84 790.5,-84 790.5,-78 796.5,-72 802.5,-72 802.5,-72 1011.5,-72 1011.5,-72 1017.5,-72 1023.5,-78 1023.5,-84 1023.5,-84 1023.5,-128 1023.5,-128 1023.5,-134 1017.5,-140 1011.5,-140\"/>\r\n",
       "<text text-anchor=\"middle\" x=\"907\" y=\"-124.8\" font-family=\"Helvetica,sans-Serif\" font-size=\"14.00\">free sulfur dioxide &lt;= 21.5</text>\r\n",
       "<text text-anchor=\"middle\" x=\"907\" y=\"-109.8\" font-family=\"Helvetica,sans-Serif\" font-size=\"14.00\">entropy = 1.712</text>\r\n",
       "<text text-anchor=\"middle\" x=\"907\" y=\"-94.8\" font-family=\"Helvetica,sans-Serif\" font-size=\"14.00\">samples = 956</text>\r\n",
       "<text text-anchor=\"middle\" x=\"907\" y=\"-79.8\" font-family=\"Helvetica,sans-Serif\" font-size=\"14.00\">value = [2, 11, 51, 427, 373, 89, 3]</text>\r\n",
       "</g>\r\n",
       "<!-- 1596&#45;&gt;2112 -->\r\n",
       "<g id=\"edge12\" class=\"edge\"><title>1596&#45;&gt;2112</title>\r\n",
       "<path fill=\"none\" stroke=\"black\" d=\"M737.493,-175.884C762.608,-165.677 790.415,-154.377 816.121,-143.931\"/>\r\n",
       "<polygon fill=\"black\" stroke=\"black\" points=\"817.541,-147.132 825.487,-140.125 814.905,-140.647 817.541,-147.132\"/>\r\n",
       "</g>\r\n",
       "<!-- 1598 -->\r\n",
       "<g id=\"node11\" class=\"node\"><title>1598</title>\r\n",
       "<path fill=\"#c0c0c0\" stroke=\"black\" d=\"M630,-36C630,-36 600,-36 600,-36 594,-36 588,-30 588,-24 588,-24 588,-12 588,-12 588,-6 594,-0 600,-0 600,-0 630,-0 630,-0 636,-0 642,-6 642,-12 642,-12 642,-24 642,-24 642,-30 636,-36 630,-36\"/>\r\n",
       "<text text-anchor=\"middle\" x=\"615\" y=\"-14.3\" font-family=\"Helvetica,sans-Serif\" font-size=\"14.00\">(...)</text>\r\n",
       "</g>\r\n",
       "<!-- 1597&#45;&gt;1598 -->\r\n",
       "<g id=\"edge10\" class=\"edge\"><title>1597&#45;&gt;1598</title>\r\n",
       "<path fill=\"none\" stroke=\"black\" d=\"M637.184,-71.9961C633.536,-63.2804 629.645,-53.9846 626.156,-45.6514\"/>\r\n",
       "<polygon fill=\"black\" stroke=\"black\" points=\"629.375,-44.2763 622.285,-36.4034 622.918,-46.9793 629.375,-44.2763\"/>\r\n",
       "</g>\r\n",
       "<!-- 1683 -->\r\n",
       "<g id=\"node12\" class=\"node\"><title>1683</title>\r\n",
       "<path fill=\"#c0c0c0\" stroke=\"black\" d=\"M702,-36C702,-36 672,-36 672,-36 666,-36 660,-30 660,-24 660,-24 660,-12 660,-12 660,-6 666,-0 672,-0 672,-0 702,-0 702,-0 708,-0 714,-6 714,-12 714,-12 714,-24 714,-24 714,-30 708,-36 702,-36\"/>\r\n",
       "<text text-anchor=\"middle\" x=\"687\" y=\"-14.3\" font-family=\"Helvetica,sans-Serif\" font-size=\"14.00\">(...)</text>\r\n",
       "</g>\r\n",
       "<!-- 1597&#45;&gt;1683 -->\r\n",
       "<g id=\"edge11\" class=\"edge\"><title>1597&#45;&gt;1683</title>\r\n",
       "<path fill=\"none\" stroke=\"black\" d=\"M664.816,-71.9961C668.464,-63.2804 672.355,-53.9846 675.844,-45.6514\"/>\r\n",
       "<polygon fill=\"black\" stroke=\"black\" points=\"679.082,-46.9793 679.715,-36.4034 672.625,-44.2763 679.082,-46.9793\"/>\r\n",
       "</g>\r\n",
       "<!-- 2113 -->\r\n",
       "<g id=\"node14\" class=\"node\"><title>2113</title>\r\n",
       "<path fill=\"#c0c0c0\" stroke=\"black\" d=\"M886,-36C886,-36 856,-36 856,-36 850,-36 844,-30 844,-24 844,-24 844,-12 844,-12 844,-6 850,-0 856,-0 856,-0 886,-0 886,-0 892,-0 898,-6 898,-12 898,-12 898,-24 898,-24 898,-30 892,-36 886,-36\"/>\r\n",
       "<text text-anchor=\"middle\" x=\"871\" y=\"-14.3\" font-family=\"Helvetica,sans-Serif\" font-size=\"14.00\">(...)</text>\r\n",
       "</g>\r\n",
       "<!-- 2112&#45;&gt;2113 -->\r\n",
       "<g id=\"edge13\" class=\"edge\"><title>2112&#45;&gt;2113</title>\r\n",
       "<path fill=\"none\" stroke=\"black\" d=\"M893.184,-71.9961C889.536,-63.2804 885.645,-53.9846 882.156,-45.6514\"/>\r\n",
       "<polygon fill=\"black\" stroke=\"black\" points=\"885.375,-44.2763 878.285,-36.4034 878.918,-46.9793 885.375,-44.2763\"/>\r\n",
       "</g>\r\n",
       "<!-- 2318 -->\r\n",
       "<g id=\"node15\" class=\"node\"><title>2318</title>\r\n",
       "<path fill=\"#c0c0c0\" stroke=\"black\" d=\"M958,-36C958,-36 928,-36 928,-36 922,-36 916,-30 916,-24 916,-24 916,-12 916,-12 916,-6 922,-0 928,-0 928,-0 958,-0 958,-0 964,-0 970,-6 970,-12 970,-12 970,-24 970,-24 970,-30 964,-36 958,-36\"/>\r\n",
       "<text text-anchor=\"middle\" x=\"943\" y=\"-14.3\" font-family=\"Helvetica,sans-Serif\" font-size=\"14.00\">(...)</text>\r\n",
       "</g>\r\n",
       "<!-- 2112&#45;&gt;2318 -->\r\n",
       "<g id=\"edge14\" class=\"edge\"><title>2112&#45;&gt;2318</title>\r\n",
       "<path fill=\"none\" stroke=\"black\" d=\"M920.816,-71.9961C924.464,-63.2804 928.355,-53.9846 931.844,-45.6514\"/>\r\n",
       "<polygon fill=\"black\" stroke=\"black\" points=\"935.082,-46.9793 935.715,-36.4034 928.625,-44.2763 935.082,-46.9793\"/>\r\n",
       "</g>\r\n",
       "</g>\r\n",
       "</svg>\r\n"
      ],
      "text/plain": [
       "<graphviz.files.Source at 0xb935860>"
      ]
     },
     "execution_count": 454,
     "metadata": {},
     "output_type": "execute_result"
    }
   ],
   "source": [
    "dot_data = tree.export_graphviz(clf, out_file=None, max_depth=2, feature_names=list(X.columns.values), filled=True, rounded=True)\n",
    "graphviz.Source(dot_data)"
   ]
  },
  {
   "cell_type": "code",
   "execution_count": 456,
   "metadata": {},
   "outputs": [
    {
     "data": {
      "text/plain": [
       "1.0"
      ]
     },
     "execution_count": 456,
     "metadata": {},
     "output_type": "execute_result"
    }
   ],
   "source": [
    "clf.score(train_X, train_y)"
   ]
  },
  {
   "cell_type": "code",
   "execution_count": 457,
   "metadata": {},
   "outputs": [
    {
     "data": {
      "text/plain": [
       "0.6053846153846154"
      ]
     },
     "execution_count": 457,
     "metadata": {},
     "output_type": "execute_result"
    }
   ],
   "source": [
    "clf.score(test_X, test_y)"
   ]
  },
  {
   "cell_type": "code",
   "execution_count": 458,
   "metadata": {},
   "outputs": [
    {
     "data": {
      "text/plain": [
       "25"
      ]
     },
     "execution_count": 458,
     "metadata": {},
     "output_type": "execute_result"
    }
   ],
   "source": [
    "clf.tree_.max_depth"
   ]
  },
  {
   "cell_type": "code",
   "execution_count": 428,
   "metadata": {
    "scrolled": true
   },
   "outputs": [
    {
     "data": {
      "text/plain": [
       "[('fixed acidity', 0.06957478233276009),\n",
       " ('volatile acidity', 0.11176538569824963),\n",
       " ('citric acid', 0.08150086634846478),\n",
       " ('residual sugar', 0.07674520277498954),\n",
       " ('chlorides', 0.07831096068690979),\n",
       " ('free sulfur dioxide', 0.08784699396671765),\n",
       " ('total sulfur dioxide', 0.09095037698932752),\n",
       " ('density', 0.06068498410858165),\n",
       " ('pH', 0.08466020437836452),\n",
       " ('sulphates', 0.09054300498106997),\n",
       " ('alcohol', 0.16741723773456493)]"
      ]
     },
     "execution_count": 428,
     "metadata": {},
     "output_type": "execute_result"
    }
   ],
   "source": [
    "list(zip(X.columns, clf.feature_importances_))"
   ]
  },
  {
   "cell_type": "code",
   "execution_count": 429,
   "metadata": {},
   "outputs": [
    {
     "data": {
      "text/plain": [
       "array([3, 4, 5, 6, 7, 8, 9], dtype=int64)"
      ]
     },
     "execution_count": 429,
     "metadata": {},
     "output_type": "execute_result"
    }
   ],
   "source": [
    "clf.classes_"
   ]
  },
  {
   "cell_type": "code",
   "execution_count": 430,
   "metadata": {},
   "outputs": [
    {
     "data": {
      "text/plain": [
       "11"
      ]
     },
     "execution_count": 430,
     "metadata": {},
     "output_type": "execute_result"
    }
   ],
   "source": [
    "clf.max_features_"
   ]
  },
  {
   "cell_type": "code",
   "execution_count": 431,
   "metadata": {},
   "outputs": [
    {
     "data": {
      "text/plain": [
       "7"
      ]
     },
     "execution_count": 431,
     "metadata": {},
     "output_type": "execute_result"
    }
   ],
   "source": [
    "clf.n_classes_"
   ]
  },
  {
   "cell_type": "code",
   "execution_count": 432,
   "metadata": {},
   "outputs": [
    {
     "data": {
      "text/plain": [
       "11"
      ]
     },
     "execution_count": 432,
     "metadata": {},
     "output_type": "execute_result"
    }
   ],
   "source": [
    "clf.n_features_"
   ]
  },
  {
   "cell_type": "code",
   "execution_count": 459,
   "metadata": {},
   "outputs": [
    {
     "data": {
      "text/plain": [
       "1330"
      ]
     },
     "execution_count": 459,
     "metadata": {},
     "output_type": "execute_result"
    }
   ],
   "source": [
    "clf.tree_.n_leaves\n"
   ]
  },
  {
   "cell_type": "code",
   "execution_count": 460,
   "metadata": {},
   "outputs": [
    {
     "data": {
      "text/plain": [
       "25"
      ]
     },
     "execution_count": 460,
     "metadata": {},
     "output_type": "execute_result"
    }
   ],
   "source": [
    "clf.tree_.max_depth"
   ]
  },
  {
   "cell_type": "code",
   "execution_count": 434,
   "metadata": {},
   "outputs": [
    {
     "data": {
      "text/plain": [
       "25"
      ]
     },
     "execution_count": 434,
     "metadata": {},
     "output_type": "execute_result"
    }
   ],
   "source": []
  },
  {
   "cell_type": "code",
   "execution_count": null,
   "metadata": {},
   "outputs": [],
   "source": []
  },
  {
   "cell_type": "code",
   "execution_count": null,
   "metadata": {},
   "outputs": [],
   "source": []
  },
  {
   "cell_type": "code",
   "execution_count": null,
   "metadata": {},
   "outputs": [],
   "source": []
  },
  {
   "cell_type": "markdown",
   "metadata": {},
   "source": [
    "# 실습3. 전체 와인셋(red+ white)에 대해 depth가(2부터 20까지 중에 최적 depth 찾기)"
   ]
  },
  {
   "cell_type": "code",
   "execution_count": 438,
   "metadata": {},
   "outputs": [],
   "source": [
    "new_red = wine_red.copy()\n",
    "new_white = wine_white.copy()\n",
    "\n",
    "wine = new_red.append(new_white, ignore_index=True)\n",
    "\n",
    "X = wine.drop('quality', axis=1)\n",
    "y = wine['quality']\n",
    "\n",
    "from sklearn.model_selection import train_test_split\n",
    "train_X, test_X, train_y, test_y = train_test_split(X, y, stratify=y, random_state=42, test_size=.2)"
   ]
  },
  {
   "cell_type": "code",
   "execution_count": 439,
   "metadata": {},
   "outputs": [
    {
     "data": {
      "text/plain": [
       "DecisionTreeClassifier(class_weight=None, criterion='entropy', max_depth=None,\n",
       "                       max_features=None, max_leaf_nodes=None,\n",
       "                       min_impurity_decrease=0.0, min_impurity_split=None,\n",
       "                       min_samples_leaf=1, min_samples_split=2,\n",
       "                       min_weight_fraction_leaf=0.0, presort=False,\n",
       "                       random_state=0, splitter='best')"
      ]
     },
     "execution_count": 439,
     "metadata": {},
     "output_type": "execute_result"
    }
   ],
   "source": [
    "from sklearn import tree\n",
    "\n",
    "\"\"\"\n",
    "DecisionTreeClassifier(criterion=’gini’, splitter=’best’, max_depth=None, min_samples_split=2, min_samples_leaf=1, \n",
    "                       min_weight_fraction_leaf=0.0, max_features=None, random_state=None, max_leaf_nodes=None, \n",
    "                       min_impurity_decrease=0.0, min_impurity_split=None, class_weight=None, presort=False)\n",
    "\n",
    "# scikit-learn uses an optimised version of the CART algorithm.\n",
    "                       \n",
    "# criterion: entropy or gini\n",
    "The function to measure the quality of a split. \n",
    "Supported criteria are “gini” for the Gini impurity and “entropy” for the information gain.\n",
    "\n",
    "# max_depth : int or None, optional (default=None)\n",
    "The maximum depth of the tree. \n",
    "If None, then nodes are expanded until all leaves are pure or until all leaves contain less than min_samples_split sample\n",
    "\n",
    "# random_state: 난수값\n",
    "\n",
    "# min_samples_split: 분할 되기 위해 노드가 가져야 하는 최소 샘플 수 \n",
    "# min_samples_leaf: 리프 노드가 가지고 있어야 할 최소 샘플 수\n",
    "# max_leaf_nodes: 리프 노드의 최대 수\n",
    "# max_features: 노드에서 분할에 사용할 특성의 최대 수 \n",
    "\n",
    "# max_features : int, float, string or None, optional (default=”auto”)\n",
    "The number of features to consider when looking for the best split:\n",
    "\n",
    "If int, then consider max_features features at each split.\n",
    "If float, then max_features is a fraction and int(max_features * n_features) features are considered at each split.\n",
    "If “auto”, then max_features=sqrt(n_features).\n",
    "If “sqrt”, then max_features=sqrt(n_features) (same as “auto”).\n",
    "If “log2”, then max_features=log2(n_features).\n",
    "If None, then max_features=n_features.\n",
    "\n",
    "\"\"\"\n",
    "clf = tree.DecisionTreeClassifier('entropy', \n",
    "                                  random_state=0)\n",
    "\n",
    "clf.fit(train_X, train_y)\n"
   ]
  },
  {
   "cell_type": "code",
   "execution_count": 447,
   "metadata": {},
   "outputs": [],
   "source": [
    "max_score = -1\n",
    "best_clf = None\n",
    "\n",
    "for x in range(1, 90):\n",
    "    clf = tree.DecisionTreeClassifier('entropy', \n",
    "                                  random_state=0, max_depth=x)\n",
    "    clf.fit(train_X, train_y)\n",
    "    \n",
    "    score = clf.score(test_X, test_y)\n",
    "    \n",
    "    if score > max_score:\n",
    "        best_clf = clf\n",
    "        max_score= score"
   ]
  },
  {
   "cell_type": "code",
   "execution_count": 448,
   "metadata": {
    "scrolled": true
   },
   "outputs": [
    {
     "data": {
      "text/plain": [
       "0.6084615384615385"
      ]
     },
     "execution_count": 448,
     "metadata": {},
     "output_type": "execute_result"
    }
   ],
   "source": [
    "max_score"
   ]
  },
  {
   "cell_type": "code",
   "execution_count": 449,
   "metadata": {},
   "outputs": [
    {
     "data": {
      "text/plain": [
       "DecisionTreeClassifier(class_weight=None, criterion='entropy', max_depth=22,\n",
       "                       max_features=None, max_leaf_nodes=None,\n",
       "                       min_impurity_decrease=0.0, min_impurity_split=None,\n",
       "                       min_samples_leaf=1, min_samples_split=2,\n",
       "                       min_weight_fraction_leaf=0.0, presort=False,\n",
       "                       random_state=0, splitter='best')"
      ]
     },
     "execution_count": 449,
     "metadata": {},
     "output_type": "execute_result"
    }
   ],
   "source": [
    "best_clf"
   ]
  },
  {
   "cell_type": "code",
   "execution_count": null,
   "metadata": {},
   "outputs": [],
   "source": []
  },
  {
   "cell_type": "code",
   "execution_count": 462,
   "metadata": {},
   "outputs": [],
   "source": [
    "X = wine.drop('quality', axis=1)\n",
    "y = wine['quality']"
   ]
  },
  {
   "cell_type": "code",
   "execution_count": 463,
   "metadata": {},
   "outputs": [],
   "source": [
    "train_X, test_X, train_y, test_y = train_test_split(X, y, stratify=y, random_state=42, test_size=.2)"
   ]
  },
  {
   "cell_type": "code",
   "execution_count": 464,
   "metadata": {},
   "outputs": [
    {
     "data": {
      "text/plain": [
       "DecisionTreeClassifier(class_weight=None, criterion='entropy', max_depth=None,\n",
       "                       max_features=3, max_leaf_nodes=None,\n",
       "                       min_impurity_decrease=0.0, min_impurity_split=None,\n",
       "                       min_samples_leaf=1, min_samples_split=2,\n",
       "                       min_weight_fraction_leaf=0.0, presort=False,\n",
       "                       random_state=42, splitter='best')"
      ]
     },
     "execution_count": 464,
     "metadata": {},
     "output_type": "execute_result"
    }
   ],
   "source": [
    "from sklearn import tree\n",
    "import numpy\n",
    "\n",
    "clf = tree.DecisionTreeClassifier(\n",
    "    'gini', \n",
    "    random_state=42, \n",
    "    max_features='auto')\n",
    "\n",
    "clf2 = tree.DecisionTreeClassifier(\n",
    "    'entropy', random_state=42, max_features=10\n",
    ")\n",
    "\n",
    "clf3 = tree.DecisionTreeClassifier(\n",
    "    'entropy', random_state=42, max_features=8\n",
    ")\n",
    "\n",
    "clf4 = tree.DecisionTreeClassifier(\n",
    "    'entropy', random_state=42, max_features=5\n",
    ")\n",
    "clf5= tree.DecisionTreeClassifier(\n",
    "    'entropy', random_state=42, max_features=3\n",
    ")\n",
    "clf.fit(train_X, train_y)\n",
    "clf2.fit(train_X, train_y)\n",
    "clf3.fit(train_X, train_y)\n",
    "clf4.fit(train_X, train_y)\n",
    "clf5.fit(train_X, train_y)"
   ]
  },
  {
   "cell_type": "code",
   "execution_count": 467,
   "metadata": {},
   "outputs": [
    {
     "name": "stdout",
     "output_type": "stream",
     "text": [
      "26\n",
      "30\n",
      "29\n",
      "25\n",
      "25\n"
     ]
    }
   ],
   "source": [
    "print(clf.tree_.max_depth)\n",
    "print(clf2.tree_.max_depth)\n",
    "print(clf3.tree_.max_depth)\n",
    "print(clf4.tree_.max_depth)\n",
    "print(clf5.tree_.max_depth)"
   ]
  },
  {
   "cell_type": "code",
   "execution_count": null,
   "metadata": {},
   "outputs": [],
   "source": []
  },
  {
   "cell_type": "code",
   "execution_count": 469,
   "metadata": {},
   "outputs": [
    {
     "data": {
      "text/html": [
       "<div>\n",
       "<style scoped>\n",
       "    .dataframe tbody tr th:only-of-type {\n",
       "        vertical-align: middle;\n",
       "    }\n",
       "\n",
       "    .dataframe tbody tr th {\n",
       "        vertical-align: top;\n",
       "    }\n",
       "\n",
       "    .dataframe thead th {\n",
       "        text-align: right;\n",
       "    }\n",
       "</style>\n",
       "<table border=\"1\" class=\"dataframe\">\n",
       "  <thead>\n",
       "    <tr style=\"text-align: right;\">\n",
       "      <th></th>\n",
       "      <th>fixed acidity</th>\n",
       "      <th>volatile acidity</th>\n",
       "      <th>citric acid</th>\n",
       "      <th>residual sugar</th>\n",
       "      <th>chlorides</th>\n",
       "      <th>free sulfur dioxide</th>\n",
       "      <th>total sulfur dioxide</th>\n",
       "      <th>density</th>\n",
       "      <th>pH</th>\n",
       "      <th>sulphates</th>\n",
       "      <th>alcohol</th>\n",
       "      <th>quality</th>\n",
       "    </tr>\n",
       "  </thead>\n",
       "  <tbody>\n",
       "    <tr>\n",
       "      <th>0</th>\n",
       "      <td>7.4</td>\n",
       "      <td>0.70</td>\n",
       "      <td>0.00</td>\n",
       "      <td>1.9</td>\n",
       "      <td>0.076</td>\n",
       "      <td>11.0</td>\n",
       "      <td>34.0</td>\n",
       "      <td>0.9978</td>\n",
       "      <td>3.51</td>\n",
       "      <td>0.56</td>\n",
       "      <td>9.4</td>\n",
       "      <td>5</td>\n",
       "    </tr>\n",
       "    <tr>\n",
       "      <th>1</th>\n",
       "      <td>7.8</td>\n",
       "      <td>0.88</td>\n",
       "      <td>0.00</td>\n",
       "      <td>2.6</td>\n",
       "      <td>0.098</td>\n",
       "      <td>25.0</td>\n",
       "      <td>67.0</td>\n",
       "      <td>0.9968</td>\n",
       "      <td>3.20</td>\n",
       "      <td>0.68</td>\n",
       "      <td>9.8</td>\n",
       "      <td>5</td>\n",
       "    </tr>\n",
       "    <tr>\n",
       "      <th>2</th>\n",
       "      <td>7.8</td>\n",
       "      <td>0.76</td>\n",
       "      <td>0.04</td>\n",
       "      <td>2.3</td>\n",
       "      <td>0.092</td>\n",
       "      <td>15.0</td>\n",
       "      <td>54.0</td>\n",
       "      <td>0.9970</td>\n",
       "      <td>3.26</td>\n",
       "      <td>0.65</td>\n",
       "      <td>9.8</td>\n",
       "      <td>5</td>\n",
       "    </tr>\n",
       "    <tr>\n",
       "      <th>3</th>\n",
       "      <td>11.2</td>\n",
       "      <td>0.28</td>\n",
       "      <td>0.56</td>\n",
       "      <td>1.9</td>\n",
       "      <td>0.075</td>\n",
       "      <td>17.0</td>\n",
       "      <td>60.0</td>\n",
       "      <td>0.9980</td>\n",
       "      <td>3.16</td>\n",
       "      <td>0.58</td>\n",
       "      <td>9.8</td>\n",
       "      <td>6</td>\n",
       "    </tr>\n",
       "    <tr>\n",
       "      <th>4</th>\n",
       "      <td>7.4</td>\n",
       "      <td>0.70</td>\n",
       "      <td>0.00</td>\n",
       "      <td>1.9</td>\n",
       "      <td>0.076</td>\n",
       "      <td>11.0</td>\n",
       "      <td>34.0</td>\n",
       "      <td>0.9978</td>\n",
       "      <td>3.51</td>\n",
       "      <td>0.56</td>\n",
       "      <td>9.4</td>\n",
       "      <td>5</td>\n",
       "    </tr>\n",
       "  </tbody>\n",
       "</table>\n",
       "</div>"
      ],
      "text/plain": [
       "   fixed acidity  volatile acidity  citric acid  residual sugar  chlorides  \\\n",
       "0            7.4              0.70         0.00             1.9      0.076   \n",
       "1            7.8              0.88         0.00             2.6      0.098   \n",
       "2            7.8              0.76         0.04             2.3      0.092   \n",
       "3           11.2              0.28         0.56             1.9      0.075   \n",
       "4            7.4              0.70         0.00             1.9      0.076   \n",
       "\n",
       "   free sulfur dioxide  total sulfur dioxide  density    pH  sulphates  \\\n",
       "0                 11.0                  34.0   0.9978  3.51       0.56   \n",
       "1                 25.0                  67.0   0.9968  3.20       0.68   \n",
       "2                 15.0                  54.0   0.9970  3.26       0.65   \n",
       "3                 17.0                  60.0   0.9980  3.16       0.58   \n",
       "4                 11.0                  34.0   0.9978  3.51       0.56   \n",
       "\n",
       "   alcohol  quality  \n",
       "0      9.4        5  \n",
       "1      9.8        5  \n",
       "2      9.8        5  \n",
       "3      9.8        6  \n",
       "4      9.4        5  "
      ]
     },
     "execution_count": 469,
     "metadata": {},
     "output_type": "execute_result"
    }
   ],
   "source": [
    "wine.head()"
   ]
  },
  {
   "cell_type": "code",
   "execution_count": 470,
   "metadata": {},
   "outputs": [
    {
     "data": {
      "text/plain": [
       "6497"
      ]
     },
     "execution_count": 470,
     "metadata": {},
     "output_type": "execute_result"
    }
   ],
   "source": [
    "len(wine)"
   ]
  }
 ],
 "metadata": {
  "kernelspec": {
   "display_name": "Python 3",
   "language": "python",
   "name": "python3"
  },
  "language_info": {
   "codemirror_mode": {
    "name": "ipython",
    "version": 3
   },
   "file_extension": ".py",
   "mimetype": "text/x-python",
   "name": "python",
   "nbconvert_exporter": "python",
   "pygments_lexer": "ipython3",
   "version": "3.6.8"
  }
 },
 "nbformat": 4,
 "nbformat_minor": 2
}
