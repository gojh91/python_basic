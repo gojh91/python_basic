{
 "cells": [
  {
   "cell_type": "code",
   "execution_count": 1,
   "metadata": {},
   "outputs": [],
   "source": [
    "import torch.cuda # GPU 지원\n",
    "from torch import Storage # 1차원 배열, single data type 저장소\n",
    "import torch.nn # NN 모듈s --> Parameter, Container, Layer, Utility\n",
    "import torch.nn.functional # NN functions\n",
    "import torch.nn.init # initialize \n",
    "import torch.optim # 최적화 알고리즘\n",
    "import torch.autograd # Gradient 자동 계산\n"
   ]
  },
  {
   "cell_type": "code",
   "execution_count": 2,
   "metadata": {},
   "outputs": [],
   "source": [
    "import torch.distributed # 분산처리\n",
    "import torch.distributions # 분포\n",
    "\n",
    "import torch.multiprocessing # 멀티프로세싱 모듈 wrapper"
   ]
  },
  {
   "cell_type": "code",
   "execution_count": 3,
   "metadata": {},
   "outputs": [],
   "source": [
    "import torch.utils \n",
    "from torch.utils import bottleneck # Bottleneck 디버깅\n",
    "from torch.utils import checkpoint \n",
    "from torch.utils import cpp_extension # cpp3지원\n",
    "from torch.utils import data\n",
    "from torch.utils import dlpack\n",
    "from torch.utils import model_zoo"
   ]
  },
  {
   "cell_type": "code",
   "execution_count": 4,
   "metadata": {},
   "outputs": [],
   "source": [
    "import torch.jit # Torch Script"
   ]
  },
  {
   "cell_type": "code",
   "execution_count": 5,
   "metadata": {},
   "outputs": [],
   "source": [
    "import numpy as np"
   ]
  },
  {
   "cell_type": "markdown",
   "metadata": {},
   "source": [
    "# 텐서 (Tensor) 기본\n",
    "- [torch.Tensor](https://pytorch.org/docs/stable/tensors.html)"
   ]
  },
  {
   "cell_type": "code",
   "execution_count": 24,
   "metadata": {},
   "outputs": [
    {
     "data": {
      "text/plain": [
       "tensor([[8.2957e-43, 0.0000e+00],\n",
       "        [1.4013e-45, 0.0000e+00]])"
      ]
     },
     "execution_count": 24,
     "metadata": {},
     "output_type": "execute_result"
    }
   ],
   "source": [
    "torch.Tensor(2,2)"
   ]
  },
  {
   "cell_type": "code",
   "execution_count": 9,
   "metadata": {},
   "outputs": [
    {
     "data": {
      "text/plain": [
       "tensor([[7.8473e-43, 0.0000e+00],\n",
       "        [1.4013e-45, 0.0000e+00]])"
      ]
     },
     "execution_count": 9,
     "metadata": {},
     "output_type": "execute_result"
    }
   ],
   "source": [
    "x = torch.Tensor(2,2) # = torch.FloatTensor\n",
    "x"
   ]
  },
  {
   "cell_type": "code",
   "execution_count": 10,
   "metadata": {},
   "outputs": [
    {
     "name": "stdout",
     "output_type": "stream",
     "text": [
      "type:  torch.FloatTensor\n",
      "size:  torch.Size([2, 2])\n",
      "개수:  4\n"
     ]
    }
   ],
   "source": [
    "print('type: ', x.type())\n",
    "print('size: ', x.size())\n",
    "print('개수: ', x.numel())\n"
   ]
  },
  {
   "cell_type": "code",
   "execution_count": 11,
   "metadata": {},
   "outputs": [
    {
     "data": {
      "text/plain": [
       "tensor([[[[1.2051e-43],\n",
       "          [0.0000e+00]],\n",
       "\n",
       "         [[0.0000e+00],\n",
       "          [0.0000e+00]],\n",
       "\n",
       "         [[0.0000e+00],\n",
       "          [0.0000e+00]]],\n",
       "\n",
       "\n",
       "        [[[0.0000e+00],\n",
       "          [0.0000e+00]],\n",
       "\n",
       "         [[0.0000e+00],\n",
       "          [0.0000e+00]],\n",
       "\n",
       "         [[0.0000e+00],\n",
       "          [0.0000e+00]]],\n",
       "\n",
       "\n",
       "        [[[0.0000e+00],\n",
       "          [0.0000e+00]],\n",
       "\n",
       "         [[0.0000e+00],\n",
       "          [0.0000e+00]],\n",
       "\n",
       "         [[0.0000e+00],\n",
       "          [0.0000e+00]]],\n",
       "\n",
       "\n",
       "        [[[0.0000e+00],\n",
       "          [0.0000e+00]],\n",
       "\n",
       "         [[0.0000e+00],\n",
       "          [0.0000e+00]],\n",
       "\n",
       "         [[0.0000e+00],\n",
       "          [0.0000e+00]]]])"
      ]
     },
     "execution_count": 11,
     "metadata": {},
     "output_type": "execute_result"
    }
   ],
   "source": [
    "# 4차원\n",
    "x2 = torch.Tensor(4,3,2,1)\n",
    "x2"
   ]
  },
  {
   "cell_type": "code",
   "execution_count": 12,
   "metadata": {},
   "outputs": [
    {
     "name": "stdout",
     "output_type": "stream",
     "text": [
      "type:  torch.FloatTensor\n",
      "size:  torch.Size([4, 3, 2, 1])\n",
      "개수:  24\n"
     ]
    }
   ],
   "source": [
    "print('type: ', x2.type())\n",
    "print('size: ', x2.size())\n",
    "print('개수: ', x2.numel())"
   ]
  },
  {
   "cell_type": "markdown",
   "metadata": {},
   "source": [
    "# 텐서를 만드는 또 다른 방법"
   ]
  },
  {
   "cell_type": "code",
   "execution_count": 13,
   "metadata": {},
   "outputs": [
    {
     "name": "stdout",
     "output_type": "stream",
     "text": [
      "a: tensor([[0., 0., 0., 0.],\n",
      "        [0., 0., 0., 0.],\n",
      "        [0., 0., 0., 0.],\n",
      "        [0., 0., 0., 0.]])\n",
      "b: tensor([[1., 1., 1., 1.],\n",
      "        [1., 1., 1., 1.],\n",
      "        [1., 1., 1., 1.],\n",
      "        [1., 1., 1., 1.]])\n",
      "c: tensor([[1., 0., 0., 0.],\n",
      "        [0., 1., 0., 0.],\n",
      "        [0., 0., 1., 0.],\n",
      "        [0., 0., 0., 1.]])\n",
      "d: tensor([[0.5718, 0.9800, 0.6531, 0.7901],\n",
      "        [0.4243, 0.6699, 0.5234, 0.4528],\n",
      "        [0.9779, 0.2034, 0.1950, 0.6633],\n",
      "        [0.0758, 0.1773, 0.6999, 0.1111]])\n",
      "e: tensor([[-0.1951, -1.5715, -0.5372, -1.5828],\n",
      "        [-0.9684, -1.1073, -0.0487, -1.2319],\n",
      "        [-0.4602, -0.9341, -0.0081,  0.6155],\n",
      "        [-0.5450,  0.4151, -0.0992, -0.2881]])\n"
     ]
    }
   ],
   "source": [
    "# 영행렬\n",
    "a = torch.zeros(4, 4)\n",
    "print('a:', a)\n",
    "\n",
    "# 일행렬\n",
    "b = torch.ones(4,4)\n",
    "print('b:',b)\n",
    "\n",
    "# 단위 행렬\n",
    "c = torch.eye(4,4) \n",
    "print('c:',c)\n",
    "\n",
    "# 0과1사이 난수\n",
    "d = torch.rand(4,4)\n",
    "print('d:',d)\n",
    "\n",
    "# 정규분포 추출 N(0,1)\n",
    "e = torch.randn(4,4)\n",
    "print('e:',e)\n"
   ]
  },
  {
   "cell_type": "code",
   "execution_count": 14,
   "metadata": {},
   "outputs": [
    {
     "data": {
      "text/plain": [
       "tensor([0.0000, 0.3000, 0.6000, 0.9000, 1.2000, 1.5000, 1.8000, 2.1000, 2.4000,\n",
       "        2.7000])"
      ]
     },
     "execution_count": 14,
     "metadata": {},
     "output_type": "execute_result"
    }
   ],
   "source": [
    "x3 = torch.arange(0, 3, step=0.3) # np.arange()\n",
    "x3"
   ]
  },
  {
   "cell_type": "code",
   "execution_count": 15,
   "metadata": {},
   "outputs": [
    {
     "data": {
      "text/plain": [
       "tensor([[6., 2.],\n",
       "        [3., 4.],\n",
       "        [5., 6.]])"
      ]
     },
     "execution_count": 15,
     "metadata": {},
     "output_type": "execute_result"
    }
   ],
   "source": [
    "torch.Tensor([[6,2],[3,4],[5,6]])"
   ]
  },
  {
   "cell_type": "code",
   "execution_count": 16,
   "metadata": {},
   "outputs": [
    {
     "data": {
      "text/plain": [
       "array([[ 5,  6],\n",
       "       [10, 11]])"
      ]
     },
     "execution_count": 16,
     "metadata": {},
     "output_type": "execute_result"
    }
   ],
   "source": [
    "numpy_test = np.array([[5,6],[10,11]])\n",
    "numpy_test"
   ]
  },
  {
   "cell_type": "code",
   "execution_count": 19,
   "metadata": {},
   "outputs": [
    {
     "data": {
      "text/plain": [
       "tensor([[ 5,  6],\n",
       "        [10, 11]], dtype=torch.int32)"
      ]
     },
     "execution_count": 19,
     "metadata": {},
     "output_type": "execute_result"
    }
   ],
   "source": [
    "a = torch.from_numpy(numpy_test)\n",
    "a"
   ]
  },
  {
   "cell_type": "code",
   "execution_count": 20,
   "metadata": {},
   "outputs": [
    {
     "data": {
      "text/plain": [
       "array([[ 5,  6],\n",
       "       [10, 11]])"
      ]
     },
     "execution_count": 20,
     "metadata": {},
     "output_type": "execute_result"
    }
   ],
   "source": [
    "a.numpy()"
   ]
  },
  {
   "cell_type": "markdown",
   "metadata": {},
   "source": [
    "# 인덱싱, 슬라이싱"
   ]
  },
  {
   "cell_type": "code",
   "execution_count": null,
   "metadata": {},
   "outputs": [],
   "source": [
    "x4 = torch.Tensor([[1,2,3],[4,5,6],[7,8,9]])\n",
    "x4"
   ]
  },
  {
   "cell_type": "code",
   "execution_count": null,
   "metadata": {},
   "outputs": [],
   "source": [
    "x4[0:2,:]"
   ]
  },
  {
   "cell_type": "code",
   "execution_count": null,
   "metadata": {},
   "outputs": [],
   "source": [
    "x4[1]"
   ]
  },
  {
   "cell_type": "code",
   "execution_count": null,
   "metadata": {},
   "outputs": [],
   "source": [
    "x4[0,:]"
   ]
  },
  {
   "cell_type": "code",
   "execution_count": null,
   "metadata": {},
   "outputs": [],
   "source": [
    "# 값 변경\n",
    "x4[0:1,:] = torch.Tensor([62,72,80])\n",
    "x4"
   ]
  },
  {
   "cell_type": "code",
   "execution_count": null,
   "metadata": {},
   "outputs": [],
   "source": [
    "# 값 변경\n",
    "x4[1] = torch.Tensor([200,78, 89])\n",
    "x4"
   ]
  },
  {
   "cell_type": "code",
   "execution_count": null,
   "metadata": {},
   "outputs": [],
   "source": [
    "# https://pytorch.org/docs/stable/torch.html#torch.split\n",
    "x5 = torch.split(x4, split_size_or_sections=1,dim=0) # split함.\n",
    "x5\n"
   ]
  },
  {
   "cell_type": "code",
   "execution_count": null,
   "metadata": {},
   "outputs": [],
   "source": [
    "a, b, c = x5"
   ]
  },
  {
   "cell_type": "code",
   "execution_count": null,
   "metadata": {},
   "outputs": [],
   "source": [
    "# https://pytorch.org/docs/stable/torch.html#torch.split\n",
    "x6 = torch.split(x4, split_size_or_sections=1,dim=1) # split함.\n",
    "x6"
   ]
  },
  {
   "cell_type": "code",
   "execution_count": null,
   "metadata": {},
   "outputs": [],
   "source": [
    "y1 = torch.cat((a,b,c), dim=1)\n",
    "print(y1)\n",
    "print('size: ', y1.size())"
   ]
  },
  {
   "cell_type": "code",
   "execution_count": null,
   "metadata": {},
   "outputs": [],
   "source": [
    "y2 = torch.cat((a,b,c), dim=0)\n",
    "print(y2)\n",
    "print('size: ', y2.size())"
   ]
  },
  {
   "cell_type": "code",
   "execution_count": null,
   "metadata": {},
   "outputs": [],
   "source": [
    "# 하나 더 쌓기\n",
    "y3 = torch.stack(x5, dim=1)\n",
    "print(y3)\n",
    "print('size: ', y3.size())"
   ]
  },
  {
   "cell_type": "code",
   "execution_count": null,
   "metadata": {},
   "outputs": [],
   "source": [
    "x7 = torch.randn(3,3)\n",
    "print('x7:',x7)\n",
    "print()\n",
    "\n",
    "# mask함수\n",
    "mask  = torch.ByteTensor([[1,0,0],[1,1,1],[0,1,0]])\n",
    "print('mask:', mask)\n",
    "print()\n",
    "\n",
    "out = torch.masked_select(x7, mask)\n",
    "print('masked_select:', out)\n",
    "print()"
   ]
  },
  {
   "cell_type": "markdown",
   "metadata": {},
   "source": [
    "# 차원 변경(Reshape) - View"
   ]
  },
  {
   "cell_type": "code",
   "execution_count": null,
   "metadata": {},
   "outputs": [],
   "source": [
    "x8 = torch.zeros(2,2,1)\n",
    "x8"
   ]
  },
  {
   "cell_type": "code",
   "execution_count": null,
   "metadata": {},
   "outputs": [],
   "source": [
    "x8.view(2,2)"
   ]
  },
  {
   "cell_type": "code",
   "execution_count": null,
   "metadata": {},
   "outputs": [],
   "source": [
    "x8.view(-1) # -1 = Automatic"
   ]
  },
  {
   "cell_type": "code",
   "execution_count": null,
   "metadata": {},
   "outputs": [],
   "source": [
    "x8.view(-1,2)"
   ]
  },
  {
   "cell_type": "code",
   "execution_count": null,
   "metadata": {},
   "outputs": [],
   "source": [
    "x7.view(4)"
   ]
  },
  {
   "cell_type": "code",
   "execution_count": null,
   "metadata": {},
   "outputs": [],
   "source": [
    "x8 = x7.squeeze() # 1차원 빼기\n",
    "print('X7:', x7)\n",
    "print('x7 size:', x7.size())\n",
    "print()\n",
    "print('X8:', x8)\n",
    "print('x8 size:', x8.size())"
   ]
  },
  {
   "cell_type": "code",
   "execution_count": null,
   "metadata": {},
   "outputs": [],
   "source": [
    "# unsqueeze(<차원의 index>)\n",
    "x8.unsqueeze(0)"
   ]
  },
  {
   "cell_type": "markdown",
   "metadata": {},
   "source": [
    "\n",
    "# 연산"
   ]
  },
  {
   "cell_type": "code",
   "execution_count": null,
   "metadata": {},
   "outputs": [],
   "source": [
    "x9 = torch.FloatTensor([[10,20,30],[40,50,60]])\n",
    "x10 = torch.FloatTensor([[1,2,3],[4,5,6]])\n",
    "print('x9: ', x9)\n",
    "print('x10: ', x10)\n"
   ]
  },
  {
   "cell_type": "code",
   "execution_count": null,
   "metadata": {},
   "outputs": [],
   "source": [
    "print(x9  + x10)\n",
    "print(x9.add(x10))\n",
    "print(torch.add(x9, x10))"
   ]
  },
  {
   "cell_type": "code",
   "execution_count": null,
   "metadata": {},
   "outputs": [],
   "source": [
    "print(x9 - x10)\n",
    "print(x9.sub(x10))\n",
    "print(x10.sub(x9))\n",
    "print(torch.sub(x10, x9))"
   ]
  },
  {
   "cell_type": "code",
   "execution_count": null,
   "metadata": {},
   "outputs": [],
   "source": [
    "x10[1] + 12"
   ]
  },
  {
   "cell_type": "code",
   "execution_count": null,
   "metadata": {},
   "outputs": [],
   "source": [
    "\n",
    "print(x9 * x10)\n",
    "print(x9.mul(x10))\n",
    "print(x10.mul(x9))\n",
    "print(torch.mul(x10, x9))\n"
   ]
  },
  {
   "cell_type": "code",
   "execution_count": null,
   "metadata": {},
   "outputs": [],
   "source": [
    "x10 * 10"
   ]
  },
  {
   "cell_type": "markdown",
   "metadata": {},
   "source": [
    "\n",
    "# 연산2"
   ]
  },
  {
   "cell_type": "code",
   "execution_count": null,
   "metadata": {},
   "outputs": [],
   "source": [
    "# 거듭제곱 - power\n",
    "x9.pow(2), torch.pow(x9,2), x9 ** 2"
   ]
  },
  {
   "cell_type": "code",
   "execution_count": null,
   "metadata": {},
   "outputs": [],
   "source": [
    "x9.sqrt()"
   ]
  },
  {
   "cell_type": "code",
   "execution_count": null,
   "metadata": {},
   "outputs": [],
   "source": [
    "print(x10.log())\n",
    "print(torch.log(x10))"
   ]
  },
  {
   "cell_type": "code",
   "execution_count": null,
   "metadata": {},
   "outputs": [],
   "source": [
    "print(x9 % 3)\n",
    "print(x9 / 3)"
   ]
  },
  {
   "cell_type": "code",
   "execution_count": null,
   "metadata": {},
   "outputs": [],
   "source": [
    "print(x9)\n",
    "print(x9.sum())\n",
    "print(x9.sum(0))\n",
    "print(x9.sum(1))"
   ]
  },
  {
   "cell_type": "code",
   "execution_count": null,
   "metadata": {},
   "outputs": [],
   "source": [
    "print(x9)\n",
    "print(x9.max())\n",
    "print()\n",
    "print(x9.max(0))\n",
    "print()\n",
    "print(x9.max(1))"
   ]
  },
  {
   "cell_type": "code",
   "execution_count": null,
   "metadata": {},
   "outputs": [],
   "source": [
    "print(x9)\n",
    "print(x9.min())\n",
    "print()\n",
    "print(x9.min(0))\n",
    "print()\n",
    "print(x9.min(1))"
   ]
  },
  {
   "cell_type": "code",
   "execution_count": null,
   "metadata": {},
   "outputs": [],
   "source": [
    "x10 = torch.tensor([[-1, -2], [3, 4]])\n",
    "x10"
   ]
  },
  {
   "cell_type": "code",
   "execution_count": null,
   "metadata": {},
   "outputs": [],
   "source": [
    "x10.abs()"
   ]
  },
  {
   "cell_type": "code",
   "execution_count": null,
   "metadata": {},
   "outputs": [],
   "source": [
    "x10[1] = torch.Tensor([3, 10])\n",
    "x10"
   ]
  },
  {
   "cell_type": "code",
   "execution_count": null,
   "metadata": {},
   "outputs": [],
   "source": [
    "value, index = x10.max(dim = 0)\n",
    "value, index"
   ]
  },
  {
   "cell_type": "code",
   "execution_count": null,
   "metadata": {},
   "outputs": [],
   "source": [
    "value, index = x10.max(dim = 1)\n",
    "value, index"
   ]
  },
  {
   "cell_type": "code",
   "execution_count": null,
   "metadata": {},
   "outputs": [],
   "source": [
    "x10.max()"
   ]
  },
  {
   "cell_type": "markdown",
   "metadata": {},
   "source": [
    "\n",
    "# 행렬 연산"
   ]
  },
  {
   "cell_type": "code",
   "execution_count": null,
   "metadata": {},
   "outputs": [],
   "source": [
    "x11 = torch.randn(3,5)\n",
    "x12 = torch.randn(5,5)\n",
    "x13 = torch.randn(5,3)\n",
    "x11, x12, x13"
   ]
  },
  {
   "cell_type": "code",
   "execution_count": null,
   "metadata": {},
   "outputs": [],
   "source": [
    "# scalar 연산\n",
    "1.6200 * 1.1375  + 0.3436 * -0.9347 + -0.9112 * 1.3267 + -0.9952 *  -0.0336 + 0.7455 * 1.3210"
   ]
  },
  {
   "cell_type": "code",
   "execution_count": null,
   "metadata": {},
   "outputs": [],
   "source": [
    "# 행렬 연산\n",
    "# matrix-matrix\n",
    "torch.mm(x11,x12), x11.mm(x12)"
   ]
  },
  {
   "cell_type": "code",
   "execution_count": null,
   "metadata": {},
   "outputs": [],
   "source": [
    "# matrix-matrix\n",
    "x11.mm(x12).mm(x13)"
   ]
  },
  {
   "cell_type": "code",
   "execution_count": null,
   "metadata": {},
   "outputs": [],
   "source": [
    "x11.mm(x12).mm(x13).mm(x11)"
   ]
  },
  {
   "cell_type": "code",
   "execution_count": null,
   "metadata": {
    "scrolled": true
   },
   "outputs": [],
   "source": [
    "x14 = torch.randn(3, 4)\n",
    "v = torch.randn(4)\n",
    "\n",
    "x14, v"
   ]
  },
  {
   "cell_type": "code",
   "execution_count": null,
   "metadata": {},
   "outputs": [],
   "source": [
    "-0.4594 * 0.6623 + -1.1798 * 0.2916 +0.3812 * 0.0409+ -0.0064 *  -1.1908"
   ]
  },
  {
   "cell_type": "code",
   "execution_count": null,
   "metadata": {},
   "outputs": [],
   "source": [
    "# # matrix-vector = mv\n",
    "torch.mv(x14,v), x14.mv(v)"
   ]
  },
  {
   "cell_type": "code",
   "execution_count": null,
   "metadata": {},
   "outputs": [],
   "source": [
    "x15 = torch.randn(10,3,4)\n",
    "x16 = torch.randn(10,4,5)\n",
    "\n",
    "# batch matrix-matrix product\n",
    "# (10,3,4).(10,4,5) => (10,3,5)\n",
    "torch.bmm(x15, x16).size()"
   ]
  },
  {
   "cell_type": "code",
   "execution_count": null,
   "metadata": {},
   "outputs": [],
   "source": [
    "torch.bmm(x15, x16)"
   ]
  },
  {
   "cell_type": "code",
   "execution_count": null,
   "metadata": {},
   "outputs": [],
   "source": [
    "x17 = torch.randn(2,2)\n",
    "x18 = torch.randn(2,2)\n",
    "\n",
    "print(x17)\n",
    "print(x18)\n"
   ]
  },
  {
   "cell_type": "code",
   "execution_count": null,
   "metadata": {},
   "outputs": [],
   "source": [
    "print(x17.view(-1))\n",
    "print(x18.view(-1))"
   ]
  },
  {
   "cell_type": "code",
   "execution_count": null,
   "metadata": {},
   "outputs": [],
   "source": [
    "# Computes the dot product (inner product) of two tensors.\n",
    "# 내적\n",
    "torch.dot(x17.view(-1), x18.view(-1))"
   ]
  },
  {
   "cell_type": "code",
   "execution_count": null,
   "metadata": {},
   "outputs": [],
   "source": [
    "x19  = torch.rand(3,4)\n",
    "\n",
    "print(x19)\n",
    "print(x19.size())\n",
    "print()\n",
    "print(x19.t())\n",
    "print(x19.t().size())"
   ]
  },
  {
   "cell_type": "code",
   "execution_count": null,
   "metadata": {},
   "outputs": [],
   "source": [
    "# distane (norm)\n",
    "x1 = torch.tensor([1., 1.])\n",
    "x2 = torch.tensor([5, 5.])\n",
    "\n",
    "torch.dist(x1, x2, 2)\n",
    "torch.dist(x1, x2, 2)**2"
   ]
  },
  {
   "cell_type": "markdown",
   "metadata": {},
   "source": [
    "## Tensor Data Type"
   ]
  },
  {
   "cell_type": "code",
   "execution_count": null,
   "metadata": {},
   "outputs": [],
   "source": [
    "x20 = torch.rand(2,2)\n",
    "x20"
   ]
  },
  {
   "cell_type": "code",
   "execution_count": null,
   "metadata": {},
   "outputs": [],
   "source": [
    "x20  = torch.LongTensor([1,1])\n",
    "x20"
   ]
  },
  {
   "cell_type": "code",
   "execution_count": null,
   "metadata": {},
   "outputs": [],
   "source": [
    "x20.float()"
   ]
  },
  {
   "cell_type": "code",
   "execution_count": null,
   "metadata": {},
   "outputs": [],
   "source": [
    "x20.double()"
   ]
  },
  {
   "cell_type": "code",
   "execution_count": null,
   "metadata": {},
   "outputs": [],
   "source": [
    "x20.byte()"
   ]
  },
  {
   "cell_type": "code",
   "execution_count": null,
   "metadata": {},
   "outputs": [],
   "source": [
    "x20"
   ]
  },
  {
   "cell_type": "code",
   "execution_count": null,
   "metadata": {},
   "outputs": [],
   "source": [
    "# GPU -> CPU\n",
    "x20 = x20.cpu()\n",
    "x20"
   ]
  },
  {
   "cell_type": "code",
   "execution_count": null,
   "metadata": {},
   "outputs": [],
   "source": [
    "# to numpy\n",
    "x20.numpy()"
   ]
  },
  {
   "cell_type": "code",
   "execution_count": null,
   "metadata": {
    "scrolled": true
   },
   "outputs": [],
   "source": [
    "torch.from_numpy(np.random.rand(3,2))"
   ]
  },
  {
   "cell_type": "code",
   "execution_count": null,
   "metadata": {},
   "outputs": [],
   "source": []
  }
 ],
 "metadata": {
  "kernelspec": {
   "display_name": "Python 3",
   "language": "python",
   "name": "python3"
  },
  "language_info": {
   "codemirror_mode": {
    "name": "ipython",
    "version": 3
   },
   "file_extension": ".py",
   "mimetype": "text/x-python",
   "name": "python",
   "nbconvert_exporter": "python",
   "pygments_lexer": "ipython3",
   "version": "3.6.8"
  }
 },
 "nbformat": 4,
 "nbformat_minor": 2
}
