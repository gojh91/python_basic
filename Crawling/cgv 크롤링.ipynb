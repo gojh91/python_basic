{
 "cells": [
  {
   "cell_type": "code",
   "execution_count": 1,
   "metadata": {},
   "outputs": [],
   "source": [
    "\n",
    "from pprint import pprint\n",
    "import time\n",
    "from selenium import webdriver"
   ]
  },
  {
   "cell_type": "code",
   "execution_count": 3,
   "metadata": {},
   "outputs": [],
   "source": [
    "driver = webdriver.Chrome(\"C:\\\\Users\\\\student\\\\Downloads\\\\chromedriver_win32/chromedriver.exe\")\n",
    "driver.implicitly_wait(10)\n"
   ]
  },
  {
   "cell_type": "code",
   "execution_count": 4,
   "metadata": {},
   "outputs": [],
   "source": [
    "driver.get('http://www.cgv.co.kr/theaters/')"
   ]
  },
  {
   "cell_type": "code",
   "execution_count": null,
   "metadata": {},
   "outputs": [],
   "source": [
    "current_frame = driver.execute_script(\"return window.frameElement\") # current_frame (메인 프레임에 돌아와야함.)"
   ]
  },
  {
   "cell_type": "code",
   "execution_count": 5,
   "metadata": {},
   "outputs": [],
   "source": [
    "# iframe찾기\n",
    "iframe_element = driver.find_element_by_xpath('//*[@id=\"ifrm_movie_time_table\"]')\n",
    "\n",
    "# frame switch to iframe\n",
    "driver.switch_to.frame(iframe_element)\n",
    "\n",
    "movies = driver.find_element_by_class_name('sect-showtimes').find_elements_by_xpath('./ul/li')\n"
   ]
  },
  {
   "cell_type": "code",
   "execution_count": 6,
   "metadata": {},
   "outputs": [
    {
     "data": {
      "text/plain": [
       "[<selenium.webdriver.remote.webelement.WebElement (session=\"54d7f53d616b6c13e65338ac7db2fd81\", element=\"0.9180129145990545-2\")>,\n",
       " <selenium.webdriver.remote.webelement.WebElement (session=\"54d7f53d616b6c13e65338ac7db2fd81\", element=\"0.9180129145990545-3\")>,\n",
       " <selenium.webdriver.remote.webelement.WebElement (session=\"54d7f53d616b6c13e65338ac7db2fd81\", element=\"0.9180129145990545-4\")>,\n",
       " <selenium.webdriver.remote.webelement.WebElement (session=\"54d7f53d616b6c13e65338ac7db2fd81\", element=\"0.9180129145990545-5\")>,\n",
       " <selenium.webdriver.remote.webelement.WebElement (session=\"54d7f53d616b6c13e65338ac7db2fd81\", element=\"0.9180129145990545-6\")>,\n",
       " <selenium.webdriver.remote.webelement.WebElement (session=\"54d7f53d616b6c13e65338ac7db2fd81\", element=\"0.9180129145990545-7\")>]"
      ]
     },
     "execution_count": 6,
     "metadata": {},
     "output_type": "execute_result"
    }
   ],
   "source": [
    "movies"
   ]
  },
  {
   "cell_type": "code",
   "execution_count": 7,
   "metadata": {},
   "outputs": [],
   "source": [
    "\n",
    "movie_list = []\n",
    "for movie in movies:\n",
    "    grade = movie.find_element_by_class_name('ico-grade').text\n",
    "    title = movie.find_element_by_xpath('.//div[@class=\"info-movie\"]/a').text\n",
    "\n",
    "    movie_dict = {\n",
    "        'title': title,\n",
    "        'grade': grade,\n",
    "        'details': []\n",
    "    }\n",
    "\n",
    "    movie_timetable = movie.find_elements_by_xpath('.//div[@class=\"info-timetable\"]/ul/li')\n",
    "    \n",
    "    for timetable in movie_timetable:\n",
    "        time = timetable.find_element_by_xpath('.//em').text\n",
    "        seat = timetable.find_element_by_xpath('.//span').text\n",
    "        movie_dict['details'].append({\n",
    "            'time': time,\n",
    "            'seat': seat\n",
    "        })\n",
    "\n",
    "    movie_list.append(movie_dict)\n",
    "    \n"
   ]
  },
  {
   "cell_type": "code",
   "execution_count": 8,
   "metadata": {},
   "outputs": [
    {
     "data": {
      "text/plain": [
       "[{'title': '알라딘',\n",
       "  'grade': '전체',\n",
       "  'details': [{'time': '14:10', 'seat': '84석'},\n",
       "   {'time': '16:50', 'seat': '91석'},\n",
       "   {'time': '22:15', 'seat': '111석'},\n",
       "   {'time': '24:55', 'seat': '113석'},\n",
       "   {'time': '10:40', 'seat': '133석'},\n",
       "   {'time': '13:20', 'seat': '142석'},\n",
       "   {'time': '16:00', 'seat': '112석'},\n",
       "   {'time': '18:40', 'seat': '62석'},\n",
       "   {'time': '21:20', 'seat': '113석'},\n",
       "   {'time': '24:00', 'seat': '154석'},\n",
       "   {'time': '26:40', 'seat': '156석'}]},\n",
       " {'title': '맨 인 블랙-인터내셔널',\n",
       "  'grade': '12세 이상',\n",
       "  'details': [{'time': '10:15', 'seat': '마감'},\n",
       "   {'time': '12:40', 'seat': '129석'},\n",
       "   {'time': '15:05', 'seat': '110석'},\n",
       "   {'time': '17:30', 'seat': '90석'},\n",
       "   {'time': '19:55', 'seat': '47석'},\n",
       "   {'time': '22:20', 'seat': '141석'},\n",
       "   {'time': '24:45', 'seat': '142석'},\n",
       "   {'time': '27:10', 'seat': '144석'},\n",
       "   {'time': '19:30', 'seat': '44석'},\n",
       "   {'time': '23:40', 'seat': '113석'},\n",
       "   {'time': '26:05', 'seat': '113석'},\n",
       "   {'time': '28:30', 'seat': '113석'},\n",
       "   {'time': '11:20', 'seat': '107석'},\n",
       "   {'time': '13:45', 'seat': '85석'},\n",
       "   {'time': '16:10', 'seat': '76석'},\n",
       "   {'time': '21:40', 'seat': '92석'}]},\n",
       " {'title': '기생충',\n",
       "  'grade': '15세 이상',\n",
       "  'details': [{'time': '10:20', 'seat': '56석'},\n",
       "   {'time': '13:00', 'seat': '85석'},\n",
       "   {'time': '15:40', 'seat': '49석'},\n",
       "   {'time': '18:20', 'seat': '47석'},\n",
       "   {'time': '21:00', 'seat': '65석'},\n",
       "   {'time': '09:20', 'seat': '마감'},\n",
       "   {'time': '12:00', 'seat': '152석'},\n",
       "   {'time': '14:40', 'seat': '115석'},\n",
       "   {'time': '17:20', 'seat': '130석'},\n",
       "   {'time': '20:05', 'seat': '60석'},\n",
       "   {'time': '22:45', 'seat': '152석'},\n",
       "   {'time': '25:25', 'seat': '156석'},\n",
       "   {'time': '28:05', 'seat': '156석'},\n",
       "   {'time': '24:05', 'seat': '111석'},\n",
       "   {'time': '26:45', 'seat': '113석'}]},\n",
       " {'title': '엑스맨-다크 피닉스',\n",
       "  'grade': '12세 이상',\n",
       "  'details': [{'time': '27:35', 'seat': '113석'}]},\n",
       " {'title': '어벤져스: 엔드게임',\n",
       "  'grade': '12세 이상',\n",
       "  'details': [{'time': '10:35', 'seat': '90석'}]},\n",
       " {'title': '물랑 루즈',\n",
       "  'grade': '15세 이상',\n",
       "  'details': [{'time': '19:00', 'seat': '준비중'}]}]"
      ]
     },
     "execution_count": 8,
     "metadata": {},
     "output_type": "execute_result"
    }
   ],
   "source": [
    "movie_list"
   ]
  },
  {
   "cell_type": "code",
   "execution_count": null,
   "metadata": {},
   "outputs": [],
   "source": [
    "# 못찾음.\n",
    "driver.find_element_by_xpath('//*[@id=\"contents\"]/div[1]/div/div[2]/ul/li[1]/div/ul/li[2]/a')"
   ]
  },
  {
   "cell_type": "code",
   "execution_count": null,
   "metadata": {},
   "outputs": [],
   "source": [
    "driver.switch_to.frame(current_frame)"
   ]
  },
  {
   "cell_type": "code",
   "execution_count": null,
   "metadata": {},
   "outputs": [],
   "source": [
    "# 찾음.\n",
    "driver.find_element_by_xpath('//*[@id=\"contents\"]/div[1]/div/div[2]/ul/li[1]/div/ul/li[2]/a')"
   ]
  },
  {
   "cell_type": "code",
   "execution_count": null,
   "metadata": {},
   "outputs": [],
   "source": []
  },
  {
   "cell_type": "code",
   "execution_count": null,
   "metadata": {},
   "outputs": [],
   "source": []
  },
  {
   "cell_type": "code",
   "execution_count": null,
   "metadata": {},
   "outputs": [],
   "source": [
    "all_list"
   ]
  },
  {
   "cell_type": "code",
   "execution_count": null,
   "metadata": {},
   "outputs": [],
   "source": [
    "iframe_element"
   ]
  },
  {
   "cell_type": "code",
   "execution_count": null,
   "metadata": {},
   "outputs": [],
   "source": []
  },
  {
   "cell_type": "code",
   "execution_count": null,
   "metadata": {},
   "outputs": [],
   "source": []
  },
  {
   "cell_type": "code",
   "execution_count": null,
   "metadata": {},
   "outputs": [],
   "source": []
  },
  {
   "cell_type": "code",
   "execution_count": null,
   "metadata": {},
   "outputs": [],
   "source": []
  },
  {
   "cell_type": "code",
   "execution_count": null,
   "metadata": {},
   "outputs": [],
   "source": []
  },
  {
   "cell_type": "code",
   "execution_count": null,
   "metadata": {},
   "outputs": [],
   "source": []
  },
  {
   "cell_type": "code",
   "execution_count": null,
   "metadata": {},
   "outputs": [],
   "source": []
  },
  {
   "cell_type": "code",
   "execution_count": null,
   "metadata": {},
   "outputs": [],
   "source": []
  },
  {
   "cell_type": "code",
   "execution_count": null,
   "metadata": {},
   "outputs": [],
   "source": []
  },
  {
   "cell_type": "code",
   "execution_count": null,
   "metadata": {},
   "outputs": [],
   "source": []
  },
  {
   "cell_type": "code",
   "execution_count": null,
   "metadata": {},
   "outputs": [],
   "source": [
    "import time as _time"
   ]
  },
  {
   "cell_type": "code",
   "execution_count": null,
   "metadata": {},
   "outputs": [],
   "source": [
    "loc_list = driver.find_elements_by_xpath('//*[@class=\"area\"]/ul/li/a')\n",
    "all_list = []\n",
    "\n",
    "\n",
    "for loc in loc_list:\n",
    "    # 클릭\n",
    "    driver.switch_to.frame(current_frame)\n",
    "    loc_dict = {\n",
    "        'name': loc.text,\n",
    "        'movies': []\n",
    "    }\n",
    "    \n",
    "    \n",
    "    loc.click()\n",
    "    \n",
    "    _time.sleep(2)\n",
    "    \n",
    "    # iframe찾기\n",
    "    iframe_element = driver.find_element_by_xpath('//*[@id=\"ifrm_movie_time_table\"]')\n",
    "    \n",
    "    driver.switch_to.frame(iframe_element)\n",
    "    \n",
    "    movies = driver.find_element_by_class_name('sect-showtimes').find_elements_by_xpath('./ul/li')\n",
    "\n",
    "    movie_list = []\n",
    "    for movie in movies:\n",
    "        grade = movie.find_element_by_class_name('ico-grade').text\n",
    "        title = movie.find_element_by_xpath('.//div[@class=\"info-movie\"]/a').text\n",
    "    \n",
    "        movie_dict = {\n",
    "            'title': title,\n",
    "            'grade': grade,\n",
    "            'details': []\n",
    "        }\n",
    "    \n",
    "        movie_timetable = movie.find_elements_by_xpath('.//div[@class=\"info-timetable\"]/ul/li')\n",
    "        for timetable in movie_timetable:\n",
    "            time = timetable.find_element_by_xpath('.//em').text\n",
    "            seat = timetable.find_element_by_xpath('.//span').text\n",
    "            movie_dict['details'].append({\n",
    "                'time': time,\n",
    "                'seat': seat\n",
    "            })\n",
    "\n",
    "        loc_dict['movies'].append(movie_dict)\n",
    "    all_list.append(loc_dict)\n",
    "    \n",
    "    \n",
    "pprint(all_list)"
   ]
  },
  {
   "cell_type": "code",
   "execution_count": null,
   "metadata": {},
   "outputs": [],
   "source": []
  },
  {
   "cell_type": "code",
   "execution_count": null,
   "metadata": {},
   "outputs": [],
   "source": []
  },
  {
   "cell_type": "code",
   "execution_count": null,
   "metadata": {},
   "outputs": [],
   "source": []
  },
  {
   "cell_type": "code",
   "execution_count": null,
   "metadata": {},
   "outputs": [],
   "source": [
    "\n",
    "\n",
    "\n",
    "\n",
    "\n",
    "movie_list"
   ]
  },
  {
   "cell_type": "code",
   "execution_count": null,
   "metadata": {},
   "outputs": [],
   "source": []
  },
  {
   "cell_type": "code",
   "execution_count": null,
   "metadata": {},
   "outputs": [],
   "source": [
    "tt = driver.find_element_by_xpath('//*[@id=\"contents\"]/div[1]/div/div[2]/ul/li[1]/div/ul/li[2]/a')\n",
    "tt.click()"
   ]
  },
  {
   "cell_type": "code",
   "execution_count": null,
   "metadata": {},
   "outputs": [],
   "source": []
  },
  {
   "cell_type": "code",
   "execution_count": null,
   "metadata": {},
   "outputs": [],
   "source": []
  },
  {
   "cell_type": "code",
   "execution_count": null,
   "metadata": {},
   "outputs": [],
   "source": []
  },
  {
   "cell_type": "code",
   "execution_count": null,
   "metadata": {},
   "outputs": [],
   "source": [
    "driver.close()"
   ]
  },
  {
   "cell_type": "code",
   "execution_count": null,
   "metadata": {},
   "outputs": [],
   "source": []
  }
 ],
 "metadata": {
  "kernelspec": {
   "display_name": "Python 3",
   "language": "python",
   "name": "python3"
  },
  "language_info": {
   "codemirror_mode": {
    "name": "ipython",
    "version": 3
   },
   "file_extension": ".py",
   "mimetype": "text/x-python",
   "name": "python",
   "nbconvert_exporter": "python",
   "pygments_lexer": "ipython3",
   "version": "3.6.8"
  }
 },
 "nbformat": 4,
 "nbformat_minor": 2
}
