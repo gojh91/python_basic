{
 "cells": [
  {
   "cell_type": "code",
   "execution_count": 3,
   "metadata": {},
   "outputs": [
    {
     "name": "stdout",
     "output_type": "stream",
     "text": [
      "Processing c:\\program files\\java\\jdk-12.0.1\\jpype1-0.6.2-cp36-cp36m-win_amd64.whl\n"
     ]
    },
    {
     "name": "stderr",
     "output_type": "stream",
     "text": [
      "WARNING: Requirement 'C:\\\\Program Files\\\\Java\\\\jdk-12.0.1\\\\JPype1-0.6.2-cp36-cp36m-win_amd64.whl' looks like a filename, but the file does not exist\n",
      "ERROR: Could not install packages due to an EnvironmentError: [Errno 2] No such file or directory: 'C:\\\\Program Files\\\\Java\\\\jdk-12.0.1\\\\JPype1-0.6.2-cp36-cp36m-win_amd64.whl'\n",
      "\n"
     ]
    }
   ],
   "source": [
    "!pip install \"C:\\Program Files\\Java\\jdk-12.0.1\\JPype1-0.6.2-cp36-cp36m-win_amd64.whl\""
   ]
  },
  {
   "cell_type": "code",
   "execution_count": null,
   "metadata": {},
   "outputs": [],
   "source": []
  }
 ],
 "metadata": {
  "kernelspec": {
   "display_name": "Python 3",
   "language": "python",
   "name": "python3"
  },
  "language_info": {
   "codemirror_mode": {
    "name": "ipython",
    "version": 3
   },
   "file_extension": ".py",
   "mimetype": "text/x-python",
   "name": "python",
   "nbconvert_exporter": "python",
   "pygments_lexer": "ipython3",
   "version": "3.6.8"
  }
 },
 "nbformat": 4,
 "nbformat_minor": 2
}
