{
 "cells": [
  {
   "cell_type": "markdown",
   "metadata": {},
   "source": [
    "# RidgeRegression_model_comprehension"
   ]
  },
  {
   "cell_type": "code",
   "execution_count": 117,
   "metadata": {},
   "outputs": [],
   "source": [
    "from sklearn.datasets import make_regression\n",
    "from sklearn.linear_model import Ridge\n",
    "from sklearn.model_selection import train_test_split"
   ]
  },
  {
   "cell_type": "code",
   "execution_count": 118,
   "metadata": {},
   "outputs": [],
   "source": [
    "X, y = make_regression(n_samples=30, n_features=30, bias=100, noise=80)\n",
    "\n",
    "X_train, X_test, y_train, y_test = train_test_split(X, y, shuffle=True)"
   ]
  },
  {
   "cell_type": "code",
   "execution_count": 144,
   "metadata": {},
   "outputs": [],
   "source": [
    "model = Ridge(alpha=3.5)"
   ]
  },
  {
   "cell_type": "code",
   "execution_count": 145,
   "metadata": {},
   "outputs": [
    {
     "data": {
      "text/plain": [
       "Ridge(alpha=3.5, copy_X=True, fit_intercept=True, max_iter=None,\n",
       "   normalize=False, random_state=None, solver='auto', tol=0.001)"
      ]
     },
     "execution_count": 145,
     "metadata": {},
     "output_type": "execute_result"
    }
   ],
   "source": [
    "model.fit(X_train, y_train)"
   ]
  },
  {
   "cell_type": "code",
   "execution_count": 146,
   "metadata": {},
   "outputs": [
    {
     "data": {
      "text/plain": [
       "0.9599145092780278"
      ]
     },
     "execution_count": 146,
     "metadata": {},
     "output_type": "execute_result"
    }
   ],
   "source": [
    "model.score(X_train, y_train)"
   ]
  },
  {
   "cell_type": "code",
   "execution_count": 147,
   "metadata": {},
   "outputs": [
    {
     "data": {
      "text/plain": [
       "0.14764945217665937"
      ]
     },
     "execution_count": 147,
     "metadata": {},
     "output_type": "execute_result"
    }
   ],
   "source": [
    "model.score(X_test, y_test)"
   ]
  },
  {
   "cell_type": "code",
   "execution_count": 148,
   "metadata": {},
   "outputs": [
    {
     "data": {
      "text/plain": [
       "array([ 33.41308448, -27.58508522,  -6.94999609,  18.80639465,\n",
       "       -10.22457804,  46.2949593 , -18.92334923,  36.8847707 ,\n",
       "         0.5202543 ,  22.59689258,  11.16540114, -12.00946516,\n",
       "        23.77588442,  40.60973402, -12.02816863, -17.41004427,\n",
       "         4.01194432,  17.14900573,  18.85475846,   2.30223236,\n",
       "        66.22291745,  31.91656209,  13.27797964,  -7.68556974,\n",
       "         5.85888997,  23.95655056,   6.85571017,  -9.00261387,\n",
       "         0.44568698,  33.33392216])"
      ]
     },
     "execution_count": 148,
     "metadata": {},
     "output_type": "execute_result"
    }
   ],
   "source": [
    "model.coef_"
   ]
  },
  {
   "cell_type": "code",
   "execution_count": 170,
   "metadata": {},
   "outputs": [
    {
     "name": "stdout",
     "output_type": "stream",
     "text": [
      "0.4808492208990075 0.05697868987189891\n"
     ]
    }
   ],
   "source": [
    "model = Ridge(alpha=100)\n",
    "model.fit(X_train, y_train)\n",
    "print(\"%s %s\"%(model.score(X_train, y_train),\n",
    "               model.score(X_test, y_test)))"
   ]
  },
  {
   "cell_type": "code",
   "execution_count": 171,
   "metadata": {},
   "outputs": [
    {
     "data": {
      "text/plain": [
       "<BarContainer object of 30 artists>"
      ]
     },
     "execution_count": 171,
     "metadata": {},
     "output_type": "execute_result"
    },
    {
     "data": {
      "image/png": "[encoded data removed]",
      "text/plain": [
       "<Figure size 432x288 with 1 Axes>"
      ]
     },
     "metadata": {
      "needs_background": "light"
     },
     "output_type": "display_data"
    }
   ],
   "source": [
    "sorted_coef = np.sort(model.coef_)\n",
    "idx = np.arange(len(model.coef_))\n",
    "plt.bar(idx, sorted_coef)\n"
   ]
  },
  {
   "cell_type": "code",
   "execution_count": null,
   "metadata": {},
   "outputs": [],
   "source": []
  },
  {
   "cell_type": "code",
   "execution_count": 114,
   "metadata": {
    "scrolled": false
   },
   "outputs": [
    {
     "name": "stdout",
     "output_type": "stream",
     "text": [
      "weight:  [ -7663.88065704  -1775.72994065  12547.08276807   6928.14596783\n",
      "   -136.71391602  -6600.24616661  -7953.11164244  -9998.44565207\n",
      "   1305.8107044   -1013.7043132   -6146.13410054  14608.89970301\n",
      " -11227.62519935 -11033.16883286 -11006.79072528   3954.33920073\n",
      " -11544.53191992   2074.38857228  -8431.76862654  -4502.30876266\n",
      "   4013.22743197  -1209.59781269   8291.14207588 -11563.73300278\n",
      "  13809.31338696  12505.00044214   3997.84723464   3100.05445997\n",
      "   5590.44086462  11204.72615083   7558.96366019  12118.07215558\n",
      "   7039.38976398  18886.04910806 -12337.9021136   -1077.94732229\n",
      " -17736.9676042    6208.44126709   5094.21419078  -3647.80845792\n",
      "   9971.03534692   -916.6804332   -8267.10487093   3449.69162912\n",
      "  -3084.30082784   7896.79793276   -406.61554574 -12131.89937272\n",
      "  -4569.61132623  -6051.42739058]\n",
      "bias:  -7686.031917425817\n"
     ]
    }
   ],
   "source": [
    "# Ridge Regression 클래스 객체 생성\n",
    "model = Ridge(alpha=10) \n",
    "# fit 메서드로 모형 추정 (오그멘테이션은 자동으로 수행)\n",
    "model_lr = model.fit(X_train, y_train)\n",
    "\n",
    "print('weight: ', model_lr.coef_)\n",
    "print('bias: ', model_lr.intercept_)"
   ]
  },
  {
   "cell_type": "code",
   "execution_count": 115,
   "metadata": {},
   "outputs": [
    {
     "data": {
      "text/plain": [
       "0.4970305839935911"
      ]
     },
     "execution_count": 115,
     "metadata": {},
     "output_type": "execute_result"
    }
   ],
   "source": [
    "model.score(X_train, y_train)"
   ]
  },
  {
   "cell_type": "code",
   "execution_count": 116,
   "metadata": {},
   "outputs": [
    {
     "data": {
      "text/plain": [
       "-0.6179337468491102"
      ]
     },
     "execution_count": 116,
     "metadata": {},
     "output_type": "execute_result"
    }
   ],
   "source": [
    "model.score(X_test, y_test)"
   ]
  },
  {
   "cell_type": "code",
   "execution_count": 111,
   "metadata": {},
   "outputs": [],
   "source": [
    "from matplotlib import pyplot as plt\n",
    "import numpy as np"
   ]
  },
  {
   "cell_type": "code",
   "execution_count": 112,
   "metadata": {},
   "outputs": [
    {
     "data": {
      "text/plain": [
       "array([ 12889.49529938, -10750.09800006,   5819.40108488,   6300.67295964,\n",
       "         5072.11838874,   1783.33833245,  13956.3988072 ,  10549.79664481,\n",
       "       -12834.26728188,  -6557.40326499,   6899.79497525,   3802.19593241,\n",
       "        -3762.20974436,  -7978.99417438,  -3513.70090003,   -986.4845112 ,\n",
       "         5524.37289072,   7132.78078143, -10317.7307997 , -27495.17187104,\n",
       "        -7829.44117376,   7503.57299561,  -3436.91484397,     37.4262183 ,\n",
       "         3871.05726782,  11239.99451907,  -2932.74861451,   5858.37228861,\n",
       "        -7260.77068833,  -6011.9839732 ,   -389.5820757 ,  -7118.18562473,\n",
       "           57.01247766,   7887.64927785,   1738.39524815,  -6419.18038909,\n",
       "        -9234.71378671, -11239.23446412,  -7102.23465609,  -6091.41786778,\n",
       "        11919.66259733, -10476.42436467, -20008.43223335,  -8171.89881645,\n",
       "         2901.5458239 ,   9596.23700693,   2721.57870983,  -2712.91996673,\n",
       "         6526.6787881 ,   7101.80266164])"
      ]
     },
     "execution_count": 112,
     "metadata": {},
     "output_type": "execute_result"
    }
   ],
   "source": [
    "model.coef_"
   ]
  },
  {
   "cell_type": "code",
   "execution_count": 106,
   "metadata": {},
   "outputs": [
    {
     "data": {
      "text/plain": [
       "<BarContainer object of 50 artists>"
      ]
     },
     "execution_count": 106,
     "metadata": {},
     "output_type": "execute_result"
    },
    {
     "data": {
      "image/png": "[encoded data removed]",
      "text/plain": [
       "<Figure size 432x288 with 1 Axes>"
      ]
     },
     "metadata": {
      "needs_background": "light"
     },
     "output_type": "display_data"
    }
   ],
   "source": [
    "idx = np.arange(len(model.coef_))\n",
    "plt.bar(idx, np.sort(model.coef_))"
   ]
  },
  {
   "cell_type": "code",
   "execution_count": null,
   "metadata": {},
   "outputs": [],
   "source": []
  },
  {
   "cell_type": "code",
   "execution_count": null,
   "metadata": {},
   "outputs": [],
   "source": []
  },
  {
   "cell_type": "code",
   "execution_count": null,
   "metadata": {},
   "outputs": [],
   "source": []
  }
 ],
 "metadata": {
  "kernelspec": {
   "display_name": "Python 3",
   "language": "python",
   "name": "python3"
  },
  "language_info": {
   "codemirror_mode": {
    "name": "ipython",
    "version": 3
   },
   "file_extension": ".py",
   "mimetype": "text/x-python",
   "name": "python",
   "nbconvert_exporter": "python",
   "pygments_lexer": "ipython3",
   "version": "3.7.3"
  }
 },
 "nbformat": 4,
 "nbformat_minor": 2
}
