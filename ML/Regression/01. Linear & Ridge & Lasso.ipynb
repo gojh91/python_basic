{
 "cells": [
  {
   "cell_type": "code",
   "execution_count": 1,
   "metadata": {},
   "outputs": [
    {
     "name": "stdout",
     "output_type": "stream",
     "text": [
      "Collecting mglearn\n",
      "  Downloading https://files.pythonhosted.org/packages/fb/01/8d3630ecc767c9de96a9c46e055f2a3a5f9e14a47d3d0348a36a5005fe67/mglearn-0.1.7.tar.gz (540kB)\n",
      "Requirement already satisfied: numpy in c:\\programdata\\anaconda3\\envs\\study\\lib\\site-packages (from mglearn) (1.16.3)\n",
      "Requirement already satisfied: matplotlib in c:\\programdata\\anaconda3\\envs\\study\\lib\\site-packages (from mglearn) (3.1.0)\n",
      "Requirement already satisfied: scikit-learn in c:\\programdata\\anaconda3\\envs\\study\\lib\\site-packages (from mglearn) (0.21.2)\n",
      "Requirement already satisfied: pandas in c:\\programdata\\anaconda3\\envs\\study\\lib\\site-packages (from mglearn) (0.24.2)\n",
      "Collecting pillow (from mglearn)\n",
      "  Downloading https://files.pythonhosted.org/packages/e6/37/fc5bde88462cf8a069e522dd6a0d259b69faba1326f0a3ce8b4e11d9f317/Pillow-6.0.0-cp36-cp36m-win_amd64.whl (2.0MB)\n",
      "Requirement already satisfied: cycler in c:\\programdata\\anaconda3\\envs\\study\\lib\\site-packages (from mglearn) (0.10.0)\n",
      "Collecting imageio (from mglearn)\n",
      "  Downloading https://files.pythonhosted.org/packages/af/0a/943c965d372dae0b1f1482677d29030ab834351a61a9a632fd62f27f1523/imageio-2.5.0-py3-none-any.whl (3.3MB)\n",
      "Requirement already satisfied: kiwisolver>=1.0.1 in c:\\programdata\\anaconda3\\envs\\study\\lib\\site-packages (from matplotlib->mglearn) (1.1.0)\n",
      "Requirement already satisfied: pyparsing!=2.0.4,!=2.1.2,!=2.1.6,>=2.0.1 in c:\\programdata\\anaconda3\\envs\\study\\lib\\site-packages (from matplotlib->mglearn) (2.4.0)\n",
      "Requirement already satisfied: python-dateutil>=2.1 in c:\\programdata\\anaconda3\\envs\\study\\lib\\site-packages (from matplotlib->mglearn) (2.8.0)\n",
      "Requirement already satisfied: joblib>=0.11 in c:\\programdata\\anaconda3\\envs\\study\\lib\\site-packages (from scikit-learn->mglearn) (0.13.2)\n",
      "Requirement already satisfied: scipy>=0.17.0 in c:\\programdata\\anaconda3\\envs\\study\\lib\\site-packages (from scikit-learn->mglearn) (1.2.1)\n",
      "Requirement already satisfied: pytz>=2011k in c:\\programdata\\anaconda3\\envs\\study\\lib\\site-packages (from pandas->mglearn) (2019.1)\n",
      "Requirement already satisfied: six in c:\\programdata\\anaconda3\\envs\\study\\lib\\site-packages (from cycler->mglearn) (1.12.0)\n",
      "Requirement already satisfied: setuptools in c:\\programdata\\anaconda3\\envs\\study\\lib\\site-packages (from kiwisolver>=1.0.1->matplotlib->mglearn) (41.0.1)\n",
      "Building wheels for collected packages: mglearn\n",
      "  Building wheel for mglearn (setup.py): started\n",
      "  Building wheel for mglearn (setup.py): finished with status 'done'\n",
      "  Stored in directory: C:\\Users\\student\\AppData\\Local\\pip\\Cache\\wheels\\74\\cf\\8d\\04f4932d15854a36726c6210763c7127e62de28f5c8ddfcf3b\n",
      "Successfully built mglearn\n",
      "Installing collected packages: pillow, imageio, mglearn\n",
      "Successfully installed imageio-2.5.0 mglearn-0.1.7 pillow-6.0.0\n"
     ]
    },
    {
     "name": "stderr",
     "output_type": "stream",
     "text": [
      "C:\\ProgramData\\Anaconda3\\envs\\study\\lib\\site-packages\\sklearn\\externals\\six.py:31: DeprecationWarning: The module is deprecated in version 0.21 and will be removed in version 0.23 since we've dropped support for Python 2.7. Please rely on the official version of six (https://pypi.org/project/six/).\n",
      "  \"(https://pypi.org/project/six/).\", DeprecationWarning)\n",
      "C:\\ProgramData\\Anaconda3\\envs\\study\\lib\\site-packages\\sklearn\\externals\\joblib\\__init__.py:15: DeprecationWarning: sklearn.externals.joblib is deprecated in 0.21 and will be removed in 0.23. Please import this functionality directly from joblib, which can be installed with: pip install joblib. If this warning is raised when loading pickled models, you may need to re-serialize those models with scikit-learn 0.21+.\n",
      "  warnings.warn(msg, category=DeprecationWarning)\n"
     ]
    }
   ],
   "source": [
    "%matplotlib inline\n",
    "\n",
    "import numpy as np\n",
    "from sklearn.datasets import load_boston\n",
    "from matplotlib import pyplot as plt\n",
    "from sklearn.model_selection import train_test_split, cross_val_score\n",
    "\n",
    "try:\n",
    "    from mglearn.datasets import load_extended_boston\n",
    "except:\n",
    "    import sys\n",
    "    !{sys.executable} -m pip install mglearn\n",
    "finally:\n",
    "    from mglearn.datasets import load_extended_boston\n",
    "    \n",
    "import pandas as pd\n",
    "\n",
    "from sklearn.linear_model import LinearRegression, Ridge, Lasso\n",
    "\n"
   ]
  },
  {
   "cell_type": "code",
   "execution_count": 3,
   "metadata": {},
   "outputs": [],
   "source": [
    "boston = load_boston()"
   ]
  },
  {
   "cell_type": "code",
   "execution_count": 5,
   "metadata": {},
   "outputs": [],
   "source": [
    "X = pd.DataFrame(boston.data, columns=boston.feature_names)\n",
    "y = pd.DataFrame(boston.target, columns=['price'])"
   ]
  },
  {
   "cell_type": "code",
   "execution_count": 6,
   "metadata": {},
   "outputs": [
    {
     "data": {
      "text/html": [
       "<div>\n",
       "<style scoped>\n",
       "    .dataframe tbody tr th:only-of-type {\n",
       "        vertical-align: middle;\n",
       "    }\n",
       "\n",
       "    .dataframe tbody tr th {\n",
       "        vertical-align: top;\n",
       "    }\n",
       "\n",
       "    .dataframe thead th {\n",
       "        text-align: right;\n",
       "    }\n",
       "</style>\n",
       "<table border=\"1\" class=\"dataframe\">\n",
       "  <thead>\n",
       "    <tr style=\"text-align: right;\">\n",
       "      <th></th>\n",
       "      <th>CRIM</th>\n",
       "      <th>ZN</th>\n",
       "      <th>INDUS</th>\n",
       "      <th>CHAS</th>\n",
       "      <th>NOX</th>\n",
       "      <th>RM</th>\n",
       "      <th>AGE</th>\n",
       "      <th>DIS</th>\n",
       "      <th>RAD</th>\n",
       "      <th>TAX</th>\n",
       "      <th>PTRATIO</th>\n",
       "      <th>B</th>\n",
       "      <th>LSTAT</th>\n",
       "    </tr>\n",
       "  </thead>\n",
       "  <tbody>\n",
       "    <tr>\n",
       "      <th>0</th>\n",
       "      <td>0.00632</td>\n",
       "      <td>18.0</td>\n",
       "      <td>2.31</td>\n",
       "      <td>0.0</td>\n",
       "      <td>0.538</td>\n",
       "      <td>6.575</td>\n",
       "      <td>65.2</td>\n",
       "      <td>4.0900</td>\n",
       "      <td>1.0</td>\n",
       "      <td>296.0</td>\n",
       "      <td>15.3</td>\n",
       "      <td>396.90</td>\n",
       "      <td>4.98</td>\n",
       "    </tr>\n",
       "    <tr>\n",
       "      <th>1</th>\n",
       "      <td>0.02731</td>\n",
       "      <td>0.0</td>\n",
       "      <td>7.07</td>\n",
       "      <td>0.0</td>\n",
       "      <td>0.469</td>\n",
       "      <td>6.421</td>\n",
       "      <td>78.9</td>\n",
       "      <td>4.9671</td>\n",
       "      <td>2.0</td>\n",
       "      <td>242.0</td>\n",
       "      <td>17.8</td>\n",
       "      <td>396.90</td>\n",
       "      <td>9.14</td>\n",
       "    </tr>\n",
       "    <tr>\n",
       "      <th>2</th>\n",
       "      <td>0.02729</td>\n",
       "      <td>0.0</td>\n",
       "      <td>7.07</td>\n",
       "      <td>0.0</td>\n",
       "      <td>0.469</td>\n",
       "      <td>7.185</td>\n",
       "      <td>61.1</td>\n",
       "      <td>4.9671</td>\n",
       "      <td>2.0</td>\n",
       "      <td>242.0</td>\n",
       "      <td>17.8</td>\n",
       "      <td>392.83</td>\n",
       "      <td>4.03</td>\n",
       "    </tr>\n",
       "    <tr>\n",
       "      <th>3</th>\n",
       "      <td>0.03237</td>\n",
       "      <td>0.0</td>\n",
       "      <td>2.18</td>\n",
       "      <td>0.0</td>\n",
       "      <td>0.458</td>\n",
       "      <td>6.998</td>\n",
       "      <td>45.8</td>\n",
       "      <td>6.0622</td>\n",
       "      <td>3.0</td>\n",
       "      <td>222.0</td>\n",
       "      <td>18.7</td>\n",
       "      <td>394.63</td>\n",
       "      <td>2.94</td>\n",
       "    </tr>\n",
       "    <tr>\n",
       "      <th>4</th>\n",
       "      <td>0.06905</td>\n",
       "      <td>0.0</td>\n",
       "      <td>2.18</td>\n",
       "      <td>0.0</td>\n",
       "      <td>0.458</td>\n",
       "      <td>7.147</td>\n",
       "      <td>54.2</td>\n",
       "      <td>6.0622</td>\n",
       "      <td>3.0</td>\n",
       "      <td>222.0</td>\n",
       "      <td>18.7</td>\n",
       "      <td>396.90</td>\n",
       "      <td>5.33</td>\n",
       "    </tr>\n",
       "  </tbody>\n",
       "</table>\n",
       "</div>"
      ],
      "text/plain": [
       "      CRIM    ZN  INDUS  CHAS    NOX     RM   AGE     DIS  RAD    TAX  \\\n",
       "0  0.00632  18.0   2.31   0.0  0.538  6.575  65.2  4.0900  1.0  296.0   \n",
       "1  0.02731   0.0   7.07   0.0  0.469  6.421  78.9  4.9671  2.0  242.0   \n",
       "2  0.02729   0.0   7.07   0.0  0.469  7.185  61.1  4.9671  2.0  242.0   \n",
       "3  0.03237   0.0   2.18   0.0  0.458  6.998  45.8  6.0622  3.0  222.0   \n",
       "4  0.06905   0.0   2.18   0.0  0.458  7.147  54.2  6.0622  3.0  222.0   \n",
       "\n",
       "   PTRATIO       B  LSTAT  \n",
       "0     15.3  396.90   4.98  \n",
       "1     17.8  396.90   9.14  \n",
       "2     17.8  392.83   4.03  \n",
       "3     18.7  394.63   2.94  \n",
       "4     18.7  396.90   5.33  "
      ]
     },
     "execution_count": 6,
     "metadata": {},
     "output_type": "execute_result"
    }
   ],
   "source": [
    "X.head()"
   ]
  },
  {
   "cell_type": "code",
   "execution_count": 7,
   "metadata": {},
   "outputs": [
    {
     "data": {
      "text/html": [
       "<div>\n",
       "<style scoped>\n",
       "    .dataframe tbody tr th:only-of-type {\n",
       "        vertical-align: middle;\n",
       "    }\n",
       "\n",
       "    .dataframe tbody tr th {\n",
       "        vertical-align: top;\n",
       "    }\n",
       "\n",
       "    .dataframe thead th {\n",
       "        text-align: right;\n",
       "    }\n",
       "</style>\n",
       "<table border=\"1\" class=\"dataframe\">\n",
       "  <thead>\n",
       "    <tr style=\"text-align: right;\">\n",
       "      <th></th>\n",
       "      <th>price</th>\n",
       "    </tr>\n",
       "  </thead>\n",
       "  <tbody>\n",
       "    <tr>\n",
       "      <th>0</th>\n",
       "      <td>24.0</td>\n",
       "    </tr>\n",
       "    <tr>\n",
       "      <th>1</th>\n",
       "      <td>21.6</td>\n",
       "    </tr>\n",
       "    <tr>\n",
       "      <th>2</th>\n",
       "      <td>34.7</td>\n",
       "    </tr>\n",
       "    <tr>\n",
       "      <th>3</th>\n",
       "      <td>33.4</td>\n",
       "    </tr>\n",
       "    <tr>\n",
       "      <th>4</th>\n",
       "      <td>36.2</td>\n",
       "    </tr>\n",
       "  </tbody>\n",
       "</table>\n",
       "</div>"
      ],
      "text/plain": [
       "   price\n",
       "0   24.0\n",
       "1   21.6\n",
       "2   34.7\n",
       "3   33.4\n",
       "4   36.2"
      ]
     },
     "execution_count": 7,
     "metadata": {},
     "output_type": "execute_result"
    }
   ],
   "source": [
    "y.head()"
   ]
  },
  {
   "cell_type": "code",
   "execution_count": 8,
   "metadata": {},
   "outputs": [],
   "source": [
    "X_train, X_test, y_train, y_test = train_test_split(X, y, test_size=0.2, shuffle=True)"
   ]
  },
  {
   "cell_type": "code",
   "execution_count": 9,
   "metadata": {},
   "outputs": [],
   "source": [
    "model = LinearRegression()"
   ]
  },
  {
   "cell_type": "code",
   "execution_count": 10,
   "metadata": {},
   "outputs": [
    {
     "data": {
      "text/plain": [
       "LinearRegression(copy_X=True, fit_intercept=True, n_jobs=None, normalize=False)"
      ]
     },
     "execution_count": 10,
     "metadata": {},
     "output_type": "execute_result"
    }
   ],
   "source": [
    "model.fit(X, y)"
   ]
  },
  {
   "cell_type": "code",
   "execution_count": 12,
   "metadata": {
    "scrolled": true
   },
   "outputs": [
    {
     "data": {
      "text/plain": [
       "array([-1.08011358e-01,  4.64204584e-02,  2.05586264e-02,  2.68673382e+00,\n",
       "       -1.77666112e+01,  3.80986521e+00,  6.92224640e-04, -1.47556685e+00,\n",
       "        3.06049479e-01, -1.23345939e-02, -9.52747232e-01,  9.31168327e-03,\n",
       "       -5.24758378e-01])"
      ]
     },
     "execution_count": 12,
     "metadata": {},
     "output_type": "execute_result"
    }
   ],
   "source": [
    "model.coef_.reshape(-1)"
   ]
  },
  {
   "cell_type": "code",
   "execution_count": 14,
   "metadata": {
    "scrolled": false
   },
   "outputs": [
    {
     "data": {
      "text/plain": [
       "array([36.45948839])"
      ]
     },
     "execution_count": 14,
     "metadata": {},
     "output_type": "execute_result"
    }
   ],
   "source": [
    "model.intercept_"
   ]
  },
  {
   "cell_type": "code",
   "execution_count": 15,
   "metadata": {},
   "outputs": [
    {
     "data": {
      "text/plain": [
       "array([-1.08011358e-01,  4.64204584e-02,  2.05586264e-02,  2.68673382e+00,\n",
       "       -1.77666112e+01,  3.80986521e+00,  6.92224640e-04, -1.47556685e+00,\n",
       "        3.06049479e-01, -1.23345939e-02, -9.52747232e-01,  9.31168327e-03,\n",
       "       -5.24758378e-01])"
      ]
     },
     "execution_count": 15,
     "metadata": {},
     "output_type": "execute_result"
    }
   ],
   "source": [
    "model.coef_.reshape(-1)"
   ]
  },
  {
   "cell_type": "code",
   "execution_count": 16,
   "metadata": {},
   "outputs": [
    {
     "name": "stdout",
     "output_type": "stream",
     "text": [
      "('CRIM', -0.10801135783679539)\n",
      "('ZN', 0.04642045836687953)\n",
      "('INDUS', 0.020558626367068917)\n",
      "('CHAS', 2.6867338193448442)\n",
      "('NOX', -17.766611228299986)\n",
      "('RM', 3.8098652068092282)\n",
      "('AGE', 0.0006922246403431768)\n",
      "('DIS', -1.47556684560025)\n",
      "('RAD', 0.30604947898516427)\n",
      "('TAX', -0.012334593916574021)\n",
      "('PTRATIO', -0.9527472317072921)\n",
      "('B', 0.00931168327379375)\n",
      "('LSTAT', -0.5247583778554881)\n",
      "intercept [36.45948839]\n"
     ]
    }
   ],
   "source": [
    "for feature in zip(boston['feature_names'], model.coef_.reshape(-1)):\n",
    "    print(feature)\n",
    "print('intercept', model.intercept_)"
   ]
  },
  {
   "cell_type": "code",
   "execution_count": 17,
   "metadata": {},
   "outputs": [
    {
     "data": {
      "text/plain": [
       "0.7485269826445833"
      ]
     },
     "execution_count": 17,
     "metadata": {},
     "output_type": "execute_result"
    }
   ],
   "source": [
    "model.score(X_train, y_train)"
   ]
  },
  {
   "cell_type": "code",
   "execution_count": 18,
   "metadata": {},
   "outputs": [
    {
     "data": {
      "text/plain": [
       "0.6921281240846036"
      ]
     },
     "execution_count": 18,
     "metadata": {},
     "output_type": "execute_result"
    }
   ],
   "source": [
    "model.score(X_test, y_test)"
   ]
  },
  {
   "cell_type": "markdown",
   "metadata": {},
   "source": [
    "# Ridge Regression"
   ]
  },
  {
   "cell_type": "code",
   "execution_count": 19,
   "metadata": {},
   "outputs": [],
   "source": [
    "X, y = load_extended_boston()"
   ]
  },
  {
   "cell_type": "code",
   "execution_count": 21,
   "metadata": {},
   "outputs": [
    {
     "data": {
      "text/plain": [
       "104"
      ]
     },
     "execution_count": 21,
     "metadata": {},
     "output_type": "execute_result"
    }
   ],
   "source": [
    "len(X[0])"
   ]
  },
  {
   "cell_type": "code",
   "execution_count": 22,
   "metadata": {},
   "outputs": [],
   "source": [
    "X_train, X_test, y_train, y_test = train_test_split(X, y, test_size=0.2, shuffle=True, random_state=0)"
   ]
  },
  {
   "cell_type": "code",
   "execution_count": 26,
   "metadata": {},
   "outputs": [
    {
     "data": {
      "text/plain": [
       "LinearRegression(copy_X=True, fit_intercept=True, n_jobs=None, normalize=False)"
      ]
     },
     "execution_count": 26,
     "metadata": {},
     "output_type": "execute_result"
    }
   ],
   "source": [
    "lm = LinearRegression()\n",
    "lm.fit(X_train, y_train)"
   ]
  },
  {
   "cell_type": "code",
   "execution_count": 27,
   "metadata": {},
   "outputs": [
    {
     "data": {
      "text/plain": [
       "0.9490240966612833"
      ]
     },
     "execution_count": 27,
     "metadata": {},
     "output_type": "execute_result"
    }
   ],
   "source": [
    "lm.score(X_train, y_train)"
   ]
  },
  {
   "cell_type": "code",
   "execution_count": 28,
   "metadata": {},
   "outputs": [
    {
     "data": {
      "text/plain": [
       "0.6158858584078775"
      ]
     },
     "execution_count": 28,
     "metadata": {},
     "output_type": "execute_result"
    }
   ],
   "source": [
    "lm.score(X_test, y_test)"
   ]
  },
  {
   "cell_type": "code",
   "execution_count": 29,
   "metadata": {},
   "outputs": [
    {
     "data": {
      "text/plain": [
       "array([-4.90159819e+02, -4.00626206e+01, -1.25287218e+02, -8.91375244e+00,\n",
       "       -8.06560621e+00,  3.28101194e+01,  4.65516841e+01, -6.27045004e+01,\n",
       "        2.87358042e+01,  3.34139738e+01, -6.80132101e-01, -9.31619287e+00,\n",
       "       -1.61133582e+01,  1.21301779e+01,  2.21565994e+03,  1.53054044e+03,\n",
       "        1.24461620e+02, -1.27347248e+01,  4.24938302e+01, -3.54781532e+01,\n",
       "        8.91645918e+00,  1.22299456e+03, -2.15366399e+03,  2.74716329e+02,\n",
       "       -1.41233559e+00,  4.33324936e+01, -1.24082513e+01, -1.69004641e+01,\n",
       "       -6.04317656e+00, -8.15771683e+01,  9.02286325e+00,  4.10360549e-01,\n",
       "       -3.67270441e+00, -7.08564514e+00,  3.56048971e+01, -1.22564863e+01,\n",
       "        5.79039071e+01, -1.52297806e+01,  3.98426090e+01,  5.64809836e+00,\n",
       "        1.89043119e-01,  5.46913714e+01,  1.85814845e+01,  5.47572005e+01,\n",
       "       -4.58182836e+01,  2.16098573e+01, -1.01744270e+01,  5.46020392e+01,\n",
       "       -1.78903568e+01, -8.91375244e+00, -1.71954300e+01, -3.15047685e+01,\n",
       "        2.78399230e+00,  2.27112765e+00,  1.45281400e+01, -1.04841792e+01,\n",
       "       -9.52158347e+00,  4.64199952e+01, -1.40725252e+01, -2.49545446e+00,\n",
       "        2.49619128e+01, -1.36250586e+01,  8.70203229e+01, -3.27151211e+01,\n",
       "        5.53374978e+01, -4.96364911e+01,  2.10904061e+00,  2.39366870e+01,\n",
       "        2.14171750e+01, -4.64073871e+01,  2.69086034e+01,  9.06789867e+00,\n",
       "       -7.06381442e+01, -2.55903479e+01,  1.00391892e+01, -6.14801631e+00,\n",
       "        2.65660264e+00,  3.26416107e+00,  4.01543979e+01, -3.68823252e+01,\n",
       "       -5.64711473e+00, -2.32864107e+01, -3.19793810e+01,  5.33311471e+01,\n",
       "       -2.67324621e+01, -1.50875712e+01, -1.85014087e+01, -1.54121310e+01,\n",
       "        3.24131091e+01, -8.99503967e+01,  1.50482894e+02, -2.04257821e+01,\n",
       "       -1.31895526e+01, -2.78622507e+01, -3.46129966e+01,  2.40830654e+01,\n",
       "       -1.70819475e+01,  2.09266607e+00,  4.75613160e+00,  2.68408414e+01,\n",
       "        1.08100271e+01, -1.49307902e+00,  1.40969740e+00,  3.08628470e+01])"
      ]
     },
     "execution_count": 29,
     "metadata": {},
     "output_type": "execute_result"
    }
   ],
   "source": [
    "lm.coef_"
   ]
  },
  {
   "cell_type": "code",
   "execution_count": 30,
   "metadata": {},
   "outputs": [
    {
     "data": {
      "text/plain": [
       "<BarContainer object of 104 artists>"
      ]
     },
     "execution_count": 30,
     "metadata": {},
     "output_type": "execute_result"
    },
    {
     "data": {
      "image/png": "[encoded data removed]",
      "text/plain": [
       "<Figure size 1440x720 with 1 Axes>"
      ]
     },
     "metadata": {
      "needs_background": "light"
     },
     "output_type": "display_data"
    }
   ],
   "source": [
    "from matplotlib import pyplot as plt\n",
    "plt.figure(figsize=(20,10))\n",
    "plt.bar(np.arange(len(lm.coef_)), np.sort(lm.coef_, axis=0))"
   ]
  },
  {
   "cell_type": "code",
   "execution_count": 38,
   "metadata": {},
   "outputs": [
    {
     "data": {
      "text/plain": [
       "<BarContainer object of 104 artists>"
      ]
     },
     "execution_count": 38,
     "metadata": {},
     "output_type": "execute_result"
    },
    {
     "data": {
      "image/png": "[encoded data removed]",
      "text/plain": [
       "<Figure size 1440x720 with 1 Axes>"
      ]
     },
     "metadata": {
      "needs_background": "light"
     },
     "output_type": "display_data"
    }
   ],
   "source": [
    "plt.figure(figsize=(20,10))\n",
    "plt.bar(np.arange(len(lm.coef_)), np.sort(lm.coef_, axis=0))\n"
   ]
  },
  {
   "cell_type": "markdown",
   "metadata": {},
   "source": [
    "# Ridge"
   ]
  },
  {
   "cell_type": "code",
   "execution_count": 33,
   "metadata": {},
   "outputs": [
    {
     "data": {
      "text/plain": [
       "Ridge(alpha=0.1, copy_X=True, fit_intercept=True, max_iter=None,\n",
       "      normalize=False, random_state=None, solver='auto', tol=0.001)"
      ]
     },
     "execution_count": 33,
     "metadata": {},
     "output_type": "execute_result"
    }
   ],
   "source": [
    "Rm = Ridge(alpha=0.1)\n",
    "Rm.fit(X_train, y_train)"
   ]
  },
  {
   "cell_type": "code",
   "execution_count": 35,
   "metadata": {},
   "outputs": [
    {
     "data": {
      "text/plain": [
       "0.9261926604874953"
      ]
     },
     "execution_count": 35,
     "metadata": {},
     "output_type": "execute_result"
    }
   ],
   "source": [
    "Rm.score(X_train, y_train)"
   ]
  },
  {
   "cell_type": "code",
   "execution_count": 36,
   "metadata": {},
   "outputs": [
    {
     "data": {
      "text/plain": [
       "0.7463824108919297"
      ]
     },
     "execution_count": 36,
     "metadata": {},
     "output_type": "execute_result"
    }
   ],
   "source": [
    "Rm.score(X_test, y_test)"
   ]
  },
  {
   "cell_type": "code",
   "execution_count": 37,
   "metadata": {},
   "outputs": [
    {
     "data": {
      "text/plain": [
       "<BarContainer object of 104 artists>"
      ]
     },
     "execution_count": 37,
     "metadata": {},
     "output_type": "execute_result"
    },
    {
     "data": {
      "image/png": "[encoded data removed]",
      "text/plain": [
       "<Figure size 1440x720 with 1 Axes>"
      ]
     },
     "metadata": {
      "needs_background": "light"
     },
     "output_type": "display_data"
    }
   ],
   "source": [
    "from matplotlib import pyplot as plt\n",
    "plt.figure(figsize=(20,10))\n",
    "plt.bar(np.arange(len(Rm.coef_)), np.sort(Rm.coef_, axis=0))"
   ]
  },
  {
   "cell_type": "code",
   "execution_count": 39,
   "metadata": {},
   "outputs": [
    {
     "name": "stderr",
     "output_type": "stream",
     "text": [
      "C:\\ProgramData\\Anaconda3\\envs\\study\\lib\\site-packages\\sklearn\\linear_model\\ridge.py:147: LinAlgWarning: Ill-conditioned matrix (rcond=2.12548e-18): result may not be accurate.\n",
      "  overwrite_a=True).T\n"
     ]
    },
    {
     "name": "stdout",
     "output_type": "stream",
     "text": [
      "alpha:0.0, train: 0.949024096661283, test: 0.61588585839754\n",
      "alpha:0.1, train: 0.9261926604874953, test: 0.7463824108919297\n",
      "alpha:0.2, train: 0.9183092048526234, test: 0.7483699744604826\n",
      "alpha:0.3, train: 0.9123282530642607, test: 0.746069787083119\n",
      "alpha:0.4, train: 0.9072989000889832, test: 0.7427602446356624\n",
      "alpha:0.5, train: 0.902879416235023, test: 0.7391528134070406\n",
      "alpha:0.6, train: 0.8988994292523822, test: 0.735483607189646\n",
      "alpha:0.7, train: 0.8952587207175312, test: 0.7318475397585713\n",
      "alpha:0.8, train: 0.8918919158110435, test: 0.7282862105324313\n",
      "alpha:0.9, train: 0.8887532342331406, test: 0.7248179421659836\n",
      "alpha:1.0, train: 0.885808929210358, test: 0.7214499108060962\n",
      "alpha:1.1, train: 0.8830331463662006, test: 0.7181836425473915\n",
      "alpha:1.2, train: 0.8804054770468998, test: 0.7150177179456932\n",
      "alpha:1.3, train: 0.8779094238671834, test: 0.7119491844859882\n",
      "alpha:1.4, train: 0.8755313910021427, test: 0.7089743261797231\n",
      "alpha:1.5, train: 0.8732599931262279, test: 0.706089094839196\n",
      "alpha:1.6, train: 0.8710855667401086, test: 0.7032893553698707\n",
      "alpha:1.7, train: 0.8689998149890805, test: 0.7005710253305573\n",
      "alpha:1.8, train: 0.8669955433977435, test: 0.6979301528497288\n",
      "alpha:1.9, train: 0.8650664592488881, test: 0.6953629579629487\n",
      "alpha:2.0, train: 0.8632070165863428, test: 0.692865852022828\n",
      "alpha:2.1, train: 0.8614122946086359, test: 0.6904354439388555\n",
      "alpha:2.2, train: 0.8596779009499044, test: 0.6880685385731447\n",
      "alpha:2.3, train: 0.8579998938121982, test: 0.6857621305727839\n",
      "alpha:2.4, train: 0.8563747185847084, test: 0.6835133956758762\n",
      "alpha:2.5, train: 0.8547991557412453, test: 0.6813196807597874\n",
      "alpha:2.6, train: 0.853270277621602, test: 0.6791784934188363\n",
      "alpha:2.7, train: 0.8517854122858609, test: 0.6770874915542869\n",
      "alpha:2.8, train: 0.8503421130550799, test: 0.6750444732656307\n",
      "alpha:2.9, train: 0.8489381326647922, test: 0.6730473672083144\n",
      "alpha:3.0, train: 0.847571401191505, test: 0.6710942235039737\n",
      "alpha:3.1, train: 0.8462400070889997, test: 0.6691832052390522\n",
      "alpha:3.2, train: 0.8449421808060974, test: 0.6673125805562509\n",
      "alpha:3.3, train: 0.8436762805615533, test: 0.6654807153240185\n",
      "alpha:3.4, train: 0.8424407799326772, test: 0.6636860663580488\n",
      "alpha:3.5, train: 0.8412342569777992, test: 0.6619271751626454\n",
      "alpha:3.6, train: 0.8400553846629523, test: 0.6602026621570851\n",
      "alpha:3.7, train: 0.8389029224031912, test: 0.6585112213514797\n",
      "alpha:3.8, train: 0.8377757085611135, test: 0.6568516154373449\n",
      "alpha:3.9, train: 0.8366726537711141, test: 0.6552226712595727\n",
      "alpha:4.0, train: 0.8355927349790132, test: 0.6536232756384401\n",
      "alpha:4.1, train: 0.8345349901039573, test: 0.6520523715124305\n",
      "alpha:4.2, train: 0.833498513243683, test: 0.6505089543748463\n",
      "alpha:4.3, train: 0.8324824503559622, test: 0.6489920689793712\n",
      "alpha:4.4, train: 0.8314859953587903, test: 0.6475008062918333\n",
      "alpha:4.5, train: 0.8305083866000111, test: 0.6460343006673808\n",
      "alpha:4.6, train: 0.8295489036538908, test: 0.6445917272341277\n",
      "alpha:4.7, train: 0.8286068644078912, test: 0.6431722994660105\n",
      "alpha:4.8, train: 0.8276816224077532, test: 0.6417752669291605\n",
      "alpha:4.9, train: 0.8267725644331148, test: 0.6403999131875064\n",
      "alpha:5.0, train: 0.8258791082794041, test: 0.6390455538546157\n",
      "alpha:5.1, train: 0.8250007007247524, test: 0.6377115347799569\n",
      "alpha:5.2, train: 0.8241368156632403, test: 0.6363972303588238\n",
      "alpha:5.3, train: 0.8232869523880214, test: 0.635102041956126\n",
      "alpha:5.4, train: 0.822450634009773, test: 0.6338253964351206\n",
      "alpha:5.5, train: 0.8216274059975908, test: 0.6325667447829459\n",
      "alpha:5.6, train: 0.8208168348308842, test: 0.6313255608255335\n",
      "alpha:5.7, train: 0.8200185067520884, test: 0.6301013400251121\n",
      "alpha:5.8, train: 0.8192320266111048, test: 0.6288935983541104\n",
      "alpha:5.9, train: 0.8184570167933465, test: 0.6277018712397835\n",
      "alpha:6.0, train: 0.8176931162241112, test: 0.6265257125743751\n",
      "alpha:6.1, train: 0.8169399794427457, test: 0.6253646937860525\n",
      "alpha:6.2, train: 0.8161972757407244, test: 0.624218402966256\n",
      "alpha:6.3, train: 0.8154646883583463, test: 0.6230864440494495\n",
      "alpha:6.4, train: 0.814741913735267, test: 0.6219684360415954\n",
      "alpha:6.5, train: 0.8140286608105434, test: 0.620864012293964\n",
      "alpha:6.6, train: 0.8133246503682705, test: 0.6197728198191599\n",
      "alpha:6.7, train: 0.8126296144252619, test: 0.6186945186464945\n",
      "alpha:6.8, train: 0.8119432956575372, test: 0.6176287812140544\n",
      "alpha:6.9, train: 0.8112654468626821, test: 0.6165752917950202\n",
      "alpha:7.0, train: 0.8105958304554013, test: 0.6155337459559796\n",
      "alpha:7.1, train: 0.8099342179938174, test: 0.6145038500451419\n",
      "alpha:7.2, train: 0.8092803897342835, test: 0.6134853207085273\n",
      "alpha:7.3, train: 0.8086341342126628, test: 0.6124778844323389\n",
      "alpha:7.4, train: 0.8079952478502037, test: 0.6114812771098572\n",
      "alpha:7.5, train: 0.8073635345822892, test: 0.6104952436313243\n",
      "alpha:7.6, train: 0.8067388055084836, test: 0.6095195374953862\n",
      "alpha:7.7, train: 0.8061208785624251, test: 0.6085539204407677\n",
      "alpha:7.8, train: 0.8055095782002242, test: 0.6075981620969493\n",
      "alpha:7.9, train: 0.8049047351061422, test: 0.6066520396526978\n",
      "alpha:8.0, train: 0.8043061859144087, test: 0.6057153375413824\n",
      "alpha:8.1, train: 0.8037137729461299, test: 0.6047878471420853\n",
      "alpha:8.2, train: 0.8031273439603199, test: 0.6038693664955755\n",
      "alpha:8.3, train: 0.8025467519181548, test: 0.6029597000342856\n",
      "alpha:8.4, train: 0.8019718547596194, test: 0.6020586583254797\n",
      "alpha:8.5, train: 0.8014025151917761, test: 0.6011660578268638\n",
      "alpha:8.6, train: 0.8008386004879404, test: 0.6002817206539306\n",
      "alpha:8.7, train: 0.8002799822971012, test: 0.599405474358381\n",
      "alpha:8.8, train: 0.7997265364629638, test: 0.5985371517170055\n",
      "alpha:8.9, train: 0.7991781428520484, test: 0.5976765905304489\n",
      "alpha:9.0, train: 0.7986346851903038, test: 0.5968236334313176\n",
      "alpha:9.1, train: 0.7980960509077425, test: 0.5959781277011207\n",
      "alpha:9.2, train: 0.7975621309906298, test: 0.5951399250955731\n",
      "alpha:9.3, train: 0.7970328198407977, test: 0.5943088816778097\n",
      "alpha:9.4, train: 0.7965080151416752, test: 0.5934848576590974\n",
      "alpha:9.5, train: 0.7959876177306604, test: 0.5926677172466437\n",
      "alpha:9.6, train: 0.7954715314774787, test: 0.5918573284981425\n",
      "alpha:9.7, train: 0.7949596631681992, test: 0.5910535631826979\n",
      "alpha:9.8, train: 0.7944519223945973, test: 0.590256296647807\n",
      "alpha:9.9, train: 0.7939482214485748, test: 0.58946540769209\n"
     ]
    }
   ],
   "source": [
    "minimum_score = -100\n",
    "minimum_alpha = 0\n",
    "best_model = None\n",
    "for i in list(range(0, 100, 1)):\n",
    "    i = i/10\n",
    "    \n",
    "    rm = Ridge(alpha=i)\n",
    "    rm.fit(X_train, y_train)\n",
    "    \n",
    "    train_score = rm.score(X_train, y_train)\n",
    "    test_score = rm.score(X_test, y_test)\n",
    "    print('alpha:{}, train: {}, test: {}'.format(i, train_score, test_score))\n",
    "    if minimum_score < test_score:\n",
    "        minimum_score = test_score\n",
    "        minimum_alpha = i\n",
    "        best_model = rm\n"
   ]
  },
  {
   "cell_type": "code",
   "execution_count": 40,
   "metadata": {},
   "outputs": [
    {
     "data": {
      "text/plain": [
       "Ridge(alpha=0.2, copy_X=True, fit_intercept=True, max_iter=None,\n",
       "      normalize=False, random_state=None, solver='auto', tol=0.001)"
      ]
     },
     "execution_count": 40,
     "metadata": {},
     "output_type": "execute_result"
    }
   ],
   "source": [
    "best_model"
   ]
  },
  {
   "cell_type": "code",
   "execution_count": 41,
   "metadata": {},
   "outputs": [
    {
     "data": {
      "text/plain": [
       "array([-2.32039251e+00, -4.55023554e+00, -4.02450794e+00,  8.86118061e-02,\n",
       "        1.56000790e+00,  1.44707705e+01,  1.48165432e+00, -8.54707506e+00,\n",
       "        8.17432611e+00, -5.80096512e-02, -5.85449421e-01,  4.26076226e+00,\n",
       "       -2.67733638e+00,  4.59148489e+00, -2.17190432e-03, -1.10612140e+00,\n",
       "        2.81347145e+00, -2.55240482e+00,  1.64987188e-01, -2.96816176e+00,\n",
       "       -4.21540642e-02, -2.81190093e+00, -2.20508097e+00, -2.19332265e+00,\n",
       "       -5.56097443e-01, -1.62082924e+00,  3.48461370e+00, -2.77473283e+00,\n",
       "        2.67312934e+00, -1.43958541e+00,  7.75403890e+00, -3.65695799e+00,\n",
       "       -1.22938767e-02,  1.99254666e+00,  1.54771379e+00,  2.35417658e+00,\n",
       "       -3.01190114e+00, -5.43293451e+00,  5.45616336e+00,  2.98236430e+00,\n",
       "        6.10312529e+00, -1.20172364e+00,  5.59337675e+00, -5.49812362e+00,\n",
       "        3.93069148e+00,  5.74961775e+00, -5.64158695e+00, -7.85189944e-02,\n",
       "       -1.12337923e+01,  8.86118061e-02, -1.11214899e+01, -1.17542226e+01,\n",
       "        3.09879302e+00, -4.15524752e-02,  4.65546991e+00,  4.10590490e+00,\n",
       "        1.11947715e+00,  6.35194556e+00, -4.62609780e+00, -1.66728932e+00,\n",
       "       -3.42720049e+00, -4.94520973e+00,  2.72048350e-01, -5.47010317e+00,\n",
       "       -1.40747279e+00, -3.27301453e+00,  9.09973898e-02,  1.10899849e+00,\n",
       "        2.02930535e+01, -5.31617042e+00,  3.05261853e+00, -1.37132968e+01,\n",
       "       -1.26676817e+01, -1.44048414e+01,  1.31951865e+01, -8.38086469e+00,\n",
       "        8.06540314e-01,  2.76706669e+00,  7.15769465e+00, -5.92689556e-01,\n",
       "       -2.82501501e+00, -1.68753259e+00, -8.40820589e+00,  6.50707027e+00,\n",
       "        1.81715864e+00,  1.62158145e-01, -1.27962707e+00, -8.69005663e+00,\n",
       "        3.98831619e+00, -1.61150213e+00,  3.53398380e+00,  3.79426510e+00,\n",
       "       -1.00004328e+00, -1.08907641e+01, -4.72695977e-01,  5.75725523e+00,\n",
       "       -2.34262031e+00, -1.24651411e+01,  4.48244963e+00, -2.33864479e+00,\n",
       "        1.91150072e+00,  1.91944076e+00, -7.23207114e+00,  2.21500906e+01])"
      ]
     },
     "execution_count": 41,
     "metadata": {},
     "output_type": "execute_result"
    }
   ],
   "source": [
    " best_model.coef_"
   ]
  },
  {
   "cell_type": "code",
   "execution_count": 44,
   "metadata": {},
   "outputs": [
    {
     "data": {
      "text/plain": [
       "<BarContainer object of 104 artists>"
      ]
     },
     "execution_count": 44,
     "metadata": {},
     "output_type": "execute_result"
    },
    {
     "data": {
      "image/png": "[encoded data removed]",
      "text/plain": [
       "<Figure size 1440x720 with 1 Axes>"
      ]
     },
     "metadata": {
      "needs_background": "light"
     },
     "output_type": "display_data"
    }
   ],
   "source": [
    "n = np.arange(len(best_model.coef_))\n",
    "\n",
    "plt.figure(figsize=(20,10))\n",
    "plt.bar(n, np.sort(best_model.coef_, axis=0))"
   ]
  },
  {
   "cell_type": "code",
   "execution_count": 43,
   "metadata": {},
   "outputs": [
    {
     "name": "stdout",
     "output_type": "stream",
     "text": [
      "alpha:10, train: 0.7934484752213662, test: 0.5886807784434769\n"
     ]
    }
   ],
   "source": [
    "rm = Ridge(alpha=10)\n",
    "rm.fit(X_train, y_train)\n",
    "    \n",
    "train_score = rm.score(X_train, y_train)\n",
    "test_score = rm.score(X_test, y_test)\n",
    "print('alpha:{}, train: {}, test: {}'.format(10, train_score, test_score))\n"
   ]
  },
  {
   "cell_type": "code",
   "execution_count": null,
   "metadata": {},
   "outputs": [],
   "source": [
    "rm.coef_"
   ]
  },
  {
   "cell_type": "markdown",
   "metadata": {},
   "source": [
    "### cross validation with Ridge"
   ]
  },
  {
   "cell_type": "code",
   "execution_count": 45,
   "metadata": {},
   "outputs": [
    {
     "name": "stderr",
     "output_type": "stream",
     "text": [
      "C:\\ProgramData\\Anaconda3\\envs\\study\\lib\\site-packages\\sklearn\\linear_model\\ridge.py:147: LinAlgWarning: Ill-conditioned matrix (rcond=2.12548e-18): result may not be accurate.\n",
      "  overwrite_a=True).T\n",
      "C:\\ProgramData\\Anaconda3\\envs\\study\\lib\\site-packages\\sklearn\\linear_model\\ridge.py:147: LinAlgWarning: Ill-conditioned matrix (rcond=9.41362e-19): result may not be accurate.\n",
      "  overwrite_a=True).T\n"
     ]
    },
    {
     "name": "stdout",
     "output_type": "stream",
     "text": [
      "alpha:0.0, train: 0.949024096661283, test: 0.61588585839754\n",
      "alpha:0.1, train: 0.9261926604874953, test: 0.7463824108919297\n",
      "alpha:0.2, train: 0.9183092048526234, test: 0.7483699744604826\n",
      "alpha:0.3, train: 0.9123282530642607, test: 0.746069787083119\n",
      "alpha:0.4, train: 0.9072989000889832, test: 0.7427602446356624\n",
      "alpha:0.5, train: 0.902879416235023, test: 0.7391528134070406\n",
      "alpha:0.6, train: 0.8988994292523822, test: 0.735483607189646\n",
      "alpha:0.7, train: 0.8952587207175312, test: 0.7318475397585713\n",
      "alpha:0.8, train: 0.8918919158110435, test: 0.7282862105324313\n",
      "alpha:0.9, train: 0.8887532342331406, test: 0.7248179421659836\n",
      "alpha:1.0, train: 0.885808929210358, test: 0.7214499108060962\n",
      "alpha:1.1, train: 0.8830331463662006, test: 0.7181836425473915\n",
      "alpha:1.2, train: 0.8804054770468998, test: 0.7150177179456932\n",
      "alpha:1.3, train: 0.8779094238671834, test: 0.7119491844859882\n",
      "alpha:1.4, train: 0.8755313910021427, test: 0.7089743261797231\n",
      "alpha:1.5, train: 0.8732599931262279, test: 0.706089094839196\n",
      "alpha:1.6, train: 0.8710855667401086, test: 0.7032893553698707\n",
      "alpha:1.7, train: 0.8689998149890805, test: 0.7005710253305573\n",
      "alpha:1.8, train: 0.8669955433977435, test: 0.6979301528497288\n",
      "alpha:1.9, train: 0.8650664592488881, test: 0.6953629579629487\n",
      "alpha:2.0, train: 0.8632070165863428, test: 0.692865852022828\n",
      "alpha:2.1, train: 0.8614122946086359, test: 0.6904354439388555\n",
      "alpha:2.2, train: 0.8596779009499044, test: 0.6880685385731447\n",
      "alpha:2.3, train: 0.8579998938121982, test: 0.6857621305727839\n",
      "alpha:2.4, train: 0.8563747185847084, test: 0.6835133956758762\n",
      "alpha:2.5, train: 0.8547991557412453, test: 0.6813196807597874\n",
      "alpha:2.6, train: 0.853270277621602, test: 0.6791784934188363\n",
      "alpha:2.7, train: 0.8517854122858609, test: 0.6770874915542869\n",
      "alpha:2.8, train: 0.8503421130550799, test: 0.6750444732656307\n",
      "alpha:2.9, train: 0.8489381326647922, test: 0.6730473672083144\n",
      "alpha:3.0, train: 0.847571401191505, test: 0.6710942235039737\n",
      "alpha:3.1, train: 0.8462400070889997, test: 0.6691832052390522\n",
      "alpha:3.2, train: 0.8449421808060974, test: 0.6673125805562509\n",
      "alpha:3.3, train: 0.8436762805615533, test: 0.6654807153240185\n",
      "alpha:3.4, train: 0.8424407799326772, test: 0.6636860663580488\n",
      "alpha:3.5, train: 0.8412342569777992, test: 0.6619271751626454\n",
      "alpha:3.6, train: 0.8400553846629523, test: 0.6602026621570851\n",
      "alpha:3.7, train: 0.8389029224031912, test: 0.6585112213514797\n",
      "alpha:3.8, train: 0.8377757085611135, test: 0.6568516154373449\n",
      "alpha:3.9, train: 0.8366726537711141, test: 0.6552226712595727\n",
      "alpha:4.0, train: 0.8355927349790132, test: 0.6536232756384401\n",
      "alpha:4.1, train: 0.8345349901039573, test: 0.6520523715124305\n",
      "alpha:4.2, train: 0.833498513243683, test: 0.6505089543748463\n",
      "alpha:4.3, train: 0.8324824503559622, test: 0.6489920689793712\n",
      "alpha:4.4, train: 0.8314859953587903, test: 0.6475008062918333\n",
      "alpha:4.5, train: 0.8305083866000111, test: 0.6460343006673808\n",
      "alpha:4.6, train: 0.8295489036538908, test: 0.6445917272341277\n",
      "alpha:4.7, train: 0.8286068644078912, test: 0.6431722994660105\n",
      "alpha:4.8, train: 0.8276816224077532, test: 0.6417752669291605\n",
      "alpha:4.9, train: 0.8267725644331148, test: 0.6403999131875064\n",
      "alpha:5.0, train: 0.8258791082794041, test: 0.6390455538546157\n",
      "alpha:5.1, train: 0.8250007007247524, test: 0.6377115347799569\n",
      "alpha:5.2, train: 0.8241368156632403, test: 0.6363972303588238\n",
      "alpha:5.3, train: 0.8232869523880214, test: 0.635102041956126\n",
      "alpha:5.4, train: 0.822450634009773, test: 0.6338253964351206\n",
      "alpha:5.5, train: 0.8216274059975908, test: 0.6325667447829459\n",
      "alpha:5.6, train: 0.8208168348308842, test: 0.6313255608255335\n",
      "alpha:5.7, train: 0.8200185067520884, test: 0.6301013400251121\n",
      "alpha:5.8, train: 0.8192320266111048, test: 0.6288935983541104\n",
      "alpha:5.9, train: 0.8184570167933465, test: 0.6277018712397835\n",
      "alpha:6.0, train: 0.8176931162241112, test: 0.6265257125743751\n",
      "alpha:6.1, train: 0.8169399794427457, test: 0.6253646937860525\n",
      "alpha:6.2, train: 0.8161972757407244, test: 0.624218402966256\n",
      "alpha:6.3, train: 0.8154646883583463, test: 0.6230864440494495\n",
      "alpha:6.4, train: 0.814741913735267, test: 0.6219684360415954\n",
      "alpha:6.5, train: 0.8140286608105434, test: 0.620864012293964\n",
      "alpha:6.6, train: 0.8133246503682705, test: 0.6197728198191599\n",
      "alpha:6.7, train: 0.8126296144252619, test: 0.6186945186464945\n",
      "alpha:6.8, train: 0.8119432956575372, test: 0.6176287812140544\n",
      "alpha:6.9, train: 0.8112654468626821, test: 0.6165752917950202\n",
      "alpha:7.0, train: 0.8105958304554013, test: 0.6155337459559796\n",
      "alpha:7.1, train: 0.8099342179938174, test: 0.6145038500451419\n",
      "alpha:7.2, train: 0.8092803897342835, test: 0.6134853207085273\n",
      "alpha:7.3, train: 0.8086341342126628, test: 0.6124778844323389\n",
      "alpha:7.4, train: 0.8079952478502037, test: 0.6114812771098572\n",
      "alpha:7.5, train: 0.8073635345822892, test: 0.6104952436313243\n",
      "alpha:7.6, train: 0.8067388055084836, test: 0.6095195374953862\n",
      "alpha:7.7, train: 0.8061208785624251, test: 0.6085539204407677\n",
      "alpha:7.8, train: 0.8055095782002242, test: 0.6075981620969493\n",
      "alpha:7.9, train: 0.8049047351061422, test: 0.6066520396526978\n",
      "alpha:8.0, train: 0.8043061859144087, test: 0.6057153375413824\n",
      "alpha:8.1, train: 0.8037137729461299, test: 0.6047878471420853\n",
      "alpha:8.2, train: 0.8031273439603199, test: 0.6038693664955755\n",
      "alpha:8.3, train: 0.8025467519181548, test: 0.6029597000342856\n",
      "alpha:8.4, train: 0.8019718547596194, test: 0.6020586583254797\n",
      "alpha:8.5, train: 0.8014025151917761, test: 0.6011660578268638\n",
      "alpha:8.6, train: 0.8008386004879404, test: 0.6002817206539306\n",
      "alpha:8.7, train: 0.8002799822971012, test: 0.599405474358381\n",
      "alpha:8.8, train: 0.7997265364629638, test: 0.5985371517170055\n",
      "alpha:8.9, train: 0.7991781428520484, test: 0.5976765905304489\n",
      "alpha:9.0, train: 0.7986346851903038, test: 0.5968236334313176\n",
      "alpha:9.1, train: 0.7980960509077425, test: 0.5959781277011207\n",
      "alpha:9.2, train: 0.7975621309906298, test: 0.5951399250955731\n",
      "alpha:9.3, train: 0.7970328198407977, test: 0.5943088816778097\n",
      "alpha:9.4, train: 0.7965080151416752, test: 0.5934848576590974\n",
      "alpha:9.5, train: 0.7959876177306604, test: 0.5926677172466437\n",
      "alpha:9.6, train: 0.7954715314774787, test: 0.5918573284981425\n",
      "alpha:9.7, train: 0.7949596631681992, test: 0.5910535631826979\n",
      "alpha:9.8, train: 0.7944519223945973, test: 0.590256296647807\n",
      "alpha:9.9, train: 0.7939482214485748, test: 0.58946540769209\n"
     ]
    }
   ],
   "source": [
    "minimum_score = -100\n",
    "minimum_alpha = 0\n",
    "best_model = None\n",
    "\n",
    "cross_mean = -100\n",
    "cross_alpha = 0\n",
    "cross_best = None\n",
    "\n",
    "for i in list(range(0, 100, 1)):\n",
    "    i = i/10\n",
    "    \n",
    "    rm = Ridge(alpha=i)\n",
    "    rm.fit(X_train, y_train)\n",
    "    \n",
    "    \n",
    "    train_score = rm.score(X_train, y_train)\n",
    "    test_score = rm.score(X_test, y_test)\n",
    "    \n",
    "    print('alpha:{}, train: {}, test: {}'.format(i, train_score, test_score))\n",
    "    \n",
    "    if minimum_score < test_score:\n",
    "        minimum_score = test_score\n",
    "        minimum_alpha = i\n",
    "        best_model = rm\n",
    "    \n",
    "    # cross validation scores\n",
    "    cross_scores = cross_val_score(rm, X, y, cv=5)\n",
    "    _cross_mean, _corss_std = cross_scores.mean(), cross_scores.std()\n",
    "        \n",
    "    if cross_mean < _cross_mean:\n",
    "        cross_mean = _cross_mean\n",
    "        cross_alpha = i\n",
    "        cross_best = rm\n",
    "\n"
   ]
  },
  {
   "cell_type": "code",
   "execution_count": 46,
   "metadata": {},
   "outputs": [
    {
     "data": {
      "text/plain": [
       "Ridge(alpha=1.0, copy_X=True, fit_intercept=True, max_iter=None,\n",
       "      normalize=False, random_state=None, solver='auto', tol=0.001)"
      ]
     },
     "execution_count": 46,
     "metadata": {},
     "output_type": "execute_result"
    }
   ],
   "source": [
    "cross_best"
   ]
  },
  {
   "cell_type": "code",
   "execution_count": 47,
   "metadata": {},
   "outputs": [
    {
     "data": {
      "text/plain": [
       "0.7214499108060962"
      ]
     },
     "execution_count": 47,
     "metadata": {},
     "output_type": "execute_result"
    }
   ],
   "source": [
    "cross_best.score(X_test, y_test)"
   ]
  },
  {
   "cell_type": "code",
   "execution_count": 48,
   "metadata": {},
   "outputs": [
    {
     "data": {
      "text/plain": [
       "0.8538846761565939"
      ]
     },
     "execution_count": 48,
     "metadata": {},
     "output_type": "execute_result"
    }
   ],
   "source": [
    "cross_best.score(X, y)"
   ]
  },
  {
   "cell_type": "code",
   "execution_count": 50,
   "metadata": {},
   "outputs": [
    {
     "data": {
      "text/plain": [
       "<BarContainer object of 104 artists>"
      ]
     },
     "execution_count": 50,
     "metadata": {},
     "output_type": "execute_result"
    },
    {
     "data": {
      "image/png": "[encoded data removed]",
      "text/plain": [
       "<Figure size 1440x720 with 1 Axes>"
      ]
     },
     "metadata": {
      "needs_background": "light"
     },
     "output_type": "display_data"
    }
   ],
   "source": [
    "n = np.arange(len(cross_best.coef_))\n",
    "\n",
    "plt.figure(figsize=(20,10))\n",
    "plt.bar(n, np.sort(cross_best.coef_, axis=0))"
   ]
  },
  {
   "cell_type": "code",
   "execution_count": 51,
   "metadata": {},
   "outputs": [
    {
     "name": "stderr",
     "output_type": "stream",
     "text": [
      "C:\\ProgramData\\Anaconda3\\envs\\study\\lib\\site-packages\\sklearn\\linear_model\\ridge.py:147: LinAlgWarning: Ill-conditioned matrix (rcond=2.12548e-18): result may not be accurate.\n",
      "  overwrite_a=True).T\n"
     ]
    },
    {
     "data": {
      "text/plain": [
       "Ridge(alpha=80, copy_X=True, fit_intercept=True, max_iter=None, normalize=False,\n",
       "      random_state=None, solver='auto', tol=0.001)"
      ]
     },
     "execution_count": 51,
     "metadata": {},
     "output_type": "execute_result"
    }
   ],
   "source": [
    "# 만약 알파값이 늘어나면??\n",
    "rm = Ridge(alpha=0)\n",
    "rm1 = Ridge(alpha=0.1)\n",
    "rm2 = Ridge(alpha=0.5)\n",
    "rm3 = Ridge(alpha=10)\n",
    "rm4 = Ridge(alpha=20)\n",
    "\n",
    "rm4 = Ridge(alpha=40)\n",
    "rm5 = Ridge(alpha=80)\n",
    "\n",
    "rm.fit(X_train, y_train)\n",
    "rm1.fit(X_train, y_train)\n",
    "rm2.fit(X_train, y_train)\n",
    "rm3.fit(X_train, y_train)\n",
    "rm4.fit(X_train, y_train)\n",
    "rm5.fit(X_train, y_train)"
   ]
  },
  {
   "cell_type": "code",
   "execution_count": 52,
   "metadata": {},
   "outputs": [
    {
     "data": {
      "image/png": "[encoded data removed]",
      "text/plain": [
       "<Figure size 1440x2160 with 6 Axes>"
      ]
     },
     "metadata": {
      "needs_background": "light"
     },
     "output_type": "display_data"
    }
   ],
   "source": [
    "n = np.arange(len(rm.coef_))\n",
    "\n",
    "plt.figure(figsize=(20,30))\n",
    "plt.subplot(3,2,1)\n",
    "plt.bar(n, np.sort(rm.coef_, axis=0))\n",
    "\n",
    "plt.subplot(3,2,2)\n",
    "plt.bar(n, np.sort(rm1.coef_, axis=0))\n",
    "\n",
    "plt.subplot(3,2,3)\n",
    "plt.bar(n, np.sort(rm2.coef_, axis=0))\n",
    "\n",
    "plt.subplot(3,2,4)\n",
    "plt.bar(n, np.sort(rm3.coef_, axis=0))\n",
    "\n",
    "plt.subplot(3,2,5)\n",
    "plt.bar(n, np.sort(rm4.coef_, axis=0))\n",
    "\n",
    "plt.subplot(3,2,6)\n",
    "plt.bar(n, np.sort(rm5.coef_, axis=0))\n",
    "plt.show()"
   ]
  },
  {
   "cell_type": "code",
   "execution_count": 53,
   "metadata": {},
   "outputs": [
    {
     "name": "stdout",
     "output_type": "stream",
     "text": [
      "[-4.90159819e+02 -4.00626206e+01 -1.25287218e+02 -2.09664274e+01\n",
      " -8.06560621e+00  3.28101194e+01  4.65516841e+01 -6.27045004e+01\n",
      "  2.87358042e+01  3.34139738e+01 -6.80132106e-01 -9.31619287e+00\n",
      " -1.61133582e+01  1.21301779e+01  2.21565994e+03  1.53054044e+03\n",
      "  1.24461620e+02 -1.27347248e+01  4.24938302e+01 -3.54781532e+01\n",
      "  8.91645918e+00  1.22299456e+03 -2.15366400e+03  2.74716329e+02\n",
      " -1.41233559e+00  4.33324936e+01 -1.24082513e+01 -1.69004641e+01\n",
      " -6.04317656e+00 -8.15771683e+01  9.02286325e+00  4.10360549e-01\n",
      " -3.67270440e+00 -7.08564514e+00  3.56048971e+01 -1.22564863e+01\n",
      "  5.79039071e+01 -1.52297806e+01  3.98426090e+01  5.64809836e+00\n",
      "  1.89043117e-01  5.46913714e+01  1.85814845e+01  5.47572005e+01\n",
      " -4.58182836e+01  2.16098573e+01 -1.01744270e+01  5.46020392e+01\n",
      " -1.78903569e+01  3.13892251e+00 -1.71954300e+01 -3.15047685e+01\n",
      "  2.78399230e+00  2.27112765e+00  1.45281400e+01 -1.04841792e+01\n",
      " -9.52158347e+00  4.64199952e+01 -1.40725252e+01 -2.49545446e+00\n",
      "  2.49619128e+01 -1.36250586e+01  8.70203229e+01 -3.27151211e+01\n",
      "  5.53374977e+01 -4.96364911e+01  2.10904061e+00  2.39366870e+01\n",
      "  2.14171750e+01 -4.64073871e+01  2.69086034e+01  9.06789867e+00\n",
      " -7.06381442e+01 -2.55903479e+01  1.00391892e+01 -6.14801631e+00\n",
      "  2.65660264e+00  3.26416107e+00  4.01543979e+01 -3.68823252e+01\n",
      " -5.64711473e+00 -2.32864107e+01 -3.19793810e+01  5.33311471e+01\n",
      " -2.67324621e+01 -1.50875712e+01 -1.85014087e+01 -1.54121310e+01\n",
      "  3.24131091e+01 -8.99503967e+01  1.50482894e+02 -2.04257821e+01\n",
      " -1.31895526e+01 -2.78622507e+01 -3.46129966e+01  2.40830654e+01\n",
      " -1.70819475e+01  2.09266608e+00  4.75613160e+00  2.68408414e+01\n",
      "  1.08100271e+01 -1.49307902e+00  1.40969740e+00  3.08628470e+01]\n"
     ]
    },
    {
     "data": {
      "image/png": "[encoded data removed]",
      "text/plain": [
       "<Figure size 1440x2160 with 1 Axes>"
      ]
     },
     "metadata": {
      "needs_background": "light"
     },
     "output_type": "display_data"
    }
   ],
   "source": [
    "plt.figure(figsize=(20,30))\n",
    "plt.bar(n, np.sort(rm.coef_, axis=0))\n",
    "\n",
    "print(rm.coef_)"
   ]
  },
  {
   "cell_type": "markdown",
   "metadata": {},
   "source": [
    "# Lasso"
   ]
  },
  {
   "cell_type": "code",
   "execution_count": 54,
   "metadata": {
    "scrolled": false
   },
   "outputs": [
    {
     "name": "stdout",
     "output_type": "stream",
     "text": [
      "alpha:0.1, train: 0.7734670612352095, test: 0.5788369599709589\n"
     ]
    }
   ],
   "source": [
    "rm = Lasso(alpha=.1)\n",
    "rm.fit(X_train, y_train)\n",
    "\n",
    "train_score = rm.score(X_train, y_train)\n",
    "test_score = rm.score(X_test, y_test)\n",
    "print('alpha:{}, train: {}, test: {}'.format(0.1, train_score, test_score))\n"
   ]
  },
  {
   "cell_type": "code",
   "execution_count": 55,
   "metadata": {},
   "outputs": [
    {
     "name": "stderr",
     "output_type": "stream",
     "text": [
      "C:\\ProgramData\\Anaconda3\\envs\\study\\lib\\site-packages\\ipykernel_launcher.py:8: UserWarning: With alpha=0, this algorithm does not converge well. You are advised to use the LinearRegression estimator\n",
      "  \n",
      "C:\\ProgramData\\Anaconda3\\envs\\study\\lib\\site-packages\\sklearn\\linear_model\\coordinate_descent.py:475: UserWarning: Coordinate descent with no regularization may lead to unexpected results and is discouraged.\n",
      "  positive)\n",
      "C:\\ProgramData\\Anaconda3\\envs\\study\\lib\\site-packages\\sklearn\\linear_model\\coordinate_descent.py:475: ConvergenceWarning: Objective did not converge. You might want to increase the number of iterations. Duality gap: 1040.484891069324, tolerance: 3.4398062970297034\n",
      "  positive)\n"
     ]
    },
    {
     "name": "stdout",
     "output_type": "stream",
     "text": [
      "alpha:0.0, train: 0.939503285870033, test: 0.690188038527979\n",
      "alpha:0.1, train: 0.7734670612352095, test: 0.5788369599709589\n",
      "alpha:0.2, train: 0.741706960113871, test: 0.548860731870187\n",
      "alpha:0.3, train: 0.711305923952956, test: 0.5260288993761577\n",
      "alpha:0.4, train: 0.6701047347406606, test: 0.4933276410317631\n",
      "alpha:0.5, train: 0.6179416874902637, test: 0.4479702469409994\n",
      "alpha:0.6, train: 0.5553606674106111, test: 0.38911618397709524\n",
      "alpha:0.7, train: 0.49320860275008227, test: 0.33597460514957855\n",
      "alpha:0.8, train: 0.42453929924611256, test: 0.2786313295595215\n",
      "alpha:0.9, train: 0.35895973077606713, test: 0.22575931592355825\n",
      "alpha:1.0, train: 0.30173392764195583, test: 0.18559880937915907\n",
      "alpha:1.1, train: 0.23937088149562025, test: 0.14032096432643604\n",
      "alpha:1.2, train: 0.17106794012348725, test: 0.09027094180483342\n",
      "alpha:1.3, train: 0.11186464241587157, test: 0.05262631982712018\n",
      "alpha:1.4, train: 0.0695646489255729, test: 0.034841562341824894\n",
      "alpha:1.5, train: 0.037261341223732924, test: 0.019586718014321436\n",
      "alpha:1.6, train: 0.017064600967774624, test: 0.00822759638423054\n",
      "alpha:1.7, train: 0.0, test: -0.001889737528507185\n",
      "alpha:1.8, train: 0.0, test: -0.001889737528507185\n",
      "alpha:1.9, train: 0.0, test: -0.001889737528507185\n",
      "alpha:2.0, train: 0.0, test: -0.001889737528507185\n",
      "alpha:2.1, train: 0.0, test: -0.001889737528507185\n",
      "alpha:2.2, train: 0.0, test: -0.001889737528507185\n",
      "alpha:2.3, train: 0.0, test: -0.001889737528507185\n",
      "alpha:2.4, train: 0.0, test: -0.001889737528507185\n",
      "alpha:2.5, train: 0.0, test: -0.001889737528507185\n",
      "alpha:2.6, train: 0.0, test: -0.001889737528507185\n",
      "alpha:2.7, train: 0.0, test: -0.001889737528507185\n",
      "alpha:2.8, train: 0.0, test: -0.001889737528507185\n",
      "alpha:2.9, train: 0.0, test: -0.001889737528507185\n",
      "alpha:3.0, train: 0.0, test: -0.001889737528507185\n",
      "alpha:3.1, train: 0.0, test: -0.001889737528507185\n",
      "alpha:3.2, train: 0.0, test: -0.001889737528507185\n",
      "alpha:3.3, train: 0.0, test: -0.001889737528507185\n",
      "alpha:3.4, train: 0.0, test: -0.001889737528507185\n",
      "alpha:3.5, train: 0.0, test: -0.001889737528507185\n",
      "alpha:3.6, train: 0.0, test: -0.001889737528507185\n",
      "alpha:3.7, train: 0.0, test: -0.001889737528507185\n",
      "alpha:3.8, train: 0.0, test: -0.001889737528507185\n",
      "alpha:3.9, train: 0.0, test: -0.001889737528507185\n",
      "alpha:4.0, train: 0.0, test: -0.001889737528507185\n",
      "alpha:4.1, train: 0.0, test: -0.001889737528507185\n",
      "alpha:4.2, train: 0.0, test: -0.001889737528507185\n",
      "alpha:4.3, train: 0.0, test: -0.001889737528507185\n",
      "alpha:4.4, train: 0.0, test: -0.001889737528507185\n",
      "alpha:4.5, train: 0.0, test: -0.001889737528507185\n",
      "alpha:4.6, train: 0.0, test: -0.001889737528507185\n",
      "alpha:4.7, train: 0.0, test: -0.001889737528507185\n",
      "alpha:4.8, train: 0.0, test: -0.001889737528507185\n",
      "alpha:4.9, train: 0.0, test: -0.001889737528507185\n",
      "alpha:5.0, train: 0.0, test: -0.001889737528507185\n",
      "alpha:5.1, train: 0.0, test: -0.001889737528507185\n",
      "alpha:5.2, train: 0.0, test: -0.001889737528507185\n",
      "alpha:5.3, train: 0.0, test: -0.001889737528507185\n",
      "alpha:5.4, train: 0.0, test: -0.001889737528507185\n",
      "alpha:5.5, train: 0.0, test: -0.001889737528507185\n",
      "alpha:5.6, train: 0.0, test: -0.001889737528507185\n",
      "alpha:5.7, train: 0.0, test: -0.001889737528507185\n",
      "alpha:5.8, train: 0.0, test: -0.001889737528507185\n",
      "alpha:5.9, train: 0.0, test: -0.001889737528507185\n",
      "alpha:6.0, train: 0.0, test: -0.001889737528507185\n",
      "alpha:6.1, train: 0.0, test: -0.001889737528507185\n",
      "alpha:6.2, train: 0.0, test: -0.001889737528507185\n",
      "alpha:6.3, train: 0.0, test: -0.001889737528507185\n",
      "alpha:6.4, train: 0.0, test: -0.001889737528507185\n",
      "alpha:6.5, train: 0.0, test: -0.001889737528507185\n",
      "alpha:6.6, train: 0.0, test: -0.001889737528507185\n",
      "alpha:6.7, train: 0.0, test: -0.001889737528507185\n",
      "alpha:6.8, train: 0.0, test: -0.001889737528507185\n",
      "alpha:6.9, train: 0.0, test: -0.001889737528507185\n",
      "alpha:7.0, train: 0.0, test: -0.001889737528507185\n",
      "alpha:7.1, train: 0.0, test: -0.001889737528507185\n",
      "alpha:7.2, train: 0.0, test: -0.001889737528507185\n",
      "alpha:7.3, train: 0.0, test: -0.001889737528507185\n",
      "alpha:7.4, train: 0.0, test: -0.001889737528507185\n",
      "alpha:7.5, train: 0.0, test: -0.001889737528507185\n",
      "alpha:7.6, train: 0.0, test: -0.001889737528507185\n",
      "alpha:7.7, train: 0.0, test: -0.001889737528507185\n",
      "alpha:7.8, train: 0.0, test: -0.001889737528507185\n",
      "alpha:7.9, train: 0.0, test: -0.001889737528507185\n",
      "alpha:8.0, train: 0.0, test: -0.001889737528507185\n",
      "alpha:8.1, train: 0.0, test: -0.001889737528507185\n",
      "alpha:8.2, train: 0.0, test: -0.001889737528507185\n",
      "alpha:8.3, train: 0.0, test: -0.001889737528507185\n",
      "alpha:8.4, train: 0.0, test: -0.001889737528507185\n",
      "alpha:8.5, train: 0.0, test: -0.001889737528507185\n",
      "alpha:8.6, train: 0.0, test: -0.001889737528507185\n",
      "alpha:8.7, train: 0.0, test: -0.001889737528507185\n",
      "alpha:8.8, train: 0.0, test: -0.001889737528507185\n",
      "alpha:8.9, train: 0.0, test: -0.001889737528507185\n",
      "alpha:9.0, train: 0.0, test: -0.001889737528507185\n",
      "alpha:9.1, train: 0.0, test: -0.001889737528507185\n",
      "alpha:9.2, train: 0.0, test: -0.001889737528507185\n",
      "alpha:9.3, train: 0.0, test: -0.001889737528507185\n",
      "alpha:9.4, train: 0.0, test: -0.001889737528507185\n",
      "alpha:9.5, train: 0.0, test: -0.001889737528507185\n",
      "alpha:9.6, train: 0.0, test: -0.001889737528507185\n",
      "alpha:9.7, train: 0.0, test: -0.001889737528507185\n",
      "alpha:9.8, train: 0.0, test: -0.001889737528507185\n",
      "alpha:9.9, train: 0.0, test: -0.001889737528507185\n"
     ]
    }
   ],
   "source": [
    "minimum_score = -100\n",
    "minimum_alpha = 0\n",
    "best_model = None\n",
    "for i in list(range(0, 100, 1)):\n",
    "    i = i/10\n",
    "    \n",
    "    lasso_model = Lasso(alpha=i)\n",
    "    lasso_model.fit(X_train, y_train)\n",
    "    \n",
    "    \n",
    "    train_score = lasso_model.score(X_train, y_train)\n",
    "    test_score = lasso_model.score(X_test, y_test)\n",
    "    print('alpha:{}, train: {}, test: {}'.format(i, train_score, test_score))\n",
    "    if minimum_score < test_score:\n",
    "        minimum_score = test_score\n",
    "        minimum_alpha = i\n",
    "        best_model = lasso_model\n"
   ]
  },
  {
   "cell_type": "code",
   "execution_count": 56,
   "metadata": {},
   "outputs": [
    {
     "data": {
      "text/plain": [
       "Lasso(alpha=0.0, copy_X=True, fit_intercept=True, max_iter=1000,\n",
       "      normalize=False, positive=False, precompute=False, random_state=None,\n",
       "      selection='cyclic', tol=0.0001, warm_start=False)"
      ]
     },
     "execution_count": 56,
     "metadata": {},
     "output_type": "execute_result"
    }
   ],
   "source": [
    "best_model"
   ]
  },
  {
   "cell_type": "markdown",
   "metadata": {},
   "source": [
    "### cross validation with Lasso"
   ]
  },
  {
   "cell_type": "code",
   "execution_count": 76,
   "metadata": {},
   "outputs": [
    {
     "data": {
      "text/plain": [
       "array([ 0.17270014, -2.24553502,  0.64430017,  0.22441297, -7.95698209])"
      ]
     },
     "execution_count": 76,
     "metadata": {},
     "output_type": "execute_result"
    }
   ],
   "source": [
    "lm = LinearRegression()\n",
    "# lm.fit(X, y)\n",
    "cross_scores = cross_val_score(lm, X, y, cv=5)\n",
    "cross_scores"
   ]
  },
  {
   "cell_type": "code",
   "execution_count": 77,
   "metadata": {},
   "outputs": [
    {
     "name": "stderr",
     "output_type": "stream",
     "text": [
      "C:\\ProgramData\\Anaconda3\\envs\\study\\lib\\site-packages\\ipykernel_launcher.py:13: UserWarning: With alpha=0, this algorithm does not converge well. You are advised to use the LinearRegression estimator\n",
      "  del sys.path[0]\n",
      "C:\\ProgramData\\Anaconda3\\envs\\study\\lib\\site-packages\\sklearn\\linear_model\\coordinate_descent.py:475: UserWarning: Coordinate descent with no regularization may lead to unexpected results and is discouraged.\n",
      "  positive)\n",
      "C:\\ProgramData\\Anaconda3\\envs\\study\\lib\\site-packages\\sklearn\\linear_model\\coordinate_descent.py:475: ConvergenceWarning: Objective did not converge. You might want to increase the number of iterations. Duality gap: 1040.484891069324, tolerance: 3.4398062970297034\n",
      "  positive)\n",
      "C:\\ProgramData\\Anaconda3\\envs\\study\\lib\\site-packages\\sklearn\\model_selection\\_validation.py:514: UserWarning: With alpha=0, this algorithm does not converge well. You are advised to use the LinearRegression estimator\n",
      "  estimator.fit(X_train, y_train, **fit_params)\n",
      "C:\\ProgramData\\Anaconda3\\envs\\study\\lib\\site-packages\\sklearn\\linear_model\\coordinate_descent.py:475: UserWarning: Coordinate descent with no regularization may lead to unexpected results and is discouraged.\n",
      "  positive)\n",
      "C:\\ProgramData\\Anaconda3\\envs\\study\\lib\\site-packages\\sklearn\\linear_model\\coordinate_descent.py:475: ConvergenceWarning: Objective did not converge. You might want to increase the number of iterations. Duality gap: 1227.4471755406055, tolerance: 3.9191485420792076\n",
      "  positive)\n",
      "C:\\ProgramData\\Anaconda3\\envs\\study\\lib\\site-packages\\sklearn\\model_selection\\_validation.py:514: UserWarning: With alpha=0, this algorithm does not converge well. You are advised to use the LinearRegression estimator\n",
      "  estimator.fit(X_train, y_train, **fit_params)\n",
      "C:\\ProgramData\\Anaconda3\\envs\\study\\lib\\site-packages\\sklearn\\linear_model\\coordinate_descent.py:475: UserWarning: Coordinate descent with no regularization may lead to unexpected results and is discouraged.\n",
      "  positive)\n",
      "C:\\ProgramData\\Anaconda3\\envs\\study\\lib\\site-packages\\sklearn\\linear_model\\coordinate_descent.py:475: ConvergenceWarning: Objective did not converge. You might want to increase the number of iterations. Duality gap: 1178.5740304712958, tolerance: 3.3071316790123455\n",
      "  positive)\n",
      "C:\\ProgramData\\Anaconda3\\envs\\study\\lib\\site-packages\\sklearn\\model_selection\\_validation.py:514: UserWarning: With alpha=0, this algorithm does not converge well. You are advised to use the LinearRegression estimator\n",
      "  estimator.fit(X_train, y_train, **fit_params)\n",
      "C:\\ProgramData\\Anaconda3\\envs\\study\\lib\\site-packages\\sklearn\\linear_model\\coordinate_descent.py:475: UserWarning: Coordinate descent with no regularization may lead to unexpected results and is discouraged.\n",
      "  positive)\n"
     ]
    },
    {
     "name": "stdout",
     "output_type": "stream",
     "text": [
      "alpha:0.0, train: 0.939503285870033, test: 0.690188038527979\n"
     ]
    },
    {
     "name": "stderr",
     "output_type": "stream",
     "text": [
      "C:\\ProgramData\\Anaconda3\\envs\\study\\lib\\site-packages\\sklearn\\linear_model\\coordinate_descent.py:475: ConvergenceWarning: Objective did not converge. You might want to increase the number of iterations. Duality gap: 1388.3824983834534, tolerance: 2.813643886419753\n",
      "  positive)\n",
      "C:\\ProgramData\\Anaconda3\\envs\\study\\lib\\site-packages\\sklearn\\model_selection\\_validation.py:514: UserWarning: With alpha=0, this algorithm does not converge well. You are advised to use the LinearRegression estimator\n",
      "  estimator.fit(X_train, y_train, **fit_params)\n",
      "C:\\ProgramData\\Anaconda3\\envs\\study\\lib\\site-packages\\sklearn\\linear_model\\coordinate_descent.py:475: UserWarning: Coordinate descent with no regularization may lead to unexpected results and is discouraged.\n",
      "  positive)\n",
      "C:\\ProgramData\\Anaconda3\\envs\\study\\lib\\site-packages\\sklearn\\linear_model\\coordinate_descent.py:475: ConvergenceWarning: Objective did not converge. You might want to increase the number of iterations. Duality gap: 843.7729760141156, tolerance: 3.3071762123456794\n",
      "  positive)\n",
      "C:\\ProgramData\\Anaconda3\\envs\\study\\lib\\site-packages\\sklearn\\model_selection\\_validation.py:514: UserWarning: With alpha=0, this algorithm does not converge well. You are advised to use the LinearRegression estimator\n",
      "  estimator.fit(X_train, y_train, **fit_params)\n",
      "C:\\ProgramData\\Anaconda3\\envs\\study\\lib\\site-packages\\sklearn\\linear_model\\coordinate_descent.py:475: UserWarning: Coordinate descent with no regularization may lead to unexpected results and is discouraged.\n",
      "  positive)\n",
      "C:\\ProgramData\\Anaconda3\\envs\\study\\lib\\site-packages\\sklearn\\linear_model\\coordinate_descent.py:475: ConvergenceWarning: Objective did not converge. You might want to increase the number of iterations. Duality gap: 1000.9809845775658, tolerance: 3.4809104444444445\n",
      "  positive)\n"
     ]
    },
    {
     "name": "stdout",
     "output_type": "stream",
     "text": [
      "alpha:0.1, train: 0.7734670612352095, test: 0.5788369599709589\n",
      "alpha:0.2, train: 0.741706960113871, test: 0.548860731870187\n",
      "alpha:0.3, train: 0.711305923952956, test: 0.5260288993761577\n",
      "alpha:0.4, train: 0.6701047347406606, test: 0.4933276410317631\n",
      "alpha:0.5, train: 0.6179416874902637, test: 0.4479702469409994\n",
      "alpha:0.6, train: 0.5553606674106111, test: 0.38911618397709524\n",
      "alpha:0.7, train: 0.49320860275008227, test: 0.33597460514957855\n",
      "alpha:0.8, train: 0.42453929924611256, test: 0.2786313295595215\n",
      "alpha:0.9, train: 0.35895973077606713, test: 0.22575931592355825\n",
      "alpha:1.0, train: 0.30173392764195583, test: 0.18559880937915907\n",
      "alpha:1.1, train: 0.23937088149562025, test: 0.14032096432643604\n",
      "alpha:1.2, train: 0.17106794012348725, test: 0.09027094180483342\n",
      "alpha:1.3, train: 0.11186464241587157, test: 0.05262631982712018\n",
      "alpha:1.4, train: 0.0695646489255729, test: 0.034841562341824894\n",
      "alpha:1.5, train: 0.037261341223732924, test: 0.019586718014321436\n",
      "alpha:1.6, train: 0.017064600967774624, test: 0.00822759638423054\n",
      "alpha:1.7, train: 0.0, test: -0.001889737528507185\n",
      "alpha:1.8, train: 0.0, test: -0.001889737528507185\n",
      "alpha:1.9, train: 0.0, test: -0.001889737528507185\n",
      "alpha:2.0, train: 0.0, test: -0.001889737528507185\n",
      "alpha:2.1, train: 0.0, test: -0.001889737528507185\n",
      "alpha:2.2, train: 0.0, test: -0.001889737528507185\n",
      "alpha:2.3, train: 0.0, test: -0.001889737528507185\n",
      "alpha:2.4, train: 0.0, test: -0.001889737528507185\n",
      "alpha:2.5, train: 0.0, test: -0.001889737528507185\n",
      "alpha:2.6, train: 0.0, test: -0.001889737528507185\n",
      "alpha:2.7, train: 0.0, test: -0.001889737528507185\n",
      "alpha:2.8, train: 0.0, test: -0.001889737528507185\n",
      "alpha:2.9, train: 0.0, test: -0.001889737528507185\n",
      "alpha:3.0, train: 0.0, test: -0.001889737528507185\n",
      "alpha:3.1, train: 0.0, test: -0.001889737528507185\n",
      "alpha:3.2, train: 0.0, test: -0.001889737528507185\n",
      "alpha:3.3, train: 0.0, test: -0.001889737528507185\n",
      "alpha:3.4, train: 0.0, test: -0.001889737528507185\n",
      "alpha:3.5, train: 0.0, test: -0.001889737528507185\n",
      "alpha:3.6, train: 0.0, test: -0.001889737528507185\n",
      "alpha:3.7, train: 0.0, test: -0.001889737528507185\n",
      "alpha:3.8, train: 0.0, test: -0.001889737528507185\n",
      "alpha:3.9, train: 0.0, test: -0.001889737528507185\n",
      "alpha:4.0, train: 0.0, test: -0.001889737528507185\n",
      "alpha:4.1, train: 0.0, test: -0.001889737528507185\n",
      "alpha:4.2, train: 0.0, test: -0.001889737528507185\n",
      "alpha:4.3, train: 0.0, test: -0.001889737528507185\n",
      "alpha:4.4, train: 0.0, test: -0.001889737528507185\n",
      "alpha:4.5, train: 0.0, test: -0.001889737528507185\n",
      "alpha:4.6, train: 0.0, test: -0.001889737528507185\n",
      "alpha:4.7, train: 0.0, test: -0.001889737528507185\n",
      "alpha:4.8, train: 0.0, test: -0.001889737528507185\n",
      "alpha:4.9, train: 0.0, test: -0.001889737528507185\n",
      "alpha:5.0, train: 0.0, test: -0.001889737528507185\n",
      "alpha:5.1, train: 0.0, test: -0.001889737528507185\n",
      "alpha:5.2, train: 0.0, test: -0.001889737528507185\n",
      "alpha:5.3, train: 0.0, test: -0.001889737528507185\n",
      "alpha:5.4, train: 0.0, test: -0.001889737528507185\n",
      "alpha:5.5, train: 0.0, test: -0.001889737528507185\n",
      "alpha:5.6, train: 0.0, test: -0.001889737528507185\n",
      "alpha:5.7, train: 0.0, test: -0.001889737528507185\n",
      "alpha:5.8, train: 0.0, test: -0.001889737528507185\n",
      "alpha:5.9, train: 0.0, test: -0.001889737528507185\n",
      "alpha:6.0, train: 0.0, test: -0.001889737528507185\n",
      "alpha:6.1, train: 0.0, test: -0.001889737528507185\n",
      "alpha:6.2, train: 0.0, test: -0.001889737528507185\n",
      "alpha:6.3, train: 0.0, test: -0.001889737528507185\n",
      "alpha:6.4, train: 0.0, test: -0.001889737528507185\n",
      "alpha:6.5, train: 0.0, test: -0.001889737528507185\n",
      "alpha:6.6, train: 0.0, test: -0.001889737528507185\n",
      "alpha:6.7, train: 0.0, test: -0.001889737528507185\n",
      "alpha:6.8, train: 0.0, test: -0.001889737528507185\n",
      "alpha:6.9, train: 0.0, test: -0.001889737528507185\n",
      "alpha:7.0, train: 0.0, test: -0.001889737528507185\n",
      "alpha:7.1, train: 0.0, test: -0.001889737528507185\n",
      "alpha:7.2, train: 0.0, test: -0.001889737528507185\n",
      "alpha:7.3, train: 0.0, test: -0.001889737528507185\n",
      "alpha:7.4, train: 0.0, test: -0.001889737528507185\n",
      "alpha:7.5, train: 0.0, test: -0.001889737528507185\n",
      "alpha:7.6, train: 0.0, test: -0.001889737528507185\n",
      "alpha:7.7, train: 0.0, test: -0.001889737528507185\n",
      "alpha:7.8, train: 0.0, test: -0.001889737528507185\n",
      "alpha:7.9, train: 0.0, test: -0.001889737528507185\n",
      "alpha:8.0, train: 0.0, test: -0.001889737528507185\n",
      "alpha:8.1, train: 0.0, test: -0.001889737528507185\n",
      "alpha:8.2, train: 0.0, test: -0.001889737528507185\n",
      "alpha:8.3, train: 0.0, test: -0.001889737528507185\n",
      "alpha:8.4, train: 0.0, test: -0.001889737528507185\n",
      "alpha:8.5, train: 0.0, test: -0.001889737528507185\n",
      "alpha:8.6, train: 0.0, test: -0.001889737528507185\n",
      "alpha:8.7, train: 0.0, test: -0.001889737528507185\n",
      "alpha:8.8, train: 0.0, test: -0.001889737528507185\n",
      "alpha:8.9, train: 0.0, test: -0.001889737528507185\n",
      "alpha:9.0, train: 0.0, test: -0.001889737528507185\n",
      "alpha:9.1, train: 0.0, test: -0.001889737528507185\n",
      "alpha:9.2, train: 0.0, test: -0.001889737528507185\n",
      "alpha:9.3, train: 0.0, test: -0.001889737528507185\n",
      "alpha:9.4, train: 0.0, test: -0.001889737528507185\n",
      "alpha:9.5, train: 0.0, test: -0.001889737528507185\n",
      "alpha:9.6, train: 0.0, test: -0.001889737528507185\n",
      "alpha:9.7, train: 0.0, test: -0.001889737528507185\n",
      "alpha:9.8, train: 0.0, test: -0.001889737528507185\n",
      "alpha:9.9, train: 0.0, test: -0.001889737528507185\n"
     ]
    }
   ],
   "source": [
    "minimum_score = -100\n",
    "minimum_alpha = 0\n",
    "best_model = None\n",
    "\n",
    "cross_mean = -100\n",
    "cross_alpha = 0\n",
    "cross_best = None\n",
    "\n",
    "for i in list(range(0, 100, 1)):\n",
    "    i = i/10\n",
    "    \n",
    "    lm = Lasso(alpha=i)\n",
    "    lm.fit(X_train, y_train)\n",
    "    \n",
    "    \n",
    "    train_score = lm.score(X_train, y_train)\n",
    "    test_score = lm.score(X_test, y_test)\n",
    "    \n",
    "    print('alpha:{}, train: {}, test: {}'.format(i, train_score, test_score))\n",
    "    \n",
    "    if minimum_score < test_score:\n",
    "        minimum_score = test_score\n",
    "        minimum_alpha = i\n",
    "        best_model = lm\n",
    "    \n",
    "    # cross validation scores\n",
    "    cross_scores = cross_val_score(lm, X, y, cv=5)\n",
    "    _cross_mean, _corss_std = cross_scores.mean(), cross_scores.std()\n",
    "        \n",
    "    if cross_mean < _cross_mean:\n",
    "        cross_mean = _cross_mean\n",
    "        cross_alpha = i\n",
    "        cross_best = lm\n",
    "\n"
   ]
  },
  {
   "cell_type": "code",
   "execution_count": 58,
   "metadata": {},
   "outputs": [
    {
     "data": {
      "text/plain": [
       "Lasso(alpha=0.0, copy_X=True, fit_intercept=True, max_iter=1000,\n",
       "      normalize=False, positive=False, precompute=False, random_state=None,\n",
       "      selection='cyclic', tol=0.0001, warm_start=False)"
      ]
     },
     "execution_count": 58,
     "metadata": {},
     "output_type": "execute_result"
    }
   ],
   "source": [
    "cross_best"
   ]
  },
  {
   "cell_type": "code",
   "execution_count": 59,
   "metadata": {},
   "outputs": [
    {
     "data": {
      "text/plain": [
       "0.690188038527979"
      ]
     },
     "execution_count": 59,
     "metadata": {},
     "output_type": "execute_result"
    }
   ],
   "source": [
    "cross_best.score(X_test, y_test)"
   ]
  },
  {
   "cell_type": "code",
   "execution_count": 60,
   "metadata": {},
   "outputs": [
    {
     "data": {
      "text/plain": [
       "<BarContainer object of 104 artists>"
      ]
     },
     "execution_count": 60,
     "metadata": {},
     "output_type": "execute_result"
    },
    {
     "data": {
      "image/png": "[encoded data removed]",
      "text/plain": [
       "<Figure size 1440x720 with 1 Axes>"
      ]
     },
     "metadata": {
      "needs_background": "light"
     },
     "output_type": "display_data"
    }
   ],
   "source": [
    "cross_best.score(X_test, y_test)\n",
    "n = np.arange(len(cross_best.coef_))\n",
    "\n",
    "plt.figure(figsize=(20,10))\n",
    "plt.bar(n, np.sort(cross_best.coef_, axis=0))"
   ]
  },
  {
   "cell_type": "code",
   "execution_count": 82,
   "metadata": {},
   "outputs": [
    {
     "name": "stderr",
     "output_type": "stream",
     "text": [
      "C:\\ProgramData\\Anaconda3\\envs\\study\\lib\\site-packages\\ipykernel_launcher.py:11: UserWarning: With alpha=0, this algorithm does not converge well. You are advised to use the LinearRegression estimator\n",
      "  # This is added back by InteractiveShellApp.init_path()\n",
      "C:\\ProgramData\\Anaconda3\\envs\\study\\lib\\site-packages\\sklearn\\linear_model\\coordinate_descent.py:475: UserWarning: Coordinate descent with no regularization may lead to unexpected results and is discouraged.\n",
      "  positive)\n",
      "C:\\ProgramData\\Anaconda3\\envs\\study\\lib\\site-packages\\sklearn\\linear_model\\coordinate_descent.py:475: ConvergenceWarning: Objective did not converge. You might want to increase the number of iterations. Duality gap: 1040.484891069324, tolerance: 3.4398062970297034\n",
      "  positive)\n",
      "C:\\ProgramData\\Anaconda3\\envs\\study\\lib\\site-packages\\sklearn\\linear_model\\coordinate_descent.py:475: ConvergenceWarning: Objective did not converge. You might want to increase the number of iterations. Duality gap: 1051.4010927132313, tolerance: 3.4398062970297034\n",
      "  positive)\n"
     ]
    },
    {
     "data": {
      "text/plain": [
       "Lasso(alpha=8, copy_X=True, fit_intercept=True, max_iter=1000, normalize=False,\n",
       "      positive=False, precompute=False, random_state=None, selection='cyclic',\n",
       "      tol=0.0001, warm_start=False)"
      ]
     },
     "execution_count": 82,
     "metadata": {},
     "output_type": "execute_result"
    }
   ],
   "source": [
    "# 만약 알파값이 늘어나면??\n",
    "lm = Lasso(alpha=0)\n",
    "lm1 = Lasso(alpha=.0001)\n",
    "lm2 = Lasso(alpha=.5)\n",
    "lm3 = Lasso(alpha=1)\n",
    "lm4 = Lasso(alpha=2)\n",
    "lm5 = Lasso(alpha=4)\n",
    "lm6 = Lasso(alpha=8)\n",
    "\n",
    "\n",
    "lm.fit(X_train, y_train)\n",
    "lm1.fit(X_train, y_train)\n",
    "lm2.fit(X_train, y_train)\n",
    "lm3.fit(X_train, y_train)\n",
    "lm4.fit(X_train, y_train)\n",
    "lm5.fit(X_train, y_train)\n",
    "lm6.fit(X_train, y_train)\n"
   ]
  },
  {
   "cell_type": "code",
   "execution_count": 83,
   "metadata": {},
   "outputs": [
    {
     "data": {
      "text/plain": [
       "0.690188038527979"
      ]
     },
     "execution_count": 83,
     "metadata": {},
     "output_type": "execute_result"
    }
   ],
   "source": [
    "lm.score(X_test, y_test)"
   ]
  },
  {
   "cell_type": "code",
   "execution_count": 84,
   "metadata": {},
   "outputs": [
    {
     "data": {
      "text/plain": [
       "0.6921735384763033"
      ]
     },
     "execution_count": 84,
     "metadata": {},
     "output_type": "execute_result"
    }
   ],
   "source": [
    "lm1.score(X_test, y_test)"
   ]
  },
  {
   "cell_type": "code",
   "execution_count": 79,
   "metadata": {},
   "outputs": [
    {
     "data": {
      "image/png": "[encoded data removed]",
      "text/plain": [
       "<Figure size 1440x2160 with 5 Axes>"
      ]
     },
     "metadata": {
      "needs_background": "light"
     },
     "output_type": "display_data"
    }
   ],
   "source": [
    "n = np.arange(len(lm.coef_))\n",
    "\n",
    "plt.figure(figsize=(20,30))\n",
    "plt.subplot(3,2,1)\n",
    "plt.bar(n, np.sort(lm.coef_, axis=0))\n",
    "\n",
    "plt.subplot(3,2,2)\n",
    "plt.bar(n, np.sort(lm1.coef_, axis=0))\n",
    "\n",
    "plt.subplot(3,2,3)\n",
    "plt.bar(n, np.sort(lm2.coef_, axis=0))\n",
    "\n",
    "plt.subplot(3,2,4)\n",
    "plt.bar(n, np.sort(lm3.coef_, axis=0))\n",
    "\n",
    "plt.subplot(3,2,5)\n",
    "plt.bar(n, np.sort(lm4.coef_, axis=0))\n",
    "plt.show()"
   ]
  },
  {
   "cell_type": "code",
   "execution_count": 71,
   "metadata": {},
   "outputs": [
    {
     "data": {
      "text/plain": [
       "array([ -0.        ,   0.        ,  -0.        ,   0.        ,\n",
       "        -0.        ,   0.        ,  -0.        ,   0.        ,\n",
       "        -0.        ,  -1.19063449,  -0.        ,   0.        ,\n",
       "       -12.73724652,  -0.        ,   0.        ,  -0.        ,\n",
       "         0.        ,  -0.        ,  -0.        ,  -0.        ,\n",
       "        -0.        ,  -0.        ,  -0.        ,  -0.        ,\n",
       "        -0.        ,  -0.        ,   0.        ,   0.        ,\n",
       "         0.        ,   0.        ,   0.        ,   0.        ,\n",
       "         0.        ,   0.        ,   0.        ,   0.        ,\n",
       "         0.        ,   0.        ,  -0.        ,   0.        ,\n",
       "        -0.        ,  -0.        ,  -0.        ,  -0.        ,\n",
       "        -0.        ,  -0.        ,  -0.        ,  -0.        ,\n",
       "        -0.        ,   0.        ,   0.        ,   0.        ,\n",
       "         0.        ,   0.        ,   0.        ,   0.        ,\n",
       "         0.        ,   0.        ,   0.        ,  -0.        ,\n",
       "        -0.        ,  -0.        ,  -0.        ,  -0.        ,\n",
       "        -0.        ,  -0.        ,  -0.        ,  -0.        ,\n",
       "         4.33840212,   0.        ,   0.        ,  -0.        ,\n",
       "        -0.        ,  -0.        ,   5.24135869,  -0.        ,\n",
       "        -0.        ,  -0.        ,  -0.        ,  -0.        ,\n",
       "        -1.80439163,  -0.        ,  -0.        ,  -0.        ,\n",
       "        -0.        ,  -0.        ,  -0.        ,   0.        ,\n",
       "        -0.        ,  -0.        ,  -0.        ,  -0.        ,\n",
       "        -0.        ,  -0.        ,  -0.        ,  -0.        ,\n",
       "        -0.        ,  -0.        ,  -3.7517484 ,  -0.        ,\n",
       "        -0.        ,   0.        ,  -0.        ,  -0.        ])"
      ]
     },
     "execution_count": 71,
     "metadata": {},
     "output_type": "execute_result"
    }
   ],
   "source": [
    "lm2.coef_"
   ]
  },
  {
   "cell_type": "code",
   "execution_count": 70,
   "metadata": {},
   "outputs": [
    {
     "data": {
      "text/plain": [
       "array([-0.,  0., -0.,  0., -0.,  0., -0.,  0., -0., -0., -0.,  0., -0.,\n",
       "       -0.,  0., -0.,  0., -0., -0., -0., -0., -0., -0., -0., -0., -0.,\n",
       "        0.,  0.,  0.,  0.,  0.,  0.,  0.,  0.,  0.,  0.,  0.,  0., -0.,\n",
       "        0., -0., -0., -0., -0., -0., -0., -0., -0., -0.,  0.,  0.,  0.,\n",
       "        0.,  0.,  0.,  0.,  0.,  0., -0., -0., -0., -0., -0., -0., -0.,\n",
       "       -0., -0., -0.,  0., -0.,  0., -0., -0., -0.,  0., -0., -0.,  0.,\n",
       "       -0., -0., -0., -0., -0.,  0., -0., -0.,  0.,  0., -0., -0., -0.,\n",
       "       -0., -0., -0., -0., -0., -0., -0., -0., -0., -0.,  0., -0., -0.])"
      ]
     },
     "execution_count": 70,
     "metadata": {},
     "output_type": "execute_result"
    }
   ],
   "source": [
    "lm6.coef_"
   ]
  },
  {
   "cell_type": "code",
   "execution_count": null,
   "metadata": {},
   "outputs": [],
   "source": []
  },
  {
   "cell_type": "code",
   "execution_count": null,
   "metadata": {},
   "outputs": [],
   "source": []
  },
  {
   "cell_type": "code",
   "execution_count": null,
   "metadata": {},
   "outputs": [],
   "source": [
    "_list = []\n",
    "for x in range(100):\n",
    "    X_train, X_test, y_train, y_test = train_test_split(X, y, test_size=.2, shuffle=True, random_state=x)\n",
    "    lm = LinearRegression()\n",
    "    lm.fit(X_train, y_train)\n",
    "    _list.append((abs(lm.score(X_train, y_train) - lm.score(X_test, y_test)), x))\n",
    "\n"
   ]
  },
  {
   "cell_type": "code",
   "execution_count": null,
   "metadata": {},
   "outputs": [],
   "source": [
    "_list"
   ]
  },
  {
   "cell_type": "code",
   "execution_count": null,
   "metadata": {},
   "outputs": [],
   "source": []
  },
  {
   "cell_type": "code",
   "execution_count": null,
   "metadata": {},
   "outputs": [],
   "source": []
  },
  {
   "cell_type": "code",
   "execution_count": null,
   "metadata": {},
   "outputs": [],
   "source": []
  },
  {
   "cell_type": "code",
   "execution_count": null,
   "metadata": {},
   "outputs": [],
   "source": []
  },
  {
   "cell_type": "code",
   "execution_count": null,
   "metadata": {},
   "outputs": [],
   "source": []
  },
  {
   "cell_type": "code",
   "execution_count": null,
   "metadata": {},
   "outputs": [],
   "source": []
  },
  {
   "cell_type": "code",
   "execution_count": null,
   "metadata": {},
   "outputs": [],
   "source": []
  },
  {
   "cell_type": "code",
   "execution_count": null,
   "metadata": {},
   "outputs": [],
   "source": []
  },
  {
   "cell_type": "code",
   "execution_count": null,
   "metadata": {},
   "outputs": [],
   "source": []
  },
  {
   "cell_type": "code",
   "execution_count": null,
   "metadata": {},
   "outputs": [],
   "source": []
  },
  {
   "cell_type": "code",
   "execution_count": null,
   "metadata": {},
   "outputs": [],
   "source": []
  },
  {
   "cell_type": "code",
   "execution_count": null,
   "metadata": {},
   "outputs": [],
   "source": []
  },
  {
   "cell_type": "code",
   "execution_count": null,
   "metadata": {},
   "outputs": [],
   "source": []
  },
  {
   "cell_type": "code",
   "execution_count": null,
   "metadata": {},
   "outputs": [],
   "source": []
  }
 ],
 "metadata": {
  "kernelspec": {
   "display_name": "Python 3",
   "language": "python",
   "name": "python3"
  },
  "language_info": {
   "codemirror_mode": {
    "name": "ipython",
    "version": 3
   },
   "file_extension": ".py",
   "mimetype": "text/x-python",
   "name": "python",
   "nbconvert_exporter": "python",
   "pygments_lexer": "ipython3",
   "version": "3.6.8"
  }
 },
 "nbformat": 4,
 "nbformat_minor": 2
}
